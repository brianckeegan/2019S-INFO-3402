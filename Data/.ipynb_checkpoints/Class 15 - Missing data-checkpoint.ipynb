{
 "cells": [
  {
   "cell_type": "markdown",
   "metadata": {},
   "source": [
    "# INFO 3402 – Class 14: Missing data\n",
    "\n",
    "[Brian C. Keegan, Ph.D.](http://brianckeegan.com/)  \n",
    "[Assistant Professor, Department of Information Science](https://www.colorado.edu/cmci/people/information-science/brian-c-keegan)  \n",
    "University of Colorado Boulder  \n",
    "\n",
    "Copyright and distributed under an [MIT License](https://opensource.org/licenses/MIT)  "
   ]
  },
  {
   "cell_type": "code",
   "execution_count": null,
   "metadata": {},
   "outputs": [],
   "source": [
    "import numpy as np\n",
    "import pandas as pd\n",
    "\n",
    "pd.options.display.max_columns = 100\n",
    "\n",
    "%matplotlib inline\n",
    "import matplotlib.pyplot as plt\n",
    "import seaborn as sb"
   ]
  },
  {
   "cell_type": "markdown",
   "metadata": {},
   "source": [
    "We'll use the famous Titantic passenger dataset.\n",
    "\n",
    "* **pclass**: categorical, what class was the passenger traveling in\n",
    "* **survived**: binary, whether the passenger survived\n",
    "* **name**: string, the name of the passenger\n",
    "* **sex**: categorical, the sex of the passenger\n",
    "* **age**: integer, the age of the passenger\n",
    "* **sibsp**: integer, number of siblings and/or spouse aboard\n",
    "* **parch**: integer, number of parents and/or children aboard\n",
    "* **ticket**: string, ticket number\n",
    "* **fare**: float, passenger fare paid\n",
    "* **cabin**: string, cabin number\n",
    "* **embarked**: categorical, C=Cherbourg (France), Q=Queenstown (Ireland), S=Southampton (England)\n",
    "* **boat**: categorical, boat number the passenger escaped on\n",
    "* **body**: integer, identifier for the body\n",
    "* **destination**: string, passenger's destination\n",
    "\n",
    "![RMS Titanic voyage map](https://upload.wikimedia.org/wikipedia/commons/5/51/Titanic_voyage_map.png)"
   ]
  },
  {
   "cell_type": "code",
   "execution_count": null,
   "metadata": {},
   "outputs": [],
   "source": [
    "titanic_df = pd.read_csv('titanic.csv',dtype={'age':float})\n",
    "titanic_df.rename(columns={'home.dest':'destination'},inplace=True)\n",
    "print(\"There are {0:,} rows of data.\".format(len(titanic_df)))\n",
    "titanic_df.head(20)"
   ]
  },
  {
   "cell_type": "markdown",
   "metadata": {},
   "source": [
    "Which of the columns have missing data? Age will be easier to work with since there are fewer but enough missing values, these values are numeric, and we can hypothesize reasonable mechanisms for imputing age."
   ]
  },
  {
   "cell_type": "code",
   "execution_count": null,
   "metadata": {},
   "outputs": [],
   "source": [
    "titanic_df.isnull().sum().sort_values(ascending=False)"
   ]
  },
  {
   "cell_type": "markdown",
   "metadata": {},
   "source": [
    "What are some strategies for dealing with missing data? It depends on how and why the data is missing. There are at least three different reasons why data could be missing:\n",
    "\n",
    "* **Missing at Random** (**MAR**): the probability for a data value to be missing is not related to the missing data, but it could be related to other observed data. *Example*: respondents stop answering survey questions out of fatigue. MAR is relatively common.\n",
    "* **Missing Completely at Random** (**MCAR**): the probability for a data value to be missing has nothing to do with either its value or the values of other variables. *Example*: the data was stored in a file that was corrupted. MCAR is usually very rare.\n",
    "* **Missing not at Random** (**MNAR**): the probability for a data value to be missing depends on its value or the value of other variables. *Example*: women are less likely to report their age than men. MNAR is probably the most common.\n",
    "\n",
    "[Alvira Swalin](https://towardsdatascience.com/@aswalin)'s [tutorial](https://towardsdatascience.com/how-to-handle-missing-data-8646b18db0d4) describes a variety of strategies for different scenarios. The first decision is whethet to delete the missing data or not.\n",
    "\n",
    "![How to Handle Missing Data](https://cdn-images-1.medium.com/max/1600/1*_RA3mCS30Pr0vUxbp25Yxw.png)"
   ]
  },
  {
   "cell_type": "markdown",
   "metadata": {},
   "source": [
    "## Drop the data \n",
    "\n",
    "### Observations\n",
    "\n",
    "The first option is to use `pandas`'s [`.dropna()`](https://pandas.pydata.org/pandas-docs/stable/reference/api/pandas.DataFrame.dropna.html) method to remove the observations that have missing data. If there are only a few missing observations, you should still have enough statistical power to make claims about the rest of the data in the sample. However, because MNAR and MAR are so common, the resulting sample will include biases."
   ]
  },
  {
   "cell_type": "code",
   "execution_count": null,
   "metadata": {},
   "outputs": [],
   "source": [
    "titanic_age_nas_dropped_df = titanic_df.dropna(subset=['age'])\n",
    "print(\"There are {0:,} rows of data after dropping, comared to {1:,} before.\".format(len(titanic_age_nas_dropped_df),\n",
    "                                                                                     len(titanic_df)))"
   ]
  },
  {
   "cell_type": "markdown",
   "metadata": {},
   "source": [
    "What are some examples of biases we have introduced by dropping observations?\n",
    "\n",
    "Our population has gotten more female: 35.6% of the passengers in the full `titanic_df` are female but 37.1% of the passenger in the filtered `titanic_age_nas_dropped_df` are female. Men are apparently more likely to not have their ages reported in this data and thus the data is MNAR."
   ]
  },
  {
   "cell_type": "code",
   "execution_count": null,
   "metadata": {},
   "outputs": [],
   "source": [
    "titanic_df['sex'].value_counts()/len(titanic_df)"
   ]
  },
  {
   "cell_type": "code",
   "execution_count": null,
   "metadata": {},
   "outputs": [],
   "source": [
    "titanic_age_nas_dropped_df['sex'].value_counts()/len(titanic_age_nas_dropped_df)"
   ]
  },
  {
   "cell_type": "markdown",
   "metadata": {},
   "source": [
    "Dropping the missing values of age also made the distribution across passenger classes richer (24.7% to 27.1% in first class, 21.2% to 25.0% in second class, and 54.2% to 47.9% in third class). Thus, the missing age data appears to be much more likely among third class passengers and evidence of MNAR."
   ]
  },
  {
   "cell_type": "code",
   "execution_count": null,
   "metadata": {},
   "outputs": [],
   "source": [
    "titanic_df['pclass'].value_counts().sort_index()/len(titanic_df)"
   ]
  },
  {
   "cell_type": "code",
   "execution_count": null,
   "metadata": {},
   "outputs": [],
   "source": [
    "titanic_age_nas_dropped_df['pclass'].value_counts().sort_index()/len(titanic_age_nas_dropped_df)"
   ]
  },
  {
   "cell_type": "markdown",
   "metadata": {},
   "source": [
    "There are even differences in the distribution of where the age-less passengers embarked. I would hypothesize at this point that something about the age-recording of passengers was different for the passengers embarking at Queenstown."
   ]
  },
  {
   "cell_type": "code",
   "execution_count": null,
   "metadata": {},
   "outputs": [],
   "source": [
    "titanic_df['embarked'].value_counts().sort_index()/len(titanic_df)"
   ]
  },
  {
   "cell_type": "code",
   "execution_count": null,
   "metadata": {},
   "outputs": [],
   "source": [
    "titanic_age_nas_dropped_df['embarked'].value_counts().sort_index()/len(titanic_age_nas_dropped_df)"
   ]
  },
  {
   "cell_type": "markdown",
   "metadata": {},
   "source": [
    "### Variables\n",
    "\n",
    "If you have a data set with multiple columns of data, some of which are missing a majority or nearly all their data, you can elect to drop those columns. In our case, something like the \"body\" column could be dropped since it has so many missing values."
   ]
  },
  {
   "cell_type": "code",
   "execution_count": null,
   "metadata": {},
   "outputs": [],
   "source": [
    "titanic_cols_dropped_df = titanic_df.drop(columns=['body','boat','cabin'])\n",
    "titanic_cols_dropped_df.head()"
   ]
  },
  {
   "cell_type": "markdown",
   "metadata": {},
   "source": [
    "You could also use the `.dropna()` method to remove *all* the columns that contain *any* missing data."
   ]
  },
  {
   "cell_type": "code",
   "execution_count": null,
   "metadata": {},
   "outputs": [],
   "source": [
    "titanic_column_nas_dropped_df = titanic_df.dropna(how='any',axis=1)\n",
    "titanic_column_nas_dropped_df.head()"
   ]
  },
  {
   "cell_type": "markdown",
   "metadata": {},
   "source": [
    "## Encode NAs with a consistent null value\n",
    "\n",
    "The way `pandas` represents null values are as numpy NANs, which are floats. If the other data in the column are not floats, but are strings, integers, or booleans, then this could create headaches downstream in your data analysis.\n",
    "\n",
    "The first option is to use `pandas`'s [`.fillna()`](https://pandas.pydata.org/pandas-docs/stable/reference/api/pandas.DataFrame.fillna.html) method to replace the NAs with an alternative value, ideally one that is consistent with the other values. In other words, if the values are categorical strings, then add a new categorical string for NA values.\n",
    "\n",
    "Let's replace the NAN values under \"body\" with -1 so that its consistent with the other numbering."
   ]
  },
  {
   "cell_type": "code",
   "execution_count": null,
   "metadata": {},
   "outputs": [],
   "source": [
    "titanic_df['body'].fillna(-1,inplace=True)\n",
    "titanic_df.head()"
   ]
  },
  {
   "cell_type": "markdown",
   "metadata": {},
   "source": [
    "If the the values are integers, add a new integer for the NA values like -1."
   ]
  },
  {
   "cell_type": "code",
   "execution_count": null,
   "metadata": {},
   "outputs": [],
   "source": [
    "titanic_df['cabin'].fillna(\"None\",inplace=True)\n",
    "titanic_df.head(10)"
   ]
  },
  {
   "cell_type": "markdown",
   "metadata": {},
   "source": [
    "## Fill the NAs with the mean/median value\n",
    "\n",
    "Age is a value we want to be more careful about estimating its value. Replacing the NANs in \"age\" with a value of -1 will bias the distribution of ages for the entire sample."
   ]
  },
  {
   "cell_type": "code",
   "execution_count": null,
   "metadata": {},
   "outputs": [],
   "source": [
    "titanic_age_filled = titanic_df.fillna({'age':-1})\n",
    "\n",
    "f,ax = plt.subplots(1,1,figsize=(8,4))\n",
    "\n",
    "titanic_df['age'].hist(bins=np.arange(-5,85,5),ax=ax,color='b')\n",
    "titanic_age_filled['age'].hist(bins=np.arange(-5,85,5),ax=ax,color='r',alpha=.5)\n",
    "ax.set_xlabel('Age')\n",
    "ax.set_ylabel('Count')"
   ]
  },
  {
   "cell_type": "markdown",
   "metadata": {},
   "source": [
    "We could instead fill the missing values of age with the average of all ages. In other words, all the missing ages receive exactly the same value for age: the average age of everyone else: 29.9"
   ]
  },
  {
   "cell_type": "code",
   "execution_count": null,
   "metadata": {},
   "outputs": [],
   "source": [
    "titanic_df['age'].mean()"
   ]
  },
  {
   "cell_type": "code",
   "execution_count": null,
   "metadata": {},
   "outputs": [],
   "source": [
    "titanic_age_filled_mean = titanic_df.fillna({'age':titanic_df['age'].mean()})\n",
    "\n",
    "f,ax = plt.subplots(1,1,figsize=(8,4))\n",
    "\n",
    "titanic_df['age'].hist(bins=np.arange(-5,85,5),ax=ax,color='b')\n",
    "titanic_age_filled_mean['age'].hist(bins=np.arange(-5,85,5),ax=ax,color='r',alpha=.5)\n",
    "ax.set_xlabel('Age')\n",
    "ax.set_ylabel('Count')"
   ]
  },
  {
   "cell_type": "markdown",
   "metadata": {},
   "source": [
    "## Impute the missing data\n",
    "\n",
    "Since the data is MNAR, a more intelligent option is to impute the missing values based on the average age values of other passengers in the same class. First, use `pivot_table` (and `reset_index`) to make a tidy mini-DataFrame of the average age of passengers based on their class, where they embarked, and their sex."
   ]
  },
  {
   "cell_type": "code",
   "execution_count": null,
   "metadata": {},
   "outputs": [],
   "source": [
    "avg_ages = pd.pivot_table(data=titanic_df,index=['pclass','embarked','sex'],values='age',aggfunc='mean').reset_index()\n",
    "avg_ages"
   ]
  },
  {
   "cell_type": "markdown",
   "metadata": {},
   "source": [
    "Because the data is MNAR, we can see substantial differences in the average age of passengers based on covariates like class, port, and gender. We can `merge` these two datasets together."
   ]
  },
  {
   "cell_type": "code",
   "execution_count": null,
   "metadata": {},
   "outputs": [],
   "source": [
    "imputed_age_df = pd.merge(left=titanic_df,\n",
    "                          right=avg_ages,\n",
    "                          left_on=['pclass','embarked','sex'],\n",
    "                          right_on=['pclass','embarked','sex'],\n",
    "                          how='outer')\n",
    "\n",
    "print(\"Is the length of the merged DataFrame the same as before?\\t{}.\".format(len(imputed_age_df) == len(titanic_df)))\n",
    "\n",
    "imputed_age_df.rename(columns={'age_x':'age','age_y':'imputed_age'},inplace=True)\n",
    "imputed_age_df['abs_age_error'] = (imputed_age_df['age'] - imputed_age_df['imputed_age']).apply(np.abs)\n",
    "\n",
    "imputed_age_df['age']\n",
    "\n",
    "imputed_age_df.head()"
   ]
  },
  {
   "cell_type": "markdown",
   "metadata": {},
   "source": [
    "How were the errors in our imputed ages distributed?"
   ]
  },
  {
   "cell_type": "code",
   "execution_count": null,
   "metadata": {},
   "outputs": [],
   "source": [
    "pd.pivot_table(data=imputed_age_df.dropna(subset=['age']),\n",
    "               index=['pclass','embarked','sex'],\n",
    "               values='abs_age_error',\n",
    "               aggfunc='mean')"
   ]
  },
  {
   "cell_type": "code",
   "execution_count": null,
   "metadata": {},
   "outputs": [],
   "source": [
    "f,ax = plt.subplots(1,1,figsize=(8,4))\n",
    "\n",
    "titanic_df['age'].hist(bins=np.arange(-5,85,5),ax=ax,color='b')\n",
    "imputed_age_df['imputed_age'].hist(bins=np.arange(-5,85,5),ax=ax,color='r',alpha=.5)\n",
    "ax.set_xlabel('Age')\n",
    "ax.set_ylabel('Count')"
   ]
  },
  {
   "cell_type": "markdown",
   "metadata": {},
   "source": [
    "Make a new column that has the true ages (if available) and otherwise the imputed ages."
   ]
  },
  {
   "cell_type": "code",
   "execution_count": null,
   "metadata": {},
   "outputs": [],
   "source": [
    "imputed_age_df['true_and_imputed_ages'] = imputed_age_df['age']\n",
    "\n",
    "c1 = imputed_age_df['true_and_imputed_ages'].isnull()\n",
    "imputed_age_df.loc[c1,'true_and_imputed_ages'] = imputed_age_df.loc[c1,'imputed_age']\n",
    "\n",
    "imputed_age_df.tail()"
   ]
  },
  {
   "cell_type": "code",
   "execution_count": null,
   "metadata": {},
   "outputs": [],
   "source": [
    "f,ax = plt.subplots(1,1,figsize=(8,4))\n",
    "\n",
    "titanic_df['age'].hist(bins=np.arange(-5,85,5),ax=ax,color='b')\n",
    "imputed_age_df['true_and_imputed_ages'].hist(bins=np.arange(-5,85,5),ax=ax,color='r',alpha=.5)\n",
    "ax.set_xlabel('Age')\n",
    "ax.set_ylabel('Count')"
   ]
  },
  {
   "cell_type": "markdown",
   "metadata": {},
   "source": [
    "### Multiple regression\n",
    "\n",
    "We can estimate a regression model predicting age as a function of \"pclass\", \"sex\", \"embarked\", \"fare\", \"sibsp\", and \"parch\". While we could use `scikit-learn` to do this linear regression, we'll instead use `statsmodels`'s [R-style formulas](https://www.statsmodels.org/stable/example_formulas.html). The `\"C(pclass)\"` notation refers to coding for [categorical variables](https://www.statsmodels.org/stable/example_formulas.html#categorical-variables)."
   ]
  },
  {
   "cell_type": "code",
   "execution_count": null,
   "metadata": {},
   "outputs": [],
   "source": [
    "# Import the library\n",
    "import statsmodels.formula.api as smf\n",
    "\n",
    "# Initialize the model\n",
    "m = smf.ols(formula=\"age ~ C(pclass) + C(sex) + C(embarked) + fare + sibsp + parch\",data=imputed_age_df)\n",
    "\n",
    "# Fit the model\n",
    "r = m.fit()\n",
    "\n",
    "# Print out the model statistics\n",
    "print(r.summary())"
   ]
  },
  {
   "cell_type": "markdown",
   "metadata": {},
   "source": [
    "Because the outcome variable is in years, we interpret the regression coefficients in units of years as well:\n",
    "\n",
    "* `Intercept`: the average age of passengers before accounting for anything else is 38.6\n",
    "* `C(pclass)[T.2]`: compared to passengers in first class, passengers in second class are on average 11.2 years younger. This effect is statistically significant.\n",
    "* `C(pclass)[T.3]`: compared to passengers in first class, passengers in third class are on average 15.9 years younger. This effect is statistically significant.\n",
    "* `C(sex)[T.male]`: compared to female passengers, male passengers are 2.7 years older on average. This effect is statistically significant.\n",
    "* `C(embarked)[T.Q]`: compared to passengers who embarked at Cherbourg, passengers who embarked at Queenstown are 4.9 years older on average. This effect is marginally significant.\n",
    "* `C(embarked)[T.S]`: compared to passengers who embarked at Cherbourg, passengers who embarked at Southampton are 2.3 years older on average. This effect is marginally significant.\n",
    "* `fare`: Every additional (pound? I'm unsure what unit the fare is reported in) paid in fare reduces the age of the passenger by 0.0055 years (2 days). This effect is not statistically significant.\n",
    "* `sibsp`: Every additional sibling or spouse reduced the age by 3.2 years on average. This effect is statistically significant.\n",
    "* `parch`: Every additional parent or child reduced the age by 0.70 years on average. This effect is not statistically significant.\n",
    "\n",
    "Our model performance is also adequate: the R-squared value is 0.242, or 24.2% of the observed variance is explained by our model.\n",
    "\n",
    "A simple example of the relationship between \"subsp\" and \"age\":"
   ]
  },
  {
   "cell_type": "code",
   "execution_count": null,
   "metadata": {},
   "outputs": [],
   "source": [
    "g = sb.lmplot(x='sibsp',y='age',data=imputed_age_df)"
   ]
  },
  {
   "cell_type": "markdown",
   "metadata": {},
   "source": [
    "We can use this model to predict the ages of all passengers, including those with missing ages."
   ]
  },
  {
   "cell_type": "code",
   "execution_count": null,
   "metadata": {},
   "outputs": [],
   "source": [
    "# Pass the DataFrame to use as predictions and store the predictions in a new columns\n",
    "imputed_age_df['mr_imputed_age'] = r.predict(imputed_age_df)\n",
    "\n",
    "# Create a new columns and copy the current ages\n",
    "imputed_age_df['true_and_mr_imputed_ages'] = imputed_age_df['age']\n",
    "\n",
    "# Identify the rows where there are null ages\n",
    "c1 = imputed_age_df['true_and_mr_imputed_ages'].isnull()\n",
    "\n",
    "# Replace the null ages with predicted ages\n",
    "imputed_age_df.loc[c1,'true_and_mr_imputed_ages'] = imputed_age_df.loc[c1,'mr_imputed_age']"
   ]
  },
  {
   "cell_type": "markdown",
   "metadata": {},
   "source": [
    "Plot the distribution of the observed ages in the data (blue), the simple matching imputated ages (red), and the multiple regression imputed ages (green). Both of the imputation methods put most of the passengers ages between 20 and 40, but ignore the tails of children and elders."
   ]
  },
  {
   "cell_type": "code",
   "execution_count": null,
   "metadata": {},
   "outputs": [],
   "source": [
    "f,ax = plt.subplots(1,1,figsize=(8,4))\n",
    "\n",
    "titanic_df['age'].hist(bins=np.arange(-5,85,5),ax=ax,color='b')\n",
    "imputed_age_df['imputed_age'].hist(bins=np.arange(-5,85,5),ax=ax,color='r',alpha=.5)\n",
    "imputed_age_df['mr_imputed_age'].hist(bins=np.arange(-5,85,5),ax=ax,color='g',alpha=.5)\n",
    "ax.set_xlabel('Age')\n",
    "ax.set_ylabel('Count')"
   ]
  },
  {
   "cell_type": "markdown",
   "metadata": {},
   "source": [
    "The histogram above was if we only used the imputed ages for true ages, even if we had true ages. The histogram below plots the distribution of true ages (if they exist) and the imputed ages (if no age was available). Again there are strong peaks between the ages of 20 and 30 for the imputed data compared to the actual distribution."
   ]
  },
  {
   "cell_type": "code",
   "execution_count": null,
   "metadata": {},
   "outputs": [],
   "source": [
    "f,ax = plt.subplots(1,1,figsize=(8,4))\n",
    "\n",
    "titanic_df['age'].hist(bins=np.arange(-5,85,5),ax=ax,color='b')\n",
    "imputed_age_df['true_and_imputed_ages'].hist(bins=np.arange(-5,85,5),ax=ax,color='r',alpha=.5)\n",
    "imputed_age_df['true_and_mr_imputed_ages'].hist(bins=np.arange(-5,85,5),ax=ax,color='g',alpha=.5)\n",
    "ax.set_xlabel('Age')\n",
    "ax.set_ylabel('Count')"
   ]
  },
  {
   "cell_type": "markdown",
   "metadata": {},
   "source": [
    "If you noticed, the green distribution for ages imputed by multiple regression returned some age estimates that were negative. This is because the multiple regression model subtracted 3.2 years from a passenger's estimated age for every sibling or spouse they were traveling with. If someone was traveling with many siblings, this could potentially cause the model to estimate them as having a negative age. In this case, the model found the [Sage family](https://www.encyclopedia-titanica.org/the-sage-family-of-peterborough.html) of 11 all traveled on the same ticket and none of them survived."
   ]
  },
  {
   "cell_type": "code",
   "execution_count": null,
   "metadata": {},
   "outputs": [],
   "source": [
    "imputed_age_df[imputed_age_df['ticket'] == \"CA. 2343\"]"
   ]
  },
  {
   "cell_type": "markdown",
   "metadata": {},
   "source": [
    "Who are these passengers our model estimated as having a negative age? It looks like four sisters: [Constance](https://www.encyclopedia-titanica.org/titanic-victim/constance-gladys-sage.html) (7 years), [Ada](https://www.encyclopedia-titanica.org/titanic-victim/elizabeth-ada-sage.html) (10 years), [Dorothy](https://www.encyclopedia-titanica.org/titanic-victim/dorothy-dolly-florence-sage.html) (14 years), and [Stella](https://www.encyclopedia-titanica.org/titanic-victim/stella-anne-sage.html) (20 years). The multiple regression model would effectively substract 24 years from the estimated ages of all these passengers, hence the negative predicted ages.\n",
    "\n",
    "So this is an interesting and tragic example of the data not actually being missing (it exists on this online encylopedia), just having a low-quality data set!"
   ]
  },
  {
   "cell_type": "code",
   "execution_count": null,
   "metadata": {},
   "outputs": [],
   "source": [
    "imputed_age_df[imputed_age_df['true_and_mr_imputed_ages'] < 0]"
   ]
  },
  {
   "cell_type": "markdown",
   "metadata": {},
   "source": [
    "## Time series data\n",
    "\n",
    "I retrieved the revision history for the English Wikipedia article about the [Opportunity](https://en.wikipedia.org/wiki/Opportunity_(rover)) rover, whose mission ended on February 13, 2019 after almost 15 years.\n",
    "\n",
    "This revision history data has been reindexed to cover every day between the first revision through February 18, 2018. You can see there are some null values in the data, but because this is time series data, we want to employ different methods for fixing them rather than simply dropping or filling them in the same way."
   ]
  },
  {
   "cell_type": "code",
   "execution_count": null,
   "metadata": {},
   "outputs": [],
   "source": [
    "oppy_df = pd.read_csv('opportunity_wiki_revs.csv')\n",
    "oppy_df.columns = ['date','revisions','users','length','diffs','last_revid']\n",
    "oppy_df['date'] = pd.to_datetime(oppy_df['date'])\n",
    "oppy_df.set_index('date',inplace=True)\n",
    "oppy_df.head()"
   ]
  },
  {
   "cell_type": "markdown",
   "metadata": {},
   "source": [
    "\"revisions\" is the number of revisions that were made to the article on that day. NaN values reflect days when no revisions occurred, so these missing values should be replaced by 0s."
   ]
  },
  {
   "cell_type": "code",
   "execution_count": null,
   "metadata": {},
   "outputs": [],
   "source": [
    "oppy_df['revisions'].fillna(0,inplace=True)\n",
    "oppy_df.head(10)"
   ]
  },
  {
   "cell_type": "markdown",
   "metadata": {},
   "source": [
    "\"users\" is the number of unique users who edited the article on that data. NaN values reflect days when no revisions occurred, so these missing values should be replaced by 0s."
   ]
  },
  {
   "cell_type": "code",
   "execution_count": null,
   "metadata": {},
   "outputs": [],
   "source": [
    "oppy_df['users'].fillna(0,inplace=True)\n",
    "oppy_df.head(10)"
   ]
  },
  {
   "cell_type": "markdown",
   "metadata": {},
   "source": [
    "\"length\" is the size of the article (in bytes). NaN values reflect days when no revisions occurred, ***but*** the size of the article was not 0 on those days: the size on that day was simply the size of the article the last time it was edited. This is an example of Last Observation Carried Forward (LOCF). Using `.fillna`, we pass the \"ffill\" method to \"forward-fill\" missing data with the last observed value."
   ]
  },
  {
   "cell_type": "code",
   "execution_count": null,
   "metadata": {},
   "outputs": [],
   "source": [
    "oppy_df['length'].fillna(method='ffill',inplace=True)\n",
    "oppy_df.head(10)"
   ]
  },
  {
   "cell_type": "markdown",
   "metadata": {},
   "source": [
    "\"diffs\" is the median size of the differences introduced by revisions on that day. NaN values reflect days when no revisions occurred, so these missing valeus should be replaced by 0s."
   ]
  },
  {
   "cell_type": "code",
   "execution_count": null,
   "metadata": {},
   "outputs": [],
   "source": [
    "oppy_df['diffs'].fillna(0,inplace=True)\n",
    "oppy_df.head(10)"
   ]
  },
  {
   "cell_type": "markdown",
   "metadata": {},
   "source": [
    "\"last_revid\" should be the last revision ID for the article on that date. In other words, it's the version of the article at the end of the day. NaN values reflect days when no revisions occurred, ***but*** the content of the article was not 0 on those days: the revision that day was simply the revision ID the last time the article was edited."
   ]
  },
  {
   "cell_type": "code",
   "execution_count": null,
   "metadata": {},
   "outputs": [],
   "source": [
    "oppy_df['last_revid'].fillna(method='ffill',inplace=True)\n",
    "oppy_df.head(10)"
   ]
  },
  {
   "cell_type": "markdown",
   "metadata": {},
   "source": [
    "Now we have cleaned data, we can plot how the size of the article changed over the past 15 years."
   ]
  },
  {
   "cell_type": "code",
   "execution_count": null,
   "metadata": {},
   "outputs": [],
   "source": [
    "f,ax = plt.subplots(1,1,figsize=(12,4))\n",
    "\n",
    "oppy_df['length'].plot(lw=3,ax=ax)\n",
    "ax.set_xlabel('')\n",
    "ax.set_ylabel('Bytes')\n",
    "ax.set_title('\"Opportunity (rover)\" article size');"
   ]
  },
  {
   "cell_type": "markdown",
   "metadata": {},
   "source": [
    "Or the number of revisions."
   ]
  },
  {
   "cell_type": "code",
   "execution_count": null,
   "metadata": {},
   "outputs": [],
   "source": [
    "f,ax = plt.subplots(1,1,figsize=(12,4))\n",
    "\n",
    "oppy_df['revisions'].plot(lw=3,ax=ax)\n",
    "ax.set_xlabel('')\n",
    "ax.set_ylabel('Revisions')\n",
    "ax.set_title('\"Opportunity (rover)\" article revisions');"
   ]
  },
  {
   "cell_type": "markdown",
   "metadata": {},
   "source": [
    "Or which revision persisted for the most days."
   ]
  },
  {
   "cell_type": "code",
   "execution_count": null,
   "metadata": {},
   "outputs": [],
   "source": [
    "oppy_df['last_revid'].value_counts().head(10)"
   ]
  },
  {
   "cell_type": "code",
   "execution_count": null,
   "metadata": {},
   "outputs": [],
   "source": []
  }
 ],
 "metadata": {
  "kernelspec": {
   "display_name": "Python 3",
   "language": "python",
   "name": "python3"
  },
  "language_info": {
   "codemirror_mode": {
    "name": "ipython",
    "version": 3
   },
   "file_extension": ".py",
   "mimetype": "text/x-python",
   "name": "python",
   "nbconvert_exporter": "python",
   "pygments_lexer": "ipython3",
   "version": "3.6.8"
  }
 },
 "nbformat": 4,
 "nbformat_minor": 2
}
