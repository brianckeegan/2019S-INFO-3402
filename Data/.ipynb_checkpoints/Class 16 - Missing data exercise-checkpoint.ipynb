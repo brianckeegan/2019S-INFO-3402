{
 "cells": [
  {
   "cell_type": "markdown",
   "metadata": {},
   "source": [
    "# INFO 3402 – Class 16: Missing data exercise\n",
    "\n",
    "[Brian C. Keegan, Ph.D.](http://brianckeegan.com/)  \n",
    "[Assistant Professor, Department of Information Science](https://www.colorado.edu/cmci/people/information-science/brian-c-keegan)  \n",
    "University of Colorado Boulder  \n",
    "\n",
    "Copyright and distributed under an [MIT License](https://opensource.org/licenses/MIT)  "
   ]
  },
  {
   "cell_type": "code",
   "execution_count": 1,
   "metadata": {},
   "outputs": [],
   "source": [
    "import numpy as np\n",
    "import pandas as pd\n",
    "\n",
    "%matplotlib inline\n",
    "import matplotlib.pyplot as plt\n",
    "import seaborn as sb"
   ]
  },
  {
   "attachments": {},
   "cell_type": "markdown",
   "metadata": {},
   "source": [
    "We'll use a dataset I partially cleaned from the Office of Personnel Management's [Federal Employees Viewpoint Survey](https://www.opm.gov/fevs/public-data-file), which has been distributed annually since 2010. If you're interested in how to clean up the data from the raw files, look at the Appendix notebook I uploaded.\n",
    "\n",
    "The annual surveys ask approximately 80 questions about job satisfaction, organizational performance, manager competence, *etc*. as well as demographic variables about each respondent. Each annual survey has between 263,475 and 687,687 responses, which totals several hundred megabytes. Rather than sharing these individual survey responses, I extracted a handful of fields. The values of the survey items are on a Likert scale where 1 is \"low\" and 5 is \"high\".\n",
    "\n",
    "* **count**: the number of responses in this category. Integer.\n",
    "* **important work** (Q13): \"The work I do is important\". 1 = \"Strongly Disagree\" to 5 = \"Strongly Agree\".\n",
    "* **work quality** (Q28): \"How would you rate the overall quality of work done by your work unit?\". 1 = \"Very Poor\" to 5 = \"Very Good\".\n",
    "* **successful mission** (Q39): \"My agency is successful at accomplishing its mission.\" 1 = \"Strongly Disagree\" to 5 = \"Strongly Agree\".\n",
    "* **like work** (Q5): \"I like the kind of work I do.\" 1 = \"Strongly Disagree\" to 5 = \"Strongly Agree\".\n",
    "* **job satisfaction** (Q69): \"Considering everything, how satisfied are you with your job?\" 1 = \"Very Dissatisfied\" to 5 = \"Very Satisfied\"\n",
    "* **org satisfaction** (Q71): \"Considering everything, how satisfied are you with your organization?\" 1 = \"Very Dissatisfied\" to 5 = \"Very Satisfied\"\n",
    "\n",
    "I broke these responses down by a combination of demographic and other covariates.\n",
    "\n",
    "* **year**: year of the survey. Values range from 2010 through 2018.\n",
    "* **agency**: the parent federal agency/department.\n",
    "* **subagency**: the child federal agency/department.\n",
    "* **supervisor**: whether the employee is a supervisor or not.\n",
    "* **sex**: male or female.\n",
    "* **minority**: minority or not.\n",
    "* **leaving**: \"Are you considering leaving your organization within the next year, and if so, why?\" Responses include \"No\", \"Yes, to take another job within the federal government\", \"Yes, to take another job outside the federal government\", and \"Yes, other\"\n",
    "\n",
    "Read in the data."
   ]
  },
  {
   "cell_type": "code",
   "execution_count": 2,
   "metadata": {},
   "outputs": [
    {
     "name": "stdout",
     "output_type": "stream",
     "text": [
      "There are 49,400 rows.\n"
     ]
    },
    {
     "data": {
      "text/html": [
       "<div>\n",
       "<style scoped>\n",
       "    .dataframe tbody tr th:only-of-type {\n",
       "        vertical-align: middle;\n",
       "    }\n",
       "\n",
       "    .dataframe tbody tr th {\n",
       "        vertical-align: top;\n",
       "    }\n",
       "\n",
       "    .dataframe thead th {\n",
       "        text-align: right;\n",
       "    }\n",
       "</style>\n",
       "<table border=\"1\" class=\"dataframe\">\n",
       "  <thead>\n",
       "    <tr style=\"text-align: right;\">\n",
       "      <th></th>\n",
       "      <th>year</th>\n",
       "      <th>agency</th>\n",
       "      <th>subagency</th>\n",
       "      <th>supervisor</th>\n",
       "      <th>sex</th>\n",
       "      <th>minority</th>\n",
       "      <th>leaving</th>\n",
       "      <th>count</th>\n",
       "      <th>important work</th>\n",
       "      <th>work quality</th>\n",
       "      <th>successful mission</th>\n",
       "      <th>like work</th>\n",
       "      <th>job satisfaction</th>\n",
       "      <th>org satisfaction</th>\n",
       "    </tr>\n",
       "  </thead>\n",
       "  <tbody>\n",
       "    <tr>\n",
       "      <th>49390</th>\n",
       "      <td>2018</td>\n",
       "      <td>Consumer Product Safety Commission</td>\n",
       "      <td>Consumer Product Safety Commission, All Other</td>\n",
       "      <td>Supervisor/Manager/Senior Leader</td>\n",
       "      <td>Male</td>\n",
       "      <td>Non-minority</td>\n",
       "      <td>Yes, within</td>\n",
       "      <td>3.0</td>\n",
       "      <td>4.666667</td>\n",
       "      <td>4.333333</td>\n",
       "      <td>4.000000</td>\n",
       "      <td>4.000000</td>\n",
       "      <td>3.333333</td>\n",
       "      <td>3.333333</td>\n",
       "    </tr>\n",
       "    <tr>\n",
       "      <th>49391</th>\n",
       "      <td>2018</td>\n",
       "      <td>Consumer Product Safety Commission</td>\n",
       "      <td>Consumer Product Safety Commission, All Other</td>\n",
       "      <td>Supervisor/Manager/Senior Leader</td>\n",
       "      <td>Male</td>\n",
       "      <td>Non-minority</td>\n",
       "      <td>Yes, outside</td>\n",
       "      <td>1.0</td>\n",
       "      <td>5.000000</td>\n",
       "      <td>5.000000</td>\n",
       "      <td>4.000000</td>\n",
       "      <td>5.000000</td>\n",
       "      <td>2.000000</td>\n",
       "      <td>5.000000</td>\n",
       "    </tr>\n",
       "    <tr>\n",
       "      <th>49392</th>\n",
       "      <td>2018</td>\n",
       "      <td>Consumer Product Safety Commission</td>\n",
       "      <td>Consumer Product Safety Commission, All Other</td>\n",
       "      <td>Non-Supervisor/Team Leader</td>\n",
       "      <td>Female</td>\n",
       "      <td>Non-minority</td>\n",
       "      <td>No</td>\n",
       "      <td>36.0</td>\n",
       "      <td>4.388889</td>\n",
       "      <td>4.611111</td>\n",
       "      <td>4.058824</td>\n",
       "      <td>4.333333</td>\n",
       "      <td>4.083333</td>\n",
       "      <td>3.942857</td>\n",
       "    </tr>\n",
       "    <tr>\n",
       "      <th>49393</th>\n",
       "      <td>2018</td>\n",
       "      <td>Consumer Product Safety Commission</td>\n",
       "      <td>Consumer Product Safety Commission, All Other</td>\n",
       "      <td>Non-Supervisor/Team Leader</td>\n",
       "      <td>Female</td>\n",
       "      <td>Non-minority</td>\n",
       "      <td>Other</td>\n",
       "      <td>4.0</td>\n",
       "      <td>4.250000</td>\n",
       "      <td>4.000000</td>\n",
       "      <td>3.000000</td>\n",
       "      <td>4.250000</td>\n",
       "      <td>3.000000</td>\n",
       "      <td>3.000000</td>\n",
       "    </tr>\n",
       "    <tr>\n",
       "      <th>49394</th>\n",
       "      <td>2018</td>\n",
       "      <td>Consumer Product Safety Commission</td>\n",
       "      <td>Consumer Product Safety Commission, All Other</td>\n",
       "      <td>Non-Supervisor/Team Leader</td>\n",
       "      <td>Female</td>\n",
       "      <td>Non-minority</td>\n",
       "      <td>Yes, within</td>\n",
       "      <td>17.0</td>\n",
       "      <td>3.823529</td>\n",
       "      <td>4.187500</td>\n",
       "      <td>4.000000</td>\n",
       "      <td>3.529412</td>\n",
       "      <td>2.875000</td>\n",
       "      <td>2.764706</td>\n",
       "    </tr>\n",
       "    <tr>\n",
       "      <th>49395</th>\n",
       "      <td>2018</td>\n",
       "      <td>Consumer Product Safety Commission</td>\n",
       "      <td>Consumer Product Safety Commission, All Other</td>\n",
       "      <td>Non-Supervisor/Team Leader</td>\n",
       "      <td>Female</td>\n",
       "      <td>Non-minority</td>\n",
       "      <td>Yes, outside</td>\n",
       "      <td>5.0</td>\n",
       "      <td>4.400000</td>\n",
       "      <td>4.400000</td>\n",
       "      <td>4.000000</td>\n",
       "      <td>3.800000</td>\n",
       "      <td>3.200000</td>\n",
       "      <td>3.200000</td>\n",
       "    </tr>\n",
       "    <tr>\n",
       "      <th>49396</th>\n",
       "      <td>2018</td>\n",
       "      <td>NaN</td>\n",
       "      <td>NaN</td>\n",
       "      <td>Supervisor/Manager/Senior Leader</td>\n",
       "      <td>Female</td>\n",
       "      <td>Non-minority</td>\n",
       "      <td>No</td>\n",
       "      <td>NaN</td>\n",
       "      <td>NaN</td>\n",
       "      <td>NaN</td>\n",
       "      <td>NaN</td>\n",
       "      <td>NaN</td>\n",
       "      <td>NaN</td>\n",
       "      <td>NaN</td>\n",
       "    </tr>\n",
       "    <tr>\n",
       "      <th>49397</th>\n",
       "      <td>2018</td>\n",
       "      <td>NaN</td>\n",
       "      <td>NaN</td>\n",
       "      <td>Supervisor/Manager/Senior Leader</td>\n",
       "      <td>Female</td>\n",
       "      <td>Non-minority</td>\n",
       "      <td>Other</td>\n",
       "      <td>NaN</td>\n",
       "      <td>NaN</td>\n",
       "      <td>NaN</td>\n",
       "      <td>NaN</td>\n",
       "      <td>NaN</td>\n",
       "      <td>NaN</td>\n",
       "      <td>NaN</td>\n",
       "    </tr>\n",
       "    <tr>\n",
       "      <th>49398</th>\n",
       "      <td>2018</td>\n",
       "      <td>NaN</td>\n",
       "      <td>NaN</td>\n",
       "      <td>Supervisor/Manager/Senior Leader</td>\n",
       "      <td>Female</td>\n",
       "      <td>Non-minority</td>\n",
       "      <td>Yes, within</td>\n",
       "      <td>NaN</td>\n",
       "      <td>NaN</td>\n",
       "      <td>NaN</td>\n",
       "      <td>NaN</td>\n",
       "      <td>NaN</td>\n",
       "      <td>NaN</td>\n",
       "      <td>NaN</td>\n",
       "    </tr>\n",
       "    <tr>\n",
       "      <th>49399</th>\n",
       "      <td>2018</td>\n",
       "      <td>NaN</td>\n",
       "      <td>NaN</td>\n",
       "      <td>Supervisor/Manager/Senior Leader</td>\n",
       "      <td>Female</td>\n",
       "      <td>Non-minority</td>\n",
       "      <td>Yes, outside</td>\n",
       "      <td>NaN</td>\n",
       "      <td>NaN</td>\n",
       "      <td>NaN</td>\n",
       "      <td>NaN</td>\n",
       "      <td>NaN</td>\n",
       "      <td>NaN</td>\n",
       "      <td>NaN</td>\n",
       "    </tr>\n",
       "  </tbody>\n",
       "</table>\n",
       "</div>"
      ],
      "text/plain": [
       "       year                              agency  \\\n",
       "49390  2018  Consumer Product Safety Commission   \n",
       "49391  2018  Consumer Product Safety Commission   \n",
       "49392  2018  Consumer Product Safety Commission   \n",
       "49393  2018  Consumer Product Safety Commission   \n",
       "49394  2018  Consumer Product Safety Commission   \n",
       "49395  2018  Consumer Product Safety Commission   \n",
       "49396  2018                                 NaN   \n",
       "49397  2018                                 NaN   \n",
       "49398  2018                                 NaN   \n",
       "49399  2018                                 NaN   \n",
       "\n",
       "                                           subagency  \\\n",
       "49390  Consumer Product Safety Commission, All Other   \n",
       "49391  Consumer Product Safety Commission, All Other   \n",
       "49392  Consumer Product Safety Commission, All Other   \n",
       "49393  Consumer Product Safety Commission, All Other   \n",
       "49394  Consumer Product Safety Commission, All Other   \n",
       "49395  Consumer Product Safety Commission, All Other   \n",
       "49396                                            NaN   \n",
       "49397                                            NaN   \n",
       "49398                                            NaN   \n",
       "49399                                            NaN   \n",
       "\n",
       "                             supervisor     sex      minority       leaving  \\\n",
       "49390  Supervisor/Manager/Senior Leader    Male  Non-minority   Yes, within   \n",
       "49391  Supervisor/Manager/Senior Leader    Male  Non-minority  Yes, outside   \n",
       "49392        Non-Supervisor/Team Leader  Female  Non-minority            No   \n",
       "49393        Non-Supervisor/Team Leader  Female  Non-minority         Other   \n",
       "49394        Non-Supervisor/Team Leader  Female  Non-minority   Yes, within   \n",
       "49395        Non-Supervisor/Team Leader  Female  Non-minority  Yes, outside   \n",
       "49396  Supervisor/Manager/Senior Leader  Female  Non-minority            No   \n",
       "49397  Supervisor/Manager/Senior Leader  Female  Non-minority         Other   \n",
       "49398  Supervisor/Manager/Senior Leader  Female  Non-minority   Yes, within   \n",
       "49399  Supervisor/Manager/Senior Leader  Female  Non-minority  Yes, outside   \n",
       "\n",
       "       count  important work  work quality  successful mission  like work  \\\n",
       "49390    3.0        4.666667      4.333333            4.000000   4.000000   \n",
       "49391    1.0        5.000000      5.000000            4.000000   5.000000   \n",
       "49392   36.0        4.388889      4.611111            4.058824   4.333333   \n",
       "49393    4.0        4.250000      4.000000            3.000000   4.250000   \n",
       "49394   17.0        3.823529      4.187500            4.000000   3.529412   \n",
       "49395    5.0        4.400000      4.400000            4.000000   3.800000   \n",
       "49396    NaN             NaN           NaN                 NaN        NaN   \n",
       "49397    NaN             NaN           NaN                 NaN        NaN   \n",
       "49398    NaN             NaN           NaN                 NaN        NaN   \n",
       "49399    NaN             NaN           NaN                 NaN        NaN   \n",
       "\n",
       "       job satisfaction  org satisfaction  \n",
       "49390          3.333333          3.333333  \n",
       "49391          2.000000          5.000000  \n",
       "49392          4.083333          3.942857  \n",
       "49393          3.000000          3.000000  \n",
       "49394          2.875000          2.764706  \n",
       "49395          3.200000          3.200000  \n",
       "49396               NaN               NaN  \n",
       "49397               NaN               NaN  \n",
       "49398               NaN               NaN  \n",
       "49399               NaN               NaN  "
      ]
     },
     "execution_count": 2,
     "metadata": {},
     "output_type": "execute_result"
    }
   ],
   "source": [
    "df = pd.read_csv('fevs_summary_2010-2018.csv',encoding='utf8')\n",
    "print(\"There are {0:,} rows.\".format(len(df)))\n",
    "df.tail(10)"
   ]
  },
  {
   "cell_type": "markdown",
   "metadata": {},
   "source": [
    "## Explore missing data\n",
    "\n",
    "Count the values for \"supervisor\", \"sex\", \"minority\", \"leaving\", and \"agency\" to confirm."
   ]
  },
  {
   "cell_type": "code",
   "execution_count": 3,
   "metadata": {},
   "outputs": [
    {
     "data": {
      "text/plain": [
       "Non-Supervisor/Team Leader          26886\n",
       "Supervisor/Manager/Senior Leader    22514\n",
       "Name: supervisor, dtype: int64"
      ]
     },
     "execution_count": 3,
     "metadata": {},
     "output_type": "execute_result"
    }
   ],
   "source": [
    "df['supervisor'].value_counts()"
   ]
  },
  {
   "cell_type": "code",
   "execution_count": 5,
   "metadata": {},
   "outputs": [
    {
     "data": {
      "text/plain": [
       "Male      25388\n",
       "Female    24012\n",
       "Name: sex, dtype: int64"
      ]
     },
     "execution_count": 5,
     "metadata": {},
     "output_type": "execute_result"
    }
   ],
   "source": [
    "df['sex'].value_counts()"
   ]
  },
  {
   "cell_type": "code",
   "execution_count": 6,
   "metadata": {},
   "outputs": [
    {
     "data": {
      "text/plain": [
       "Non-minority    26237\n",
       "Minority        23163\n",
       "Name: minority, dtype: int64"
      ]
     },
     "execution_count": 6,
     "metadata": {},
     "output_type": "execute_result"
    }
   ],
   "source": [
    "df['minority'].value_counts()"
   ]
  },
  {
   "cell_type": "code",
   "execution_count": 7,
   "metadata": {},
   "outputs": [
    {
     "data": {
      "text/plain": [
       "No              13340\n",
       "Yes, within     12875\n",
       "Other           12649\n",
       "Yes, outside    10536\n",
       "Name: leaving, dtype: int64"
      ]
     },
     "execution_count": 7,
     "metadata": {},
     "output_type": "execute_result"
    }
   ],
   "source": [
    "df['leaving'].value_counts()"
   ]
  },
  {
   "cell_type": "code",
   "execution_count": 8,
   "metadata": {},
   "outputs": [
    {
     "data": {
      "text/plain": [
       "Department of the Army                                          4087\n",
       "Department of the Navy                                          3762\n",
       "Department of Agriculture                                       3267\n",
       "Department of the Air Force                                     2997\n",
       "OSD, Joint Staff, Defense Agencies, and DoD Field Activities    2827\n",
       "Department of Justice                                           2792\n",
       "Department of Homeland Security                                 2614\n",
       "Department of Health and Human Services                         2569\n",
       "Department of the Interior                                      2300\n",
       "Environmental Protection Agency                                 2120\n",
       "Department of the Treasury                                      1953\n",
       "National Aeronautics and Space Administration                   1948\n",
       "Department of Labor                                             1613\n",
       "Department of Commerce                                          1433\n",
       "Department of Energy                                            1075\n",
       "Department of Transportation                                     933\n",
       "Department of Veterans Affairs                                   916\n",
       "General Services Administration                                  725\n",
       "Department of Housing and Urban Development                      592\n",
       "Department of Education                                          580\n",
       "Social Security Administration                                   521\n",
       "Office of Personnel Management                                   397\n",
       "Securities and Exchange Commission                               304\n",
       "Department of State                                              252\n",
       "U.S. Agency for International Development                        216\n",
       "Broadcasting Board of Governors                                  171\n",
       "National Archives and Records Administration                     171\n",
       "Nuclear Regulatory Commission                                    160\n",
       "Small Business Administration                                    153\n",
       "National Labor Relations Board                                   145\n",
       "Equal Employment Opportunity Commission                          139\n",
       "National Science Foundation                                      138\n",
       "Federal Energy Regulatory Commission                             136\n",
       "Federal Communications Commission                                133\n",
       "Federal Trade Commission                                         124\n",
       "Pension Benefit Guaranty Corporation                             123\n",
       "National Credit Union Administration                             121\n",
       "Office of Management and Budget                                  117\n",
       "Court Services and Offender Supervision Agency                   114\n",
       "Railroad Retirement Board                                        101\n",
       "National Gallery of Art                                           77\n",
       "Commodity Futures Trading Commission                              43\n",
       "Corporation for National and Community Service                    41\n",
       "Consumer Product Safety Commission                                18\n",
       "Name: agency, dtype: int64"
      ]
     },
     "execution_count": 8,
     "metadata": {},
     "output_type": "execute_result"
    }
   ],
   "source": [
    "df['agency'].value_counts()"
   ]
  },
  {
   "cell_type": "markdown",
   "metadata": {},
   "source": [
    "Sort the values to find the demographic permutation with the greatest number of responses."
   ]
  },
  {
   "cell_type": "code",
   "execution_count": 10,
   "metadata": {},
   "outputs": [
    {
     "data": {
      "text/html": [
       "<div>\n",
       "<style scoped>\n",
       "    .dataframe tbody tr th:only-of-type {\n",
       "        vertical-align: middle;\n",
       "    }\n",
       "\n",
       "    .dataframe tbody tr th {\n",
       "        vertical-align: top;\n",
       "    }\n",
       "\n",
       "    .dataframe thead th {\n",
       "        text-align: right;\n",
       "    }\n",
       "</style>\n",
       "<table border=\"1\" class=\"dataframe\">\n",
       "  <thead>\n",
       "    <tr style=\"text-align: right;\">\n",
       "      <th></th>\n",
       "      <th>year</th>\n",
       "      <th>agency</th>\n",
       "      <th>subagency</th>\n",
       "      <th>supervisor</th>\n",
       "      <th>sex</th>\n",
       "      <th>minority</th>\n",
       "      <th>leaving</th>\n",
       "      <th>count</th>\n",
       "      <th>important work</th>\n",
       "      <th>work quality</th>\n",
       "      <th>successful mission</th>\n",
       "      <th>like work</th>\n",
       "      <th>job satisfaction</th>\n",
       "      <th>org satisfaction</th>\n",
       "    </tr>\n",
       "  </thead>\n",
       "  <tbody>\n",
       "    <tr>\n",
       "      <th>15938</th>\n",
       "      <td>2012</td>\n",
       "      <td>NaN</td>\n",
       "      <td>All Other Agencies, All Other</td>\n",
       "      <td>Non-Supervisor/Team Leader</td>\n",
       "      <td>Female</td>\n",
       "      <td>Non-minority</td>\n",
       "      <td>No</td>\n",
       "      <td>20680.0</td>\n",
       "      <td>4.440164</td>\n",
       "      <td>4.361844</td>\n",
       "      <td>4.033434</td>\n",
       "      <td>4.228345</td>\n",
       "      <td>3.952476</td>\n",
       "      <td>3.783337</td>\n",
       "    </tr>\n",
       "    <tr>\n",
       "      <th>15922</th>\n",
       "      <td>2012</td>\n",
       "      <td>NaN</td>\n",
       "      <td>All Other Agencies, All Other</td>\n",
       "      <td>Non-Supervisor/Team Leader</td>\n",
       "      <td>Female</td>\n",
       "      <td>Minority</td>\n",
       "      <td>No</td>\n",
       "      <td>16316.0</td>\n",
       "      <td>4.552991</td>\n",
       "      <td>4.265995</td>\n",
       "      <td>3.989780</td>\n",
       "      <td>4.262505</td>\n",
       "      <td>3.953207</td>\n",
       "      <td>3.806223</td>\n",
       "    </tr>\n",
       "    <tr>\n",
       "      <th>15930</th>\n",
       "      <td>2012</td>\n",
       "      <td>NaN</td>\n",
       "      <td>All Other Agencies, All Other</td>\n",
       "      <td>Non-Supervisor/Team Leader</td>\n",
       "      <td>Male</td>\n",
       "      <td>Non-minority</td>\n",
       "      <td>No</td>\n",
       "      <td>16200.0</td>\n",
       "      <td>4.385717</td>\n",
       "      <td>4.364518</td>\n",
       "      <td>4.048202</td>\n",
       "      <td>4.228596</td>\n",
       "      <td>4.000558</td>\n",
       "      <td>3.796954</td>\n",
       "    </tr>\n",
       "    <tr>\n",
       "      <th>29643</th>\n",
       "      <td>2015</td>\n",
       "      <td>NaN</td>\n",
       "      <td>All Other Agencies, All Other</td>\n",
       "      <td>Non-Supervisor/Team Leader</td>\n",
       "      <td>Male</td>\n",
       "      <td>Non-minority</td>\n",
       "      <td>No</td>\n",
       "      <td>15781.0</td>\n",
       "      <td>4.379344</td>\n",
       "      <td>4.413019</td>\n",
       "      <td>4.037546</td>\n",
       "      <td>4.282791</td>\n",
       "      <td>4.020886</td>\n",
       "      <td>3.813136</td>\n",
       "    </tr>\n",
       "    <tr>\n",
       "      <th>29651</th>\n",
       "      <td>2015</td>\n",
       "      <td>NaN</td>\n",
       "      <td>All Other Agencies, All Other</td>\n",
       "      <td>Non-Supervisor/Team Leader</td>\n",
       "      <td>Female</td>\n",
       "      <td>Non-minority</td>\n",
       "      <td>No</td>\n",
       "      <td>13856.0</td>\n",
       "      <td>4.398839</td>\n",
       "      <td>4.433435</td>\n",
       "      <td>4.056993</td>\n",
       "      <td>4.278976</td>\n",
       "      <td>3.989840</td>\n",
       "      <td>3.793153</td>\n",
       "    </tr>\n",
       "  </tbody>\n",
       "</table>\n",
       "</div>"
      ],
      "text/plain": [
       "       year agency                      subagency                  supervisor  \\\n",
       "15938  2012    NaN  All Other Agencies, All Other  Non-Supervisor/Team Leader   \n",
       "15922  2012    NaN  All Other Agencies, All Other  Non-Supervisor/Team Leader   \n",
       "15930  2012    NaN  All Other Agencies, All Other  Non-Supervisor/Team Leader   \n",
       "29643  2015    NaN  All Other Agencies, All Other  Non-Supervisor/Team Leader   \n",
       "29651  2015    NaN  All Other Agencies, All Other  Non-Supervisor/Team Leader   \n",
       "\n",
       "          sex      minority leaving    count  important work  work quality  \\\n",
       "15938  Female  Non-minority      No  20680.0        4.440164      4.361844   \n",
       "15922  Female      Minority      No  16316.0        4.552991      4.265995   \n",
       "15930    Male  Non-minority      No  16200.0        4.385717      4.364518   \n",
       "29643    Male  Non-minority      No  15781.0        4.379344      4.413019   \n",
       "29651  Female  Non-minority      No  13856.0        4.398839      4.433435   \n",
       "\n",
       "       successful mission  like work  job satisfaction  org satisfaction  \n",
       "15938            4.033434   4.228345          3.952476          3.783337  \n",
       "15922            3.989780   4.262505          3.953207          3.806223  \n",
       "15930            4.048202   4.228596          4.000558          3.796954  \n",
       "29643            4.037546   4.282791          4.020886          3.813136  \n",
       "29651            4.056993   4.278976          3.989840          3.793153  "
      ]
     },
     "execution_count": 10,
     "metadata": {},
     "output_type": "execute_result"
    }
   ],
   "source": [
    "df.sort_values('count',ascending=False).head()"
   ]
  },
  {
   "cell_type": "markdown",
   "metadata": {},
   "source": [
    "Use `pivot_table` to count the number of responses by year."
   ]
  },
  {
   "cell_type": "code",
   "execution_count": 14,
   "metadata": {},
   "outputs": [
    {
     "data": {
      "text/html": [
       "<div>\n",
       "<style scoped>\n",
       "    .dataframe tbody tr th:only-of-type {\n",
       "        vertical-align: middle;\n",
       "    }\n",
       "\n",
       "    .dataframe tbody tr th {\n",
       "        vertical-align: top;\n",
       "    }\n",
       "\n",
       "    .dataframe thead th {\n",
       "        text-align: right;\n",
       "    }\n",
       "</style>\n",
       "<table border=\"1\" class=\"dataframe\">\n",
       "  <thead>\n",
       "    <tr style=\"text-align: right;\">\n",
       "      <th></th>\n",
       "      <th>count</th>\n",
       "    </tr>\n",
       "    <tr>\n",
       "      <th>year</th>\n",
       "      <th></th>\n",
       "    </tr>\n",
       "  </thead>\n",
       "  <tbody>\n",
       "    <tr>\n",
       "      <th>2010</th>\n",
       "      <td>241999.0</td>\n",
       "    </tr>\n",
       "    <tr>\n",
       "      <th>2011</th>\n",
       "      <td>237851.0</td>\n",
       "    </tr>\n",
       "    <tr>\n",
       "      <th>2012</th>\n",
       "      <td>613739.0</td>\n",
       "    </tr>\n",
       "    <tr>\n",
       "      <th>2013</th>\n",
       "      <td>323023.0</td>\n",
       "    </tr>\n",
       "    <tr>\n",
       "      <th>2014</th>\n",
       "      <td>342127.0</td>\n",
       "    </tr>\n",
       "    <tr>\n",
       "      <th>2015</th>\n",
       "      <td>368572.0</td>\n",
       "    </tr>\n",
       "    <tr>\n",
       "      <th>2016</th>\n",
       "      <td>361078.0</td>\n",
       "    </tr>\n",
       "    <tr>\n",
       "      <th>2017</th>\n",
       "      <td>392469.0</td>\n",
       "    </tr>\n",
       "    <tr>\n",
       "      <th>2018</th>\n",
       "      <td>508082.0</td>\n",
       "    </tr>\n",
       "  </tbody>\n",
       "</table>\n",
       "</div>"
      ],
      "text/plain": [
       "         count\n",
       "year          \n",
       "2010  241999.0\n",
       "2011  237851.0\n",
       "2012  613739.0\n",
       "2013  323023.0\n",
       "2014  342127.0\n",
       "2015  368572.0\n",
       "2016  361078.0\n",
       "2017  392469.0\n",
       "2018  508082.0"
      ]
     },
     "execution_count": 14,
     "metadata": {},
     "output_type": "execute_result"
    }
   ],
   "source": [
    "pd.pivot_table(df,index='year',values='count',aggfunc='sum')"
   ]
  },
  {
   "cell_type": "markdown",
   "metadata": {},
   "source": [
    "Even though the demographics are balanced, it does not mean the survey responses are. Make a `nonan_df` using `dropna` to remove missing rows of data. How many rows of data remain after dropping the missing values under \"count\"?"
   ]
  },
  {
   "cell_type": "code",
   "execution_count": 43,
   "metadata": {},
   "outputs": [
    {
     "name": "stdout",
     "output_type": "stream",
     "text": [
      "There were 49,400 rows before and 45,299 rows after.\n"
     ]
    }
   ],
   "source": [
    "nonan_df = df.dropna(subset=['count'])\n",
    "\n",
    "len_before = len(df)\n",
    "len_after = len(nonan_df)\n",
    "print(\"There were {0:,} rows before and {1:,} rows after.\".format(len_before,len_after))"
   ]
  },
  {
   "cell_type": "markdown",
   "metadata": {},
   "source": [
    "Use boolean indexing and `pandas`'s [`.isnull()`](https://pandas.pydata.org/pandas-docs/stable/reference/api/pandas.isnull.html) method to make a new DataFrame called `missing_df` containing only the rows missing values."
   ]
  },
  {
   "cell_type": "code",
   "execution_count": 44,
   "metadata": {},
   "outputs": [
    {
     "data": {
      "text/html": [
       "<div>\n",
       "<style scoped>\n",
       "    .dataframe tbody tr th:only-of-type {\n",
       "        vertical-align: middle;\n",
       "    }\n",
       "\n",
       "    .dataframe tbody tr th {\n",
       "        vertical-align: top;\n",
       "    }\n",
       "\n",
       "    .dataframe thead th {\n",
       "        text-align: right;\n",
       "    }\n",
       "</style>\n",
       "<table border=\"1\" class=\"dataframe\">\n",
       "  <thead>\n",
       "    <tr style=\"text-align: right;\">\n",
       "      <th></th>\n",
       "      <th>year</th>\n",
       "      <th>agency</th>\n",
       "      <th>subagency</th>\n",
       "      <th>supervisor</th>\n",
       "      <th>sex</th>\n",
       "      <th>minority</th>\n",
       "      <th>leaving</th>\n",
       "      <th>count</th>\n",
       "      <th>important work</th>\n",
       "      <th>work quality</th>\n",
       "      <th>successful mission</th>\n",
       "      <th>like work</th>\n",
       "      <th>job satisfaction</th>\n",
       "      <th>org satisfaction</th>\n",
       "    </tr>\n",
       "  </thead>\n",
       "  <tbody>\n",
       "    <tr>\n",
       "      <th>807</th>\n",
       "      <td>2010</td>\n",
       "      <td>NaN</td>\n",
       "      <td>NaN</td>\n",
       "      <td>Non-Supervisor/Team Leader</td>\n",
       "      <td>Male</td>\n",
       "      <td>Minority</td>\n",
       "      <td>Yes, outside</td>\n",
       "      <td>NaN</td>\n",
       "      <td>NaN</td>\n",
       "      <td>NaN</td>\n",
       "      <td>NaN</td>\n",
       "      <td>NaN</td>\n",
       "      <td>NaN</td>\n",
       "      <td>NaN</td>\n",
       "    </tr>\n",
       "    <tr>\n",
       "      <th>819</th>\n",
       "      <td>2010</td>\n",
       "      <td>NaN</td>\n",
       "      <td>NaN</td>\n",
       "      <td>Supervisor/Manager/Senior Leader</td>\n",
       "      <td>Female</td>\n",
       "      <td>Minority</td>\n",
       "      <td>Yes, outside</td>\n",
       "      <td>NaN</td>\n",
       "      <td>NaN</td>\n",
       "      <td>NaN</td>\n",
       "      <td>NaN</td>\n",
       "      <td>NaN</td>\n",
       "      <td>NaN</td>\n",
       "      <td>NaN</td>\n",
       "    </tr>\n",
       "    <tr>\n",
       "      <th>1448</th>\n",
       "      <td>2010</td>\n",
       "      <td>NaN</td>\n",
       "      <td>NaN</td>\n",
       "      <td>Supervisor/Manager/Senior Leader</td>\n",
       "      <td>Male</td>\n",
       "      <td>Minority</td>\n",
       "      <td>Yes, outside</td>\n",
       "      <td>NaN</td>\n",
       "      <td>NaN</td>\n",
       "      <td>NaN</td>\n",
       "      <td>NaN</td>\n",
       "      <td>NaN</td>\n",
       "      <td>NaN</td>\n",
       "      <td>NaN</td>\n",
       "    </tr>\n",
       "    <tr>\n",
       "      <th>1452</th>\n",
       "      <td>2010</td>\n",
       "      <td>NaN</td>\n",
       "      <td>NaN</td>\n",
       "      <td>Non-Supervisor/Team Leader</td>\n",
       "      <td>Female</td>\n",
       "      <td>Minority</td>\n",
       "      <td>Yes, outside</td>\n",
       "      <td>NaN</td>\n",
       "      <td>NaN</td>\n",
       "      <td>NaN</td>\n",
       "      <td>NaN</td>\n",
       "      <td>NaN</td>\n",
       "      <td>NaN</td>\n",
       "      <td>NaN</td>\n",
       "    </tr>\n",
       "    <tr>\n",
       "      <th>1456</th>\n",
       "      <td>2010</td>\n",
       "      <td>NaN</td>\n",
       "      <td>NaN</td>\n",
       "      <td>Supervisor/Manager/Senior Leader</td>\n",
       "      <td>Female</td>\n",
       "      <td>Minority</td>\n",
       "      <td>Yes, outside</td>\n",
       "      <td>NaN</td>\n",
       "      <td>NaN</td>\n",
       "      <td>NaN</td>\n",
       "      <td>NaN</td>\n",
       "      <td>NaN</td>\n",
       "      <td>NaN</td>\n",
       "      <td>NaN</td>\n",
       "    </tr>\n",
       "  </tbody>\n",
       "</table>\n",
       "</div>"
      ],
      "text/plain": [
       "      year agency subagency                        supervisor     sex  \\\n",
       "807   2010    NaN       NaN        Non-Supervisor/Team Leader    Male   \n",
       "819   2010    NaN       NaN  Supervisor/Manager/Senior Leader  Female   \n",
       "1448  2010    NaN       NaN  Supervisor/Manager/Senior Leader    Male   \n",
       "1452  2010    NaN       NaN        Non-Supervisor/Team Leader  Female   \n",
       "1456  2010    NaN       NaN  Supervisor/Manager/Senior Leader  Female   \n",
       "\n",
       "      minority       leaving  count  important work  work quality  \\\n",
       "807   Minority  Yes, outside    NaN             NaN           NaN   \n",
       "819   Minority  Yes, outside    NaN             NaN           NaN   \n",
       "1448  Minority  Yes, outside    NaN             NaN           NaN   \n",
       "1452  Minority  Yes, outside    NaN             NaN           NaN   \n",
       "1456  Minority  Yes, outside    NaN             NaN           NaN   \n",
       "\n",
       "      successful mission  like work  job satisfaction  org satisfaction  \n",
       "807                  NaN        NaN               NaN               NaN  \n",
       "819                  NaN        NaN               NaN               NaN  \n",
       "1448                 NaN        NaN               NaN               NaN  \n",
       "1452                 NaN        NaN               NaN               NaN  \n",
       "1456                 NaN        NaN               NaN               NaN  "
      ]
     },
     "execution_count": 44,
     "metadata": {},
     "output_type": "execute_result"
    }
   ],
   "source": [
    "missing_df = df[df['count'].isnull()]\n",
    "missing_df.head()"
   ]
  },
  {
   "cell_type": "markdown",
   "metadata": {},
   "source": [
    "Which agencies or subagencies have the most missing values? Which have the fewest?"
   ]
  },
  {
   "cell_type": "code",
   "execution_count": 45,
   "metadata": {},
   "outputs": [
    {
     "data": {
      "text/html": [
       "<div>\n",
       "<style scoped>\n",
       "    .dataframe tbody tr th:only-of-type {\n",
       "        vertical-align: middle;\n",
       "    }\n",
       "\n",
       "    .dataframe tbody tr th {\n",
       "        vertical-align: top;\n",
       "    }\n",
       "\n",
       "    .dataframe thead th {\n",
       "        text-align: right;\n",
       "    }\n",
       "</style>\n",
       "<table border=\"1\" class=\"dataframe\">\n",
       "  <thead>\n",
       "    <tr style=\"text-align: right;\">\n",
       "      <th>agency</th>\n",
       "    </tr>\n",
       "  </thead>\n",
       "  <tbody>\n",
       "    <tr>\n",
       "      <th>count</th>\n",
       "    </tr>\n",
       "    <tr>\n",
       "      <th>important work</th>\n",
       "    </tr>\n",
       "    <tr>\n",
       "      <th>job satisfaction</th>\n",
       "    </tr>\n",
       "    <tr>\n",
       "      <th>like work</th>\n",
       "    </tr>\n",
       "    <tr>\n",
       "      <th>org satisfaction</th>\n",
       "    </tr>\n",
       "    <tr>\n",
       "      <th>successful mission</th>\n",
       "    </tr>\n",
       "    <tr>\n",
       "      <th>work quality</th>\n",
       "    </tr>\n",
       "    <tr>\n",
       "      <th>year</th>\n",
       "    </tr>\n",
       "  </tbody>\n",
       "</table>\n",
       "</div>"
      ],
      "text/plain": [
       "Empty DataFrame\n",
       "Columns: []\n",
       "Index: [count, important work, job satisfaction, like work, org satisfaction, successful mission, work quality, year]"
      ]
     },
     "execution_count": 45,
     "metadata": {},
     "output_type": "execute_result"
    }
   ],
   "source": [
    "pd.pivot_table(data = missing_df, columns = ['agency'], values = )"
   ]
  },
  {
   "cell_type": "markdown",
   "metadata": {},
   "source": [
    "Are male or female demographics more likely to have missing data?"
   ]
  },
  {
   "cell_type": "code",
   "execution_count": null,
   "metadata": {},
   "outputs": [],
   "source": []
  },
  {
   "cell_type": "markdown",
   "metadata": {},
   "source": [
    "## Make a pivot table\n",
    "Make a pivot table with \"year\" as indices, \"agency\" as columns, and the average \"org satisfaction\" as values."
   ]
  },
  {
   "cell_type": "code",
   "execution_count": 19,
   "metadata": {},
   "outputs": [
    {
     "data": {
      "text/plain": [
       "<matplotlib.axes._subplots.AxesSubplot at 0x11b41d3c8>"
      ]
     },
     "execution_count": 19,
     "metadata": {},
     "output_type": "execute_result"
    },
    {
     "data": {
      "image/png": "[encoded data removed]",
      "text/plain": [
       "<Figure size 432x288 with 1 Axes>"
      ]
     },
     "metadata": {
      "needs_background": "light"
     },
     "output_type": "display_data"
    }
   ],
   "source": [
    "pt = pd.pivot_table(df,index='year',columns='agency',values='org satisfaction',aggfunc='mean')\n",
    "pt.plot(legend=False)"
   ]
  },
  {
   "cell_type": "markdown",
   "metadata": {},
   "source": [
    "Average the pivot table by year. Which year had the highest satisfaction?"
   ]
  },
  {
   "cell_type": "code",
   "execution_count": 26,
   "metadata": {},
   "outputs": [
    {
     "data": {
      "text/plain": [
       "year\n",
       "2013    3.136607\n",
       "2014    3.149907\n",
       "2012    3.191175\n",
       "2015    3.192678\n",
       "2010    3.311874\n",
       "2018    3.321423\n",
       "2011    3.321664\n",
       "2016    3.322376\n",
       "2017    3.356770\n",
       "dtype: float64"
      ]
     },
     "execution_count": 26,
     "metadata": {},
     "output_type": "execute_result"
    }
   ],
   "source": [
    "pt.mean(axis=1).sort_values()"
   ]
  },
  {
   "cell_type": "markdown",
   "metadata": {},
   "source": [
    "Average the pivot table by agency. Which agency has the highest satisfaction?"
   ]
  },
  {
   "cell_type": "code",
   "execution_count": 25,
   "metadata": {},
   "outputs": [
    {
     "data": {
      "text/plain": [
       "agency\n",
       "Federal Trade Commission                                        3.809565\n",
       "Federal Energy Regulatory Commission                            3.749030\n",
       "National Science Foundation                                     3.724791\n",
       "Pension Benefit Guaranty Corporation                            3.599589\n",
       "National Aeronautics and Space Administration                   3.568272\n",
       "Office of Management and Budget                                 3.563309\n",
       "Consumer Product Safety Commission                              3.549033\n",
       "Nuclear Regulatory Commission                                   3.534161\n",
       "Corporation for National and Community Service                  3.472244\n",
       "Securities and Exchange Commission                              3.409970\n",
       "National Credit Union Administration                            3.406989\n",
       "Railroad Retirement Board                                       3.377386\n",
       "Court Services and Offender Supervision Agency                  3.373928\n",
       "General Services Administration                                 3.371829\n",
       "Department of Justice                                           3.357022\n",
       "Office of Personnel Management                                  3.354649\n",
       "Department of Transportation                                    3.345899\n",
       "Social Security Administration                                  3.339277\n",
       "Department of the Treasury                                      3.309197\n",
       "Department of Health and Human Services                         3.302878\n",
       "Equal Employment Opportunity Commission                         3.293562\n",
       "Department of the Air Force                                     3.284322\n",
       "Department of State                                             3.270728\n",
       "National Gallery of Art                                         3.250060\n",
       "National Labor Relations Board                                  3.244933\n",
       "Department of Commerce                                          3.244462\n",
       "Department of the Army                                          3.244027\n",
       "Department of Labor                                             3.243970\n",
       "Department of the Navy                                          3.243475\n",
       "Federal Communications Commission                               3.240544\n",
       "Department of Energy                                            3.236939\n",
       "Environmental Protection Agency                                 3.189783\n",
       "OSD, Joint Staff, Defense Agencies, and DoD Field Activities    3.187298\n",
       "U.S. Agency for International Development                       3.169307\n",
       "Commodity Futures Trading Commission                            3.158088\n",
       "Department of the Interior                                      3.138920\n",
       "Small Business Administration                                   3.130014\n",
       "Department of Agriculture                                       3.123342\n",
       "Department of Education                                         3.116575\n",
       "Department of Veterans Affairs                                  3.079981\n",
       "Department of Housing and Urban Development                     3.028788\n",
       "National Archives and Records Administration                    3.016349\n",
       "Department of Homeland Security                                 3.012401\n",
       "Broadcasting Board of Governors                                 2.727545\n",
       "dtype: float64"
      ]
     },
     "execution_count": 25,
     "metadata": {},
     "output_type": "execute_result"
    }
   ],
   "source": [
    "pt.mean(axis=0).sort_values(ascending=False)"
   ]
  },
  {
   "cell_type": "markdown",
   "metadata": {},
   "source": [
    "## Make exploratory pointplots\n",
    "Use `seaborn` to make a [pointplot](https://seaborn.pydata.org/generated/seaborn.pointplot.html) of job satisfaction by year."
   ]
  },
  {
   "cell_type": "code",
   "execution_count": 28,
   "metadata": {},
   "outputs": [
    {
     "name": "stderr",
     "output_type": "stream",
     "text": [
      "/Users/briankeegan/anaconda/lib/python3.6/site-packages/scipy/stats/stats.py:1706: FutureWarning: Using a non-tuple sequence for multidimensional indexing is deprecated; use `arr[tuple(seq)]` instead of `arr[seq]`. In the future this will be interpreted as an array index, `arr[np.array(seq)]`, which will result either in an error or a different result.\n",
      "  return np.add.reduce(sorted[indexer] * weights, axis=axis) / sumval\n"
     ]
    },
    {
     "data": {
      "text/plain": [
       "<matplotlib.axes._subplots.AxesSubplot at 0x11c27d198>"
      ]
     },
     "execution_count": 28,
     "metadata": {},
     "output_type": "execute_result"
    },
    {
     "data": {
      "image/png": "[encoded data removed]",
      "text/plain": [
       "<Figure size 432x288 with 1 Axes>"
      ]
     },
     "metadata": {
      "needs_background": "light"
     },
     "output_type": "display_data"
    }
   ],
   "source": [
    "sb.pointplot(x='year',y='job satisfaction',data=df)"
   ]
  },
  {
   "cell_type": "markdown",
   "metadata": {},
   "source": [
    "Update the pointplot to include a hue by supervisor status. What are interesting trends or differences?"
   ]
  },
  {
   "cell_type": "code",
   "execution_count": 29,
   "metadata": {},
   "outputs": [
    {
     "data": {
      "text/plain": [
       "<matplotlib.axes._subplots.AxesSubplot at 0x11b6aaef0>"
      ]
     },
     "execution_count": 29,
     "metadata": {},
     "output_type": "execute_result"
    },
    {
     "data": {
      "image/png": "[encoded data removed]",
      "text/plain": [
       "<Figure size 432x288 with 1 Axes>"
      ]
     },
     "metadata": {
      "needs_background": "light"
     },
     "output_type": "display_data"
    }
   ],
   "source": [
    "sb.pointplot(x='year',y='job satisfaction',hue='supervisor',data=df)"
   ]
  },
  {
   "cell_type": "markdown",
   "metadata": {},
   "source": [
    "Update the catplot to include column facets by sex. What are interesting trends or differences?"
   ]
  },
  {
   "cell_type": "code",
   "execution_count": 34,
   "metadata": {},
   "outputs": [
    {
     "data": {
      "text/plain": [
       "<seaborn.axisgrid.FacetGrid at 0x11c27d320>"
      ]
     },
     "execution_count": 34,
     "metadata": {},
     "output_type": "execute_result"
    },
    {
     "data": {
      "image/png": "[encoded data removed]",
      "text/plain": [
       "<Figure size 432.625x360 with 1 Axes>"
      ]
     },
     "metadata": {
      "needs_background": "light"
     },
     "output_type": "display_data"
    }
   ],
   "source": [
    "sb.catplot(x='year',y='work quality',hue='sex',data=df,kind='point',dodge=.25)"
   ]
  },
  {
   "cell_type": "markdown",
   "metadata": {},
   "source": [
    "Make some other exploratory pointplots for this data."
   ]
  },
  {
   "cell_type": "code",
   "execution_count": 40,
   "metadata": {},
   "outputs": [
    {
     "data": {
      "text/plain": [
       "Department of the Army                                          4087\n",
       "Department of the Navy                                          3762\n",
       "Department of Agriculture                                       3267\n",
       "Department of the Air Force                                     2997\n",
       "OSD, Joint Staff, Defense Agencies, and DoD Field Activities    2827\n",
       "Department of Justice                                           2792\n",
       "Department of Homeland Security                                 2614\n",
       "Department of Health and Human Services                         2569\n",
       "Department of the Interior                                      2300\n",
       "Environmental Protection Agency                                 2120\n",
       "Department of the Treasury                                      1953\n",
       "National Aeronautics and Space Administration                   1948\n",
       "Department of Labor                                             1613\n",
       "Department of Commerce                                          1433\n",
       "Department of Energy                                            1075\n",
       "Department of Transportation                                     933\n",
       "Department of Veterans Affairs                                   916\n",
       "General Services Administration                                  725\n",
       "Department of Housing and Urban Development                      592\n",
       "Department of Education                                          580\n",
       "Social Security Administration                                   521\n",
       "Office of Personnel Management                                   397\n",
       "Securities and Exchange Commission                               304\n",
       "Department of State                                              252\n",
       "U.S. Agency for International Development                        216\n",
       "Broadcasting Board of Governors                                  171\n",
       "National Archives and Records Administration                     171\n",
       "Nuclear Regulatory Commission                                    160\n",
       "Small Business Administration                                    153\n",
       "National Labor Relations Board                                   145\n",
       "Equal Employment Opportunity Commission                          139\n",
       "National Science Foundation                                      138\n",
       "Federal Energy Regulatory Commission                             136\n",
       "Federal Communications Commission                                133\n",
       "Federal Trade Commission                                         124\n",
       "Pension Benefit Guaranty Corporation                             123\n",
       "National Credit Union Administration                             121\n",
       "Office of Management and Budget                                  117\n",
       "Court Services and Offender Supervision Agency                   114\n",
       "Railroad Retirement Board                                        101\n",
       "National Gallery of Art                                           77\n",
       "Commodity Futures Trading Commission                              43\n",
       "Corporation for National and Community Service                    41\n",
       "Consumer Product Safety Commission                                18\n",
       "Name: agency, dtype: int64"
      ]
     },
     "execution_count": 40,
     "metadata": {},
     "output_type": "execute_result"
    }
   ],
   "source": [
    "df['agency'].value_counts()"
   ]
  },
  {
   "cell_type": "code",
   "execution_count": 42,
   "metadata": {},
   "outputs": [
    {
     "data": {
      "text/plain": [
       "<seaborn.axisgrid.FacetGrid at 0x11c0bd208>"
      ]
     },
     "execution_count": 42,
     "metadata": {},
     "output_type": "execute_result"
    },
    {
     "data": {
      "image/png": "[encoded data removed]",
      "text/plain": [
       "<Figure size 432.625x360 with 1 Axes>"
      ]
     },
     "metadata": {
      "needs_background": "light"
     },
     "output_type": "display_data"
    }
   ],
   "source": [
    "sb.catplot(x='year',y='work quality',hue='sex',data=df.query(\"agency == 'Department of Energy'\"),\n",
    "           kind='point',dodge=.25)"
   ]
  },
  {
   "cell_type": "code",
   "execution_count": null,
   "metadata": {},
   "outputs": [],
   "source": []
  }
 ],
 "metadata": {
  "kernelspec": {
   "display_name": "Python 3",
   "language": "python",
   "name": "python3"
  },
  "language_info": {
   "codemirror_mode": {
    "name": "ipython",
    "version": 3
   },
   "file_extension": ".py",
   "mimetype": "text/x-python",
   "name": "python",
   "nbconvert_exporter": "python",
   "pygments_lexer": "ipython3",
   "version": "3.6.8"
  }
 },
 "nbformat": 4,
 "nbformat_minor": 2
}
