{
 "cells": [
  {
   "cell_type": "markdown",
   "metadata": {},
   "source": [
    "# 1. Formulate your questions\n",
    "\n",
    "Are there party-level differences in House expenditures?"
   ]
  },
  {
   "cell_type": "code",
   "execution_count": null,
   "metadata": {},
   "outputs": [],
   "source": [
    "%matplotlib inline\n",
    "import matplotlib.pyplot as plt\n",
    "import seaborn as sb\n",
    "\n",
    "import numpy as np\n",
    "import pandas as pd"
   ]
  },
  {
   "cell_type": "markdown",
   "metadata": {},
   "source": [
    "# 2. Read in your data\n",
    "\n",
    "From ProPublica's [House Office Expenditure Data](https://projects.propublica.org/represent/expenditures)."
   ]
  },
  {
   "cell_type": "code",
   "execution_count": 2,
   "metadata": {},
   "outputs": [],
   "source": [
    "df = pd.read_csv('2018Q3-house-disbursements.csv')"
   ]
  },
  {
   "cell_type": "markdown",
   "metadata": {},
   "source": [
    "# 3. Check the packaging"
   ]
  },
  {
   "cell_type": "code",
   "execution_count": 3,
   "metadata": {},
   "outputs": [
    {
     "data": {
      "text/plain": [
       "(100616, 15)"
      ]
     },
     "execution_count": 3,
     "metadata": {},
     "output_type": "execute_result"
    }
   ],
   "source": [
    "df.shape"
   ]
  },
  {
   "cell_type": "markdown",
   "metadata": {},
   "source": [
    "# 4. Look at the top and bottom of data"
   ]
  },
  {
   "cell_type": "code",
   "execution_count": 4,
   "metadata": {},
   "outputs": [
    {
     "data": {
      "text/html": [
       "<div>\n",
       "<style scoped>\n",
       "    .dataframe tbody tr th:only-of-type {\n",
       "        vertical-align: middle;\n",
       "    }\n",
       "\n",
       "    .dataframe tbody tr th {\n",
       "        vertical-align: top;\n",
       "    }\n",
       "\n",
       "    .dataframe thead th {\n",
       "        text-align: right;\n",
       "    }\n",
       "</style>\n",
       "<table border=\"1\" class=\"dataframe\">\n",
       "  <thead>\n",
       "    <tr style=\"text-align: right;\">\n",
       "      <th></th>\n",
       "      <th>BIOGUIDE_ID</th>\n",
       "      <th>OFFICE</th>\n",
       "      <th>QUARTER</th>\n",
       "      <th>PROGRAM</th>\n",
       "      <th>CATEGORY</th>\n",
       "      <th>SORT SEQUENCE</th>\n",
       "      <th>DATE</th>\n",
       "      <th>TRANSCODE</th>\n",
       "      <th>RECORDID</th>\n",
       "      <th>PAYEE</th>\n",
       "      <th>START DATE</th>\n",
       "      <th>END DATE</th>\n",
       "      <th>PURPOSE</th>\n",
       "      <th>AMOUNT</th>\n",
       "      <th>YEAR</th>\n",
       "    </tr>\n",
       "  </thead>\n",
       "  <tbody>\n",
       "    <tr>\n",
       "      <th>0</th>\n",
       "      <td>NaN</td>\n",
       "      <td>2018 OFFICE OF THE SPEAKER</td>\n",
       "      <td>Q3</td>\n",
       "      <td>GENERAL EXPENDITURES</td>\n",
       "      <td>FRANKED MAIL</td>\n",
       "      <td>DETAIL</td>\n",
       "      <td>2018-07-30</td>\n",
       "      <td>AP</td>\n",
       "      <td>1004914</td>\n",
       "      <td>UNITED STATES POSTAL SERVICE</td>\n",
       "      <td>2018-06-01</td>\n",
       "      <td>2018-06-30</td>\n",
       "      <td>FRANKED MAIL</td>\n",
       "      <td>253.98</td>\n",
       "      <td>2018</td>\n",
       "    </tr>\n",
       "    <tr>\n",
       "      <th>1</th>\n",
       "      <td>NaN</td>\n",
       "      <td>2018 OFFICE OF THE SPEAKER</td>\n",
       "      <td>Q3</td>\n",
       "      <td>GENERAL EXPENDITURES</td>\n",
       "      <td>FRANKED MAIL</td>\n",
       "      <td>DETAIL</td>\n",
       "      <td>2018-08-29</td>\n",
       "      <td>AP</td>\n",
       "      <td>1010761</td>\n",
       "      <td>UNITED STATES POSTAL SERVICE</td>\n",
       "      <td>2018-07-01</td>\n",
       "      <td>2018-07-31</td>\n",
       "      <td>FRANKED MAIL</td>\n",
       "      <td>102.53</td>\n",
       "      <td>2018</td>\n",
       "    </tr>\n",
       "    <tr>\n",
       "      <th>2</th>\n",
       "      <td>NaN</td>\n",
       "      <td>2018 OFFICE OF THE SPEAKER</td>\n",
       "      <td>Q3</td>\n",
       "      <td>GENERAL EXPENDITURES</td>\n",
       "      <td>FRANKED MAIL</td>\n",
       "      <td>DETAIL</td>\n",
       "      <td>2018-09-26</td>\n",
       "      <td>AP</td>\n",
       "      <td>1018428</td>\n",
       "      <td>UNITED STATES POSTAL SERVICE</td>\n",
       "      <td>2018-08-01</td>\n",
       "      <td>2018-08-31</td>\n",
       "      <td>FRANKED MAIL</td>\n",
       "      <td>73.55</td>\n",
       "      <td>2018</td>\n",
       "    </tr>\n",
       "    <tr>\n",
       "      <th>3</th>\n",
       "      <td>NaN</td>\n",
       "      <td>2018 OFFICE OF THE SPEAKER</td>\n",
       "      <td>Q3</td>\n",
       "      <td>GENERAL EXPENDITURES</td>\n",
       "      <td>FRANKED MAIL</td>\n",
       "      <td>SUBTOTAL</td>\n",
       "      <td></td>\n",
       "      <td></td>\n",
       "      <td></td>\n",
       "      <td></td>\n",
       "      <td></td>\n",
       "      <td></td>\n",
       "      <td>FRANKED MAIL TOTALS:</td>\n",
       "      <td>430.06</td>\n",
       "      <td>2018</td>\n",
       "    </tr>\n",
       "    <tr>\n",
       "      <th>4</th>\n",
       "      <td>NaN</td>\n",
       "      <td>2018 OFFICE OF THE SPEAKER</td>\n",
       "      <td>Q3</td>\n",
       "      <td>GENERAL EXPENDITURES</td>\n",
       "      <td>PERSONNEL COMPENSATION</td>\n",
       "      <td>DETAIL</td>\n",
       "      <td></td>\n",
       "      <td></td>\n",
       "      <td></td>\n",
       "      <td>ALTHOUSE JOSHUA S</td>\n",
       "      <td>2018-07-01</td>\n",
       "      <td>2018-07-06</td>\n",
       "      <td>CONSERVATIVE OUTREACH DIRECTOR</td>\n",
       "      <td>1333.33</td>\n",
       "      <td>2018</td>\n",
       "    </tr>\n",
       "  </tbody>\n",
       "</table>\n",
       "</div>"
      ],
      "text/plain": [
       "  BIOGUIDE_ID                      OFFICE QUARTER               PROGRAM  \\\n",
       "0         NaN  2018 OFFICE OF THE SPEAKER      Q3  GENERAL EXPENDITURES   \n",
       "1         NaN  2018 OFFICE OF THE SPEAKER      Q3  GENERAL EXPENDITURES   \n",
       "2         NaN  2018 OFFICE OF THE SPEAKER      Q3  GENERAL EXPENDITURES   \n",
       "3         NaN  2018 OFFICE OF THE SPEAKER      Q3  GENERAL EXPENDITURES   \n",
       "4         NaN  2018 OFFICE OF THE SPEAKER      Q3  GENERAL EXPENDITURES   \n",
       "\n",
       "                 CATEGORY SORT SEQUENCE        DATE TRANSCODE RECORDID  \\\n",
       "0            FRANKED MAIL        DETAIL  2018-07-30        AP  1004914   \n",
       "1            FRANKED MAIL        DETAIL  2018-08-29        AP  1010761   \n",
       "2            FRANKED MAIL        DETAIL  2018-09-26        AP  1018428   \n",
       "3            FRANKED MAIL      SUBTOTAL                                  \n",
       "4  PERSONNEL COMPENSATION        DETAIL                                  \n",
       "\n",
       "                          PAYEE  START DATE    END DATE  \\\n",
       "0  UNITED STATES POSTAL SERVICE  2018-06-01  2018-06-30   \n",
       "1  UNITED STATES POSTAL SERVICE  2018-07-01  2018-07-31   \n",
       "2  UNITED STATES POSTAL SERVICE  2018-08-01  2018-08-31   \n",
       "3                                                         \n",
       "4             ALTHOUSE JOSHUA S  2018-07-01  2018-07-06   \n",
       "\n",
       "                          PURPOSE   AMOUNT  YEAR  \n",
       "0                    FRANKED MAIL   253.98  2018  \n",
       "1                    FRANKED MAIL   102.53  2018  \n",
       "2                    FRANKED MAIL    73.55  2018  \n",
       "3            FRANKED MAIL TOTALS:   430.06  2018  \n",
       "4  CONSERVATIVE OUTREACH DIRECTOR  1333.33  2018  "
      ]
     },
     "execution_count": 4,
     "metadata": {},
     "output_type": "execute_result"
    }
   ],
   "source": [
    "df.head()"
   ]
  },
  {
   "cell_type": "code",
   "execution_count": 5,
   "metadata": {},
   "outputs": [
    {
     "data": {
      "text/html": [
       "<div>\n",
       "<style scoped>\n",
       "    .dataframe tbody tr th:only-of-type {\n",
       "        vertical-align: middle;\n",
       "    }\n",
       "\n",
       "    .dataframe tbody tr th {\n",
       "        vertical-align: top;\n",
       "    }\n",
       "\n",
       "    .dataframe thead th {\n",
       "        text-align: right;\n",
       "    }\n",
       "</style>\n",
       "<table border=\"1\" class=\"dataframe\">\n",
       "  <thead>\n",
       "    <tr style=\"text-align: right;\">\n",
       "      <th></th>\n",
       "      <th>BIOGUIDE_ID</th>\n",
       "      <th>OFFICE</th>\n",
       "      <th>QUARTER</th>\n",
       "      <th>PROGRAM</th>\n",
       "      <th>CATEGORY</th>\n",
       "      <th>SORT SEQUENCE</th>\n",
       "      <th>DATE</th>\n",
       "      <th>TRANSCODE</th>\n",
       "      <th>RECORDID</th>\n",
       "      <th>PAYEE</th>\n",
       "      <th>START DATE</th>\n",
       "      <th>END DATE</th>\n",
       "      <th>PURPOSE</th>\n",
       "      <th>AMOUNT</th>\n",
       "      <th>YEAR</th>\n",
       "    </tr>\n",
       "  </thead>\n",
       "  <tbody>\n",
       "    <tr>\n",
       "      <th>100611</th>\n",
       "      <td>NaN</td>\n",
       "      <td>FISCAL YEAR 2017 PAGING</td>\n",
       "      <td>Q3</td>\n",
       "      <td>PAGING</td>\n",
       "      <td>EQUIPMENT</td>\n",
       "      <td>DETAIL</td>\n",
       "      <td>2018-07-16</td>\n",
       "      <td>AP</td>\n",
       "      <td>1002035</td>\n",
       "      <td>BEARCOM</td>\n",
       "      <td>2018-07-01</td>\n",
       "      <td>2018-07-31</td>\n",
       "      <td>WARRANTIES</td>\n",
       "      <td>6405.41</td>\n",
       "      <td>2018</td>\n",
       "    </tr>\n",
       "    <tr>\n",
       "      <th>100612</th>\n",
       "      <td>NaN</td>\n",
       "      <td>FISCAL YEAR 2017 PAGING</td>\n",
       "      <td>Q3</td>\n",
       "      <td>PAGING</td>\n",
       "      <td>EQUIPMENT</td>\n",
       "      <td>DETAIL</td>\n",
       "      <td>2018-09-11</td>\n",
       "      <td>AP</td>\n",
       "      <td>1012976</td>\n",
       "      <td>BEARCOM</td>\n",
       "      <td>2018-08-01</td>\n",
       "      <td>2018-08-31</td>\n",
       "      <td>WARRANTIES</td>\n",
       "      <td>6405.41</td>\n",
       "      <td>2018</td>\n",
       "    </tr>\n",
       "    <tr>\n",
       "      <th>100613</th>\n",
       "      <td>NaN</td>\n",
       "      <td>FISCAL YEAR 2017 PAGING</td>\n",
       "      <td>Q3</td>\n",
       "      <td>PAGING</td>\n",
       "      <td>EQUIPMENT</td>\n",
       "      <td>SUBTOTAL</td>\n",
       "      <td></td>\n",
       "      <td></td>\n",
       "      <td></td>\n",
       "      <td></td>\n",
       "      <td></td>\n",
       "      <td></td>\n",
       "      <td>EQUIPMENT TOTALS:</td>\n",
       "      <td>19216.23</td>\n",
       "      <td>2018</td>\n",
       "    </tr>\n",
       "    <tr>\n",
       "      <th>100614</th>\n",
       "      <td>NaN</td>\n",
       "      <td>FISCAL YEAR 2017 PAGING</td>\n",
       "      <td>Q3</td>\n",
       "      <td>PAGING</td>\n",
       "      <td>EQUIPMENT</td>\n",
       "      <td>SUBTOTAL</td>\n",
       "      <td></td>\n",
       "      <td></td>\n",
       "      <td></td>\n",
       "      <td></td>\n",
       "      <td></td>\n",
       "      <td></td>\n",
       "      <td>PAGING TOTALS:</td>\n",
       "      <td>19216.23</td>\n",
       "      <td>2018</td>\n",
       "    </tr>\n",
       "    <tr>\n",
       "      <th>100615</th>\n",
       "      <td>NaN</td>\n",
       "      <td>FISCAL YEAR 2017 PAGING</td>\n",
       "      <td>Q3</td>\n",
       "      <td>PAGING</td>\n",
       "      <td>EQUIPMENT</td>\n",
       "      <td>GRAND TOTAL FOR ORGANIZATION</td>\n",
       "      <td></td>\n",
       "      <td></td>\n",
       "      <td></td>\n",
       "      <td></td>\n",
       "      <td></td>\n",
       "      <td></td>\n",
       "      <td>OFFICE TOTALS:</td>\n",
       "      <td>19216.23</td>\n",
       "      <td>2018</td>\n",
       "    </tr>\n",
       "  </tbody>\n",
       "</table>\n",
       "</div>"
      ],
      "text/plain": [
       "       BIOGUIDE_ID                   OFFICE QUARTER PROGRAM   CATEGORY  \\\n",
       "100611         NaN  FISCAL YEAR 2017 PAGING      Q3  PAGING  EQUIPMENT   \n",
       "100612         NaN  FISCAL YEAR 2017 PAGING      Q3  PAGING  EQUIPMENT   \n",
       "100613         NaN  FISCAL YEAR 2017 PAGING      Q3  PAGING  EQUIPMENT   \n",
       "100614         NaN  FISCAL YEAR 2017 PAGING      Q3  PAGING  EQUIPMENT   \n",
       "100615         NaN  FISCAL YEAR 2017 PAGING      Q3  PAGING  EQUIPMENT   \n",
       "\n",
       "                       SORT SEQUENCE        DATE TRANSCODE RECORDID    PAYEE  \\\n",
       "100611                        DETAIL  2018-07-16        AP  1002035  BEARCOM   \n",
       "100612                        DETAIL  2018-09-11        AP  1012976  BEARCOM   \n",
       "100613                      SUBTOTAL                                           \n",
       "100614                      SUBTOTAL                                           \n",
       "100615  GRAND TOTAL FOR ORGANIZATION                                           \n",
       "\n",
       "        START DATE    END DATE            PURPOSE    AMOUNT  YEAR  \n",
       "100611  2018-07-01  2018-07-31         WARRANTIES   6405.41  2018  \n",
       "100612  2018-08-01  2018-08-31         WARRANTIES   6405.41  2018  \n",
       "100613                          EQUIPMENT TOTALS:  19216.23  2018  \n",
       "100614                             PAGING TOTALS:  19216.23  2018  \n",
       "100615                            OFFICE TOTALS:   19216.23  2018  "
      ]
     },
     "execution_count": 5,
     "metadata": {},
     "output_type": "execute_result"
    }
   ],
   "source": [
    "df.tail()"
   ]
  },
  {
   "cell_type": "markdown",
   "metadata": {},
   "source": [
    "# 5. Check the \"n\"s\n",
    "\n",
    "There should only be Q3 data in here."
   ]
  },
  {
   "cell_type": "code",
   "execution_count": 6,
   "metadata": {},
   "outputs": [
    {
     "data": {
      "text/plain": [
       "Q3    100616\n",
       "Name: QUARTER, dtype: int64"
      ]
     },
     "execution_count": 6,
     "metadata": {},
     "output_type": "execute_result"
    }
   ],
   "source": [
    "df['QUARTER'].value_counts()"
   ]
  },
  {
   "cell_type": "markdown",
   "metadata": {},
   "source": [
    "There should only be 2018 data in here."
   ]
  },
  {
   "cell_type": "code",
   "execution_count": 7,
   "metadata": {},
   "outputs": [
    {
     "data": {
      "text/plain": [
       "2018    100616\n",
       "Name: YEAR, dtype: int64"
      ]
     },
     "execution_count": 7,
     "metadata": {},
     "output_type": "execute_result"
    }
   ],
   "source": [
    "df['YEAR'].value_counts()"
   ]
  },
  {
   "cell_type": "markdown",
   "metadata": {},
   "source": [
    "There should be around 435 members of Congress."
   ]
  },
  {
   "cell_type": "code",
   "execution_count": 8,
   "metadata": {},
   "outputs": [
    {
     "data": {
      "text/plain": [
       "449"
      ]
     },
     "execution_count": 8,
     "metadata": {},
     "output_type": "execute_result"
    }
   ],
   "source": [
    "len(set(df['BIOGUIDE_ID'].values))"
   ]
  },
  {
   "cell_type": "markdown",
   "metadata": {},
   "source": [
    "# 6. Validate against an external data source\n",
    "\n",
    "What are some of the most common purposes?"
   ]
  },
  {
   "cell_type": "code",
   "execution_count": 9,
   "metadata": {},
   "outputs": [
    {
     "data": {
      "text/plain": [
       "PRIVATE AUTO MILEAGE              7175\n",
       "STUDENT LOANS                     6512\n",
       "OFFICE SUPPLIES (OUTSIDE)         4942\n",
       "TAXI/PARKING/TOLLS                4735\n",
       "COMMERCIAL TRANSPORTATION         4155\n",
       "UTILITIES                         3785\n",
       "TELECOMSRV/EQ/TOLL CHARGE         3534\n",
       "MEALS                             3228\n",
       "FOOD & BEVERAGE                   3180\n",
       "FRANKED MAIL                      2763\n",
       "POSTAGE / COURIER / BOX RENTAL    2611\n",
       "DISTRICT OFFICE RENT (PRIVATE)    2591\n",
       "PRINTING & REPRODUCTION           2585\n",
       "WATER                             2576\n",
       "OFFICE SUPPLY (TRANSFER)          2568\n",
       "MAINTENANCE / REPAIRS             2289\n",
       "PUBLICATIONS/REFERENCE MAT'L      2067\n",
       "LODGING                           2002\n",
       "TECHNOLOGY SERVICE CONTRACTS      1859\n",
       "DC TELECOM SERV (TRANSFER)        1556\n",
       "Name: PURPOSE, dtype: int64"
      ]
     },
     "execution_count": 9,
     "metadata": {},
     "output_type": "execute_result"
    }
   ],
   "source": [
    "df['PURPOSE'].value_counts().head(20)"
   ]
  },
  {
   "cell_type": "markdown",
   "metadata": {},
   "source": [
    "Student loans, that looks interesting."
   ]
  },
  {
   "cell_type": "code",
   "execution_count": 10,
   "metadata": {},
   "outputs": [],
   "source": [
    "student_loans_df = df[df['PURPOSE'] == \"STUDENT LOANS\"]"
   ]
  },
  {
   "cell_type": "markdown",
   "metadata": {},
   "source": [
    "Congress spent a total of $3.6 million on student loan payments in 2018Q3."
   ]
  },
  {
   "cell_type": "code",
   "execution_count": 11,
   "metadata": {},
   "outputs": [
    {
     "data": {
      "text/plain": [
       "'$3,616,123.84'"
      ]
     },
     "execution_count": 11,
     "metadata": {},
     "output_type": "execute_result"
    }
   ],
   "source": [
    "'${0:,}'.format(student_loans_df['AMOUNT'].sum())"
   ]
  },
  {
   "cell_type": "markdown",
   "metadata": {},
   "source": [
    "Is the distribution of payments typical? Mostly."
   ]
  },
  {
   "cell_type": "code",
   "execution_count": 12,
   "metadata": {},
   "outputs": [
    {
     "data": {
      "text/plain": [
       "count    6512.000000\n",
       "mean      555.301572\n",
       "std       273.547324\n",
       "min       -94.700000\n",
       "25%       300.000000\n",
       "50%       600.000000\n",
       "75%       833.000000\n",
       "max       833.000000\n",
       "Name: AMOUNT, dtype: float64"
      ]
     },
     "execution_count": 12,
     "metadata": {},
     "output_type": "execute_result"
    }
   ],
   "source": [
    "student_loans_df['AMOUNT'].describe()"
   ]
  },
  {
   "cell_type": "markdown",
   "metadata": {},
   "source": [
    "# 7. Make a plot"
   ]
  },
  {
   "cell_type": "code",
   "execution_count": 13,
   "metadata": {},
   "outputs": [
    {
     "data": {
      "text/plain": [
       "<matplotlib.axes._subplots.AxesSubplot at 0x1a1f2e29b0>"
      ]
     },
     "execution_count": 13,
     "metadata": {},
     "output_type": "execute_result"
    },
    {
     "data": {
      "image/png": "[encoded data removed]",
      "text/plain": [
       "<Figure size 432x288 with 1 Axes>"
      ]
     },
     "metadata": {
      "needs_background": "light"
     },
     "output_type": "display_data"
    }
   ],
   "source": [
    "student_loans_df['AMOUNT'].hist(bins=25)"
   ]
  },
  {
   "cell_type": "markdown",
   "metadata": {},
   "source": [
    "# 8. Try an easy solution\n",
    "\n",
    "Load data on the 115th Congress from [CivilServiceUSA](https://github.com/CivilServiceUSA/us-house), which include party data (as well as a bunch of other valuable information)."
   ]
  },
  {
   "cell_type": "code",
   "execution_count": 14,
   "metadata": {},
   "outputs": [
    {
     "data": {
      "text/html": [
       "<div>\n",
       "<style scoped>\n",
       "    .dataframe tbody tr th:only-of-type {\n",
       "        vertical-align: middle;\n",
       "    }\n",
       "\n",
       "    .dataframe tbody tr th {\n",
       "        vertical-align: top;\n",
       "    }\n",
       "\n",
       "    .dataframe thead th {\n",
       "        text-align: right;\n",
       "    }\n",
       "</style>\n",
       "<table border=\"1\" class=\"dataframe\">\n",
       "  <thead>\n",
       "    <tr style=\"text-align: right;\">\n",
       "      <th></th>\n",
       "      <th>state_name</th>\n",
       "      <th>state_name_slug</th>\n",
       "      <th>state_code</th>\n",
       "      <th>state_code_slug</th>\n",
       "      <th>district</th>\n",
       "      <th>at_large</th>\n",
       "      <th>vacant</th>\n",
       "      <th>bioguide</th>\n",
       "      <th>thomas</th>\n",
       "      <th>govtrack</th>\n",
       "      <th>...</th>\n",
       "      <th>address_city</th>\n",
       "      <th>address_state</th>\n",
       "      <th>address_zipcode</th>\n",
       "      <th>address_type</th>\n",
       "      <th>website</th>\n",
       "      <th>contact_page</th>\n",
       "      <th>facebook_url</th>\n",
       "      <th>twitter_handle</th>\n",
       "      <th>twitter_url</th>\n",
       "      <th>photo_url</th>\n",
       "    </tr>\n",
       "  </thead>\n",
       "  <tbody>\n",
       "    <tr>\n",
       "      <th>0</th>\n",
       "      <td>Alaska</td>\n",
       "      <td>alaska</td>\n",
       "      <td>AK</td>\n",
       "      <td>ak</td>\n",
       "      <td>NaN</td>\n",
       "      <td>True</td>\n",
       "      <td>False</td>\n",
       "      <td>Y000033</td>\n",
       "      <td>1256.0</td>\n",
       "      <td>400440</td>\n",
       "      <td>...</td>\n",
       "      <td>Washington</td>\n",
       "      <td>DC</td>\n",
       "      <td>20515</td>\n",
       "      <td>NaN</td>\n",
       "      <td>https://donyoung.house.gov</td>\n",
       "      <td>http://donyoung.house.gov/contact/</td>\n",
       "      <td>https://www.facebook.com/RepDonYoung</td>\n",
       "      <td>repdonyoung</td>\n",
       "      <td>https://twitter.com/repdonyoung</td>\n",
       "      <td>https://cdn.civil.services/us-house/headshots/...</td>\n",
       "    </tr>\n",
       "    <tr>\n",
       "      <th>1</th>\n",
       "      <td>Alabama</td>\n",
       "      <td>alabama</td>\n",
       "      <td>AL</td>\n",
       "      <td>al</td>\n",
       "      <td>1.0</td>\n",
       "      <td>False</td>\n",
       "      <td>False</td>\n",
       "      <td>B001289</td>\n",
       "      <td>2197.0</td>\n",
       "      <td>412601</td>\n",
       "      <td>...</td>\n",
       "      <td>Washington</td>\n",
       "      <td>DC</td>\n",
       "      <td>20515</td>\n",
       "      <td>NaN</td>\n",
       "      <td>https://byrne.house.gov</td>\n",
       "      <td>https://byrne.house.gov/contact/email-me</td>\n",
       "      <td>https://www.facebook.com/RepByrne/</td>\n",
       "      <td>RepByrne</td>\n",
       "      <td>https://twitter.com/RepByrne</td>\n",
       "      <td>https://cdn.civil.services/us-house/headshots/...</td>\n",
       "    </tr>\n",
       "    <tr>\n",
       "      <th>2</th>\n",
       "      <td>Alabama</td>\n",
       "      <td>alabama</td>\n",
       "      <td>AL</td>\n",
       "      <td>al</td>\n",
       "      <td>2.0</td>\n",
       "      <td>False</td>\n",
       "      <td>False</td>\n",
       "      <td>R000591</td>\n",
       "      <td>1986.0</td>\n",
       "      <td>412394</td>\n",
       "      <td>...</td>\n",
       "      <td>Washington</td>\n",
       "      <td>DC</td>\n",
       "      <td>20515</td>\n",
       "      <td>NaN</td>\n",
       "      <td>https://roby.house.gov</td>\n",
       "      <td>https://roby.house.gov/contact-me</td>\n",
       "      <td>https://www.facebook.com/Representative.Martha...</td>\n",
       "      <td>RepMarthaRoby</td>\n",
       "      <td>https://twitter.com/RepMarthaRoby</td>\n",
       "      <td>https://cdn.civil.services/us-house/headshots/...</td>\n",
       "    </tr>\n",
       "    <tr>\n",
       "      <th>3</th>\n",
       "      <td>Alabama</td>\n",
       "      <td>alabama</td>\n",
       "      <td>AL</td>\n",
       "      <td>al</td>\n",
       "      <td>3.0</td>\n",
       "      <td>False</td>\n",
       "      <td>False</td>\n",
       "      <td>R000575</td>\n",
       "      <td>1704.0</td>\n",
       "      <td>400341</td>\n",
       "      <td>...</td>\n",
       "      <td>Washington</td>\n",
       "      <td>DC</td>\n",
       "      <td>20515</td>\n",
       "      <td>NaN</td>\n",
       "      <td>https://mikerogers.house.gov</td>\n",
       "      <td>https://mikerogers.house.gov/contact-mike/emai...</td>\n",
       "      <td>NaN</td>\n",
       "      <td>RepMikeRogersAL</td>\n",
       "      <td>https://twitter.com/RepMikeRogersAL</td>\n",
       "      <td>https://cdn.civil.services/us-house/headshots/...</td>\n",
       "    </tr>\n",
       "    <tr>\n",
       "      <th>4</th>\n",
       "      <td>Alabama</td>\n",
       "      <td>alabama</td>\n",
       "      <td>AL</td>\n",
       "      <td>al</td>\n",
       "      <td>4.0</td>\n",
       "      <td>False</td>\n",
       "      <td>False</td>\n",
       "      <td>A000055</td>\n",
       "      <td>1460.0</td>\n",
       "      <td>400004</td>\n",
       "      <td>...</td>\n",
       "      <td>Washington</td>\n",
       "      <td>DC</td>\n",
       "      <td>20515</td>\n",
       "      <td>NaN</td>\n",
       "      <td>https://aderholt.house.gov</td>\n",
       "      <td>https://aderholt.house.gov/contact-robert</td>\n",
       "      <td>https://www.facebook.com/RobertAderholt/</td>\n",
       "      <td>Robert_Aderholt</td>\n",
       "      <td>https://twitter.com/Robert_Aderholt</td>\n",
       "      <td>https://cdn.civil.services/us-house/headshots/...</td>\n",
       "    </tr>\n",
       "  </tbody>\n",
       "</table>\n",
       "<p>5 rows × 54 columns</p>\n",
       "</div>"
      ],
      "text/plain": [
       "  state_name state_name_slug state_code state_code_slug  district  at_large  \\\n",
       "0     Alaska          alaska         AK              ak       NaN      True   \n",
       "1    Alabama         alabama         AL              al       1.0     False   \n",
       "2    Alabama         alabama         AL              al       2.0     False   \n",
       "3    Alabama         alabama         AL              al       3.0     False   \n",
       "4    Alabama         alabama         AL              al       4.0     False   \n",
       "\n",
       "   vacant bioguide  thomas  govtrack  \\\n",
       "0   False  Y000033  1256.0    400440   \n",
       "1   False  B001289  2197.0    412601   \n",
       "2   False  R000591  1986.0    412394   \n",
       "3   False  R000575  1704.0    400341   \n",
       "4   False  A000055  1460.0    400004   \n",
       "\n",
       "                         ...                         address_city  \\\n",
       "0                        ...                           Washington   \n",
       "1                        ...                           Washington   \n",
       "2                        ...                           Washington   \n",
       "3                        ...                           Washington   \n",
       "4                        ...                           Washington   \n",
       "\n",
       "   address_state address_zipcode  address_type                       website  \\\n",
       "0             DC           20515           NaN    https://donyoung.house.gov   \n",
       "1             DC           20515           NaN       https://byrne.house.gov   \n",
       "2             DC           20515           NaN        https://roby.house.gov   \n",
       "3             DC           20515           NaN  https://mikerogers.house.gov   \n",
       "4             DC           20515           NaN    https://aderholt.house.gov   \n",
       "\n",
       "                                        contact_page  \\\n",
       "0                 http://donyoung.house.gov/contact/   \n",
       "1           https://byrne.house.gov/contact/email-me   \n",
       "2                  https://roby.house.gov/contact-me   \n",
       "3  https://mikerogers.house.gov/contact-mike/emai...   \n",
       "4          https://aderholt.house.gov/contact-robert   \n",
       "\n",
       "                                        facebook_url   twitter_handle  \\\n",
       "0               https://www.facebook.com/RepDonYoung      repdonyoung   \n",
       "1                 https://www.facebook.com/RepByrne/         RepByrne   \n",
       "2  https://www.facebook.com/Representative.Martha...    RepMarthaRoby   \n",
       "3                                                NaN  RepMikeRogersAL   \n",
       "4           https://www.facebook.com/RobertAderholt/  Robert_Aderholt   \n",
       "\n",
       "                           twitter_url  \\\n",
       "0      https://twitter.com/repdonyoung   \n",
       "1         https://twitter.com/RepByrne   \n",
       "2    https://twitter.com/RepMarthaRoby   \n",
       "3  https://twitter.com/RepMikeRogersAL   \n",
       "4  https://twitter.com/Robert_Aderholt   \n",
       "\n",
       "                                           photo_url  \n",
       "0  https://cdn.civil.services/us-house/headshots/...  \n",
       "1  https://cdn.civil.services/us-house/headshots/...  \n",
       "2  https://cdn.civil.services/us-house/headshots/...  \n",
       "3  https://cdn.civil.services/us-house/headshots/...  \n",
       "4  https://cdn.civil.services/us-house/headshots/...  \n",
       "\n",
       "[5 rows x 54 columns]"
      ]
     },
     "execution_count": 14,
     "metadata": {},
     "output_type": "execute_result"
    }
   ],
   "source": [
    "house_df = pd.read_csv('https://raw.githubusercontent.com/CivilServiceUSA/us-house/2e95fa2bf8e9f0f0f1e0aa252d19f962db283c98/us-house/data/us-house.csv')\n",
    "house_df.head()"
   ]
  },
  {
   "cell_type": "markdown",
   "metadata": {},
   "source": [
    "Join the `house_df` party data into the `df` expenditure data."
   ]
  },
  {
   "cell_type": "code",
   "execution_count": 15,
   "metadata": {},
   "outputs": [
    {
     "data": {
      "text/html": [
       "<div>\n",
       "<style scoped>\n",
       "    .dataframe tbody tr th:only-of-type {\n",
       "        vertical-align: middle;\n",
       "    }\n",
       "\n",
       "    .dataframe tbody tr th {\n",
       "        vertical-align: top;\n",
       "    }\n",
       "\n",
       "    .dataframe thead th {\n",
       "        text-align: right;\n",
       "    }\n",
       "</style>\n",
       "<table border=\"1\" class=\"dataframe\">\n",
       "  <thead>\n",
       "    <tr style=\"text-align: right;\">\n",
       "      <th></th>\n",
       "      <th>BIOGUIDE_ID</th>\n",
       "      <th>OFFICE</th>\n",
       "      <th>QUARTER</th>\n",
       "      <th>PROGRAM</th>\n",
       "      <th>CATEGORY</th>\n",
       "      <th>SORT SEQUENCE</th>\n",
       "      <th>DATE</th>\n",
       "      <th>TRANSCODE</th>\n",
       "      <th>RECORDID</th>\n",
       "      <th>PAYEE</th>\n",
       "      <th>START DATE</th>\n",
       "      <th>END DATE</th>\n",
       "      <th>PURPOSE</th>\n",
       "      <th>AMOUNT</th>\n",
       "      <th>YEAR</th>\n",
       "      <th>bioguide</th>\n",
       "      <th>party</th>\n",
       "      <th>gender</th>\n",
       "    </tr>\n",
       "  </thead>\n",
       "  <tbody>\n",
       "    <tr>\n",
       "      <th>0</th>\n",
       "      <td>A000374</td>\n",
       "      <td>2018 HON. RALPH ABRAHAM</td>\n",
       "      <td>Q3</td>\n",
       "      <td>OFFICIAL EXPENSES OF MEMBERS</td>\n",
       "      <td>FRANKED MAIL</td>\n",
       "      <td>DETAIL</td>\n",
       "      <td>2018-07-30</td>\n",
       "      <td>AP</td>\n",
       "      <td>1004914</td>\n",
       "      <td>UNITED STATES POSTAL SERVICE</td>\n",
       "      <td>2018-06-01</td>\n",
       "      <td>2018-06-30</td>\n",
       "      <td>FRANKED MAIL</td>\n",
       "      <td>262.82</td>\n",
       "      <td>2018</td>\n",
       "      <td>A000374</td>\n",
       "      <td>republican</td>\n",
       "      <td>male</td>\n",
       "    </tr>\n",
       "  </tbody>\n",
       "</table>\n",
       "</div>"
      ],
      "text/plain": [
       "  BIOGUIDE_ID                   OFFICE QUARTER                       PROGRAM  \\\n",
       "0     A000374  2018 HON. RALPH ABRAHAM      Q3  OFFICIAL EXPENSES OF MEMBERS   \n",
       "\n",
       "       CATEGORY SORT SEQUENCE        DATE TRANSCODE RECORDID  \\\n",
       "0  FRANKED MAIL        DETAIL  2018-07-30        AP  1004914   \n",
       "\n",
       "                          PAYEE  START DATE    END DATE       PURPOSE  AMOUNT  \\\n",
       "0  UNITED STATES POSTAL SERVICE  2018-06-01  2018-06-30  FRANKED MAIL  262.82   \n",
       "\n",
       "   YEAR bioguide       party gender  \n",
       "0  2018  A000374  republican   male  "
      ]
     },
     "execution_count": 15,
     "metadata": {},
     "output_type": "execute_result"
    }
   ],
   "source": [
    "_df1 = df.dropna(subset=['BIOGUIDE_ID'])\n",
    "_df2 = house_df[['bioguide','party','gender']]\n",
    "joined_df = pd.merge(_df1,_df2,left_on='BIOGUIDE_ID',right_on='bioguide',how='inner')\n",
    "joined_df.head(1)"
   ]
  },
  {
   "cell_type": "markdown",
   "metadata": {},
   "source": [
    "Count up how much each member spent, preserving their party and gender information."
   ]
  },
  {
   "cell_type": "code",
   "execution_count": 16,
   "metadata": {},
   "outputs": [
    {
     "data": {
      "text/html": [
       "<div>\n",
       "<style scoped>\n",
       "    .dataframe tbody tr th:only-of-type {\n",
       "        vertical-align: middle;\n",
       "    }\n",
       "\n",
       "    .dataframe tbody tr th {\n",
       "        vertical-align: top;\n",
       "    }\n",
       "\n",
       "    .dataframe thead th {\n",
       "        text-align: right;\n",
       "    }\n",
       "</style>\n",
       "<table border=\"1\" class=\"dataframe\">\n",
       "  <thead>\n",
       "    <tr style=\"text-align: right;\">\n",
       "      <th></th>\n",
       "      <th>AMOUNT</th>\n",
       "      <th>party</th>\n",
       "      <th>gender</th>\n",
       "    </tr>\n",
       "    <tr>\n",
       "      <th>BIOGUIDE_ID</th>\n",
       "      <th></th>\n",
       "      <th></th>\n",
       "      <th></th>\n",
       "    </tr>\n",
       "  </thead>\n",
       "  <tbody>\n",
       "    <tr>\n",
       "      <th>A000055</th>\n",
       "      <td>1204917.60</td>\n",
       "      <td>republican</td>\n",
       "      <td>male</td>\n",
       "    </tr>\n",
       "    <tr>\n",
       "      <th>A000367</th>\n",
       "      <td>972946.16</td>\n",
       "      <td>republican</td>\n",
       "      <td>male</td>\n",
       "    </tr>\n",
       "    <tr>\n",
       "      <th>A000369</th>\n",
       "      <td>1057311.64</td>\n",
       "      <td>republican</td>\n",
       "      <td>male</td>\n",
       "    </tr>\n",
       "    <tr>\n",
       "      <th>A000370</th>\n",
       "      <td>1429663.24</td>\n",
       "      <td>democrat</td>\n",
       "      <td>female</td>\n",
       "    </tr>\n",
       "    <tr>\n",
       "      <th>A000371</th>\n",
       "      <td>1374764.08</td>\n",
       "      <td>democrat</td>\n",
       "      <td>male</td>\n",
       "    </tr>\n",
       "  </tbody>\n",
       "</table>\n",
       "</div>"
      ],
      "text/plain": [
       "                 AMOUNT       party  gender\n",
       "BIOGUIDE_ID                                \n",
       "A000055      1204917.60  republican    male\n",
       "A000367       972946.16  republican    male\n",
       "A000369      1057311.64  republican    male\n",
       "A000370      1429663.24    democrat  female\n",
       "A000371      1374764.08    democrat    male"
      ]
     },
     "execution_count": 16,
     "metadata": {},
     "output_type": "execute_result"
    }
   ],
   "source": [
    "agg_d = {'AMOUNT':np.sum,\n",
    "         'party':'first',\n",
    "         'gender':'first'\n",
    "        }\n",
    "\n",
    "joined_agg_df = joined_df.groupby('BIOGUIDE_ID').agg(agg_d)\n",
    "joined_agg_df.head()"
   ]
  },
  {
   "cell_type": "code",
   "execution_count": 17,
   "metadata": {},
   "outputs": [
    {
     "data": {
      "text/html": [
       "<style  type=\"text/css\" >\n",
       "</style>  \n",
       "<table id=\"T_5bd873b6_19bb_11e9_aa2f_6a000267a5d0\" > \n",
       "<thead>    <tr> \n",
       "        <th class=\"index_name level0\" >party</th> \n",
       "        <th class=\"col_heading level0 col0\" >democrat</th> \n",
       "        <th class=\"col_heading level0 col1\" >republican</th> \n",
       "    </tr></thead> \n",
       "<tbody>    <tr> \n",
       "        <th id=\"T_5bd873b6_19bb_11e9_aa2f_6a000267a5d0level0_row0\" class=\"row_heading level0 row0\" >AMOUNT</th> \n",
       "        <td id=\"T_5bd873b6_19bb_11e9_aa2f_6a000267a5d0row0_col0\" class=\"data row0 col0\" >$1,258,008</td> \n",
       "        <td id=\"T_5bd873b6_19bb_11e9_aa2f_6a000267a5d0row0_col1\" class=\"data row0 col1\" >$1,236,351</td> \n",
       "    </tr></tbody> \n",
       "</table> "
      ],
      "text/plain": [
       "<pandas.io.formats.style.Styler at 0x1a20192fd0>"
      ]
     },
     "execution_count": 17,
     "metadata": {},
     "output_type": "execute_result"
    }
   ],
   "source": [
    "pd.pivot_table(joined_agg_df,\n",
    "               values='AMOUNT',\n",
    "               columns='party',\n",
    "               aggfunc='mean').style.format('${:,.0f}')"
   ]
  },
  {
   "cell_type": "code",
   "execution_count": 18,
   "metadata": {},
   "outputs": [
    {
     "data": {
      "text/html": [
       "<style  type=\"text/css\" >\n",
       "</style>  \n",
       "<table id=\"T_635b771e_19bb_11e9_a6f9_6a000267a5d0\" > \n",
       "<thead>    <tr> \n",
       "        <th class=\"index_name level0\" >gender</th> \n",
       "        <th class=\"col_heading level0 col0\" >female</th> \n",
       "        <th class=\"col_heading level0 col1\" >male</th> \n",
       "    </tr></thead> \n",
       "<tbody>    <tr> \n",
       "        <th id=\"T_635b771e_19bb_11e9_a6f9_6a000267a5d0level0_row0\" class=\"row_heading level0 row0\" >AMOUNT</th> \n",
       "        <td id=\"T_635b771e_19bb_11e9_a6f9_6a000267a5d0row0_col0\" class=\"data row0 col0\" >$1,252,288</td> \n",
       "        <td id=\"T_635b771e_19bb_11e9_a6f9_6a000267a5d0row0_col1\" class=\"data row0 col1\" >$1,244,597</td> \n",
       "    </tr></tbody> \n",
       "</table> "
      ],
      "text/plain": [
       "<pandas.io.formats.style.Styler at 0x10d02e6d8>"
      ]
     },
     "execution_count": 18,
     "metadata": {},
     "output_type": "execute_result"
    }
   ],
   "source": [
    "pd.pivot_table(joined_agg_df,\n",
    "               values='AMOUNT',\n",
    "               columns='gender',\n",
    "               aggfunc='mean').style.format('${:,.0f}')"
   ]
  },
  {
   "cell_type": "code",
   "execution_count": 19,
   "metadata": {},
   "outputs": [
    {
     "data": {
      "text/html": [
       "<style  type=\"text/css\" >\n",
       "</style>  \n",
       "<table id=\"T_6757e10c_19bb_11e9_94b0_6a000267a5d0\" > \n",
       "<thead>    <tr> \n",
       "        <th class=\"index_name level0\" >gender</th> \n",
       "        <th class=\"col_heading level0 col0\" >female</th> \n",
       "        <th class=\"col_heading level0 col1\" >male</th> \n",
       "    </tr>    <tr> \n",
       "        <th class=\"index_name level0\" >party</th> \n",
       "        <th class=\"blank\" ></th> \n",
       "        <th class=\"blank\" ></th> \n",
       "    </tr></thead> \n",
       "<tbody>    <tr> \n",
       "        <th id=\"T_6757e10c_19bb_11e9_94b0_6a000267a5d0level0_row0\" class=\"row_heading level0 row0\" >democrat</th> \n",
       "        <td id=\"T_6757e10c_19bb_11e9_94b0_6a000267a5d0row0_col0\" class=\"data row0 col0\" >$1,255,404</td> \n",
       "        <td id=\"T_6757e10c_19bb_11e9_94b0_6a000267a5d0row0_col1\" class=\"data row0 col1\" >$1,259,172</td> \n",
       "    </tr>    <tr> \n",
       "        <th id=\"T_6757e10c_19bb_11e9_94b0_6a000267a5d0level0_row1\" class=\"row_heading level0 row1\" >republican</th> \n",
       "        <td id=\"T_6757e10c_19bb_11e9_94b0_6a000267a5d0row1_col0\" class=\"data row1 col0\" >$1,243,531</td> \n",
       "        <td id=\"T_6757e10c_19bb_11e9_94b0_6a000267a5d0row1_col1\" class=\"data row1 col1\" >$1,235,649</td> \n",
       "    </tr></tbody> \n",
       "</table> "
      ],
      "text/plain": [
       "<pandas.io.formats.style.Styler at 0x1a20ce04e0>"
      ]
     },
     "execution_count": 19,
     "metadata": {},
     "output_type": "execute_result"
    }
   ],
   "source": [
    "pd.pivot_table(joined_agg_df,\n",
    "               values='AMOUNT',\n",
    "               columns='gender',\n",
    "               index='party',\n",
    "               aggfunc='mean').style.format('${:,.0f}')"
   ]
  },
  {
   "cell_type": "markdown",
   "metadata": {},
   "source": [
    "Are these differences statistically significant? No."
   ]
  },
  {
   "cell_type": "code",
   "execution_count": 20,
   "metadata": {},
   "outputs": [
    {
     "data": {
      "text/plain": [
       "Ttest_indResult(statistic=-1.0003348602877669, pvalue=0.31771768049656285)"
      ]
     },
     "execution_count": 20,
     "metadata": {},
     "output_type": "execute_result"
    }
   ],
   "source": [
    "from scipy import stats\n",
    "\n",
    "r_amount = joined_agg_df.loc[joined_agg_df['party'] == 'republican','AMOUNT']\n",
    "d_amount = joined_agg_df.loc[joined_agg_df['party'] == 'democrat','AMOUNT']\n",
    "stats.ttest_ind(r_amount,d_amount)"
   ]
  },
  {
   "cell_type": "code",
   "execution_count": 21,
   "metadata": {},
   "outputs": [
    {
     "data": {
      "text/plain": [
       "Ttest_indResult(statistic=-0.27843908849725846, pvalue=0.7808107359401847)"
      ]
     },
     "execution_count": 21,
     "metadata": {},
     "output_type": "execute_result"
    }
   ],
   "source": [
    "m_amount = joined_agg_df.loc[joined_agg_df['gender'] == 'male','AMOUNT']\n",
    "f_amount = joined_agg_df.loc[joined_agg_df['gender'] == 'female','AMOUNT']\n",
    "stats.ttest_ind(m_amount,f_amount)"
   ]
  },
  {
   "cell_type": "code",
   "execution_count": null,
   "metadata": {},
   "outputs": [],
   "source": []
  }
 ],
 "metadata": {
  "kernelspec": {
   "display_name": "Python 3",
   "language": "python",
   "name": "python3"
  },
  "language_info": {
   "codemirror_mode": {
    "name": "ipython",
    "version": 3
   },
   "file_extension": ".py",
   "mimetype": "text/x-python",
   "name": "python",
   "nbconvert_exporter": "python",
   "pygments_lexer": "ipython3",
   "version": "3.6.8"
  }
 },
 "nbformat": 4,
 "nbformat_minor": 2
}
