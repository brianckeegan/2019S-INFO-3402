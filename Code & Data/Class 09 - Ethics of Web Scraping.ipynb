{
 "cells": [
  {
   "cell_type": "markdown",
   "metadata": {},
   "source": [
    "# INFO 3402 – Class 09: Ethics of Web Scraping\n",
    "\n",
    "[Brian C. Keegan, Ph.D.](http://brianckeegan.com/)  \n",
    "[Assistant Professor, Department of Information Science](https://www.colorado.edu/cmci/people/information-science/brian-c-keegan)  \n",
    "University of Colorado Boulder  \n",
    "\n",
    "Copyright and distributed under an [MIT License](https://opensource.org/licenses/MIT)\n",
    "\n",
    "## Acknowledgements\n",
    "\n",
    "This course will draw on resources built by myself and [Allison Morgan](https://allisonmorgan.github.io/) for the [2018 Summer Institute for Computational Social Science](https://github.com/allisonmorgan/sicss_boulder), which were in turn derived from [other resources](https://github.com/simonmunzert/web-scraping-with-r-extended-edition) developed by [Simon Munzert](http://simonmunzert.github.io/) and [Chris Bail](http://www.chrisbail.net/).\n",
    "\n",
    "The block of code below will only work once you've installed Selenium."
   ]
  },
  {
   "cell_type": "code",
   "execution_count": 1,
   "metadata": {},
   "outputs": [],
   "source": [
    "# Lets us talk to servers on the web\n",
    "import requests\n",
    "\n",
    "# Parsing HTML magic\n",
    "from bs4 import BeautifulSoup\n",
    "\n",
    "# Our interface to a real-life web browser... won't import until you install!\n",
    "import selenium.webdriver\n",
    "\n",
    "# For data manipulation\n",
    "import pandas as pd\n",
    "\n",
    "# Will be helful for converting between timestamps\n",
    "from datetime import datetime\n",
    "\n",
    "# We want to sleep from time-to-time to avoid overwhelming another server\n",
    "import time\n",
    "\n",
    "from urllib.parse import quote, unquote\n",
    "import json"
   ]
  },
  {
   "cell_type": "markdown",
   "metadata": {},
   "source": [
    "## Installing Selenium\n",
    "\n",
    "This is a non-trivial process: you will need to (1) install the Python bindings for Selenium, (2) download a web driver to interface with a web browser, and (3) configure Selenium to recognize your web driver. Follow the installation instructions in the documentation [here](https://selenium-python.readthedocs.io/installation.html) (you won't need the Selenium server).\n",
    "\n",
    "1. Install the Python bindings for Selenium. Go to your Anaconda terminal window, type in this command, and agree to whatever the package manager wants to install or update.\n",
    "\n",
    "`conda install selenium`\n",
    "\n",
    "2. Download the driver(s) for the web browser you want to use from the [links on the Selenium documentation](https://selenium-python.readthedocs.io/installation.html). If you use a Chrome browser, download the Chrome driver. Note that the Safari driver will not work on PCs and the Edge driver will not work on Macs. \n",
    "\n",
    "3. You will need to unzip the file and move the executable to the same directory where you are running this notebook. Make a note of the path to this directory.\n",
    "\n",
    "### Using Selenium to control a web browser\n",
    "The `driver` object we create is a connection from this Python environment out to the browser window."
   ]
  },
  {
   "cell_type": "code",
   "execution_count": 10,
   "metadata": {},
   "outputs": [],
   "source": [
    "# Path to the Chrome driver for my PC -- yours is likely very different\n",
    "# driver = selenium.webdriver.Chrome(executable_path='E:/Dropbox/Courses/2019 Spring - ITSS Web Data Scraping/chromedriver.exe')\n",
    "\n",
    "# Path to the Chrome driver for my Mac -- yours is likely very different\n",
    "driver = selenium.webdriver.Chrome(executable_path='/Users/briankeegan/Dropbox/Courses/2019 Spring - ITSS Web Data Scraping/chromedriver')\n"
   ]
  },
  {
   "cell_type": "code",
   "execution_count": 9,
   "metadata": {},
   "outputs": [],
   "source": [
    "driver.quit()"
   ]
  },
  {
   "cell_type": "markdown",
   "metadata": {},
   "source": [
    "This single line of code will open a new browser window and will request the \"xkcd\" homepage.\n",
    "\n",
    "Your computer's security protocols may vigorously protest because you are launching a program that is controlled by another process/program. You will need to dismiss these warnings in order to proceed. Whether and how to do that will vary considerably across PCs and Macs, the kinds of permissions your account has on this operating system, and other security measures employed by your computer."
   ]
  },
  {
   "cell_type": "code",
   "execution_count": 11,
   "metadata": {},
   "outputs": [],
   "source": [
    "driver.get('https://xkcd.com')"
   ]
  },
  {
   "cell_type": "markdown",
   "metadata": {},
   "source": [
    "In Classes 01 and 02, we used `BeautifulSoup` to turn HTML and XML into a data structure that we could search and access using Python-like syntax. With Selenium we use a standard called \"XPath\" to navigate through an HTML document: [this is the official tutorial](https://www.w3schools.com/xml/xpath_syntax.asp) for working with XPath. The syntax is different, but the intuition is similar: we can find a parent node by its attribute (class, id, *etc*.) and then navigate down the tree to its children.\n",
    "\n",
    "The XPath below has the following elements in sequence\n",
    "* `//` — Select all nodes that match the selection\n",
    "* `[@id=\"middleContainer\"]` — find the element that has a \"middleContainer\" id.\n",
    "* `/ul[2]` — select the second `<ul>` element underneath the `<div id=\"middleContainer\">`\n",
    "* `/li[3]` — select the third `<li>` element \n",
    "* `/a` — select the a element\n",
    "\n",
    "The combined XPath string `//*[@id=\"middleContainer\"]/ul[1]/li[3]/a` is like a \"file directory\" that (hopefully!) points to the hyperlink button that takes us to a random xkcd comic. With the directions to this button, we can have the web browser \"click\" the \"Random\" button beneath the comic."
   ]
  },
  {
   "cell_type": "code",
   "execution_count": 6,
   "metadata": {},
   "outputs": [],
   "source": [
    "# Let's find the 'random' buttom\n",
    "element = driver.find_element_by_xpath('//*[@id=\"middleContainer\"]/ul[2]/li[3]/a')\n",
    "\n",
    "# Once we've found it, now click it\n",
    "element.click()"
   ]
  },
  {
   "cell_type": "markdown",
   "metadata": {},
   "source": [
    "We can also get the attributes of different parts of the web page. xkcd is famous for its \"hidden messages\" inside the image alt-text."
   ]
  },
  {
   "cell_type": "code",
   "execution_count": 7,
   "metadata": {},
   "outputs": [
    {
     "data": {
      "text/plain": [
       "\"I don't think the Lakeshore Air Crash Museum really belongs under 'Tourist Attractions.' It's not a museum--it's just an area near the Lake Festival Laser Show where a lot of planes have crashed.\""
      ]
     },
     "execution_count": 7,
     "metadata": {},
     "output_type": "execute_result"
    }
   ],
   "source": [
    "alttext_element = driver.find_element_by_xpath('//*[@id=\"comic\"]/img')\n",
    "alttext_element.get_attribute(\"title\")"
   ]
  },
  {
   "cell_type": "markdown",
   "metadata": {},
   "source": [
    "We could write a simple loop to click on the random button five times and print the alt-text from each of those pages."
   ]
  },
  {
   "cell_type": "code",
   "execution_count": 12,
   "metadata": {},
   "outputs": [
    {
     "name": "stdout",
     "output_type": "stream",
     "text": [
      "\n",
      " Implausible, did you say? Sorry, couldn't quite hear you from all the way up heeeeeeeeere!\n",
      "\n",
      " Stay warm, little flappers, and find lots of plant eggs!\n",
      "\n",
      " Here at CompanyName.website, our three main strengths are our web-facing chairs, our huge collection of white papers, and the fact that we physically cannot die.\n",
      "\n",
      " 'But what's the buzz about the film?' 'We're hoping it's distracting.'\n",
      "\n",
      " Of course, factions immediately sprang up in favor of '~*~sTaR tReK iNtO dArKnEsS~*~', 'xX_StAr TrEk InTo DaRkNess_Xx', and 'Star Trek lnto Darkness' (that's a lowercase 'L').\n"
     ]
    }
   ],
   "source": [
    "for c in range(5):\n",
    "    random_element = driver.find_element_by_xpath('//*[@id=\"middleContainer\"]/ul[2]/li[3]/a')\n",
    "    random_element.click()\n",
    "    \n",
    "    alttext_element = driver.find_element_by_xpath('//*[@id=\"comic\"]/img')\n",
    "    print('\\n',alttext_element.get_attribute(\"title\"))"
   ]
  },
  {
   "cell_type": "markdown",
   "metadata": {},
   "source": [
    "When you're done playing with your programmable web browser, make sure to close it."
   ]
  },
  {
   "cell_type": "code",
   "execution_count": 13,
   "metadata": {},
   "outputs": [],
   "source": [
    "driver.quit()"
   ]
  },
  {
   "cell_type": "markdown",
   "metadata": {},
   "source": [
    "Note that with the connection to the web browser closed, any of the functions like `find_element_by_xpath`, `click()`, *etc*. will not work."
   ]
  },
  {
   "cell_type": "code",
   "execution_count": 14,
   "metadata": {},
   "outputs": [
    {
     "ename": "MaxRetryError",
     "evalue": "HTTPConnectionPool(host='127.0.0.1', port=52329): Max retries exceeded with url: /session/3aa8bcde8a5119fab217a55236dfaae5/element (Caused by NewConnectionError('<urllib3.connection.HTTPConnection object at 0x11a5dab00>: Failed to establish a new connection: [Errno 61] Connection refused',))",
     "output_type": "error",
     "traceback": [
      "\u001b[0;31m---------------------------------------------------------------------------\u001b[0m",
      "\u001b[0;31mConnectionRefusedError\u001b[0m                    Traceback (most recent call last)",
      "\u001b[0;32m~/anaconda/lib/python3.6/site-packages/urllib3/connection.py\u001b[0m in \u001b[0;36m_new_conn\u001b[0;34m(self)\u001b[0m\n\u001b[1;32m    158\u001b[0m             conn = connection.create_connection(\n\u001b[0;32m--> 159\u001b[0;31m                 (self._dns_host, self.port), self.timeout, **extra_kw)\n\u001b[0m\u001b[1;32m    160\u001b[0m \u001b[0;34m\u001b[0m\u001b[0m\n",
      "\u001b[0;32m~/anaconda/lib/python3.6/site-packages/urllib3/util/connection.py\u001b[0m in \u001b[0;36mcreate_connection\u001b[0;34m(address, timeout, source_address, socket_options)\u001b[0m\n\u001b[1;32m     79\u001b[0m     \u001b[0;32mif\u001b[0m \u001b[0merr\u001b[0m \u001b[0;32mis\u001b[0m \u001b[0;32mnot\u001b[0m \u001b[0;32mNone\u001b[0m\u001b[0;34m:\u001b[0m\u001b[0;34m\u001b[0m\u001b[0;34m\u001b[0m\u001b[0m\n\u001b[0;32m---> 80\u001b[0;31m         \u001b[0;32mraise\u001b[0m \u001b[0merr\u001b[0m\u001b[0;34m\u001b[0m\u001b[0;34m\u001b[0m\u001b[0m\n\u001b[0m\u001b[1;32m     81\u001b[0m \u001b[0;34m\u001b[0m\u001b[0m\n",
      "\u001b[0;32m~/anaconda/lib/python3.6/site-packages/urllib3/util/connection.py\u001b[0m in \u001b[0;36mcreate_connection\u001b[0;34m(address, timeout, source_address, socket_options)\u001b[0m\n\u001b[1;32m     69\u001b[0m                 \u001b[0msock\u001b[0m\u001b[0;34m.\u001b[0m\u001b[0mbind\u001b[0m\u001b[0;34m(\u001b[0m\u001b[0msource_address\u001b[0m\u001b[0;34m)\u001b[0m\u001b[0;34m\u001b[0m\u001b[0;34m\u001b[0m\u001b[0m\n\u001b[0;32m---> 70\u001b[0;31m             \u001b[0msock\u001b[0m\u001b[0;34m.\u001b[0m\u001b[0mconnect\u001b[0m\u001b[0;34m(\u001b[0m\u001b[0msa\u001b[0m\u001b[0;34m)\u001b[0m\u001b[0;34m\u001b[0m\u001b[0;34m\u001b[0m\u001b[0m\n\u001b[0m\u001b[1;32m     71\u001b[0m             \u001b[0;32mreturn\u001b[0m \u001b[0msock\u001b[0m\u001b[0;34m\u001b[0m\u001b[0;34m\u001b[0m\u001b[0m\n",
      "\u001b[0;31mConnectionRefusedError\u001b[0m: [Errno 61] Connection refused",
      "\nDuring handling of the above exception, another exception occurred:\n",
      "\u001b[0;31mNewConnectionError\u001b[0m                        Traceback (most recent call last)",
      "\u001b[0;32m~/anaconda/lib/python3.6/site-packages/urllib3/connectionpool.py\u001b[0m in \u001b[0;36murlopen\u001b[0;34m(self, method, url, body, headers, retries, redirect, assert_same_host, timeout, pool_timeout, release_conn, chunked, body_pos, **response_kw)\u001b[0m\n\u001b[1;32m    599\u001b[0m                                                   \u001b[0mbody\u001b[0m\u001b[0;34m=\u001b[0m\u001b[0mbody\u001b[0m\u001b[0;34m,\u001b[0m \u001b[0mheaders\u001b[0m\u001b[0;34m=\u001b[0m\u001b[0mheaders\u001b[0m\u001b[0;34m,\u001b[0m\u001b[0;34m\u001b[0m\u001b[0;34m\u001b[0m\u001b[0m\n\u001b[0;32m--> 600\u001b[0;31m                                                   chunked=chunked)\n\u001b[0m\u001b[1;32m    601\u001b[0m \u001b[0;34m\u001b[0m\u001b[0m\n",
      "\u001b[0;32m~/anaconda/lib/python3.6/site-packages/urllib3/connectionpool.py\u001b[0m in \u001b[0;36m_make_request\u001b[0;34m(self, conn, method, url, timeout, chunked, **httplib_request_kw)\u001b[0m\n\u001b[1;32m    353\u001b[0m         \u001b[0;32melse\u001b[0m\u001b[0;34m:\u001b[0m\u001b[0;34m\u001b[0m\u001b[0;34m\u001b[0m\u001b[0m\n\u001b[0;32m--> 354\u001b[0;31m             \u001b[0mconn\u001b[0m\u001b[0;34m.\u001b[0m\u001b[0mrequest\u001b[0m\u001b[0;34m(\u001b[0m\u001b[0mmethod\u001b[0m\u001b[0;34m,\u001b[0m \u001b[0murl\u001b[0m\u001b[0;34m,\u001b[0m \u001b[0;34m**\u001b[0m\u001b[0mhttplib_request_kw\u001b[0m\u001b[0;34m)\u001b[0m\u001b[0;34m\u001b[0m\u001b[0;34m\u001b[0m\u001b[0m\n\u001b[0m\u001b[1;32m    355\u001b[0m \u001b[0;34m\u001b[0m\u001b[0m\n",
      "\u001b[0;32m~/anaconda/lib/python3.6/http/client.py\u001b[0m in \u001b[0;36mrequest\u001b[0;34m(self, method, url, body, headers, encode_chunked)\u001b[0m\n\u001b[1;32m   1238\u001b[0m         \u001b[0;34m\"\"\"Send a complete request to the server.\"\"\"\u001b[0m\u001b[0;34m\u001b[0m\u001b[0;34m\u001b[0m\u001b[0m\n\u001b[0;32m-> 1239\u001b[0;31m         \u001b[0mself\u001b[0m\u001b[0;34m.\u001b[0m\u001b[0m_send_request\u001b[0m\u001b[0;34m(\u001b[0m\u001b[0mmethod\u001b[0m\u001b[0;34m,\u001b[0m \u001b[0murl\u001b[0m\u001b[0;34m,\u001b[0m \u001b[0mbody\u001b[0m\u001b[0;34m,\u001b[0m \u001b[0mheaders\u001b[0m\u001b[0;34m,\u001b[0m \u001b[0mencode_chunked\u001b[0m\u001b[0;34m)\u001b[0m\u001b[0;34m\u001b[0m\u001b[0;34m\u001b[0m\u001b[0m\n\u001b[0m\u001b[1;32m   1240\u001b[0m \u001b[0;34m\u001b[0m\u001b[0m\n",
      "\u001b[0;32m~/anaconda/lib/python3.6/http/client.py\u001b[0m in \u001b[0;36m_send_request\u001b[0;34m(self, method, url, body, headers, encode_chunked)\u001b[0m\n\u001b[1;32m   1284\u001b[0m             \u001b[0mbody\u001b[0m \u001b[0;34m=\u001b[0m \u001b[0m_encode\u001b[0m\u001b[0;34m(\u001b[0m\u001b[0mbody\u001b[0m\u001b[0;34m,\u001b[0m \u001b[0;34m'body'\u001b[0m\u001b[0;34m)\u001b[0m\u001b[0;34m\u001b[0m\u001b[0;34m\u001b[0m\u001b[0m\n\u001b[0;32m-> 1285\u001b[0;31m         \u001b[0mself\u001b[0m\u001b[0;34m.\u001b[0m\u001b[0mendheaders\u001b[0m\u001b[0;34m(\u001b[0m\u001b[0mbody\u001b[0m\u001b[0;34m,\u001b[0m \u001b[0mencode_chunked\u001b[0m\u001b[0;34m=\u001b[0m\u001b[0mencode_chunked\u001b[0m\u001b[0;34m)\u001b[0m\u001b[0;34m\u001b[0m\u001b[0;34m\u001b[0m\u001b[0m\n\u001b[0m\u001b[1;32m   1286\u001b[0m \u001b[0;34m\u001b[0m\u001b[0m\n",
      "\u001b[0;32m~/anaconda/lib/python3.6/http/client.py\u001b[0m in \u001b[0;36mendheaders\u001b[0;34m(self, message_body, encode_chunked)\u001b[0m\n\u001b[1;32m   1233\u001b[0m             \u001b[0;32mraise\u001b[0m \u001b[0mCannotSendHeader\u001b[0m\u001b[0;34m(\u001b[0m\u001b[0;34m)\u001b[0m\u001b[0;34m\u001b[0m\u001b[0;34m\u001b[0m\u001b[0m\n\u001b[0;32m-> 1234\u001b[0;31m         \u001b[0mself\u001b[0m\u001b[0;34m.\u001b[0m\u001b[0m_send_output\u001b[0m\u001b[0;34m(\u001b[0m\u001b[0mmessage_body\u001b[0m\u001b[0;34m,\u001b[0m \u001b[0mencode_chunked\u001b[0m\u001b[0;34m=\u001b[0m\u001b[0mencode_chunked\u001b[0m\u001b[0;34m)\u001b[0m\u001b[0;34m\u001b[0m\u001b[0;34m\u001b[0m\u001b[0m\n\u001b[0m\u001b[1;32m   1235\u001b[0m \u001b[0;34m\u001b[0m\u001b[0m\n",
      "\u001b[0;32m~/anaconda/lib/python3.6/http/client.py\u001b[0m in \u001b[0;36m_send_output\u001b[0;34m(self, message_body, encode_chunked)\u001b[0m\n\u001b[1;32m   1025\u001b[0m         \u001b[0;32mdel\u001b[0m \u001b[0mself\u001b[0m\u001b[0;34m.\u001b[0m\u001b[0m_buffer\u001b[0m\u001b[0;34m[\u001b[0m\u001b[0;34m:\u001b[0m\u001b[0;34m]\u001b[0m\u001b[0;34m\u001b[0m\u001b[0;34m\u001b[0m\u001b[0m\n\u001b[0;32m-> 1026\u001b[0;31m         \u001b[0mself\u001b[0m\u001b[0;34m.\u001b[0m\u001b[0msend\u001b[0m\u001b[0;34m(\u001b[0m\u001b[0mmsg\u001b[0m\u001b[0;34m)\u001b[0m\u001b[0;34m\u001b[0m\u001b[0;34m\u001b[0m\u001b[0m\n\u001b[0m\u001b[1;32m   1027\u001b[0m \u001b[0;34m\u001b[0m\u001b[0m\n",
      "\u001b[0;32m~/anaconda/lib/python3.6/http/client.py\u001b[0m in \u001b[0;36msend\u001b[0;34m(self, data)\u001b[0m\n\u001b[1;32m    963\u001b[0m             \u001b[0;32mif\u001b[0m \u001b[0mself\u001b[0m\u001b[0;34m.\u001b[0m\u001b[0mauto_open\u001b[0m\u001b[0;34m:\u001b[0m\u001b[0;34m\u001b[0m\u001b[0;34m\u001b[0m\u001b[0m\n\u001b[0;32m--> 964\u001b[0;31m                 \u001b[0mself\u001b[0m\u001b[0;34m.\u001b[0m\u001b[0mconnect\u001b[0m\u001b[0;34m(\u001b[0m\u001b[0;34m)\u001b[0m\u001b[0;34m\u001b[0m\u001b[0;34m\u001b[0m\u001b[0m\n\u001b[0m\u001b[1;32m    965\u001b[0m             \u001b[0;32melse\u001b[0m\u001b[0;34m:\u001b[0m\u001b[0;34m\u001b[0m\u001b[0;34m\u001b[0m\u001b[0m\n",
      "\u001b[0;32m~/anaconda/lib/python3.6/site-packages/urllib3/connection.py\u001b[0m in \u001b[0;36mconnect\u001b[0;34m(self)\u001b[0m\n\u001b[1;32m    180\u001b[0m     \u001b[0;32mdef\u001b[0m \u001b[0mconnect\u001b[0m\u001b[0;34m(\u001b[0m\u001b[0mself\u001b[0m\u001b[0;34m)\u001b[0m\u001b[0;34m:\u001b[0m\u001b[0;34m\u001b[0m\u001b[0;34m\u001b[0m\u001b[0m\n\u001b[0;32m--> 181\u001b[0;31m         \u001b[0mconn\u001b[0m \u001b[0;34m=\u001b[0m \u001b[0mself\u001b[0m\u001b[0;34m.\u001b[0m\u001b[0m_new_conn\u001b[0m\u001b[0;34m(\u001b[0m\u001b[0;34m)\u001b[0m\u001b[0;34m\u001b[0m\u001b[0;34m\u001b[0m\u001b[0m\n\u001b[0m\u001b[1;32m    182\u001b[0m         \u001b[0mself\u001b[0m\u001b[0;34m.\u001b[0m\u001b[0m_prepare_conn\u001b[0m\u001b[0;34m(\u001b[0m\u001b[0mconn\u001b[0m\u001b[0;34m)\u001b[0m\u001b[0;34m\u001b[0m\u001b[0;34m\u001b[0m\u001b[0m\n",
      "\u001b[0;32m~/anaconda/lib/python3.6/site-packages/urllib3/connection.py\u001b[0m in \u001b[0;36m_new_conn\u001b[0;34m(self)\u001b[0m\n\u001b[1;32m    167\u001b[0m             raise NewConnectionError(\n\u001b[0;32m--> 168\u001b[0;31m                 self, \"Failed to establish a new connection: %s\" % e)\n\u001b[0m\u001b[1;32m    169\u001b[0m \u001b[0;34m\u001b[0m\u001b[0m\n",
      "\u001b[0;31mNewConnectionError\u001b[0m: <urllib3.connection.HTTPConnection object at 0x11a5dab00>: Failed to establish a new connection: [Errno 61] Connection refused",
      "\nDuring handling of the above exception, another exception occurred:\n",
      "\u001b[0;31mMaxRetryError\u001b[0m                             Traceback (most recent call last)",
      "\u001b[0;32m<ipython-input-14-844594e6633f>\u001b[0m in \u001b[0;36m<module>\u001b[0;34m\u001b[0m\n\u001b[0;32m----> 1\u001b[0;31m \u001b[0malttext_element\u001b[0m \u001b[0;34m=\u001b[0m \u001b[0mdriver\u001b[0m\u001b[0;34m.\u001b[0m\u001b[0mfind_element_by_xpath\u001b[0m\u001b[0;34m(\u001b[0m\u001b[0;34m'//*[@id=\"comic\"]/img'\u001b[0m\u001b[0;34m)\u001b[0m\u001b[0;34m\u001b[0m\u001b[0;34m\u001b[0m\u001b[0m\n\u001b[0m\u001b[1;32m      2\u001b[0m \u001b[0malttext_element\u001b[0m\u001b[0;34m.\u001b[0m\u001b[0mget_attribute\u001b[0m\u001b[0;34m(\u001b[0m\u001b[0;34m\"title\"\u001b[0m\u001b[0;34m)\u001b[0m\u001b[0;34m\u001b[0m\u001b[0;34m\u001b[0m\u001b[0m\n",
      "\u001b[0;32m~/anaconda/lib/python3.6/site-packages/selenium/webdriver/remote/webdriver.py\u001b[0m in \u001b[0;36mfind_element_by_xpath\u001b[0;34m(self, xpath)\u001b[0m\n\u001b[1;32m    392\u001b[0m             \u001b[0melement\u001b[0m \u001b[0;34m=\u001b[0m \u001b[0mdriver\u001b[0m\u001b[0;34m.\u001b[0m\u001b[0mfind_element_by_xpath\u001b[0m\u001b[0;34m(\u001b[0m\u001b[0;34m'//div/td[1]'\u001b[0m\u001b[0;34m)\u001b[0m\u001b[0;34m\u001b[0m\u001b[0;34m\u001b[0m\u001b[0m\n\u001b[1;32m    393\u001b[0m         \"\"\"\n\u001b[0;32m--> 394\u001b[0;31m         \u001b[0;32mreturn\u001b[0m \u001b[0mself\u001b[0m\u001b[0;34m.\u001b[0m\u001b[0mfind_element\u001b[0m\u001b[0;34m(\u001b[0m\u001b[0mby\u001b[0m\u001b[0;34m=\u001b[0m\u001b[0mBy\u001b[0m\u001b[0;34m.\u001b[0m\u001b[0mXPATH\u001b[0m\u001b[0;34m,\u001b[0m \u001b[0mvalue\u001b[0m\u001b[0;34m=\u001b[0m\u001b[0mxpath\u001b[0m\u001b[0;34m)\u001b[0m\u001b[0;34m\u001b[0m\u001b[0;34m\u001b[0m\u001b[0m\n\u001b[0m\u001b[1;32m    395\u001b[0m \u001b[0;34m\u001b[0m\u001b[0m\n\u001b[1;32m    396\u001b[0m     \u001b[0;32mdef\u001b[0m \u001b[0mfind_elements_by_xpath\u001b[0m\u001b[0;34m(\u001b[0m\u001b[0mself\u001b[0m\u001b[0;34m,\u001b[0m \u001b[0mxpath\u001b[0m\u001b[0;34m)\u001b[0m\u001b[0;34m:\u001b[0m\u001b[0;34m\u001b[0m\u001b[0;34m\u001b[0m\u001b[0m\n",
      "\u001b[0;32m~/anaconda/lib/python3.6/site-packages/selenium/webdriver/remote/webdriver.py\u001b[0m in \u001b[0;36mfind_element\u001b[0;34m(self, by, value)\u001b[0m\n\u001b[1;32m    976\u001b[0m         return self.execute(Command.FIND_ELEMENT, {\n\u001b[1;32m    977\u001b[0m             \u001b[0;34m'using'\u001b[0m\u001b[0;34m:\u001b[0m \u001b[0mby\u001b[0m\u001b[0;34m,\u001b[0m\u001b[0;34m\u001b[0m\u001b[0;34m\u001b[0m\u001b[0m\n\u001b[0;32m--> 978\u001b[0;31m             'value': value})['value']\n\u001b[0m\u001b[1;32m    979\u001b[0m \u001b[0;34m\u001b[0m\u001b[0m\n\u001b[1;32m    980\u001b[0m     \u001b[0;32mdef\u001b[0m \u001b[0mfind_elements\u001b[0m\u001b[0;34m(\u001b[0m\u001b[0mself\u001b[0m\u001b[0;34m,\u001b[0m \u001b[0mby\u001b[0m\u001b[0;34m=\u001b[0m\u001b[0mBy\u001b[0m\u001b[0;34m.\u001b[0m\u001b[0mID\u001b[0m\u001b[0;34m,\u001b[0m \u001b[0mvalue\u001b[0m\u001b[0;34m=\u001b[0m\u001b[0;32mNone\u001b[0m\u001b[0;34m)\u001b[0m\u001b[0;34m:\u001b[0m\u001b[0;34m\u001b[0m\u001b[0;34m\u001b[0m\u001b[0m\n",
      "\u001b[0;32m~/anaconda/lib/python3.6/site-packages/selenium/webdriver/remote/webdriver.py\u001b[0m in \u001b[0;36mexecute\u001b[0;34m(self, driver_command, params)\u001b[0m\n\u001b[1;32m    317\u001b[0m \u001b[0;34m\u001b[0m\u001b[0m\n\u001b[1;32m    318\u001b[0m         \u001b[0mparams\u001b[0m \u001b[0;34m=\u001b[0m \u001b[0mself\u001b[0m\u001b[0;34m.\u001b[0m\u001b[0m_wrap_value\u001b[0m\u001b[0;34m(\u001b[0m\u001b[0mparams\u001b[0m\u001b[0;34m)\u001b[0m\u001b[0;34m\u001b[0m\u001b[0;34m\u001b[0m\u001b[0m\n\u001b[0;32m--> 319\u001b[0;31m         \u001b[0mresponse\u001b[0m \u001b[0;34m=\u001b[0m \u001b[0mself\u001b[0m\u001b[0;34m.\u001b[0m\u001b[0mcommand_executor\u001b[0m\u001b[0;34m.\u001b[0m\u001b[0mexecute\u001b[0m\u001b[0;34m(\u001b[0m\u001b[0mdriver_command\u001b[0m\u001b[0;34m,\u001b[0m \u001b[0mparams\u001b[0m\u001b[0;34m)\u001b[0m\u001b[0;34m\u001b[0m\u001b[0;34m\u001b[0m\u001b[0m\n\u001b[0m\u001b[1;32m    320\u001b[0m         \u001b[0;32mif\u001b[0m \u001b[0mresponse\u001b[0m\u001b[0;34m:\u001b[0m\u001b[0;34m\u001b[0m\u001b[0;34m\u001b[0m\u001b[0m\n\u001b[1;32m    321\u001b[0m             \u001b[0mself\u001b[0m\u001b[0;34m.\u001b[0m\u001b[0merror_handler\u001b[0m\u001b[0;34m.\u001b[0m\u001b[0mcheck_response\u001b[0m\u001b[0;34m(\u001b[0m\u001b[0mresponse\u001b[0m\u001b[0;34m)\u001b[0m\u001b[0;34m\u001b[0m\u001b[0;34m\u001b[0m\u001b[0m\n",
      "\u001b[0;32m~/anaconda/lib/python3.6/site-packages/selenium/webdriver/remote/remote_connection.py\u001b[0m in \u001b[0;36mexecute\u001b[0;34m(self, command, params)\u001b[0m\n\u001b[1;32m    372\u001b[0m         \u001b[0mdata\u001b[0m \u001b[0;34m=\u001b[0m \u001b[0mutils\u001b[0m\u001b[0;34m.\u001b[0m\u001b[0mdump_json\u001b[0m\u001b[0;34m(\u001b[0m\u001b[0mparams\u001b[0m\u001b[0;34m)\u001b[0m\u001b[0;34m\u001b[0m\u001b[0;34m\u001b[0m\u001b[0m\n\u001b[1;32m    373\u001b[0m         \u001b[0murl\u001b[0m \u001b[0;34m=\u001b[0m \u001b[0;34m'%s%s'\u001b[0m \u001b[0;34m%\u001b[0m \u001b[0;34m(\u001b[0m\u001b[0mself\u001b[0m\u001b[0;34m.\u001b[0m\u001b[0m_url\u001b[0m\u001b[0;34m,\u001b[0m \u001b[0mpath\u001b[0m\u001b[0;34m)\u001b[0m\u001b[0;34m\u001b[0m\u001b[0;34m\u001b[0m\u001b[0m\n\u001b[0;32m--> 374\u001b[0;31m         \u001b[0;32mreturn\u001b[0m \u001b[0mself\u001b[0m\u001b[0;34m.\u001b[0m\u001b[0m_request\u001b[0m\u001b[0;34m(\u001b[0m\u001b[0mcommand_info\u001b[0m\u001b[0;34m[\u001b[0m\u001b[0;36m0\u001b[0m\u001b[0;34m]\u001b[0m\u001b[0;34m,\u001b[0m \u001b[0murl\u001b[0m\u001b[0;34m,\u001b[0m \u001b[0mbody\u001b[0m\u001b[0;34m=\u001b[0m\u001b[0mdata\u001b[0m\u001b[0;34m)\u001b[0m\u001b[0;34m\u001b[0m\u001b[0;34m\u001b[0m\u001b[0m\n\u001b[0m\u001b[1;32m    375\u001b[0m \u001b[0;34m\u001b[0m\u001b[0m\n\u001b[1;32m    376\u001b[0m     \u001b[0;32mdef\u001b[0m \u001b[0m_request\u001b[0m\u001b[0;34m(\u001b[0m\u001b[0mself\u001b[0m\u001b[0;34m,\u001b[0m \u001b[0mmethod\u001b[0m\u001b[0;34m,\u001b[0m \u001b[0murl\u001b[0m\u001b[0;34m,\u001b[0m \u001b[0mbody\u001b[0m\u001b[0;34m=\u001b[0m\u001b[0;32mNone\u001b[0m\u001b[0;34m)\u001b[0m\u001b[0;34m:\u001b[0m\u001b[0;34m\u001b[0m\u001b[0;34m\u001b[0m\u001b[0m\n",
      "\u001b[0;32m~/anaconda/lib/python3.6/site-packages/selenium/webdriver/remote/remote_connection.py\u001b[0m in \u001b[0;36m_request\u001b[0;34m(self, method, url, body)\u001b[0m\n\u001b[1;32m    395\u001b[0m \u001b[0;34m\u001b[0m\u001b[0m\n\u001b[1;32m    396\u001b[0m         \u001b[0;32mif\u001b[0m \u001b[0mself\u001b[0m\u001b[0;34m.\u001b[0m\u001b[0mkeep_alive\u001b[0m\u001b[0;34m:\u001b[0m\u001b[0;34m\u001b[0m\u001b[0;34m\u001b[0m\u001b[0m\n\u001b[0;32m--> 397\u001b[0;31m             \u001b[0mresp\u001b[0m \u001b[0;34m=\u001b[0m \u001b[0mself\u001b[0m\u001b[0;34m.\u001b[0m\u001b[0m_conn\u001b[0m\u001b[0;34m.\u001b[0m\u001b[0mrequest\u001b[0m\u001b[0;34m(\u001b[0m\u001b[0mmethod\u001b[0m\u001b[0;34m,\u001b[0m \u001b[0murl\u001b[0m\u001b[0;34m,\u001b[0m \u001b[0mbody\u001b[0m\u001b[0;34m=\u001b[0m\u001b[0mbody\u001b[0m\u001b[0;34m,\u001b[0m \u001b[0mheaders\u001b[0m\u001b[0;34m=\u001b[0m\u001b[0mheaders\u001b[0m\u001b[0;34m)\u001b[0m\u001b[0;34m\u001b[0m\u001b[0;34m\u001b[0m\u001b[0m\n\u001b[0m\u001b[1;32m    398\u001b[0m \u001b[0;34m\u001b[0m\u001b[0m\n\u001b[1;32m    399\u001b[0m             \u001b[0mstatuscode\u001b[0m \u001b[0;34m=\u001b[0m \u001b[0mresp\u001b[0m\u001b[0;34m.\u001b[0m\u001b[0mstatus\u001b[0m\u001b[0;34m\u001b[0m\u001b[0;34m\u001b[0m\u001b[0m\n",
      "\u001b[0;32m~/anaconda/lib/python3.6/site-packages/urllib3/request.py\u001b[0m in \u001b[0;36mrequest\u001b[0;34m(self, method, url, fields, headers, **urlopen_kw)\u001b[0m\n\u001b[1;32m     70\u001b[0m             return self.request_encode_body(method, url, fields=fields,\n\u001b[1;32m     71\u001b[0m                                             \u001b[0mheaders\u001b[0m\u001b[0;34m=\u001b[0m\u001b[0mheaders\u001b[0m\u001b[0;34m,\u001b[0m\u001b[0;34m\u001b[0m\u001b[0;34m\u001b[0m\u001b[0m\n\u001b[0;32m---> 72\u001b[0;31m                                             **urlopen_kw)\n\u001b[0m\u001b[1;32m     73\u001b[0m \u001b[0;34m\u001b[0m\u001b[0m\n\u001b[1;32m     74\u001b[0m     def request_encode_url(self, method, url, fields=None, headers=None,\n",
      "\u001b[0;32m~/anaconda/lib/python3.6/site-packages/urllib3/request.py\u001b[0m in \u001b[0;36mrequest_encode_body\u001b[0;34m(self, method, url, fields, headers, encode_multipart, multipart_boundary, **urlopen_kw)\u001b[0m\n\u001b[1;32m    148\u001b[0m         \u001b[0mextra_kw\u001b[0m\u001b[0;34m.\u001b[0m\u001b[0mupdate\u001b[0m\u001b[0;34m(\u001b[0m\u001b[0murlopen_kw\u001b[0m\u001b[0;34m)\u001b[0m\u001b[0;34m\u001b[0m\u001b[0;34m\u001b[0m\u001b[0m\n\u001b[1;32m    149\u001b[0m \u001b[0;34m\u001b[0m\u001b[0m\n\u001b[0;32m--> 150\u001b[0;31m         \u001b[0;32mreturn\u001b[0m \u001b[0mself\u001b[0m\u001b[0;34m.\u001b[0m\u001b[0murlopen\u001b[0m\u001b[0;34m(\u001b[0m\u001b[0mmethod\u001b[0m\u001b[0;34m,\u001b[0m \u001b[0murl\u001b[0m\u001b[0;34m,\u001b[0m \u001b[0;34m**\u001b[0m\u001b[0mextra_kw\u001b[0m\u001b[0;34m)\u001b[0m\u001b[0;34m\u001b[0m\u001b[0;34m\u001b[0m\u001b[0m\n\u001b[0m",
      "\u001b[0;32m~/anaconda/lib/python3.6/site-packages/urllib3/poolmanager.py\u001b[0m in \u001b[0;36murlopen\u001b[0;34m(self, method, url, redirect, **kw)\u001b[0m\n\u001b[1;32m    321\u001b[0m             \u001b[0mresponse\u001b[0m \u001b[0;34m=\u001b[0m \u001b[0mconn\u001b[0m\u001b[0;34m.\u001b[0m\u001b[0murlopen\u001b[0m\u001b[0;34m(\u001b[0m\u001b[0mmethod\u001b[0m\u001b[0;34m,\u001b[0m \u001b[0murl\u001b[0m\u001b[0;34m,\u001b[0m \u001b[0;34m**\u001b[0m\u001b[0mkw\u001b[0m\u001b[0;34m)\u001b[0m\u001b[0;34m\u001b[0m\u001b[0;34m\u001b[0m\u001b[0m\n\u001b[1;32m    322\u001b[0m         \u001b[0;32melse\u001b[0m\u001b[0;34m:\u001b[0m\u001b[0;34m\u001b[0m\u001b[0;34m\u001b[0m\u001b[0m\n\u001b[0;32m--> 323\u001b[0;31m             \u001b[0mresponse\u001b[0m \u001b[0;34m=\u001b[0m \u001b[0mconn\u001b[0m\u001b[0;34m.\u001b[0m\u001b[0murlopen\u001b[0m\u001b[0;34m(\u001b[0m\u001b[0mmethod\u001b[0m\u001b[0;34m,\u001b[0m \u001b[0mu\u001b[0m\u001b[0;34m.\u001b[0m\u001b[0mrequest_uri\u001b[0m\u001b[0;34m,\u001b[0m \u001b[0;34m**\u001b[0m\u001b[0mkw\u001b[0m\u001b[0;34m)\u001b[0m\u001b[0;34m\u001b[0m\u001b[0;34m\u001b[0m\u001b[0m\n\u001b[0m\u001b[1;32m    324\u001b[0m \u001b[0;34m\u001b[0m\u001b[0m\n\u001b[1;32m    325\u001b[0m         \u001b[0mredirect_location\u001b[0m \u001b[0;34m=\u001b[0m \u001b[0mredirect\u001b[0m \u001b[0;32mand\u001b[0m \u001b[0mresponse\u001b[0m\u001b[0;34m.\u001b[0m\u001b[0mget_redirect_location\u001b[0m\u001b[0;34m(\u001b[0m\u001b[0;34m)\u001b[0m\u001b[0;34m\u001b[0m\u001b[0;34m\u001b[0m\u001b[0m\n",
      "\u001b[0;32m~/anaconda/lib/python3.6/site-packages/urllib3/connectionpool.py\u001b[0m in \u001b[0;36murlopen\u001b[0;34m(self, method, url, body, headers, retries, redirect, assert_same_host, timeout, pool_timeout, release_conn, chunked, body_pos, **response_kw)\u001b[0m\n\u001b[1;32m    665\u001b[0m                                 \u001b[0mtimeout\u001b[0m\u001b[0;34m=\u001b[0m\u001b[0mtimeout\u001b[0m\u001b[0;34m,\u001b[0m \u001b[0mpool_timeout\u001b[0m\u001b[0;34m=\u001b[0m\u001b[0mpool_timeout\u001b[0m\u001b[0;34m,\u001b[0m\u001b[0;34m\u001b[0m\u001b[0;34m\u001b[0m\u001b[0m\n\u001b[1;32m    666\u001b[0m                                 \u001b[0mrelease_conn\u001b[0m\u001b[0;34m=\u001b[0m\u001b[0mrelease_conn\u001b[0m\u001b[0;34m,\u001b[0m \u001b[0mbody_pos\u001b[0m\u001b[0;34m=\u001b[0m\u001b[0mbody_pos\u001b[0m\u001b[0;34m,\u001b[0m\u001b[0;34m\u001b[0m\u001b[0;34m\u001b[0m\u001b[0m\n\u001b[0;32m--> 667\u001b[0;31m                                 **response_kw)\n\u001b[0m\u001b[1;32m    668\u001b[0m \u001b[0;34m\u001b[0m\u001b[0m\n\u001b[1;32m    669\u001b[0m         \u001b[0;32mdef\u001b[0m \u001b[0mdrain_and_release_conn\u001b[0m\u001b[0;34m(\u001b[0m\u001b[0mresponse\u001b[0m\u001b[0;34m)\u001b[0m\u001b[0;34m:\u001b[0m\u001b[0;34m\u001b[0m\u001b[0;34m\u001b[0m\u001b[0m\n",
      "\u001b[0;32m~/anaconda/lib/python3.6/site-packages/urllib3/connectionpool.py\u001b[0m in \u001b[0;36murlopen\u001b[0;34m(self, method, url, body, headers, retries, redirect, assert_same_host, timeout, pool_timeout, release_conn, chunked, body_pos, **response_kw)\u001b[0m\n\u001b[1;32m    665\u001b[0m                                 \u001b[0mtimeout\u001b[0m\u001b[0;34m=\u001b[0m\u001b[0mtimeout\u001b[0m\u001b[0;34m,\u001b[0m \u001b[0mpool_timeout\u001b[0m\u001b[0;34m=\u001b[0m\u001b[0mpool_timeout\u001b[0m\u001b[0;34m,\u001b[0m\u001b[0;34m\u001b[0m\u001b[0;34m\u001b[0m\u001b[0m\n\u001b[1;32m    666\u001b[0m                                 \u001b[0mrelease_conn\u001b[0m\u001b[0;34m=\u001b[0m\u001b[0mrelease_conn\u001b[0m\u001b[0;34m,\u001b[0m \u001b[0mbody_pos\u001b[0m\u001b[0;34m=\u001b[0m\u001b[0mbody_pos\u001b[0m\u001b[0;34m,\u001b[0m\u001b[0;34m\u001b[0m\u001b[0;34m\u001b[0m\u001b[0m\n\u001b[0;32m--> 667\u001b[0;31m                                 **response_kw)\n\u001b[0m\u001b[1;32m    668\u001b[0m \u001b[0;34m\u001b[0m\u001b[0m\n\u001b[1;32m    669\u001b[0m         \u001b[0;32mdef\u001b[0m \u001b[0mdrain_and_release_conn\u001b[0m\u001b[0;34m(\u001b[0m\u001b[0mresponse\u001b[0m\u001b[0;34m)\u001b[0m\u001b[0;34m:\u001b[0m\u001b[0;34m\u001b[0m\u001b[0;34m\u001b[0m\u001b[0m\n",
      "\u001b[0;32m~/anaconda/lib/python3.6/site-packages/urllib3/connectionpool.py\u001b[0m in \u001b[0;36murlopen\u001b[0;34m(self, method, url, body, headers, retries, redirect, assert_same_host, timeout, pool_timeout, release_conn, chunked, body_pos, **response_kw)\u001b[0m\n\u001b[1;32m    665\u001b[0m                                 \u001b[0mtimeout\u001b[0m\u001b[0;34m=\u001b[0m\u001b[0mtimeout\u001b[0m\u001b[0;34m,\u001b[0m \u001b[0mpool_timeout\u001b[0m\u001b[0;34m=\u001b[0m\u001b[0mpool_timeout\u001b[0m\u001b[0;34m,\u001b[0m\u001b[0;34m\u001b[0m\u001b[0;34m\u001b[0m\u001b[0m\n\u001b[1;32m    666\u001b[0m                                 \u001b[0mrelease_conn\u001b[0m\u001b[0;34m=\u001b[0m\u001b[0mrelease_conn\u001b[0m\u001b[0;34m,\u001b[0m \u001b[0mbody_pos\u001b[0m\u001b[0;34m=\u001b[0m\u001b[0mbody_pos\u001b[0m\u001b[0;34m,\u001b[0m\u001b[0;34m\u001b[0m\u001b[0;34m\u001b[0m\u001b[0m\n\u001b[0;32m--> 667\u001b[0;31m                                 **response_kw)\n\u001b[0m\u001b[1;32m    668\u001b[0m \u001b[0;34m\u001b[0m\u001b[0m\n\u001b[1;32m    669\u001b[0m         \u001b[0;32mdef\u001b[0m \u001b[0mdrain_and_release_conn\u001b[0m\u001b[0;34m(\u001b[0m\u001b[0mresponse\u001b[0m\u001b[0;34m)\u001b[0m\u001b[0;34m:\u001b[0m\u001b[0;34m\u001b[0m\u001b[0;34m\u001b[0m\u001b[0m\n",
      "\u001b[0;32m~/anaconda/lib/python3.6/site-packages/urllib3/connectionpool.py\u001b[0m in \u001b[0;36murlopen\u001b[0;34m(self, method, url, body, headers, retries, redirect, assert_same_host, timeout, pool_timeout, release_conn, chunked, body_pos, **response_kw)\u001b[0m\n\u001b[1;32m    636\u001b[0m \u001b[0;34m\u001b[0m\u001b[0m\n\u001b[1;32m    637\u001b[0m             retries = retries.increment(method, url, error=e, _pool=self,\n\u001b[0;32m--> 638\u001b[0;31m                                         _stacktrace=sys.exc_info()[2])\n\u001b[0m\u001b[1;32m    639\u001b[0m             \u001b[0mretries\u001b[0m\u001b[0;34m.\u001b[0m\u001b[0msleep\u001b[0m\u001b[0;34m(\u001b[0m\u001b[0;34m)\u001b[0m\u001b[0;34m\u001b[0m\u001b[0;34m\u001b[0m\u001b[0m\n\u001b[1;32m    640\u001b[0m \u001b[0;34m\u001b[0m\u001b[0m\n",
      "\u001b[0;32m~/anaconda/lib/python3.6/site-packages/urllib3/util/retry.py\u001b[0m in \u001b[0;36mincrement\u001b[0;34m(self, method, url, response, error, _pool, _stacktrace)\u001b[0m\n\u001b[1;32m    396\u001b[0m \u001b[0;34m\u001b[0m\u001b[0m\n\u001b[1;32m    397\u001b[0m         \u001b[0;32mif\u001b[0m \u001b[0mnew_retry\u001b[0m\u001b[0;34m.\u001b[0m\u001b[0mis_exhausted\u001b[0m\u001b[0;34m(\u001b[0m\u001b[0;34m)\u001b[0m\u001b[0;34m:\u001b[0m\u001b[0;34m\u001b[0m\u001b[0;34m\u001b[0m\u001b[0m\n\u001b[0;32m--> 398\u001b[0;31m             \u001b[0;32mraise\u001b[0m \u001b[0mMaxRetryError\u001b[0m\u001b[0;34m(\u001b[0m\u001b[0m_pool\u001b[0m\u001b[0;34m,\u001b[0m \u001b[0murl\u001b[0m\u001b[0;34m,\u001b[0m \u001b[0merror\u001b[0m \u001b[0;32mor\u001b[0m \u001b[0mResponseError\u001b[0m\u001b[0;34m(\u001b[0m\u001b[0mcause\u001b[0m\u001b[0;34m)\u001b[0m\u001b[0;34m)\u001b[0m\u001b[0;34m\u001b[0m\u001b[0;34m\u001b[0m\u001b[0m\n\u001b[0m\u001b[1;32m    399\u001b[0m \u001b[0;34m\u001b[0m\u001b[0m\n\u001b[1;32m    400\u001b[0m         \u001b[0mlog\u001b[0m\u001b[0;34m.\u001b[0m\u001b[0mdebug\u001b[0m\u001b[0;34m(\u001b[0m\u001b[0;34m\"Incremented Retry for (url='%s'): %r\"\u001b[0m\u001b[0;34m,\u001b[0m \u001b[0murl\u001b[0m\u001b[0;34m,\u001b[0m \u001b[0mnew_retry\u001b[0m\u001b[0;34m)\u001b[0m\u001b[0;34m\u001b[0m\u001b[0;34m\u001b[0m\u001b[0m\n",
      "\u001b[0;31mMaxRetryError\u001b[0m: HTTPConnectionPool(host='127.0.0.1', port=52329): Max retries exceeded with url: /session/3aa8bcde8a5119fab217a55236dfaae5/element (Caused by NewConnectionError('<urllib3.connection.HTTPConnection object at 0x11a5dab00>: Failed to establish a new connection: [Errno 61] Connection refused',))"
     ]
    }
   ],
   "source": [
    "alttext_element = driver.find_element_by_xpath('//*[@id=\"comic\"]/img')\n",
    "alttext_element.get_attribute(\"title\")"
   ]
  },
  {
   "cell_type": "markdown",
   "metadata": {},
   "source": [
    "### Exercises\n",
    "\n",
    "Start your driver again and get the xkcd homepage.\n",
    "\n",
    "1. Change the XPath to click on the \"Prev\" button above the comic.\n",
    "2. Change the XPath to search for the \"comicNav\" class instead of the \"middleContainer\" id.\n",
    "3. Change the XPath to click on the \"About\" button in the upper-left."
   ]
  },
  {
   "cell_type": "markdown",
   "metadata": {},
   "source": [
    "## Screen-scraping a Twitter ego network with Selenium\n",
    "\n",
    "I am adapting a [tutorial by Shawn Wang](https://dev.to/swyx/scraping-my-twitter-social-graph-with-python-and-selenium--hn8) on scraping a Twitter graph with Python and Selenium."
   ]
  },
  {
   "cell_type": "code",
   "execution_count": 15,
   "metadata": {},
   "outputs": [],
   "source": [
    "# Path to the Chrome driver for my PC -- yours is likely very different\n",
    "# driver = selenium.webdriver.Chrome(executable_path='E:/Dropbox/Courses/2019 Spring - ITSS Web Data Scraping/chromedriver.exe')\n",
    "\n",
    "# Path to the Chrome driver for my Mac -- yours is likely very different\n",
    "driver = selenium.webdriver.Chrome(executable_path='/Users/briankeegan/Dropbox/Courses/2019 Spring - ITSS Web Data Scraping/chromedriver')\n",
    "\n",
    "driver.get('https://www.twitter.com')"
   ]
  },
  {
   "cell_type": "markdown",
   "metadata": {},
   "source": [
    "Manually log in to your Twitter account through the driver page.\n",
    "\n",
    "Then go to the \"followings\" (or followees, also called \"friends\" in the Twitter API) of an account. "
   ]
  },
  {
   "cell_type": "code",
   "execution_count": 17,
   "metadata": {},
   "outputs": [],
   "source": [
    "driver.get('https://twitter.com/realDonaldTrump/following')"
   ]
  },
  {
   "cell_type": "markdown",
   "metadata": {},
   "source": [
    "At the time of this Notebook's writing, the \"realDonaldTrump\" account followed 45 other accounts. Depending on the resolution of your display, size of the window, *etc*. there may only be 10–20 accounts visible. We can scroll to see the rest of these accounts programatically.\n",
    "\n",
    "Run this cell a few times to keep scrolling to the bottom."
   ]
  },
  {
   "cell_type": "code",
   "execution_count": 20,
   "metadata": {},
   "outputs": [],
   "source": [
    "driver.execute_script('window.scrollTo(0, document.body.scrollHeight);')"
   ]
  },
  {
   "cell_type": "markdown",
   "metadata": {},
   "source": [
    "Pass the HTML of the web page in the browser back to Python and turn it into soup."
   ]
  },
  {
   "cell_type": "code",
   "execution_count": 21,
   "metadata": {},
   "outputs": [],
   "source": [
    "raw = driver.page_source.encode('utf-8')\n",
    "\n",
    "soup = BeautifulSoup(raw)"
   ]
  },
  {
   "cell_type": "markdown",
   "metadata": {},
   "source": [
    "The information about each follower lives inside a `<div \"data-item-type\":\"user\">` element."
   ]
  },
  {
   "cell_type": "code",
   "execution_count": 22,
   "metadata": {},
   "outputs": [],
   "source": [
    "user_divs = soup.body.find_all('div', attrs={'data-item-type':'user'})"
   ]
  },
  {
   "cell_type": "markdown",
   "metadata": {},
   "source": [
    "Where does the Twitter account handle live in the HTTP document?"
   ]
  },
  {
   "cell_type": "code",
   "execution_count": 23,
   "metadata": {},
   "outputs": [
    {
     "data": {
      "text/plain": [
       "'VP'"
      ]
     },
     "execution_count": 23,
     "metadata": {},
     "output_type": "execute_result"
    }
   ],
   "source": [
    "user_divs[0].div['data-screen-name']"
   ]
  },
  {
   "cell_type": "markdown",
   "metadata": {},
   "source": [
    "Where does the name of the Twitter account live in the HTTP document?"
   ]
  },
  {
   "cell_type": "code",
   "execution_count": 24,
   "metadata": {},
   "outputs": [
    {
     "data": {
      "text/plain": [
       "'Vice President Mike Pence'"
      ]
     },
     "execution_count": 24,
     "metadata": {},
     "output_type": "execute_result"
    }
   ],
   "source": [
    "user_divs[0].find_all('a',{'class':'fullname'})[0].text.strip()"
   ]
  },
  {
   "cell_type": "markdown",
   "metadata": {},
   "source": [
    "Where does the bio live in the HTTP document?"
   ]
  },
  {
   "cell_type": "code",
   "execution_count": 25,
   "metadata": {},
   "outputs": [
    {
     "data": {
      "text/plain": [
       "'Vice President Mike Pence. Husband, father, & honored to serve as the 48th Vice President of the United States. Tweets may be archived: http://wh.gov/privacy\\xa0'"
      ]
     },
     "execution_count": 25,
     "metadata": {},
     "output_type": "execute_result"
    }
   ],
   "source": [
    "user_divs[0].p.text"
   ]
  },
  {
   "cell_type": "markdown",
   "metadata": {},
   "source": [
    "Put all the pieces together now: loop through each `user_div` and pull out the relevant information to store as a list of dictionaries."
   ]
  },
  {
   "cell_type": "code",
   "execution_count": 26,
   "metadata": {},
   "outputs": [
    {
     "data": {
      "text/html": [
       "<div>\n",
       "<style scoped>\n",
       "    .dataframe tbody tr th:only-of-type {\n",
       "        vertical-align: middle;\n",
       "    }\n",
       "\n",
       "    .dataframe tbody tr th {\n",
       "        vertical-align: top;\n",
       "    }\n",
       "\n",
       "    .dataframe thead th {\n",
       "        text-align: right;\n",
       "    }\n",
       "</style>\n",
       "<table border=\"1\" class=\"dataframe\">\n",
       "  <thead>\n",
       "    <tr style=\"text-align: right;\">\n",
       "      <th></th>\n",
       "      <th>Bio</th>\n",
       "      <th>Display Name</th>\n",
       "      <th>Screen Name</th>\n",
       "    </tr>\n",
       "  </thead>\n",
       "  <tbody>\n",
       "    <tr>\n",
       "      <th>0</th>\n",
       "      <td>Vice President Mike Pence. Husband, father, &amp; ...</td>\n",
       "      <td>Vice President Mike Pence</td>\n",
       "      <td>VP</td>\n",
       "    </tr>\n",
       "    <tr>\n",
       "      <th>1</th>\n",
       "      <td>@GOP Chairwoman | Wife, mother of two</td>\n",
       "      <td>Ronna McDaniel</td>\n",
       "      <td>GOPChairwoman</td>\n",
       "    </tr>\n",
       "    <tr>\n",
       "      <th>2</th>\n",
       "      <td>Campaign Manager for @realdonaldtrump 2020 Pre...</td>\n",
       "      <td>Brad Parscale</td>\n",
       "      <td>parscale</td>\n",
       "    </tr>\n",
       "    <tr>\n",
       "      <th>3</th>\n",
       "      <td>@WhiteHouse Press Secretary. Proudly represent...</td>\n",
       "      <td>Sarah Sanders</td>\n",
       "      <td>PressSec</td>\n",
       "    </tr>\n",
       "    <tr>\n",
       "      <th>4</th>\n",
       "      <td>Host of \"Tucker Carlson Tonight\", weeknights a...</td>\n",
       "      <td>Tucker Carlson</td>\n",
       "      <td>TuckerCarlson</td>\n",
       "    </tr>\n",
       "    <tr>\n",
       "      <th>5</th>\n",
       "      <td>Co-Host of @TheFive &amp; Host of @WattersWorld on...</td>\n",
       "      <td>Jesse Watters</td>\n",
       "      <td>JesseBWatters</td>\n",
       "    </tr>\n",
       "    <tr>\n",
       "      <th>6</th>\n",
       "      <td>Welcome to @WhiteHouse! Follow for the latest ...</td>\n",
       "      <td>The White House</td>\n",
       "      <td>WhiteHouse</td>\n",
       "    </tr>\n",
       "    <tr>\n",
       "      <th>7</th>\n",
       "      <td>Assistant to President @realDonaldTrump, Direc...</td>\n",
       "      <td>Dan Scavino Jr.</td>\n",
       "      <td>Scavino45</td>\n",
       "    </tr>\n",
       "    <tr>\n",
       "      <th>8</th>\n",
       "      <td>Mom. Patriot. Catholic. Counselor.</td>\n",
       "      <td>Kellyanne Conway</td>\n",
       "      <td>KellyannePolls</td>\n",
       "    </tr>\n",
       "    <tr>\n",
       "      <th>9</th>\n",
       "      <td>President @MichaelBestLaw; Exclusive Speaker @...</td>\n",
       "      <td>Reince Priebus</td>\n",
       "      <td>Reince</td>\n",
       "    </tr>\n",
       "    <tr>\n",
       "      <th>10</th>\n",
       "      <td>Founder of LightWorkers :Producer :The Bible, ...</td>\n",
       "      <td>Roma Downey</td>\n",
       "      <td>RealRomaDowney</td>\n",
       "    </tr>\n",
       "    <tr>\n",
       "      <th>11</th>\n",
       "      <td>Official Twitter page of The @Trump Organizati...</td>\n",
       "      <td>The Trump Organization</td>\n",
       "      <td>Trump</td>\n",
       "    </tr>\n",
       "    <tr>\n",
       "      <th>12</th>\n",
       "      <td>The official Twitter page of the most globally...</td>\n",
       "      <td>Trump Golf</td>\n",
       "      <td>TrumpGolf</td>\n",
       "    </tr>\n",
       "    <tr>\n",
       "      <th>13</th>\n",
       "      <td>Georgetown University Law Center, J.D. Candida...</td>\n",
       "      <td>Tiffany Ariana Trump</td>\n",
       "      <td>TiffanyATrump</td>\n",
       "    </tr>\n",
       "    <tr>\n",
       "      <th>14</th>\n",
       "      <td>Mom, author, The Ingraham Angle 10p ET Fox New...</td>\n",
       "      <td>Laura Ingraham</td>\n",
       "      <td>IngrahamAngle</td>\n",
       "    </tr>\n",
       "    <tr>\n",
       "      <th>15</th>\n",
       "      <td>Vice President of the United States</td>\n",
       "      <td>Mike Pence</td>\n",
       "      <td>mike_pence</td>\n",
       "    </tr>\n",
       "    <tr>\n",
       "      <th>16</th>\n",
       "      <td>Welcome To The Official #TeamTrump Account. To...</td>\n",
       "      <td>Official Team Trump</td>\n",
       "      <td>TeamTrump</td>\n",
       "    </tr>\n",
       "    <tr>\n",
       "      <th>17</th>\n",
       "      <td>The DRUDGE REPORT is a U.S. based news aggrega...</td>\n",
       "      <td>DRUDGE REPORT</td>\n",
       "      <td>DRUDGE_REPORT</td>\n",
       "    </tr>\n",
       "    <tr>\n",
       "      <th>18</th>\n",
       "      <td>I'm a Mother of 5 amazing kids. My children ar...</td>\n",
       "      <td>Vanessa Trump</td>\n",
       "      <td>MrsVanessaTrump</td>\n",
       "    </tr>\n",
       "    <tr>\n",
       "      <th>19</th>\n",
       "      <td>NC girl in NYC #MAGA</td>\n",
       "      <td>Lara Trump</td>\n",
       "      <td>LaraLeaTrump</td>\n",
       "    </tr>\n",
       "    <tr>\n",
       "      <th>20</th>\n",
       "      <td>TV Host Fox News Channel 9 PM EST. Nationally ...</td>\n",
       "      <td>Sean Hannity</td>\n",
       "      <td>seanhannity</td>\n",
       "    </tr>\n",
       "    <tr>\n",
       "      <th>21</th>\n",
       "      <td>TV Commentator, Campaign Manager Donald J. Tru...</td>\n",
       "      <td>Corey R. Lewandowski</td>\n",
       "      <td>CLewandowski_</td>\n",
       "    </tr>\n",
       "    <tr>\n",
       "      <th>22</th>\n",
       "      <td>President Donald J Trump's Most  Loyal Support...</td>\n",
       "      <td>Diamond and Silk®</td>\n",
       "      <td>DiamondandSilk</td>\n",
       "    </tr>\n",
       "    <tr>\n",
       "      <th>23</th>\n",
       "      <td>Real Estate Mogul/TV Personality over $1 Billi...</td>\n",
       "      <td>KATRINA CAMPINS</td>\n",
       "      <td>KatrinaCampins</td>\n",
       "    </tr>\n",
       "    <tr>\n",
       "      <th>24</th>\n",
       "      <td>Sr. Advisor @realdonaldtrump 2020 aka @POTUS 2...</td>\n",
       "      <td>Katrina Pierson</td>\n",
       "      <td>KatrinaPierson</td>\n",
       "    </tr>\n",
       "    <tr>\n",
       "      <th>25</th>\n",
       "      <td>America's #1 cable morning news show</td>\n",
       "      <td>FOX &amp; friends</td>\n",
       "      <td>foxandfriends</td>\n",
       "    </tr>\n",
       "    <tr>\n",
       "      <th>26</th>\n",
       "      <td>The official profile for Melania Trump</td>\n",
       "      <td>MELANIA TRUMP</td>\n",
       "      <td>MELANIATRUMP</td>\n",
       "    </tr>\n",
       "    <tr>\n",
       "      <th>27</th>\n",
       "      <td>loving husband and dad, loyal friend, fierce e...</td>\n",
       "      <td>Geraldo Rivera</td>\n",
       "      <td>GeraldoRivera</td>\n",
       "    </tr>\n",
       "    <tr>\n",
       "      <th>28</th>\n",
       "      <td>Host “AMericA”  http://BlazeTV.com  Author of ...</td>\n",
       "      <td>Eric Bolling 🇺🇸</td>\n",
       "      <td>ericbolling</td>\n",
       "    </tr>\n",
       "    <tr>\n",
       "      <th>29</th>\n",
       "      <td>Official Mark Burnett Twitter Page - Taking yo...</td>\n",
       "      <td>Mark Burnett</td>\n",
       "      <td>MarkBurnettTV</td>\n",
       "    </tr>\n",
       "    <tr>\n",
       "      <th>30</th>\n",
       "      <td>The Black Knight, Grand Slam Golfer, Philanthr...</td>\n",
       "      <td>Gary Player</td>\n",
       "      <td>garyplayer</td>\n",
       "    </tr>\n",
       "    <tr>\n",
       "      <th>31</th>\n",
       "      <td>Vince McMahon, Chairman &amp; CEO of WWE, Inc., is...</td>\n",
       "      <td>Vince McMahon</td>\n",
       "      <td>VinceMcMahon</td>\n",
       "    </tr>\n",
       "    <tr>\n",
       "      <th>32</th>\n",
       "      <td>Personal Twitter Account</td>\n",
       "      <td>Dan Scavino</td>\n",
       "      <td>DanScavino</td>\n",
       "    </tr>\n",
       "    <tr>\n",
       "      <th>33</th>\n",
       "      <td>Trump National Doral Miami, the country's most...</td>\n",
       "      <td>Trump National Doral</td>\n",
       "      <td>TrumpDoral</td>\n",
       "    </tr>\n",
       "    <tr>\n",
       "      <th>34</th>\n",
       "      <td>The Official Twitter page of Trump National Go...</td>\n",
       "      <td>Trump Charlotte</td>\n",
       "      <td>TrumpCharlotte</td>\n",
       "    </tr>\n",
       "    <tr>\n",
       "      <th>35</th>\n",
       "      <td>The next generation of luxury hotel in Las Vegas.</td>\n",
       "      <td>Trump Vegas Hotel</td>\n",
       "      <td>TrumpLasVegas</td>\n",
       "    </tr>\n",
       "    <tr>\n",
       "      <th>36</th>\n",
       "      <td>Your time away is precious. Never settle.</td>\n",
       "      <td>Trump Hotel Chicago</td>\n",
       "      <td>TrumpChicago</td>\n",
       "    </tr>\n",
       "    <tr>\n",
       "      <th>37</th>\n",
       "      <td>The official Twitter page of Trump National Go...</td>\n",
       "      <td>Trump Washington DC</td>\n",
       "      <td>TrumpGolfDC</td>\n",
       "    </tr>\n",
       "    <tr>\n",
       "      <th>38</th>\n",
       "      <td>The official Twitter page of Trump National Go...</td>\n",
       "      <td>Trump Los Angeles</td>\n",
       "      <td>TrumpGolfLA</td>\n",
       "    </tr>\n",
       "    <tr>\n",
       "      <th>39</th>\n",
       "      <td>Executive Vice President of The @Trump Organiz...</td>\n",
       "      <td>Eric Trump</td>\n",
       "      <td>EricTrump</td>\n",
       "    </tr>\n",
       "    <tr>\n",
       "      <th>40</th>\n",
       "      <td>Watch http://BillOReilly.com ’s @NoSpinNews. ‘...</td>\n",
       "      <td>Bill O'Reilly</td>\n",
       "      <td>BillOReilly</td>\n",
       "    </tr>\n",
       "    <tr>\n",
       "      <th>41</th>\n",
       "      <td>Author of book “Everything You Need to Know ab...</td>\n",
       "      <td>Greta Van Susteren</td>\n",
       "      <td>greta</td>\n",
       "    </tr>\n",
       "    <tr>\n",
       "      <th>42</th>\n",
       "      <td>'One day you're the cock of the walk, the next...</td>\n",
       "      <td>Piers Morgan</td>\n",
       "      <td>piersmorgan</td>\n",
       "    </tr>\n",
       "    <tr>\n",
       "      <th>43</th>\n",
       "      <td>EVP of Development &amp; Acquisitions The @Trump O...</td>\n",
       "      <td>Donald Trump Jr.</td>\n",
       "      <td>DonaldJTrumpJr</td>\n",
       "    </tr>\n",
       "    <tr>\n",
       "      <th>44</th>\n",
       "      <td>Wife, mother, sister, daughter. Advisor to POT...</td>\n",
       "      <td>Ivanka Trump</td>\n",
       "      <td>IvankaTrump</td>\n",
       "    </tr>\n",
       "  </tbody>\n",
       "</table>\n",
       "</div>"
      ],
      "text/plain": [
       "                                                  Bio  \\\n",
       "0   Vice President Mike Pence. Husband, father, & ...   \n",
       "1               @GOP Chairwoman | Wife, mother of two   \n",
       "2   Campaign Manager for @realdonaldtrump 2020 Pre...   \n",
       "3   @WhiteHouse Press Secretary. Proudly represent...   \n",
       "4   Host of \"Tucker Carlson Tonight\", weeknights a...   \n",
       "5   Co-Host of @TheFive & Host of @WattersWorld on...   \n",
       "6   Welcome to @WhiteHouse! Follow for the latest ...   \n",
       "7   Assistant to President @realDonaldTrump, Direc...   \n",
       "8                  Mom. Patriot. Catholic. Counselor.   \n",
       "9   President @MichaelBestLaw; Exclusive Speaker @...   \n",
       "10  Founder of LightWorkers :Producer :The Bible, ...   \n",
       "11  Official Twitter page of The @Trump Organizati...   \n",
       "12  The official Twitter page of the most globally...   \n",
       "13  Georgetown University Law Center, J.D. Candida...   \n",
       "14  Mom, author, The Ingraham Angle 10p ET Fox New...   \n",
       "15                Vice President of the United States   \n",
       "16  Welcome To The Official #TeamTrump Account. To...   \n",
       "17  The DRUDGE REPORT is a U.S. based news aggrega...   \n",
       "18  I'm a Mother of 5 amazing kids. My children ar...   \n",
       "19                               NC girl in NYC #MAGA   \n",
       "20  TV Host Fox News Channel 9 PM EST. Nationally ...   \n",
       "21  TV Commentator, Campaign Manager Donald J. Tru...   \n",
       "22  President Donald J Trump's Most  Loyal Support...   \n",
       "23  Real Estate Mogul/TV Personality over $1 Billi...   \n",
       "24  Sr. Advisor @realdonaldtrump 2020 aka @POTUS 2...   \n",
       "25               America's #1 cable morning news show   \n",
       "26             The official profile for Melania Trump   \n",
       "27  loving husband and dad, loyal friend, fierce e...   \n",
       "28  Host “AMericA”  http://BlazeTV.com  Author of ...   \n",
       "29  Official Mark Burnett Twitter Page - Taking yo...   \n",
       "30  The Black Knight, Grand Slam Golfer, Philanthr...   \n",
       "31  Vince McMahon, Chairman & CEO of WWE, Inc., is...   \n",
       "32                           Personal Twitter Account   \n",
       "33  Trump National Doral Miami, the country's most...   \n",
       "34  The Official Twitter page of Trump National Go...   \n",
       "35  The next generation of luxury hotel in Las Vegas.   \n",
       "36          Your time away is precious. Never settle.   \n",
       "37  The official Twitter page of Trump National Go...   \n",
       "38  The official Twitter page of Trump National Go...   \n",
       "39  Executive Vice President of The @Trump Organiz...   \n",
       "40  Watch http://BillOReilly.com ’s @NoSpinNews. ‘...   \n",
       "41  Author of book “Everything You Need to Know ab...   \n",
       "42  'One day you're the cock of the walk, the next...   \n",
       "43  EVP of Development & Acquisitions The @Trump O...   \n",
       "44  Wife, mother, sister, daughter. Advisor to POT...   \n",
       "\n",
       "                 Display Name      Screen Name  \n",
       "0   Vice President Mike Pence               VP  \n",
       "1              Ronna McDaniel    GOPChairwoman  \n",
       "2               Brad Parscale         parscale  \n",
       "3               Sarah Sanders         PressSec  \n",
       "4              Tucker Carlson    TuckerCarlson  \n",
       "5               Jesse Watters    JesseBWatters  \n",
       "6             The White House       WhiteHouse  \n",
       "7             Dan Scavino Jr.        Scavino45  \n",
       "8            Kellyanne Conway   KellyannePolls  \n",
       "9              Reince Priebus           Reince  \n",
       "10                Roma Downey   RealRomaDowney  \n",
       "11     The Trump Organization            Trump  \n",
       "12                 Trump Golf        TrumpGolf  \n",
       "13       Tiffany Ariana Trump    TiffanyATrump  \n",
       "14             Laura Ingraham    IngrahamAngle  \n",
       "15                 Mike Pence       mike_pence  \n",
       "16        Official Team Trump        TeamTrump  \n",
       "17              DRUDGE REPORT    DRUDGE_REPORT  \n",
       "18              Vanessa Trump  MrsVanessaTrump  \n",
       "19                 Lara Trump     LaraLeaTrump  \n",
       "20               Sean Hannity      seanhannity  \n",
       "21       Corey R. Lewandowski    CLewandowski_  \n",
       "22          Diamond and Silk®   DiamondandSilk  \n",
       "23            KATRINA CAMPINS   KatrinaCampins  \n",
       "24            Katrina Pierson   KatrinaPierson  \n",
       "25              FOX & friends    foxandfriends  \n",
       "26              MELANIA TRUMP     MELANIATRUMP  \n",
       "27             Geraldo Rivera    GeraldoRivera  \n",
       "28            Eric Bolling 🇺🇸      ericbolling  \n",
       "29               Mark Burnett    MarkBurnettTV  \n",
       "30                Gary Player       garyplayer  \n",
       "31              Vince McMahon     VinceMcMahon  \n",
       "32                Dan Scavino       DanScavino  \n",
       "33       Trump National Doral       TrumpDoral  \n",
       "34            Trump Charlotte   TrumpCharlotte  \n",
       "35          Trump Vegas Hotel    TrumpLasVegas  \n",
       "36        Trump Hotel Chicago     TrumpChicago  \n",
       "37        Trump Washington DC      TrumpGolfDC  \n",
       "38          Trump Los Angeles      TrumpGolfLA  \n",
       "39                 Eric Trump        EricTrump  \n",
       "40              Bill O'Reilly      BillOReilly  \n",
       "41         Greta Van Susteren            greta  \n",
       "42               Piers Morgan      piersmorgan  \n",
       "43           Donald Trump Jr.   DonaldJTrumpJr  \n",
       "44               Ivanka Trump      IvankaTrump  "
      ]
     },
     "execution_count": 26,
     "metadata": {},
     "output_type": "execute_result"
    }
   ],
   "source": [
    "# Create an empty list to store the followings data\n",
    "following_graph_alters = []\n",
    "\n",
    "# Loop through each user_div\n",
    "for ud in user_divs:\n",
    "    \n",
    "    # Create an empty alter dictionary to fill with the handle, name, bio for each user\n",
    "    alter = {}\n",
    "    \n",
    "    # Get the formal account handle\n",
    "    alter['Screen Name'] = ud.div['data-screen-name']\n",
    "    \n",
    "    # Get the displayed name\n",
    "    alter['Display Name'] = ud.find_all('a',{'class':'fullname'})[0].text.strip()\n",
    "    \n",
    "    # Get the biography\n",
    "    alter['Bio'] = ud.p.text\n",
    "    \n",
    "    # Add the alter to the list\n",
    "    following_graph_alters.append(alter)\n",
    "    \n",
    "# Turn the list into a DataFrame\n",
    "following_graph_df = pd.DataFrame(following_graph_alters)\n",
    "\n",
    "# Inspect the DataFrame\n",
    "following_graph_df"
   ]
  },
  {
   "cell_type": "markdown",
   "metadata": {},
   "source": [
    "## Screen-scraping a Twitter account's timeline of tweets"
   ]
  },
  {
   "cell_type": "code",
   "execution_count": 30,
   "metadata": {},
   "outputs": [],
   "source": [
    "driver.get('https://twitter.com/WhiteHouse')"
   ]
  },
  {
   "cell_type": "code",
   "execution_count": 28,
   "metadata": {},
   "outputs": [],
   "source": [
    "raw = driver.page_source.encode('utf-8')\n",
    "\n",
    "soup = BeautifulSoup(raw)"
   ]
  },
  {
   "cell_type": "code",
   "execution_count": 29,
   "metadata": {},
   "outputs": [
    {
     "data": {
      "text/plain": [
       "21"
      ]
     },
     "execution_count": 29,
     "metadata": {},
     "output_type": "execute_result"
    }
   ],
   "source": [
    "tweets = soup.find_all('div',{'class':'tweet'})\n",
    "len(tweets)"
   ]
  },
  {
   "cell_type": "markdown",
   "metadata": {},
   "source": [
    "Now scroll to the bottom of the page, get the source again, parse out the tweets, and count them. On the browser, window size, resolution, *etc*. I'm using, I got 20 more tweets with a single scroll."
   ]
  },
  {
   "cell_type": "code",
   "execution_count": 31,
   "metadata": {},
   "outputs": [],
   "source": [
    "driver.execute_script(\"window.scrollTo(0, document.body.scrollHeight);\")"
   ]
  },
  {
   "cell_type": "code",
   "execution_count": 32,
   "metadata": {},
   "outputs": [
    {
     "data": {
      "text/plain": [
       "40"
      ]
     },
     "execution_count": 32,
     "metadata": {},
     "output_type": "execute_result"
    }
   ],
   "source": [
    "raw = driver.page_source.encode('utf-8')\n",
    "soup = BeautifulSoup(raw)\n",
    "tweets = soup.find_all('div',{'class':'original-tweet'})\n",
    "len(tweets)"
   ]
  },
  {
   "cell_type": "code",
   "execution_count": 33,
   "metadata": {},
   "outputs": [
    {
     "data": {
      "text/plain": [
       "'WhiteHouse'"
      ]
     },
     "execution_count": 33,
     "metadata": {},
     "output_type": "execute_result"
    }
   ],
   "source": [
    "# Screen name\n",
    "tweets[0]['data-screen-name']"
   ]
  },
  {
   "cell_type": "code",
   "execution_count": 34,
   "metadata": {},
   "outputs": [
    {
     "data": {
      "text/plain": [
       "'The White House'"
      ]
     },
     "execution_count": 34,
     "metadata": {},
     "output_type": "execute_result"
    }
   ],
   "source": [
    "# Display Name\n",
    "tweets[0]['data-name']"
   ]
  },
  {
   "cell_type": "code",
   "execution_count": null,
   "metadata": {},
   "outputs": [],
   "source": [
    "# Tweet ID\n",
    "tweets[0]['data-tweet-id']"
   ]
  },
  {
   "cell_type": "code",
   "execution_count": 35,
   "metadata": {},
   "outputs": [
    {
     "data": {
      "text/plain": [
       "'1549299185'"
      ]
     },
     "execution_count": 35,
     "metadata": {},
     "output_type": "execute_result"
    }
   ],
   "source": [
    "# Timestamp\n",
    "tweets[0].find('a',{'class':'tweet-timestamp'}).span['data-time']"
   ]
  },
  {
   "cell_type": "markdown",
   "metadata": {},
   "source": [
    "This is a UNIX time code, also known as the \"UNIX epoch\", or the number of seconds since midnight on January 1, 1970. Because it is a common way to store data, `datetime` provides a way to convert it into a meaningful timestamp: `utcfromtimestamp`."
   ]
  },
  {
   "cell_type": "code",
   "execution_count": 36,
   "metadata": {},
   "outputs": [
    {
     "name": "stdout",
     "output_type": "stream",
     "text": [
      "2019-02-02 21:39:19\n"
     ]
    }
   ],
   "source": [
    "print(datetime.utcfromtimestamp(1549143559))"
   ]
  },
  {
   "cell_type": "code",
   "execution_count": 37,
   "metadata": {},
   "outputs": [
    {
     "data": {
      "text/plain": [
       "'Want to be among the first to know who the special guests will be at this year’s #SOTU? Sign up for 1600 Daily!http://45.wh.gov/gfqVNw'"
      ]
     },
     "execution_count": 37,
     "metadata": {},
     "output_type": "execute_result"
    }
   ],
   "source": [
    "# Text of the tweet\n",
    "tweets[0].find('div',{'class':'js-tweet-text-container'}).text.strip()"
   ]
  },
  {
   "cell_type": "code",
   "execution_count": 38,
   "metadata": {},
   "outputs": [
    {
     "data": {
      "text/plain": [
       "'915'"
      ]
     },
     "execution_count": 38,
     "metadata": {},
     "output_type": "execute_result"
    }
   ],
   "source": [
    "# Replies\n",
    "tweets[0].find_all('span',{'class':'ProfileTweet-actionCount'})[0]['data-tweet-stat-count']"
   ]
  },
  {
   "cell_type": "code",
   "execution_count": 39,
   "metadata": {},
   "outputs": [
    {
     "data": {
      "text/plain": [
       "'901'"
      ]
     },
     "execution_count": 39,
     "metadata": {},
     "output_type": "execute_result"
    }
   ],
   "source": [
    "# Retweets\n",
    "tweets[0].find_all('span',{'class':'ProfileTweet-actionCount'})[1]['data-tweet-stat-count']"
   ]
  },
  {
   "cell_type": "code",
   "execution_count": 40,
   "metadata": {},
   "outputs": [
    {
     "data": {
      "text/plain": [
       "'3028'"
      ]
     },
     "execution_count": 40,
     "metadata": {},
     "output_type": "execute_result"
    }
   ],
   "source": [
    "# Favorites\n",
    "tweets[0].find_all('span',{'class':'ProfileTweet-actionCount'})[2]['data-tweet-stat-count']"
   ]
  },
  {
   "cell_type": "markdown",
   "metadata": {},
   "source": [
    "Write a function that extracts all this information from each tweet."
   ]
  },
  {
   "cell_type": "code",
   "execution_count": 41,
   "metadata": {},
   "outputs": [],
   "source": [
    "def tweet_timeline_parser(tweet):\n",
    "    payload = {}\n",
    "    \n",
    "    payload['Screen name'] = tweet['data-screen-name']\n",
    "    payload[\"Display name\"] = tweet['data-name']\n",
    "    payload['TweetID'] = tweet['data-tweet-id']\n",
    "    payload['Timestamp'] = tweet.find('a',{'class':'tweet-timestamp'}).span['data-time']\n",
    "    payload['Text'] = tweet.find('div',{'class':'js-tweet-text-container'}).text.strip()\n",
    "    payload['Replies'] = int(tweet.find_all('span',{'class':'ProfileTweet-actionCount'})[0]['data-tweet-stat-count'])\n",
    "    payload['Retweets'] = int(tweet.find_all('span',{'class':'ProfileTweet-actionCount'})[1]['data-tweet-stat-count'])\n",
    "    payload['Favorites'] = int(tweet.find_all('span',{'class':'ProfileTweet-actionCount'})[2]['data-tweet-stat-count'])\n",
    "    \n",
    "    return payload"
   ]
  },
  {
   "cell_type": "markdown",
   "metadata": {},
   "source": [
    "Loop through all the tweets."
   ]
  },
  {
   "cell_type": "code",
   "execution_count": 42,
   "metadata": {},
   "outputs": [],
   "source": [
    "parsed_tweets = []\n",
    "\n",
    "for tweet in tweets:\n",
    "    parsed_tweet = tweet_timeline_parser(tweet)\n",
    "    parsed_tweets.append(parsed_tweet)"
   ]
  },
  {
   "cell_type": "markdown",
   "metadata": {},
   "source": [
    "Look at the first three tweets that we parsed from the HTML."
   ]
  },
  {
   "cell_type": "code",
   "execution_count": 43,
   "metadata": {},
   "outputs": [
    {
     "data": {
      "text/plain": [
       "[{'Screen name': 'WhiteHouse',\n",
       "  'Display name': 'The White House',\n",
       "  'TweetID': '1092466082550566917',\n",
       "  'Timestamp': '1549299185',\n",
       "  'Text': 'Want to be among the first to know who the special guests will be at this year’s #SOTU? Sign up for 1600 Daily!http://45.wh.gov/gfqVNw',\n",
       "  'Replies': 915,\n",
       "  'Retweets': 901,\n",
       "  'Favorites': 3028},\n",
       " {'Screen name': 'WhiteHouse',\n",
       "  'Display name': 'The White House',\n",
       "  'TweetID': '1092182001384329217',\n",
       "  'Timestamp': '1549231455',\n",
       "  'Text': 'A few weeks ago, President Trump participated in a naturalization ceremony for 5 of our newest American citizens!pic.twitter.com/7E8CjXtSsj',\n",
       "  'Replies': 918,\n",
       "  'Retweets': 3224,\n",
       "  'Favorites': 14766},\n",
       " {'Screen name': 'WhiteHouse',\n",
       "  'Display name': 'The White House',\n",
       "  'TweetID': '1092142683261493249',\n",
       "  'Timestamp': '1549222081',\n",
       "  'Text': '“Business owners and executives plan to benefit from the 2017 tax cut for a second year and nearly 8-in-10 plan to add more jobs.\" \\n\\nGreat news! http://45.wh.gov/sKMHbA\\xa0pic.twitter.com/q0SWXNg4js',\n",
       "  'Replies': 491,\n",
       "  'Retweets': 738,\n",
       "  'Favorites': 2562}]"
      ]
     },
     "execution_count": 43,
     "metadata": {},
     "output_type": "execute_result"
    }
   ],
   "source": [
    "parsed_tweets[:3]"
   ]
  },
  {
   "cell_type": "markdown",
   "metadata": {},
   "source": [
    "There are this many tweets on the account."
   ]
  },
  {
   "cell_type": "code",
   "execution_count": 44,
   "metadata": {},
   "outputs": [
    {
     "data": {
      "text/plain": [
       "'6701'"
      ]
     },
     "execution_count": 44,
     "metadata": {},
     "output_type": "execute_result"
    }
   ],
   "source": [
    "tweet_count = soup.find('a',{'class':'ProfileNav-stat'}).find_all('span')[-1]['data-count']\n",
    "tweet_count"
   ]
  },
  {
   "cell_type": "markdown",
   "metadata": {},
   "source": [
    "Doing some rough math, 6696 divided by 20 tweets per scroll means we need to do 335 scrolls to get the whole timeline."
   ]
  },
  {
   "cell_type": "code",
   "execution_count": 45,
   "metadata": {},
   "outputs": [
    {
     "data": {
      "text/plain": [
       "335.05"
      ]
     },
     "execution_count": 45,
     "metadata": {},
     "output_type": "execute_result"
    }
   ],
   "source": [
    "int(tweet_count)/20"
   ]
  },
  {
   "cell_type": "markdown",
   "metadata": {},
   "source": [
    "Let's start with 10 scrolls and see whether things are still working."
   ]
  },
  {
   "cell_type": "code",
   "execution_count": 46,
   "metadata": {},
   "outputs": [],
   "source": [
    "for scroll in range(10):\n",
    "    driver.execute_script(\"window.scrollTo(0, document.body.scrollHeight);\")\n",
    "    time.sleep(1)"
   ]
  },
  {
   "cell_type": "markdown",
   "metadata": {},
   "source": [
    "Pull in the data and parse out the tweets."
   ]
  },
  {
   "cell_type": "code",
   "execution_count": 47,
   "metadata": {},
   "outputs": [],
   "source": [
    "# Get the data from the browser\n",
    "raw = driver.page_source.encode('utf-8')\n",
    "\n",
    "# Soup-ify\n",
    "soup = BeautifulSoup(raw)\n",
    "\n",
    "# Find all the tweets\n",
    "tweets = soup.find_all('div',{'class':'original-tweet'})\n",
    "\n",
    "# Create the container\n",
    "parsed_tweets = []\n",
    "\n",
    "# Try to parse the tweets\n",
    "for tweet in tweets:\n",
    "    parsed_tweet = tweet_timeline_parser(tweet)\n",
    "    parsed_tweets.append(parsed_tweet)"
   ]
  },
  {
   "cell_type": "markdown",
   "metadata": {},
   "source": [
    "How many tweets were parsed out after 10 scrolls?"
   ]
  },
  {
   "cell_type": "code",
   "execution_count": 48,
   "metadata": {},
   "outputs": [
    {
     "data": {
      "text/plain": [
       "240"
      ]
     },
     "execution_count": 48,
     "metadata": {},
     "output_type": "execute_result"
    }
   ],
   "source": [
    "len(parsed_tweets)"
   ]
  },
  {
   "cell_type": "markdown",
   "metadata": {},
   "source": [
    "We could try to scroll until we can't, logging how many scrolls we went."
   ]
  },
  {
   "cell_type": "code",
   "execution_count": 49,
   "metadata": {},
   "outputs": [
    {
     "name": "stdout",
     "output_type": "stream",
     "text": [
      "This is scroll: 10\n",
      "This is scroll: 20\n",
      "This is scroll: 30\n",
      "This is scroll: 40\n"
     ]
    }
   ],
   "source": [
    "# Go to the webpage\n",
    "driver.get('https://twitter.com/WhiteHouse')\n",
    "\n",
    "# Initialize the scroll counter and current page height\n",
    "scroll_counter = 0\n",
    "last_height = driver.execute_script('return document.body.scrollHeight')\n",
    "\n",
    "# Start a loop\n",
    "while True:\n",
    "    \n",
    "    # Print out our progress every 10th scroll\n",
    "    if scroll_counter > 0 and scroll_counter % 10 == 0:\n",
    "        print(\"This is scroll: {0}\".format(scroll_counter))\n",
    "    \n",
    "    # Sleep for 2 seconds in between scrolls\n",
    "    time.sleep(2)\n",
    "    \n",
    "    # Get the current height of the page\n",
    "    current_height = driver.execute_script('return document.body.scrollHeight')\n",
    "    \n",
    "    # If the current page height is the same as the previous page height, we can't scroll anymore\n",
    "    if current_height == last_height:\n",
    "        break\n",
    "    \n",
    "    # Scroll to the bottom again\n",
    "    driver.execute_script(\"window.scrollTo(0, document.body.scrollHeight);\")\n",
    "    \n",
    "    # Increment our scroll counter\n",
    "    scroll_counter += 1\n",
    "    \n",
    "    # Update the height of the page\n",
    "    last_height = current_height"
   ]
  },
  {
   "cell_type": "markdown",
   "metadata": {},
   "source": [
    "We can still parse the data."
   ]
  },
  {
   "cell_type": "code",
   "execution_count": 50,
   "metadata": {},
   "outputs": [
    {
     "name": "stdout",
     "output_type": "stream",
     "text": [
      "836\n"
     ]
    }
   ],
   "source": [
    "# Get the data from the browser\n",
    "raw = driver.page_source.encode('utf-8')\n",
    "\n",
    "# Soup-ify\n",
    "soup = BeautifulSoup(raw)\n",
    "\n",
    "# Find all the tweets\n",
    "tweets = soup.find_all('div',{'class':'original-tweet'})\n",
    "\n",
    "# Create the container\n",
    "parsed_tweets = []\n",
    "\n",
    "# Try to parse the tweets\n",
    "for tweet in tweets:\n",
    "    parsed_tweet = tweet_timeline_parser(tweet)\n",
    "    parsed_tweets.append(parsed_tweet)\n",
    "    \n",
    "print(len(parsed_tweets))"
   ]
  },
  {
   "cell_type": "code",
   "execution_count": 52,
   "metadata": {},
   "outputs": [
    {
     "data": {
      "text/plain": [
       "11442195"
      ]
     },
     "execution_count": 52,
     "metadata": {},
     "output_type": "execute_result"
    }
   ],
   "source": [
    "len(raw)"
   ]
  },
  {
   "cell_type": "markdown",
   "metadata": {},
   "source": [
    "We can turn our `parsed_tweets` into a DataFrame for saving to CSV or doing visualization, *etc*."
   ]
  },
  {
   "cell_type": "code",
   "execution_count": 53,
   "metadata": {},
   "outputs": [
    {
     "data": {
      "text/html": [
       "<div>\n",
       "<style scoped>\n",
       "    .dataframe tbody tr th:only-of-type {\n",
       "        vertical-align: middle;\n",
       "    }\n",
       "\n",
       "    .dataframe tbody tr th {\n",
       "        vertical-align: top;\n",
       "    }\n",
       "\n",
       "    .dataframe thead th {\n",
       "        text-align: right;\n",
       "    }\n",
       "</style>\n",
       "<table border=\"1\" class=\"dataframe\">\n",
       "  <thead>\n",
       "    <tr style=\"text-align: right;\">\n",
       "      <th></th>\n",
       "      <th>Display name</th>\n",
       "      <th>Favorites</th>\n",
       "      <th>Replies</th>\n",
       "      <th>Retweets</th>\n",
       "      <th>Screen name</th>\n",
       "      <th>Text</th>\n",
       "      <th>Timestamp</th>\n",
       "      <th>TweetID</th>\n",
       "    </tr>\n",
       "  </thead>\n",
       "  <tbody>\n",
       "    <tr>\n",
       "      <th>0</th>\n",
       "      <td>The White House</td>\n",
       "      <td>3069</td>\n",
       "      <td>927</td>\n",
       "      <td>911</td>\n",
       "      <td>WhiteHouse</td>\n",
       "      <td>Want to be among the first to know who the spe...</td>\n",
       "      <td>1549299185</td>\n",
       "      <td>1092466082550566917</td>\n",
       "    </tr>\n",
       "    <tr>\n",
       "      <th>1</th>\n",
       "      <td>The White House</td>\n",
       "      <td>14777</td>\n",
       "      <td>920</td>\n",
       "      <td>3226</td>\n",
       "      <td>WhiteHouse</td>\n",
       "      <td>A few weeks ago, President Trump participated ...</td>\n",
       "      <td>1549231455</td>\n",
       "      <td>1092182001384329217</td>\n",
       "    </tr>\n",
       "    <tr>\n",
       "      <th>2</th>\n",
       "      <td>The White House</td>\n",
       "      <td>2563</td>\n",
       "      <td>491</td>\n",
       "      <td>738</td>\n",
       "      <td>WhiteHouse</td>\n",
       "      <td>“Business owners and executives plan to benefi...</td>\n",
       "      <td>1549222081</td>\n",
       "      <td>1092142683261493249</td>\n",
       "    </tr>\n",
       "    <tr>\n",
       "      <th>3</th>\n",
       "      <td>The White House</td>\n",
       "      <td>3071</td>\n",
       "      <td>410</td>\n",
       "      <td>831</td>\n",
       "      <td>WhiteHouse</td>\n",
       "      <td>“Banks and smaller companies propelled stocks ...</td>\n",
       "      <td>1549216381</td>\n",
       "      <td>1092118777695748096</td>\n",
       "    </tr>\n",
       "    <tr>\n",
       "      <th>4</th>\n",
       "      <td>The White House</td>\n",
       "      <td>5311</td>\n",
       "      <td>776</td>\n",
       "      <td>1597</td>\n",
       "      <td>WhiteHouse</td>\n",
       "      <td>304,000 new jobs last month. Worker wage gains...</td>\n",
       "      <td>1549208701</td>\n",
       "      <td>1092086565373919232</td>\n",
       "    </tr>\n",
       "  </tbody>\n",
       "</table>\n",
       "</div>"
      ],
      "text/plain": [
       "      Display name  Favorites  Replies  Retweets Screen name  \\\n",
       "0  The White House       3069      927       911  WhiteHouse   \n",
       "1  The White House      14777      920      3226  WhiteHouse   \n",
       "2  The White House       2563      491       738  WhiteHouse   \n",
       "3  The White House       3071      410       831  WhiteHouse   \n",
       "4  The White House       5311      776      1597  WhiteHouse   \n",
       "\n",
       "                                                Text   Timestamp  \\\n",
       "0  Want to be among the first to know who the spe...  1549299185   \n",
       "1  A few weeks ago, President Trump participated ...  1549231455   \n",
       "2  “Business owners and executives plan to benefi...  1549222081   \n",
       "3  “Banks and smaller companies propelled stocks ...  1549216381   \n",
       "4  304,000 new jobs last month. Worker wage gains...  1549208701   \n",
       "\n",
       "               TweetID  \n",
       "0  1092466082550566917  \n",
       "1  1092182001384329217  \n",
       "2  1092142683261493249  \n",
       "3  1092118777695748096  \n",
       "4  1092086565373919232  "
      ]
     },
     "execution_count": 53,
     "metadata": {},
     "output_type": "execute_result"
    }
   ],
   "source": [
    "pd.DataFrame(parsed_tweets).head()"
   ]
  },
  {
   "cell_type": "markdown",
   "metadata": {},
   "source": [
    "## Ethics of web scraping\n",
    "\n",
    "Scrolling through a timeline and parsing the tweets Twitter serves up—until it doesn't—has many good faith assumptions as a model of data scraping that runs afoul of the language in Twitter's Terms of Service: if I am willing to interface like a human user, then when Twitter limits a human user we also stop collecting data.\n",
    "\n",
    "But we really want all 6,700 of those White House tweets, not just the most recent 831. We are going to use Twitter's search functionality against itself to accomplish this. \n",
    "\n",
    "This *significantly* escalates the burden of proof on the researcher to demonstrate that this violation of Twitter's Terms of Service is ethical. In this specific case, I will argue that violating Twitter's Terms of Service can be justified by the greater importance of being able to build an archive of public statements by government officials that are not otherwise available. However, using this approach to scrape private users' timeline would raise significant ethical concerns about violating a platform's Terms of Service and users' reasonable expectations about privacy and the availability of their data.\n",
    "\n",
    "### Screen scraping\n",
    "\n",
    "We can use Twitter's search functionality to find all the tweet from an account since or until a date and scroll to get all the data. In practice, you can only get up to approximately 9,999 tweets with this approach. \n",
    "\n",
    "First, we'll make a `query_params` dictionary with the name of the account, a start date, and a stop date. Here's we will only do the WhiteHouse tweets from the first year of the Trump administration."
   ]
  },
  {
   "cell_type": "code",
   "execution_count": 54,
   "metadata": {},
   "outputs": [
    {
     "name": "stdout",
     "output_type": "stream",
     "text": [
      "https://twitter.com/search?f=tweets&q=from%3AWhiteHouse%20since%3A2017-01-20%20until%3A2018-01-20&src=typd\n"
     ]
    }
   ],
   "source": [
    "# Make the query params\n",
    "query_params = {}\n",
    "query_params['from'] = 'WhiteHouse'\n",
    "query_params['since'] = '2017-01-20'\n",
    "query_params['until'] = '2018-01-20'\n",
    "\n",
    "# Pass the params into a string and quote to format it properly\n",
    "query_params_quoted = quote(\"from:{from} since:{since} until:{until}\".format(**query_params))\n",
    "\n",
    "# Add the quoted query params into the URL\n",
    "query_url = \"https://twitter.com/search?f=tweets&q={0}&src=typd\".format(query_params_quoted)\n",
    "\n",
    "print(query_url)"
   ]
  },
  {
   "cell_type": "markdown",
   "metadata": {},
   "source": [
    "Then we load the page and scroll to the bottom, preserving the logging functionality to keep track of how far along we are and when problems occur."
   ]
  },
  {
   "cell_type": "code",
   "execution_count": 56,
   "metadata": {},
   "outputs": [
    {
     "name": "stdout",
     "output_type": "stream",
     "text": [
      "This is scroll: 10\n",
      "This is scroll: 20\n",
      "This is scroll: 30\n",
      "This is scroll: 40\n",
      "This is scroll: 50\n",
      "This is scroll: 60\n",
      "This is scroll: 70\n",
      "This is scroll: 80\n",
      "It took 83 scrolls to reach the end.\n"
     ]
    }
   ],
   "source": [
    "# Load the web page from the URL\n",
    "driver.get(query_url)\n",
    "\n",
    "# Repeat the scrolling until the end\n",
    "scroll_counter = 0\n",
    "last_height = driver.execute_script('return document.body.scrollHeight')\n",
    "\n",
    "while True:\n",
    "    if scroll_counter > 0 and scroll_counter % 10 == 0:\n",
    "        print(\"This is scroll: {0}\".format(scroll_counter))\n",
    "    \n",
    "    time.sleep(2)\n",
    "    \n",
    "    current_height = driver.execute_script('return document.body.scrollHeight')\n",
    "    \n",
    "    if current_height == last_height:\n",
    "        break\n",
    "    \n",
    "    driver.execute_script(\"window.scrollTo(0, document.body.scrollHeight);\")\n",
    "    \n",
    "    scroll_counter += 1\n",
    "    last_height = current_height\n",
    "    \n",
    "print(\"It took {:,} scrolls to reach the end.\".format(scroll_counter))"
   ]
  },
  {
   "cell_type": "markdown",
   "metadata": {},
   "source": [
    "Once we've finished scrolling to load all the data, we can parse it. This may take a while; the `raw` HTML code after all that scrolling is close to 20 million characters long."
   ]
  },
  {
   "cell_type": "code",
   "execution_count": 57,
   "metadata": {},
   "outputs": [
    {
     "name": "stdout",
     "output_type": "stream",
     "text": [
      "There are 19,781,492 characters in the raw HTML.\n",
      "There are 1,654 parsed tweets.\n"
     ]
    }
   ],
   "source": [
    "# Get the source after scrolling and soup-ify\n",
    "raw = driver.page_source.encode('utf-8')\n",
    "print(\"There are {0:,} characters in the raw HTML.\".format(len(raw)))\n",
    "\n",
    "soup = BeautifulSoup(raw)\n",
    "\n",
    "# Find all the tweets\n",
    "tweets = soup.find_all('div',{'class':'original-tweet'})\n",
    "\n",
    "# Create the container\n",
    "parsed_tweets = []\n",
    "\n",
    "# Try to parse the tweets\n",
    "for tweet in tweets:\n",
    "    parsed_tweet = tweet_timeline_parser(tweet)\n",
    "    parsed_tweets.append(parsed_tweet)\n",
    "    \n",
    "print(\"There are {0:,} parsed tweets.\".format(len(parsed_tweets)))"
   ]
  },
  {
   "cell_type": "markdown",
   "metadata": {},
   "source": [
    "Turn the tweets into a DataFrame for analysis."
   ]
  },
  {
   "cell_type": "code",
   "execution_count": 58,
   "metadata": {},
   "outputs": [
    {
     "data": {
      "text/html": [
       "<div>\n",
       "<style scoped>\n",
       "    .dataframe tbody tr th:only-of-type {\n",
       "        vertical-align: middle;\n",
       "    }\n",
       "\n",
       "    .dataframe tbody tr th {\n",
       "        vertical-align: top;\n",
       "    }\n",
       "\n",
       "    .dataframe thead th {\n",
       "        text-align: right;\n",
       "    }\n",
       "</style>\n",
       "<table border=\"1\" class=\"dataframe\">\n",
       "  <thead>\n",
       "    <tr style=\"text-align: right;\">\n",
       "      <th></th>\n",
       "      <th>Display name</th>\n",
       "      <th>Favorites</th>\n",
       "      <th>Replies</th>\n",
       "      <th>Retweets</th>\n",
       "      <th>Screen name</th>\n",
       "      <th>Text</th>\n",
       "      <th>Timestamp</th>\n",
       "      <th>TweetID</th>\n",
       "    </tr>\n",
       "  </thead>\n",
       "  <tbody>\n",
       "    <tr>\n",
       "      <th>0</th>\n",
       "      <td>The White House</td>\n",
       "      <td>2799</td>\n",
       "      <td>202</td>\n",
       "      <td>737</td>\n",
       "      <td>WhiteHouse</td>\n",
       "      <td>In 1973, Nellie Gray left her job as an attorn...</td>\n",
       "      <td>2018-01-19 23:46:02</td>\n",
       "      <td>954500228195012608</td>\n",
       "    </tr>\n",
       "    <tr>\n",
       "      <th>1</th>\n",
       "      <td>The White House</td>\n",
       "      <td>1292</td>\n",
       "      <td>97</td>\n",
       "      <td>388</td>\n",
       "      <td>WhiteHouse</td>\n",
       "      <td>Statement by the President on FISA Amendments ...</td>\n",
       "      <td>2018-01-19 22:41:01</td>\n",
       "      <td>954483863237128192</td>\n",
       "    </tr>\n",
       "    <tr>\n",
       "      <th>2</th>\n",
       "      <td>The White House</td>\n",
       "      <td>2185</td>\n",
       "      <td>419</td>\n",
       "      <td>518</td>\n",
       "      <td>WhiteHouse</td>\n",
       "      <td>Earlier today in the Rose Garden, President Tr...</td>\n",
       "      <td>2018-01-19 21:47:03</td>\n",
       "      <td>954470284697927681</td>\n",
       "    </tr>\n",
       "    <tr>\n",
       "      <th>3</th>\n",
       "      <td>The White House</td>\n",
       "      <td>3093</td>\n",
       "      <td>800</td>\n",
       "      <td>755</td>\n",
       "      <td>WhiteHouse</td>\n",
       "      <td>President Trump is standing up for the sanctit...</td>\n",
       "      <td>2018-01-19 19:27:04</td>\n",
       "      <td>954435055732056064</td>\n",
       "    </tr>\n",
       "    <tr>\n",
       "      <th>4</th>\n",
       "      <td>The White House</td>\n",
       "      <td>4632</td>\n",
       "      <td>639</td>\n",
       "      <td>1395</td>\n",
       "      <td>WhiteHouse</td>\n",
       "      <td>President Trump Proclaims January 22, 2018, as...</td>\n",
       "      <td>2018-01-19 19:10:06</td>\n",
       "      <td>954430785469206529</td>\n",
       "    </tr>\n",
       "  </tbody>\n",
       "</table>\n",
       "</div>"
      ],
      "text/plain": [
       "      Display name  Favorites  Replies  Retweets Screen name  \\\n",
       "0  The White House       2799      202       737  WhiteHouse   \n",
       "1  The White House       1292       97       388  WhiteHouse   \n",
       "2  The White House       2185      419       518  WhiteHouse   \n",
       "3  The White House       3093      800       755  WhiteHouse   \n",
       "4  The White House       4632      639      1395  WhiteHouse   \n",
       "\n",
       "                                                Text           Timestamp  \\\n",
       "0  In 1973, Nellie Gray left her job as an attorn... 2018-01-19 23:46:02   \n",
       "1  Statement by the President on FISA Amendments ... 2018-01-19 22:41:01   \n",
       "2  Earlier today in the Rose Garden, President Tr... 2018-01-19 21:47:03   \n",
       "3  President Trump is standing up for the sanctit... 2018-01-19 19:27:04   \n",
       "4  President Trump Proclaims January 22, 2018, as... 2018-01-19 19:10:06   \n",
       "\n",
       "              TweetID  \n",
       "0  954500228195012608  \n",
       "1  954483863237128192  \n",
       "2  954470284697927681  \n",
       "3  954435055732056064  \n",
       "4  954430785469206529  "
      ]
     },
     "execution_count": 58,
     "metadata": {},
     "output_type": "execute_result"
    }
   ],
   "source": [
    "historical_tweets_df = pd.DataFrame(parsed_tweets)\n",
    "\n",
    "# Replace the UTC timestamp with a more usable timestamp\n",
    "historical_tweets_df['Timestamp'] = historical_tweets_df['Timestamp'].apply(lambda x:datetime.utcfromtimestamp(int(x)))\n",
    "\n",
    "# Inspect\n",
    "historical_tweets_df.head()\n"
   ]
  },
  {
   "cell_type": "markdown",
   "metadata": {},
   "source": [
    "Make a basic scatterplot of the relationship between replies and retweets. By ocular inspection, there is a pretty strong correlation between the number of retweets and replies."
   ]
  },
  {
   "cell_type": "code",
   "execution_count": 60,
   "metadata": {},
   "outputs": [
    {
     "data": {
      "image/png": "[encoded data removed]",
      "text/plain": [
       "<Figure size 432x288 with 1 Axes>"
      ]
     },
     "metadata": {
      "needs_background": "light"
     },
     "output_type": "display_data"
    }
   ],
   "source": [
    "ax = historical_tweets_df.plot(x='Replies',y='Retweets',kind='scatter',logx=True,logy=True,s=5)\n",
    "ax.set_xlim((1e1,1e5))\n",
    "ax.set_ylim((1e1,1e5));"
   ]
  },
  {
   "cell_type": "markdown",
   "metadata": {},
   "source": [
    "### Spoofing headers\n",
    "\n",
    "When we use `requests` to get data from other web servers, each of the get requests carries some meta-data about ourselves, called [headers](https://www.w3.org/Protocols/rfc2616/rfc2616-sec14.html). These headers tell the server what kind of web browser we are, what kinds of data we can receive, *etc*. so that the server can reply with properly-formatted information. \n",
    "\n",
    "But it is also possible for the server to understand a request and refuse to fulfill it, known as a [HTTP 403 error](https://en.wikipedia.org/wiki/HTTP_403). A server's refusal to fulfill a client's request can often be traced back to the identity a client presents through its headers or a client lacking authorization to access the data (*i.e.*, you need to authenticate with the website first). In the case of `requests`, its `get` request includes default header information that identifies it as a Python script rather than a human-driven web browser.\n",
    "\n",
    "Let's make a request for an article from the NYTimes."
   ]
  },
  {
   "cell_type": "code",
   "execution_count": 61,
   "metadata": {},
   "outputs": [],
   "source": [
    "honest_response = requests.get('https://www.nytimes.com/2019/02/03/us/politics/trump-interview-mueller.html')"
   ]
  },
  {
   "cell_type": "markdown",
   "metadata": {},
   "source": [
    "We can see the headers we sent with this request."
   ]
  },
  {
   "cell_type": "code",
   "execution_count": 62,
   "metadata": {},
   "outputs": [
    {
     "data": {
      "text/plain": [
       "{'User-Agent': 'python-requests/2.21.0', 'Accept-Encoding': 'gzip, deflate', 'Accept': '*/*', 'Connection': 'keep-alive'}"
      ]
     },
     "execution_count": 62,
     "metadata": {},
     "output_type": "execute_result"
    }
   ],
   "source": [
    "honest_response.request.headers"
   ]
  },
  {
   "cell_type": "markdown",
   "metadata": {},
   "source": [
    "Specifically, the 'User-Agent' string identifies this request as originating from the \"python-requests/2.21.0\" program, rather than a typical web browser. Some web servers will be configured to inspect the headers of incoming requests and refuse requests unless they are actual web browsers.\n",
    "\n",
    "We can often circumvent these filters by sending alternative headers that claim to be from a web browser as a part of our `requests.get()`."
   ]
  },
  {
   "cell_type": "code",
   "execution_count": 63,
   "metadata": {},
   "outputs": [],
   "source": [
    "# Make a dictionary with spoofed headers for the User-Agent\n",
    "spoofed_headers = {'User-Agent':\"Mozilla/5.0 (Macintosh; Intel Mac OS X 10_9_5) AppleWebKit/537.36 (KHTML, like Gecko) Chrome/44.0.2403.157 Safari/537.36\"}\n",
    "\n",
    "# Make the request with the \n",
    "nytimes_url = 'https://www.nytimes.com/2019/02/03/us/politics/trump-interview-mueller.html'\n",
    "spoofed_response = requests.get(nytimes_url,headers=spoofed_headers)"
   ]
  },
  {
   "cell_type": "markdown",
   "metadata": {},
   "source": [
    "Sure enough, the get request we sent to the NYTimes web server now includes the spoofed \"User-Agent\" string we wrote that claims our request is from a web browser. The server should now return the data we requested, even though we are not who we claimed to be."
   ]
  },
  {
   "cell_type": "code",
   "execution_count": 64,
   "metadata": {},
   "outputs": [
    {
     "data": {
      "text/plain": [
       "{'User-Agent': 'Mozilla/5.0 (Macintosh; Intel Mac OS X 10_9_5) AppleWebKit/537.36 (KHTML, like Gecko) Chrome/44.0.2403.157 Safari/537.36', 'Accept-Encoding': 'gzip, deflate', 'Accept': '*/*', 'Connection': 'keep-alive'}"
      ]
     },
     "execution_count": 64,
     "metadata": {},
     "output_type": "execute_result"
    }
   ],
   "source": [
    "spoofed_response.request.headers"
   ]
  },
  {
   "cell_type": "markdown",
   "metadata": {},
   "source": [
    "I had trouble finding a website that refused \"python-requests\" connections automatically (*e.g.*, Amazon, NYTimes, etc.), but you will likely find some along the way. \n",
    "\n",
    "Spoofing headers to conceal the identity of your client to a web server is another example of how technological capabilities can overtake ethical responsibilities. The owners of a web server may have good reasons for refusing to serve content to non-web browsers (copyright, privacy, business model, *etc*.). Misrepresenting your identity to extract this data should only be done if the risks to others are small, the benefits are in the public interest, there are no other alternatives for obtaining the data, *etc*. \n",
    "\n",
    "There can be *very* real consequences for spoofing headers. Because it is such a common and relatively trivial method for circumventing server security settings, making repeated spoofed requests could result in your IP address or an IP address range (worst case, the entire university) being blocked from making requests to the server."
   ]
  },
  {
   "cell_type": "markdown",
   "metadata": {},
   "source": [
    "### Parallelizing requests\n",
    "\n",
    "A third web scraping practice that warrants ethical scrutiny is parallelization. In the example of getting historical WhiteHouse tweets, we launched a single browser window and \"scrolled\" until we reached the end; a process that took on the order of a minute.\n",
    "\n",
    "However, we *could* launch multiple scripts that each creates a browser windows and collect different segments of the data in parallel for us to combine the results at the end. In an API context, we *could* create multiple applications and design our requests so that each works simultaneously to get all the data. \n",
    "\n",
    "Each request imposes some cost on the server to receive, process, and return the requested data: making these requests in parallel increases the convenience and efficiency for the data scraper, but also dramatically increases the strain on the server to fulfill other clients' requests. In fact, highly-parallelized and synchronized requests can look like [denial-of-service attacks](https://en.wikipedia.org/wiki/Denial-of-service_attack) and may get your requests far more scrutiny and blowback than patiently waiting for your data to arrive in series. The ethical justifications for employing highly-parallelized scraping approaches are thin: documenting a rapidly-unfolding event before the data disappears, for example."
   ]
  },
  {
   "cell_type": "code",
   "execution_count": 65,
   "metadata": {},
   "outputs": [],
   "source": [
    "driver.quit()"
   ]
  },
  {
   "cell_type": "code",
   "execution_count": null,
   "metadata": {},
   "outputs": [],
   "source": []
  }
 ],
 "metadata": {
  "kernelspec": {
   "display_name": "Python 3",
   "language": "python",
   "name": "python3"
  },
  "language_info": {
   "codemirror_mode": {
    "name": "ipython",
    "version": 3
   },
   "file_extension": ".py",
   "mimetype": "text/x-python",
   "name": "python",
   "nbconvert_exporter": "python",
   "pygments_lexer": "ipython3",
   "version": "3.6.8"
  }
 },
 "nbformat": 4,
 "nbformat_minor": 2
}
