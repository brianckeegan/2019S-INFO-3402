{
 "cells": [
  {
   "cell_type": "markdown",
   "metadata": {},
   "source": [
    "# INFO 3402 – Class 37: Time series analysis exercise\n",
    "\n",
    "[Brian C. Keegan, Ph.D.](http://brianckeegan.com/)  \n",
    "[Assistant Professor, Department of Information Science](https://www.colorado.edu/cmci/people/information-science/brian-c-keegan)  \n",
    "University of Colorado Boulder  \n",
    "\n",
    "Credit also goes to Jake VanderPlas's *[Python Data Science Handbook](https://jakevdp.github.io/PythonDataScienceHandbook/05.06-linear-regression.html)* and Justin Markham's [DAT4](https://github.com/justmarkham/DAT4/blob/master/notebooks/08_linear_regression.ipynb) notebooks."
   ]
  },
  {
   "cell_type": "code",
   "execution_count": 1,
   "metadata": {},
   "outputs": [],
   "source": [
    "%matplotlib inline\n",
    "import matplotlib.pyplot as plt\n",
    "import seaborn as sb\n",
    "\n",
    "import numpy as np\n",
    "import pandas as pd\n",
    "\n",
    "pd.options.display.max_columns = 200\n",
    "\n",
    "import statsmodels.formula.api as smf\n",
    "import statsmodels.api as sm"
   ]
  },
  {
   "cell_type": "markdown",
   "metadata": {},
   "source": [
    "Explore the temporal features of the Global Temperature data from the [Berkeley Earth Surface Temperature](https://www.kaggle.com/berkeleyearth/climate-change-earth-surface-temperature-data#GlobalTemperatures.csv) data.\n",
    "\n",
    "Start by reading in the data."
   ]
  },
  {
   "cell_type": "code",
   "execution_count": 2,
   "metadata": {},
   "outputs": [
    {
     "data": {
      "text/html": [
       "<div>\n",
       "<style scoped>\n",
       "    .dataframe tbody tr th:only-of-type {\n",
       "        vertical-align: middle;\n",
       "    }\n",
       "\n",
       "    .dataframe tbody tr th {\n",
       "        vertical-align: top;\n",
       "    }\n",
       "\n",
       "    .dataframe thead th {\n",
       "        text-align: right;\n",
       "    }\n",
       "</style>\n",
       "<table border=\"1\" class=\"dataframe\">\n",
       "  <thead>\n",
       "    <tr style=\"text-align: right;\">\n",
       "      <th></th>\n",
       "      <th>date</th>\n",
       "      <th>avg_temp</th>\n",
       "      <th>avg_temp_error</th>\n",
       "      <th>max_temp</th>\n",
       "      <th>max_temp_error</th>\n",
       "      <th>min_temp</th>\n",
       "      <th>min_temp_error</th>\n",
       "      <th>avg_all_temp</th>\n",
       "      <th>avg_all_temp_error</th>\n",
       "    </tr>\n",
       "  </thead>\n",
       "  <tbody>\n",
       "    <tr>\n",
       "      <th>0</th>\n",
       "      <td>1750-01-01</td>\n",
       "      <td>3.034</td>\n",
       "      <td>3.574</td>\n",
       "      <td>NaN</td>\n",
       "      <td>NaN</td>\n",
       "      <td>NaN</td>\n",
       "      <td>NaN</td>\n",
       "      <td>NaN</td>\n",
       "      <td>NaN</td>\n",
       "    </tr>\n",
       "    <tr>\n",
       "      <th>1</th>\n",
       "      <td>1750-02-01</td>\n",
       "      <td>3.083</td>\n",
       "      <td>3.702</td>\n",
       "      <td>NaN</td>\n",
       "      <td>NaN</td>\n",
       "      <td>NaN</td>\n",
       "      <td>NaN</td>\n",
       "      <td>NaN</td>\n",
       "      <td>NaN</td>\n",
       "    </tr>\n",
       "    <tr>\n",
       "      <th>2</th>\n",
       "      <td>1750-03-01</td>\n",
       "      <td>5.626</td>\n",
       "      <td>3.076</td>\n",
       "      <td>NaN</td>\n",
       "      <td>NaN</td>\n",
       "      <td>NaN</td>\n",
       "      <td>NaN</td>\n",
       "      <td>NaN</td>\n",
       "      <td>NaN</td>\n",
       "    </tr>\n",
       "    <tr>\n",
       "      <th>3</th>\n",
       "      <td>1750-04-01</td>\n",
       "      <td>8.490</td>\n",
       "      <td>2.451</td>\n",
       "      <td>NaN</td>\n",
       "      <td>NaN</td>\n",
       "      <td>NaN</td>\n",
       "      <td>NaN</td>\n",
       "      <td>NaN</td>\n",
       "      <td>NaN</td>\n",
       "    </tr>\n",
       "    <tr>\n",
       "      <th>4</th>\n",
       "      <td>1750-05-01</td>\n",
       "      <td>11.573</td>\n",
       "      <td>2.072</td>\n",
       "      <td>NaN</td>\n",
       "      <td>NaN</td>\n",
       "      <td>NaN</td>\n",
       "      <td>NaN</td>\n",
       "      <td>NaN</td>\n",
       "      <td>NaN</td>\n",
       "    </tr>\n",
       "  </tbody>\n",
       "</table>\n",
       "</div>"
      ],
      "text/plain": [
       "        date  avg_temp  avg_temp_error  max_temp  max_temp_error  min_temp  \\\n",
       "0 1750-01-01     3.034           3.574       NaN             NaN       NaN   \n",
       "1 1750-02-01     3.083           3.702       NaN             NaN       NaN   \n",
       "2 1750-03-01     5.626           3.076       NaN             NaN       NaN   \n",
       "3 1750-04-01     8.490           2.451       NaN             NaN       NaN   \n",
       "4 1750-05-01    11.573           2.072       NaN             NaN       NaN   \n",
       "\n",
       "   min_temp_error  avg_all_temp  avg_all_temp_error  \n",
       "0             NaN           NaN                 NaN  \n",
       "1             NaN           NaN                 NaN  \n",
       "2             NaN           NaN                 NaN  \n",
       "3             NaN           NaN                 NaN  \n",
       "4             NaN           NaN                 NaN  "
      ]
     },
     "execution_count": 2,
     "metadata": {},
     "output_type": "execute_result"
    }
   ],
   "source": [
    "temp_df = pd.read_csv('global_temperature.csv',parse_dates=['dt'])\n",
    "temp_df.columns = ['date','avg_temp','avg_temp_error','max_temp','max_temp_error','min_temp','min_temp_error','avg_all_temp','avg_all_temp_error']\n",
    "temp_df.head()"
   ]
  },
  {
   "cell_type": "markdown",
   "metadata": {},
   "source": [
    "Extract the month from \"date\" in `temp_df` and add as a new column."
   ]
  },
  {
   "cell_type": "code",
   "execution_count": null,
   "metadata": {},
   "outputs": [],
   "source": []
  },
  {
   "cell_type": "markdown",
   "metadata": {},
   "source": [
    "Create a \"months_since_1750\" variable using `Timestamp` and `Timedelta` (as I did in Class 36)."
   ]
  },
  {
   "cell_type": "code",
   "execution_count": null,
   "metadata": {},
   "outputs": [],
   "source": []
  },
  {
   "cell_type": "markdown",
   "metadata": {},
   "source": [
    "Create a new pandas `Series` called `avg_temp_s` with \"avg_temp\" as values and \"date\" as an index. You may also need to fill in missing values in the data. Go back to Class 15 or 16 on how to handle missing data in time series, or use the [relevant pandas documentation](https://pandas.pydata.org/pandas-docs/stable/user_guide/missing_data.html) to come up with a strategy for handling these missing data in `avg_temp_s`."
   ]
  },
  {
   "cell_type": "code",
   "execution_count": null,
   "metadata": {},
   "outputs": [],
   "source": []
  },
  {
   "cell_type": "markdown",
   "metadata": {},
   "source": [
    "Plot the raw data for \"avg_temp\" against \"date\". If you use the `.plot` method on the `temp_df` DataFrame, you can also pass an option like `figsize=(x,y)` to make an especially wide chart."
   ]
  },
  {
   "cell_type": "code",
   "execution_count": null,
   "metadata": {},
   "outputs": [],
   "source": []
  },
  {
   "cell_type": "markdown",
   "metadata": {},
   "source": [
    "Use `seasonal_decompose` from statsmodels to visualize the trend, seasonal, and residual components of `avg_temp_s`. \n",
    "\n",
    "* What does the **trend** pane suggest about the behavior of this time series? How is this similar or different from the trend in the DIA passenger data?\n",
    "* What does the **seasonal** pane suggest about the behavior of this time series? How is this similar or different from the trend in the DIA passenger data?\n",
    "* What does the **residual** pane suggest about the behavior of this time series? How is this similar or different from the trend in the DIA passenger data?"
   ]
  },
  {
   "cell_type": "code",
   "execution_count": null,
   "metadata": {},
   "outputs": [],
   "source": []
  },
  {
   "cell_type": "markdown",
   "metadata": {},
   "source": [
    "Use the `.rolling()` method (again look at Class 36) to make a rolling average of the temperatures, selecting an appropriate window to average over. Visualize the rolling average to explore if there is an underlying trend.\n",
    "\n",
    "* What does this rolling average chart capture that the components of `seasonal_compose` does not?\n",
    "* What might be some possible explanations for why there is so much variance in the old data and less variance in more recent data?\n",
    "* Try an even coarser rolling window. For example, if you chose a 12-month rolling window, see how the chart changes with something like a 120-month rolling window. Can you find the [Year Without a Summer](https://en.wikipedia.org/wiki/Year_Without_a_Summer) in this data?"
   ]
  },
  {
   "cell_type": "code",
   "execution_count": null,
   "metadata": {},
   "outputs": [],
   "source": []
  },
  {
   "cell_type": "markdown",
   "metadata": {},
   "source": [
    "Make a point plot using seaborn with \"month\" on the x-axis and \"avg_temp\" on the y-axis. Which is the warmest month of the year on average? Is this surprising or not? Is it surprising when you consider this data supposed to be the average temperature across the globe?"
   ]
  },
  {
   "cell_type": "code",
   "execution_count": null,
   "metadata": {},
   "outputs": [],
   "source": []
  },
  {
   "cell_type": "markdown",
   "metadata": {},
   "source": [
    "Fit a simple linear regression of \"avg_temp\" against \"months_since_1750\". Interpret the coefficients, significance, and model performance."
   ]
  },
  {
   "cell_type": "code",
   "execution_count": null,
   "metadata": {},
   "outputs": [],
   "source": []
  },
  {
   "cell_type": "markdown",
   "metadata": {},
   "source": [
    "Fit a linear regression model of \"avg_temp\" with \"months_since_1750\" with \"month\" as a fixed effect. Interpret the coefficients, significance, and model performance compared to the previous regression model."
   ]
  },
  {
   "cell_type": "code",
   "execution_count": null,
   "metadata": {},
   "outputs": [],
   "source": []
  },
  {
   "cell_type": "markdown",
   "metadata": {},
   "source": [
    "## Advanced\n",
    "\n",
    "Create a new DataFrame with dates at a monthly interval from January 2010 to January 2050. \n",
    "\n",
    "Create columns for \"month\" and \"months_since_1750\". \n",
    "\n",
    "Use the `.predict()` method on both the simple and fixed effects regression models you trained above. \n",
    "\n",
    "Visualize the observational and predicted values from 2010 onward."
   ]
  },
  {
   "cell_type": "code",
   "execution_count": null,
   "metadata": {},
   "outputs": [],
   "source": []
  },
  {
   "cell_type": "markdown",
   "metadata": {},
   "source": [
    "## Pro-level\n",
    "\n",
    "Create a periodogram/power spectral density plot to find other cyclical patterns within the data besides an annual (12-month) frequency. \n",
    "\n",
    "What are possible explanations for these other frequencies?"
   ]
  },
  {
   "cell_type": "code",
   "execution_count": null,
   "metadata": {},
   "outputs": [],
   "source": []
  }
 ],
 "metadata": {
  "kernelspec": {
   "display_name": "Python 3",
   "language": "python",
   "name": "python3"
  },
  "language_info": {
   "codemirror_mode": {
    "name": "ipython",
    "version": 3
   },
   "file_extension": ".py",
   "mimetype": "text/x-python",
   "name": "python",
   "nbconvert_exporter": "python",
   "pygments_lexer": "ipython3",
   "version": "3.6.8"
  }
 },
 "nbformat": 4,
 "nbformat_minor": 2
}
