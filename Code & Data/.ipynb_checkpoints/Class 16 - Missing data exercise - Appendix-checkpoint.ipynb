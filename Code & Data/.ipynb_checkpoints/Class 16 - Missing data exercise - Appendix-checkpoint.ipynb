{
 "cells": [
  {
   "cell_type": "markdown",
   "metadata": {},
   "source": [
    "# INFO 3402 – Class 16: Appendix - Data cleaning FEVS\n",
    "\n",
    "[Brian C. Keegan, Ph.D.](http://brianckeegan.com/)  \n",
    "[Assistant Professor, Department of Information Science](https://www.colorado.edu/cmci/people/information-science/brian-c-keegan)  \n",
    "University of Colorado Boulder  \n",
    "\n",
    "Copyright and distributed under an [MIT License](https://opensource.org/licenses/MIT)  "
   ]
  },
  {
   "cell_type": "code",
   "execution_count": 2,
   "metadata": {},
   "outputs": [],
   "source": [
    "import numpy as np\n",
    "import pandas as pd\n",
    "\n",
    "pd.options.display.max_columns = 100\n",
    "pd.options.display.max_rows = 1000\n",
    "\n",
    "%matplotlib inline\n",
    "import matplotlib.pyplot as plt\n",
    "import seaborn as sb\n",
    "\n",
    "from collections import Counter\n",
    "import re, json"
   ]
  },
  {
   "cell_type": "code",
   "execution_count": 3,
   "metadata": {},
   "outputs": [],
   "source": [
    "with open('fevs_agency_2010.json','r') as f:\n",
    "    agency_map_2010 = json.load(f)\n",
    "    \n",
    "# agency_map_2010"
   ]
  },
  {
   "cell_type": "markdown",
   "metadata": {},
   "source": [
    "## Appendix: Cleaning and aggregating FEVS data\n",
    "\n",
    "The raw data is available from the [Office of Personnel Management](https://www.opm.gov/fevs/public-data-file) for every year between 2010 and 2018 as well as 2008 and 2006. Each year's file includes several hundred thousand responses. I am going to aggregate these individual responses into smaller stratified averages."
   ]
  },
  {
   "cell_type": "code",
   "execution_count": 4,
   "metadata": {},
   "outputs": [
    {
     "name": "stdout",
     "output_type": "stream",
     "text": [
      "There are 263,475 rows and 92 columns for the 2010 FEVS survey.\n",
      "There are 266,376 rows and 98 columns for the 2011 FEVS survey.\n",
      "There are 687,687 rows and 97 columns for the 2012 FEVS survey.\n",
      "There are 376,577 rows and 99 columns for the 2013 FEVS survey.\n",
      "There are 392,752 rows and 100 columns for the 2014 FEVS survey.\n",
      "There are 421,748 rows and 99 columns for the 2015 FEVS survey.\n",
      "There are 407,789 rows and 80 columns for the 2016 FEVS survey.\n",
      "There are 486,105 rows and 80 columns for the 2017 FEVS survey.\n",
      "There are 598,003 rows and 81 columns for the 2018 FEVS survey.\n"
     ]
    }
   ],
   "source": [
    "fevs_annual_dict = {}\n",
    "\n",
    "for year in range(2010,2019):\n",
    "# for year in range(2010,2012):\n",
    "    _df = pd.read_csv('./FEVS/fevs_{0}.csv'.format(year),low_memory=False)\n",
    "    print(\"There are {0:,} rows and {1:,} columns for the {2} FEVS survey.\".format(*_df.shape,year))\n",
    "    \n",
    "    # Replace Xs with np.nans\n",
    "    _df.replace({'X':np.nan},inplace=True)\n",
    "    \n",
    "    # Convert the Q columns to floats\n",
    "    for col in _df.columns:\n",
    "        if 'Q' in col:\n",
    "            _df[col] = _df[col].astype(float)\n",
    "    \n",
    "    _df.rename(columns={'agency':'agency',\n",
    "                        'AGENCY':'agency',\n",
    "                        'PLEVEL1':'subagency',\n",
    "                        'plevel1':'subagency',\n",
    "                        'SUBELEM':'subagency',\n",
    "                        'LEVEL1':'subagency'},inplace=True)\n",
    "\n",
    "    fevs_annual_dict[year] = _df"
   ]
  },
  {
   "cell_type": "markdown",
   "metadata": {},
   "source": [
    "### Clean up agency codes"
   ]
  },
  {
   "cell_type": "code",
   "execution_count": 5,
   "metadata": {},
   "outputs": [],
   "source": [
    "subagency_codes = {}\n",
    "for year,df in fevs_annual_dict.items():\n",
    "    subagency_codes[year] = df['subagency'].unique().tolist()"
   ]
  },
  {
   "cell_type": "code",
   "execution_count": 6,
   "metadata": {},
   "outputs": [],
   "source": [
    "agency_codes = {}\n",
    "for year,df in fevs_annual_dict.items():\n",
    "    subagency_codes[year] = df['subagency'].unique().tolist()\n",
    "    \n",
    "subagency_code_set = set([code for code_list in subagency_codes.values() for code in code_list])"
   ]
  },
  {
   "cell_type": "markdown",
   "metadata": {},
   "source": [
    "### Clean up sub-agency codes\n",
    "\n",
    "Load all the subagency abbrevation to name mappings into `subagency_maps` keyed by year."
   ]
  },
  {
   "cell_type": "code",
   "execution_count": 7,
   "metadata": {},
   "outputs": [],
   "source": [
    "subagency_maps = {}\n",
    "for year in range(2010,2019):\n",
    "    with open('./FEVS/fevs_subagency_{0}.json'.format(year),'r') as f:\n",
    "        subagency_maps[year] = json.load(f)"
   ]
  },
  {
   "cell_type": "markdown",
   "metadata": {},
   "source": [
    "Make a dictionary keyed by abbrevation containing a list payload of dictionaries with the name and year of the various names for the subagency abbrevation."
   ]
  },
  {
   "cell_type": "code",
   "execution_count": 8,
   "metadata": {},
   "outputs": [],
   "source": [
    "semiflattened_subagency_map = {}\n",
    "for year,subagency_map in subagency_maps.items():\n",
    "    for abbrev,name in subagency_map.items():\n",
    "        \n",
    "        # Clean up strings\n",
    "        name = re.sub(r\" \\([^)]+\\)\", \"\", name)\n",
    "        name = re.sub(r\"[A-Z]+ - \", \"\", name)\n",
    "        name = name.title()\n",
    "\n",
    "        if abbrev in semiflattened_subagency_map:\n",
    "            semiflattened_subagency_map[abbrev].append({'name':name,'year':year})\n",
    "        else:\n",
    "            semiflattened_subagency_map[abbrev] = [{'name':name,'year':year}]"
   ]
  },
  {
   "cell_type": "markdown",
   "metadata": {},
   "source": [
    "Loop through and get the most common labels for each abbreviation, store to `flattened_subagency_map` as key-value pairs."
   ]
  },
  {
   "cell_type": "code",
   "execution_count": 9,
   "metadata": {},
   "outputs": [],
   "source": [
    "flattened_subagency_map = {}\n",
    "\n",
    "for abbrev,payload in semiflattened_subagency_map.items():\n",
    "    names = [p['name'] for p in payload]\n",
    "    top_names = sorted(Counter(names).items(),key=lambda x:x[1], reverse=True)\n",
    "    if len(top_names) > 1:\n",
    "        if top_names[0][1] > top_names[1][1]:\n",
    "            flattened_subagency_map[abbrev] = top_names[0][0]\n",
    "        else:\n",
    "            # print(\"There is a tie in: {0}\".format(abbrev))\n",
    "            flattened_subagency_map[abbrev] = top_names[0][0]\n",
    "    else:\n",
    "        flattened_subagency_map[abbrev] = top_names[0][0]\n",
    "        \n",
    "# with open('fevs_subagency_map_complete.json','w') as f:\n",
    "#     json.dump(flattened_subagency_map,f)"
   ]
  },
  {
   "cell_type": "markdown",
   "metadata": {},
   "source": [
    "Make sure we got all the possible subagency codes."
   ]
  },
  {
   "cell_type": "code",
   "execution_count": 10,
   "metadata": {},
   "outputs": [
    {
     "data": {
      "text/plain": [
       "{nan}"
      ]
     },
     "execution_count": 10,
     "metadata": {},
     "output_type": "execute_result"
    }
   ],
   "source": [
    "subagency_code_set = set([code for code_list in subagency_codes.values() for code in code_list])\n",
    "subagency_code_set - set(flattened_subagency_map.keys())"
   ]
  },
  {
   "cell_type": "markdown",
   "metadata": {},
   "source": [
    "### Identifying demographic variables to clean\n",
    "\n",
    "What are the demographic variables in each year?"
   ]
  },
  {
   "cell_type": "code",
   "execution_count": 11,
   "metadata": {},
   "outputs": [
    {
     "data": {
      "image/png": "[encoded data removed]",
      "text/plain": [
       "<Figure size 288x864 with 1 Axes>"
      ]
     },
     "metadata": {
      "needs_background": "light"
     },
     "output_type": "display_data"
    }
   ],
   "source": [
    "demographic_columns = {}\n",
    "for year,df in fevs_annual_dict.items():\n",
    "    demographic_columns[year] = sorted([col for col in df.columns if col[0] == 'D'])\n",
    "    \n",
    "demographic_adj_df = pd.concat([pd.Series(l) for l in demographic_columns.values()],keys=demographic_columns.keys())\n",
    "demographic_adj_df = demographic_adj_df.reset_index(0).rename(columns={'level_0':'year',0:'variable'})\n",
    "demographic_adj_df = pd.crosstab(index=demographic_adj_df['year'],columns=demographic_adj_df['variable'])\n",
    "\n",
    "f,ax = plt.subplots(1,1,figsize=(4,12))\n",
    "sb.heatmap(demographic_adj_df.T,square=True,cmap='Reds',cbar=False,ax=ax)\n",
    "ax.set_xlabel('')\n",
    "ax.set_ylabel('');"
   ]
  },
  {
   "cell_type": "markdown",
   "metadata": {},
   "source": [
    "Which demographic variables have the most coverage across years? \"DSUPER\", \"DSEX\", \"DMINORITY\", and \"DLEAVING\" have coverage across all the years, \"DFEDTEN\" is missing in 2016, and coverage decreases from there."
   ]
  },
  {
   "cell_type": "code",
   "execution_count": 12,
   "metadata": {},
   "outputs": [
    {
     "data": {
      "text/plain": [
       "variable\n",
       "DSUPER       9\n",
       "DSEX         9\n",
       "DMINORITY    9\n",
       "DLEAVING     9\n",
       "DFEDTEN      8\n",
       "DAGEGRP      7\n",
       "DRETIRE      6\n",
       "DPAYCAT      4\n",
       "DMIL         4\n",
       "DEDUC        4\n",
       "DDIS         4\n",
       "DLOC         2\n",
       "DAGYTEN      2\n",
       "dtype: int64"
      ]
     },
     "execution_count": 12,
     "metadata": {},
     "output_type": "execute_result"
    }
   ],
   "source": [
    "demographic_adj_df.sum(axis=0).sort_values(ascending=False)"
   ]
  },
  {
   "cell_type": "markdown",
   "metadata": {},
   "source": [
    "Which years have the most demographic variables? The data for 2016, 2017, and 2018 have the least demographic coverage, so we should use their demographic variables as the lowest common denominator: \"DSUPER\", \"DSEX\", \"DMINORITY\", \"DLEAVING\", and \"DFEDTEN\"."
   ]
  },
  {
   "cell_type": "code",
   "execution_count": 13,
   "metadata": {},
   "outputs": [
    {
     "data": {
      "text/plain": [
       "year\n",
       "2014    11\n",
       "2015    10\n",
       "2013    10\n",
       "2011    10\n",
       "2010    10\n",
       "2012     9\n",
       "2018     6\n",
       "2017     6\n",
       "2016     5\n",
       "dtype: int64"
      ]
     },
     "execution_count": 13,
     "metadata": {},
     "output_type": "execute_result"
    }
   ],
   "source": [
    "demographic_adj_df.sum(axis=1).sort_values(ascending=False)"
   ]
  },
  {
   "cell_type": "code",
   "execution_count": 14,
   "metadata": {},
   "outputs": [],
   "source": [
    "demographic_vars = ['DSUPER','DSEX','DMINORITY','DLEAVING','DFEDTEN']"
   ]
  },
  {
   "cell_type": "markdown",
   "metadata": {},
   "source": [
    "We should not assume the coding of these variables was consistent across years. Check each."
   ]
  },
  {
   "cell_type": "code",
   "execution_count": 15,
   "metadata": {},
   "outputs": [],
   "source": [
    "dsuper_codes = {}\n",
    "for year,df in fevs_annual_dict.items():\n",
    "    try:\n",
    "        dsuper_codes[year] = sorted(df['DSUPER'].dropna().unique().tolist())\n",
    "    except KeyError:\n",
    "        print(\"!!! There is no column for {0}.\".format(year))\n",
    "        pass\n",
    "    \n",
    "# dsuper_codes"
   ]
  },
  {
   "cell_type": "code",
   "execution_count": 16,
   "metadata": {},
   "outputs": [],
   "source": [
    "dsex_codes = {}\n",
    "for year,df in fevs_annual_dict.items():\n",
    "    try:\n",
    "        dsex_codes[year] = sorted(df['DSEX'].dropna().unique().tolist())\n",
    "    except KeyError:\n",
    "        print(\"!!! There is no column for {0}.\".format(year))\n",
    "        pass\n",
    "    \n",
    "# dsex_codes"
   ]
  },
  {
   "cell_type": "code",
   "execution_count": 17,
   "metadata": {},
   "outputs": [],
   "source": [
    "dminority_codes = {}\n",
    "for year,df in fevs_annual_dict.items():\n",
    "    try:\n",
    "        dminority_codes[year] = sorted(df['DMINORITY'].dropna().unique().tolist())\n",
    "    except KeyError:\n",
    "        print(\"!!! There is no column for {0}.\".format(year))\n",
    "        pass\n",
    "    \n",
    "# dminority_codes"
   ]
  },
  {
   "cell_type": "code",
   "execution_count": 18,
   "metadata": {},
   "outputs": [],
   "source": [
    "dleaving_codes = {}\n",
    "for year,df in fevs_annual_dict.items():\n",
    "    try:\n",
    "        dleaving_codes[year] = sorted(df['DLEAVING'].dropna().unique().tolist())\n",
    "    except KeyError:\n",
    "        print(\"!!! There is no column for {0}.\".format(year))\n",
    "        pass\n",
    "    \n",
    "# dleaving_codes"
   ]
  },
  {
   "cell_type": "code",
   "execution_count": 19,
   "metadata": {},
   "outputs": [
    {
     "name": "stdout",
     "output_type": "stream",
     "text": [
      "!!! There is no column for 2016.\n"
     ]
    }
   ],
   "source": [
    "dfenten_codes = {}\n",
    "for year,df in fevs_annual_dict.items():\n",
    "    try:\n",
    "        dfenten_codes[year] = sorted(df['DFEDTEN'].dropna().unique().tolist())\n",
    "    except KeyError:\n",
    "        print(\"!!! There is no column for {0}.\".format(year))\n",
    "        pass\n",
    "    \n",
    "# dfenten_codes"
   ]
  },
  {
   "cell_type": "markdown",
   "metadata": {},
   "source": [
    "### Cleaning DSUPER"
   ]
  },
  {
   "cell_type": "code",
   "execution_count": 20,
   "metadata": {},
   "outputs": [
    {
     "data": {
      "text/plain": [
       "{2010: ['A', 'B', 'C'],\n",
       " 2011: ['A', 'B', 'C'],\n",
       " 2012: ['A', 'B'],\n",
       " 2013: ['A', 'B'],\n",
       " 2014: ['A', 'B'],\n",
       " 2015: ['A', 'B'],\n",
       " 2016: ['A', 'B'],\n",
       " 2017: ['A', 'B'],\n",
       " 2018: ['A', 'B']}"
      ]
     },
     "execution_count": 20,
     "metadata": {},
     "output_type": "execute_result"
    }
   ],
   "source": [
    "dsuper_codes"
   ]
  },
  {
   "cell_type": "code",
   "execution_count": 21,
   "metadata": {},
   "outputs": [],
   "source": [
    "dsuper_map_1011 = {'A':'Non-Supervisor/Team Leader',\n",
    "                   'B':'Supervisor',\n",
    "                   'C':'Manager/Executive'}\n",
    "\n",
    "dsuper_map_1218 = {'A':'Non-Supervisor/Team Leader',\n",
    "                   'B':'Supervisor/Manager/Senior Leader'}"
   ]
  },
  {
   "cell_type": "markdown",
   "metadata": {},
   "source": [
    "I'll argue for collapsing `dsuper_map_1011`'s 'B' and 'C' values to `dsuper_map_1218`'s 'B' value."
   ]
  },
  {
   "cell_type": "code",
   "execution_count": 22,
   "metadata": {},
   "outputs": [],
   "source": [
    "dsuper_value_map_1011 = {'C':'B','A':'A','B':'B'}"
   ]
  },
  {
   "cell_type": "code",
   "execution_count": 23,
   "metadata": {},
   "outputs": [],
   "source": [
    "dsuper_label_map_1011 = {'A':'Non-Supervisor/Team Leader',\n",
    "                         'B':'Supervisor/Manager/Senior Leader',\n",
    "                         'C':'Supervisor/Manager/Senior Leader'}"
   ]
  },
  {
   "cell_type": "code",
   "execution_count": 24,
   "metadata": {},
   "outputs": [
    {
     "data": {
      "text/plain": [
       "{'C': 'B', 'A': 'A', 'B': 'B'}"
      ]
     },
     "execution_count": 24,
     "metadata": {},
     "output_type": "execute_result"
    }
   ],
   "source": [
    "dsuper_value_map_1011"
   ]
  },
  {
   "cell_type": "code",
   "execution_count": 25,
   "metadata": {},
   "outputs": [],
   "source": [
    "for year,df in fevs_annual_dict.items():\n",
    "    if year in [2010,2011]:\n",
    "        df['DSUPER_cleaned'] = df['DSUPER']\n",
    "        df['DSUPER_cleaned'] = df['DSUPER'].map(dsuper_value_map_1011)\n",
    "    else:\n",
    "        df['DSUPER_cleaned'] = df['DSUPER']"
   ]
  },
  {
   "cell_type": "markdown",
   "metadata": {},
   "source": [
    "### Cleaning DSEX\n",
    "\n",
    "These look consistent, gratefully."
   ]
  },
  {
   "cell_type": "code",
   "execution_count": 26,
   "metadata": {},
   "outputs": [
    {
     "data": {
      "text/plain": [
       "{2010: ['A', 'B'],\n",
       " 2011: ['A', 'B'],\n",
       " 2012: ['A', 'B'],\n",
       " 2013: ['A', 'B'],\n",
       " 2014: ['A', 'B'],\n",
       " 2015: ['A', 'B'],\n",
       " 2016: ['A', 'B'],\n",
       " 2017: ['A', 'B'],\n",
       " 2018: ['A', 'B']}"
      ]
     },
     "execution_count": 26,
     "metadata": {},
     "output_type": "execute_result"
    }
   ],
   "source": [
    "dsex_codes"
   ]
  },
  {
   "cell_type": "code",
   "execution_count": 27,
   "metadata": {},
   "outputs": [],
   "source": [
    "dsex_map = {'A':'Male',\n",
    "            'B':'Female'}"
   ]
  },
  {
   "cell_type": "markdown",
   "metadata": {},
   "source": [
    "### Cleaning DMINORITY"
   ]
  },
  {
   "cell_type": "code",
   "execution_count": 28,
   "metadata": {},
   "outputs": [
    {
     "data": {
      "text/plain": [
       "{2010: [1.0, 2.0],\n",
       " 2011: [1.0, 2.0],\n",
       " 2012: [1.0, 2.0],\n",
       " 2013: [1.0, 2.0],\n",
       " 2014: [1.0, 2.0],\n",
       " 2015: [1.0, 2.0],\n",
       " 2016: ['A', 'B'],\n",
       " 2017: ['A', 'B'],\n",
       " 2018: ['A', 'B']}"
      ]
     },
     "execution_count": 28,
     "metadata": {},
     "output_type": "execute_result"
    }
   ],
   "source": [
    "dminority_codes"
   ]
  },
  {
   "cell_type": "code",
   "execution_count": 29,
   "metadata": {},
   "outputs": [],
   "source": [
    "dminority_map_1015 = {1:'Minority',\n",
    "                      2:'Non-minority'}\n",
    "\n",
    "dminority_map_1618 = {'A':'Minority',\n",
    "                      'B':'Non-minority'}"
   ]
  },
  {
   "cell_type": "markdown",
   "metadata": {},
   "source": [
    "These are entirely different key values so we can combine them into one map."
   ]
  },
  {
   "cell_type": "code",
   "execution_count": 30,
   "metadata": {},
   "outputs": [],
   "source": [
    "dminority_value_map_1618 = {'A':1,\n",
    "                            'B':2}\n",
    "\n",
    "dminority_label_map = {1:'Minority',\n",
    "                       2:'Non-minority',\n",
    "                       'A':'Minority',\n",
    "                       'B':'Non-minority'}"
   ]
  },
  {
   "cell_type": "code",
   "execution_count": 31,
   "metadata": {},
   "outputs": [],
   "source": [
    "for year,df in fevs_annual_dict.items():\n",
    "    if year in [2016,2017,2018]:\n",
    "        df['DMINORITY_cleaned'] = df['DMINORITY']\n",
    "        df['DMINORITY_cleaned'] = df['DMINORITY'].map(dminority_value_map_1618)\n",
    "    else:\n",
    "        df['DMINORITY_cleaned'] = df['DMINORITY']"
   ]
  },
  {
   "cell_type": "markdown",
   "metadata": {},
   "source": [
    "### Cleaning DLEAVING"
   ]
  },
  {
   "cell_type": "code",
   "execution_count": 32,
   "metadata": {},
   "outputs": [
    {
     "data": {
      "text/plain": [
       "{2010: ['A', 'B', 'C', 'D', 'E'],\n",
       " 2011: ['A', 'B', 'C', 'D', 'E'],\n",
       " 2012: ['A', 'B', 'C', 'D'],\n",
       " 2013: ['A', 'B', 'C', 'D'],\n",
       " 2014: ['A', 'B', 'C', 'D'],\n",
       " 2015: ['A', 'B', 'C', 'D'],\n",
       " 2016: ['A', 'B', 'C', 'D'],\n",
       " 2017: ['A', 'B', 'C', 'D'],\n",
       " 2018: ['A', 'B', 'C', 'D']}"
      ]
     },
     "execution_count": 32,
     "metadata": {},
     "output_type": "execute_result"
    }
   ],
   "source": [
    "dleaving_codes"
   ]
  },
  {
   "cell_type": "code",
   "execution_count": 33,
   "metadata": {},
   "outputs": [],
   "source": [
    "dleaving_map_1011 = {'A':'No',\n",
    "                     'B':'Yes, retire',\n",
    "                     'C':'Yes, within',\n",
    "                     'D':'Yes, outside',\n",
    "                     'E':'Other'}\n",
    "\n",
    "dleaving_map_1218 = {'A':'No',\n",
    "                     'B':'Yes, within',\n",
    "                     'C':'Yes, outside',\n",
    "                     'D':'Other'}"
   ]
  },
  {
   "cell_type": "markdown",
   "metadata": {},
   "source": [
    "I would argue for combining `dleaving_map_1011`'s \"Yes, retire\" into `dleaving_map_1218`'s \"Other\"."
   ]
  },
  {
   "cell_type": "code",
   "execution_count": 34,
   "metadata": {},
   "outputs": [],
   "source": [
    "dleaving_value_map_1011 = {'B':'D',\n",
    "                           'C':'B',\n",
    "                           'D':'C',\n",
    "                           'E':'D'}\n",
    "\n",
    "dleaving_label_map_1011 = {'A':'No',\n",
    "                           'B':'Other',\n",
    "                           'C':'Yes, within',\n",
    "                           'D':'Yes, outside',\n",
    "                           'E':'Other'}"
   ]
  },
  {
   "cell_type": "code",
   "execution_count": 35,
   "metadata": {},
   "outputs": [],
   "source": [
    "for year,df in fevs_annual_dict.items():\n",
    "    if year in [2010,2011]:\n",
    "        df['DLEAVING_cleaned'] = df['DLEAVING']\n",
    "        df['DLEAVING_cleaned'] = df['DLEAVING'].map(dleaving_label_map_1011)\n",
    "    else:\n",
    "        df['DLEAVING_cleaned'] = df['DLEAVING'].map(dleaving_map_1218)"
   ]
  },
  {
   "cell_type": "markdown",
   "metadata": {},
   "source": [
    "### Cleaning DFEDTEN\n",
    "\n",
    "This field unfortunately looks unusable for wave-to-wave comparisons since the categories don't overlap. I am not going to bother with trying to clean this up."
   ]
  },
  {
   "cell_type": "code",
   "execution_count": 36,
   "metadata": {},
   "outputs": [
    {
     "data": {
      "text/plain": [
       "{2010: ['A', 'B', 'C', 'D', 'E', 'F', 'G'],\n",
       " 2011: ['B', 'C', 'D', 'E', 'F', 'G'],\n",
       " 2012: ['A', 'B'],\n",
       " 2013: ['A', 'B', 'C'],\n",
       " 2014: ['A', 'B', 'C'],\n",
       " 2015: ['A', 'B', 'C'],\n",
       " 2017: ['A', 'B', 'C'],\n",
       " 2018: ['A', 'B', 'C']}"
      ]
     },
     "execution_count": 36,
     "metadata": {},
     "output_type": "execute_result"
    }
   ],
   "source": [
    "dfenten_codes"
   ]
  },
  {
   "cell_type": "code",
   "execution_count": 37,
   "metadata": {},
   "outputs": [],
   "source": [
    "dfedten_map_2010 = {'A':'≤1 year',\n",
    "                    'B':'1–3 years',\n",
    "                    'C':'4–5 years',\n",
    "                    'D':'6–10 years',\n",
    "                    'E':'11–14 years',\n",
    "                    'F':'15–20 years',\n",
    "                    'G':'>20 years'}\n",
    "\n",
    "dfedten_map_2011 = {'B':'≤3 years',\n",
    "                    'C':'4–5 years',\n",
    "                    'D':'6–10 years',\n",
    "                    'E':'11–14 years',\n",
    "                    'F':'15–20 years',\n",
    "                    'G':'>20 years'}\n",
    "\n",
    "dfedten_map_2012 = {'A':'≤10 years',\n",
    "                    'B':'≥11 years'}\n",
    "\n",
    "dfedten_map_131415 = {'A':'≤5 years',\n",
    "                    'B':'6–14 years',\n",
    "                    'C':'≥15 years'}\n",
    "\n",
    "dfedten_map_1718 = {'A':'<10 years',\n",
    "                    'B':'10–20 years',\n",
    "                    'C':'>20 years'}"
   ]
  },
  {
   "cell_type": "markdown",
   "metadata": {},
   "source": [
    "Check to see if the number of rows have changed."
   ]
  },
  {
   "cell_type": "code",
   "execution_count": 38,
   "metadata": {},
   "outputs": [
    {
     "name": "stdout",
     "output_type": "stream",
     "text": [
      "In 2010 there are 263,475 rows.\n",
      "In 2011 there are 266,376 rows.\n",
      "In 2012 there are 687,687 rows.\n",
      "In 2013 there are 376,577 rows.\n",
      "In 2014 there are 392,752 rows.\n",
      "In 2015 there are 421,748 rows.\n",
      "In 2016 there are 407,789 rows.\n",
      "In 2017 there are 486,105 rows.\n",
      "In 2018 there are 598,003 rows.\n"
     ]
    }
   ],
   "source": [
    "for year,df in fevs_annual_dict.items():\n",
    "    print(\"In {0} there are {1:,} rows.\".format(year,len(df)))"
   ]
  },
  {
   "cell_type": "markdown",
   "metadata": {},
   "source": [
    "## Groupby-aggregation"
   ]
  },
  {
   "cell_type": "code",
   "execution_count": 40,
   "metadata": {},
   "outputs": [],
   "source": [
    "fevs_annual_agg = {}\n",
    "\n",
    "agg_d = {'Q5':'mean','Q13':'mean','Q28':'mean','Q39':'mean','Q69':'mean','Q71':'mean','POSTWT':len}\n",
    "\n",
    "for year,df in fevs_annual_dict.items():\n",
    "    df['subagency'] = df['subagency'].fillna('XXZZ')\n",
    "    _agg_df = df.groupby(['subagency','DSUPER_cleaned','DSEX','DMINORITY_cleaned','DLEAVING_cleaned']).agg(agg_d)#.sort_index()\n",
    "    fevs_annual_agg[year] = _agg_df.reset_index()"
   ]
  },
  {
   "cell_type": "code",
   "execution_count": 90,
   "metadata": {},
   "outputs": [
    {
     "name": "stdout",
     "output_type": "stream",
     "text": [
      "45,299\n"
     ]
    },
    {
     "data": {
      "text/html": [
       "<div>\n",
       "<style scoped>\n",
       "    .dataframe tbody tr th:only-of-type {\n",
       "        vertical-align: middle;\n",
       "    }\n",
       "\n",
       "    .dataframe tbody tr th {\n",
       "        vertical-align: top;\n",
       "    }\n",
       "\n",
       "    .dataframe thead th {\n",
       "        text-align: right;\n",
       "    }\n",
       "</style>\n",
       "<table border=\"1\" class=\"dataframe\">\n",
       "  <thead>\n",
       "    <tr style=\"text-align: right;\">\n",
       "      <th></th>\n",
       "      <th>year</th>\n",
       "      <th>leaving</th>\n",
       "      <th>minority</th>\n",
       "      <th>sex</th>\n",
       "      <th>supervisor</th>\n",
       "      <th>count</th>\n",
       "      <th>important work</th>\n",
       "      <th>work quality</th>\n",
       "      <th>successful mission</th>\n",
       "      <th>like work</th>\n",
       "      <th>job satisfaction</th>\n",
       "      <th>org satisfaction</th>\n",
       "      <th>subagency</th>\n",
       "      <th>agency</th>\n",
       "    </tr>\n",
       "  </thead>\n",
       "  <tbody>\n",
       "    <tr>\n",
       "      <th>0</th>\n",
       "      <td>2010</td>\n",
       "      <td>No</td>\n",
       "      <td>Minority</td>\n",
       "      <td>Male</td>\n",
       "      <td>Non-Supervisor/Team Leader</td>\n",
       "      <td>16.0</td>\n",
       "      <td>4.375000</td>\n",
       "      <td>4.000000</td>\n",
       "      <td>4.125000</td>\n",
       "      <td>4.187500</td>\n",
       "      <td>3.812500</td>\n",
       "      <td>3.250000</td>\n",
       "      <td>U.S. Air Force Academy</td>\n",
       "      <td>Department of the Air Force</td>\n",
       "    </tr>\n",
       "    <tr>\n",
       "      <th>1</th>\n",
       "      <td>2010</td>\n",
       "      <td>Other</td>\n",
       "      <td>Minority</td>\n",
       "      <td>Male</td>\n",
       "      <td>Non-Supervisor/Team Leader</td>\n",
       "      <td>3.0</td>\n",
       "      <td>4.666667</td>\n",
       "      <td>5.000000</td>\n",
       "      <td>4.000000</td>\n",
       "      <td>4.333333</td>\n",
       "      <td>3.666667</td>\n",
       "      <td>3.666667</td>\n",
       "      <td>U.S. Air Force Academy</td>\n",
       "      <td>Department of the Air Force</td>\n",
       "    </tr>\n",
       "    <tr>\n",
       "      <th>2</th>\n",
       "      <td>2010</td>\n",
       "      <td>Yes, within</td>\n",
       "      <td>Minority</td>\n",
       "      <td>Male</td>\n",
       "      <td>Non-Supervisor/Team Leader</td>\n",
       "      <td>8.0</td>\n",
       "      <td>4.500000</td>\n",
       "      <td>3.375000</td>\n",
       "      <td>4.125000</td>\n",
       "      <td>4.500000</td>\n",
       "      <td>3.500000</td>\n",
       "      <td>2.875000</td>\n",
       "      <td>U.S. Air Force Academy</td>\n",
       "      <td>Department of the Air Force</td>\n",
       "    </tr>\n",
       "    <tr>\n",
       "      <th>3</th>\n",
       "      <td>2010</td>\n",
       "      <td>No</td>\n",
       "      <td>Non-minority</td>\n",
       "      <td>Male</td>\n",
       "      <td>Non-Supervisor/Team Leader</td>\n",
       "      <td>44.0</td>\n",
       "      <td>4.363636</td>\n",
       "      <td>4.568182</td>\n",
       "      <td>4.295455</td>\n",
       "      <td>4.250000</td>\n",
       "      <td>4.272727</td>\n",
       "      <td>3.977273</td>\n",
       "      <td>U.S. Air Force Academy</td>\n",
       "      <td>Department of the Air Force</td>\n",
       "    </tr>\n",
       "    <tr>\n",
       "      <th>4</th>\n",
       "      <td>2010</td>\n",
       "      <td>Other</td>\n",
       "      <td>Non-minority</td>\n",
       "      <td>Male</td>\n",
       "      <td>Non-Supervisor/Team Leader</td>\n",
       "      <td>14.0</td>\n",
       "      <td>4.153846</td>\n",
       "      <td>3.928571</td>\n",
       "      <td>3.642857</td>\n",
       "      <td>3.857143</td>\n",
       "      <td>3.071429</td>\n",
       "      <td>3.285714</td>\n",
       "      <td>U.S. Air Force Academy</td>\n",
       "      <td>Department of the Air Force</td>\n",
       "    </tr>\n",
       "  </tbody>\n",
       "</table>\n",
       "</div>"
      ],
      "text/plain": [
       "   year      leaving      minority   sex                  supervisor  count  \\\n",
       "0  2010           No      Minority  Male  Non-Supervisor/Team Leader   16.0   \n",
       "1  2010        Other      Minority  Male  Non-Supervisor/Team Leader    3.0   \n",
       "2  2010  Yes, within      Minority  Male  Non-Supervisor/Team Leader    8.0   \n",
       "3  2010           No  Non-minority  Male  Non-Supervisor/Team Leader   44.0   \n",
       "4  2010        Other  Non-minority  Male  Non-Supervisor/Team Leader   14.0   \n",
       "\n",
       "   important work  work quality  successful mission  like work  \\\n",
       "0        4.375000      4.000000            4.125000   4.187500   \n",
       "1        4.666667      5.000000            4.000000   4.333333   \n",
       "2        4.500000      3.375000            4.125000   4.500000   \n",
       "3        4.363636      4.568182            4.295455   4.250000   \n",
       "4        4.153846      3.928571            3.642857   3.857143   \n",
       "\n",
       "   job satisfaction  org satisfaction               subagency  \\\n",
       "0          3.812500          3.250000  U.S. Air Force Academy   \n",
       "1          3.666667          3.666667  U.S. Air Force Academy   \n",
       "2          3.500000          2.875000  U.S. Air Force Academy   \n",
       "3          4.272727          3.977273  U.S. Air Force Academy   \n",
       "4          3.071429          3.285714  U.S. Air Force Academy   \n",
       "\n",
       "                        agency  \n",
       "0  Department of the Air Force  \n",
       "1  Department of the Air Force  \n",
       "2  Department of the Air Force  \n",
       "3  Department of the Air Force  \n",
       "4  Department of the Air Force  "
      ]
     },
     "execution_count": 90,
     "metadata": {},
     "output_type": "execute_result"
    }
   ],
   "source": [
    "all_fevs_agg_df = pd.concat(fevs_annual_agg.values(),keys=fevs_annual_agg.keys(),sort=True)\n",
    "\n",
    "# Rename columns\n",
    "all_fevs_agg_df.rename(columns={'level_0':'subagency',\n",
    "                                'level_1':'supervisor',\n",
    "                                'level_2':'sex',\n",
    "                                'level_3':'minority',\n",
    "                                'level_4':'leaving',\n",
    "                                'DLEAVING_cleaned':'leaving',\n",
    "                                'DMINORITY_cleaned':'minority',\n",
    "                                'DSEX':'sex',\n",
    "                                'DSUPER_cleaned':'supervisor',\n",
    "                                'Q5':'like work',\n",
    "                                'Q13':'important work',\n",
    "                                'Q28':'work quality',\n",
    "                                'Q39':'successful mission',\n",
    "                                'Q69':'job satisfaction',\n",
    "                                'Q71':'org satisfaction',\n",
    "                                'POSTWT':'count'},inplace=True)\n",
    "\n",
    "# # Reset index\n",
    "all_fevs_agg_df = all_fevs_agg_df.reset_index(0).reset_index(drop=True)\n",
    "all_fevs_agg_df.rename(columns={'level_0':'year'},inplace=True)\n",
    "\n",
    "# # Extract the agency code\n",
    "all_fevs_agg_df['agency'] = all_fevs_agg_df['subagency'].str.slice(0,2)\n",
    "\n",
    "# # Map in the labels\n",
    "all_fevs_agg_df['agency'] = all_fevs_agg_df['agency'].map(agency_map_2010)\n",
    "all_fevs_agg_df['subagency'] = all_fevs_agg_df['subagency'].map(flattened_subagency_map)\n",
    "all_fevs_agg_df['supervisor'] = all_fevs_agg_df['supervisor'].map(dsuper_map_1218)\n",
    "all_fevs_agg_df['sex'] = all_fevs_agg_df['sex'].map(dsex_map)\n",
    "all_fevs_agg_df['minority'] = all_fevs_agg_df['minority'].map(dminority_map_1015)\n",
    "# all_fevs_agg_df['leaving'] = all_fevs_agg_df['leaving'].map(dleaving_map_1218)\n",
    "\n",
    "print(\"{:,}\".format(len(all_fevs_agg_df)))\n",
    "all_fevs_agg_df.head()\n"
   ]
  },
  {
   "cell_type": "code",
   "execution_count": 95,
   "metadata": {},
   "outputs": [],
   "source": [
    "subagency_agency_map = all_fevs_agg_df[['agency','subagency']].dropna().drop_duplicates(subset=['subagency']).set_index('subagency').to_dict()['agency']\n",
    "# subagency_agency_map\n"
   ]
  },
  {
   "cell_type": "markdown",
   "metadata": {},
   "source": [
    "Make a new MultiIndex with all combinations of the demographic variables."
   ]
  },
  {
   "cell_type": "code",
   "execution_count": 58,
   "metadata": {},
   "outputs": [],
   "source": [
    "unique_vals_list = []\n",
    "\n",
    "cols = ['year','agency','minority','sex','supervisor','leaving']\n",
    "\n",
    "for col in cols:\n",
    "    unique_col_vals = all_fevs_agg_df[col].unique().tolist()\n",
    "    unique_vals_list.append(unique_col_vals)\n",
    "    \n",
    "new_multiindex = pd.MultiIndex.from_product(unique_vals_list)\n",
    "new_multiindex.names = cols"
   ]
  },
  {
   "cell_type": "markdown",
   "metadata": {},
   "source": [
    "Join the two DataFrames, hopefully we have a lot of empty rows afterwards."
   ]
  },
  {
   "cell_type": "code",
   "execution_count": 103,
   "metadata": {},
   "outputs": [
    {
     "name": "stdout",
     "output_type": "stream",
     "text": [
      "49,400\n"
     ]
    },
    {
     "data": {
      "text/plain": [
       "year                     0\n",
       "agency                4382\n",
       "minority                 0\n",
       "sex                      0\n",
       "supervisor               0\n",
       "leaving                  0\n",
       "count                 4101\n",
       "important work        4158\n",
       "work quality          4108\n",
       "successful mission    4174\n",
       "like work             4137\n",
       "job satisfaction      4118\n",
       "org satisfaction      4118\n",
       "subagency             4101\n",
       "dtype: int64"
      ]
     },
     "execution_count": 103,
     "metadata": {},
     "output_type": "execute_result"
    }
   ],
   "source": [
    "multiindex_df = pd.Series(index=new_multiindex).reset_index()\n",
    "\n",
    "multiindex_df = multiindex_df[cols]\n",
    "\n",
    "missing_fevs_agg_df = pd.merge(left = multiindex_df,\n",
    "                               right = all_fevs_agg_df,\n",
    "                               left_on = cols,\n",
    "                               right_on = cols,\n",
    "                               how = 'left')\n",
    "\n",
    "missing_fevs_agg_df['agency'] = missing_fevs_agg_df['subagency'].map(subagency_agency_map)\n",
    "\n",
    "col_order = ['year','agency','subagency','supervisor','sex','minority','leaving',\n",
    "             'count','important work','work quality','successful mission','like work',\n",
    "             'job satisfaction','org satisfaction']\n",
    "\n",
    "missing_fevs_agg_df[col_order].to_csv('fevs_summary_2010-2018.csv',encoding='utf8',index=False)\n",
    "\n",
    "print(\"{:,}\".format(len(missing_fevs_agg_df)))\n",
    "missing_fevs_agg_df.isnull().sum()"
   ]
  },
  {
   "cell_type": "markdown",
   "metadata": {},
   "source": [
    "Count to make sure everything is still there."
   ]
  },
  {
   "cell_type": "code",
   "execution_count": 64,
   "metadata": {},
   "outputs": [
    {
     "data": {
      "text/html": [
       "<div>\n",
       "<style scoped>\n",
       "    .dataframe tbody tr th:only-of-type {\n",
       "        vertical-align: middle;\n",
       "    }\n",
       "\n",
       "    .dataframe tbody tr th {\n",
       "        vertical-align: top;\n",
       "    }\n",
       "\n",
       "    .dataframe thead th {\n",
       "        text-align: right;\n",
       "    }\n",
       "</style>\n",
       "<table border=\"1\" class=\"dataframe\">\n",
       "  <thead>\n",
       "    <tr style=\"text-align: right;\">\n",
       "      <th></th>\n",
       "      <th>count</th>\n",
       "    </tr>\n",
       "    <tr>\n",
       "      <th>year</th>\n",
       "      <th></th>\n",
       "    </tr>\n",
       "  </thead>\n",
       "  <tbody>\n",
       "    <tr>\n",
       "      <th>2010</th>\n",
       "      <td>241999.0</td>\n",
       "    </tr>\n",
       "    <tr>\n",
       "      <th>2011</th>\n",
       "      <td>237851.0</td>\n",
       "    </tr>\n",
       "    <tr>\n",
       "      <th>2012</th>\n",
       "      <td>613739.0</td>\n",
       "    </tr>\n",
       "    <tr>\n",
       "      <th>2013</th>\n",
       "      <td>323023.0</td>\n",
       "    </tr>\n",
       "    <tr>\n",
       "      <th>2014</th>\n",
       "      <td>342127.0</td>\n",
       "    </tr>\n",
       "    <tr>\n",
       "      <th>2015</th>\n",
       "      <td>368572.0</td>\n",
       "    </tr>\n",
       "    <tr>\n",
       "      <th>2016</th>\n",
       "      <td>361078.0</td>\n",
       "    </tr>\n",
       "    <tr>\n",
       "      <th>2017</th>\n",
       "      <td>392469.0</td>\n",
       "    </tr>\n",
       "    <tr>\n",
       "      <th>2018</th>\n",
       "      <td>508082.0</td>\n",
       "    </tr>\n",
       "  </tbody>\n",
       "</table>\n",
       "</div>"
      ],
      "text/plain": [
       "         count\n",
       "year          \n",
       "2010  241999.0\n",
       "2011  237851.0\n",
       "2012  613739.0\n",
       "2013  323023.0\n",
       "2014  342127.0\n",
       "2015  368572.0\n",
       "2016  361078.0\n",
       "2017  392469.0\n",
       "2018  508082.0"
      ]
     },
     "execution_count": 64,
     "metadata": {},
     "output_type": "execute_result"
    }
   ],
   "source": [
    "pd.pivot_table(index='year',values='count',aggfunc='sum',data=missing_fevs_agg_df)"
   ]
  },
  {
   "cell_type": "markdown",
   "metadata": {},
   "source": [
    "## Visualize results"
   ]
  },
  {
   "cell_type": "code",
   "execution_count": 104,
   "metadata": {},
   "outputs": [
    {
     "data": {
      "text/plain": [
       "<seaborn.axisgrid.FacetGrid at 0x122dc0b38>"
      ]
     },
     "execution_count": 104,
     "metadata": {},
     "output_type": "execute_result"
    },
    {
     "data": {
      "image/png": "[encoded data removed]",
      "text/plain": [
       "<Figure size 659.125x360 with 1 Axes>"
      ]
     },
     "metadata": {
      "needs_background": "light"
     },
     "output_type": "display_data"
    }
   ],
   "source": [
    "sb.catplot(x='year',y='successful mission',hue='supervisor',data=all_fevs_agg_df,\n",
    "           kind='point',dodge=.25,aspect=1.25)\n",
    "# plt.savefig('fevs_successful_supervisor.png',dpi=300)"
   ]
  },
  {
   "cell_type": "code",
   "execution_count": 105,
   "metadata": {},
   "outputs": [
    {
     "data": {
      "text/plain": [
       "<seaborn.axisgrid.FacetGrid at 0x122dd76a0>"
      ]
     },
     "execution_count": 105,
     "metadata": {},
     "output_type": "execute_result"
    },
    {
     "data": {
      "image/png": "[encoded data removed]",
      "text/plain": [
       "<Figure size 546.484x360 with 1 Axes>"
      ]
     },
     "metadata": {
      "needs_background": "light"
     },
     "output_type": "display_data"
    }
   ],
   "source": [
    "sb.catplot(x='year',y='job satisfaction',hue='leaving',data=all_fevs_agg_df,\n",
    "           kind='point',dodge=.25,aspect=1.25)\n",
    "# plt.savefig('fevs_job_satisfaction_leaving.png',dpi=300)"
   ]
  },
  {
   "cell_type": "code",
   "execution_count": 106,
   "metadata": {},
   "outputs": [
    {
     "data": {
      "text/plain": [
       "<seaborn.axisgrid.FacetGrid at 0x1219eed68>"
      ]
     },
     "execution_count": 106,
     "metadata": {},
     "output_type": "execute_result"
    },
    {
     "data": {
      "image/png": "[encoded data removed]",
      "text/plain": [
       "<Figure size 522.625x360 with 1 Axes>"
      ]
     },
     "metadata": {
      "needs_background": "light"
     },
     "output_type": "display_data"
    }
   ],
   "source": [
    "sb.catplot(x='year',y='job satisfaction',hue='sex',data=all_fevs_agg_df,\n",
    "           kind='point',dodge=.25,aspect=1.25)\n",
    "# plt.savefig('fevs_job_satisfaction_sex.png',dpi=300)"
   ]
  },
  {
   "cell_type": "code",
   "execution_count": 107,
   "metadata": {},
   "outputs": [
    {
     "data": {
      "text/plain": [
       "<seaborn.axisgrid.FacetGrid at 0x126e8db70>"
      ]
     },
     "execution_count": 107,
     "metadata": {},
     "output_type": "execute_result"
    },
    {
     "data": {
      "image/png": "[encoded data removed]",
      "text/plain": [
       "<Figure size 522.625x360 with 1 Axes>"
      ]
     },
     "metadata": {
      "needs_background": "light"
     },
     "output_type": "display_data"
    }
   ],
   "source": [
    "sb.catplot(x='year',y='important work',hue='sex',data=all_fevs_agg_df,\n",
    "           kind='point',dodge=.25,aspect=1.25)\n",
    "# plt.savefig('fevs_job_satisfaction_sex.png',dpi=300)"
   ]
  },
  {
   "cell_type": "code",
   "execution_count": 108,
   "metadata": {},
   "outputs": [
    {
     "data": {
      "text/plain": [
       "<seaborn.axisgrid.FacetGrid at 0x12788e2b0>"
      ]
     },
     "execution_count": 108,
     "metadata": {},
     "output_type": "execute_result"
    },
    {
     "data": {
      "image/png": "[encoded data removed]",
      "text/plain": [
       "<Figure size 522.625x360 with 1 Axes>"
      ]
     },
     "metadata": {
      "needs_background": "light"
     },
     "output_type": "display_data"
    }
   ],
   "source": [
    "sb.catplot(x='year',y='work quality',hue='sex',data=all_fevs_agg_df,\n",
    "           kind='point',dodge=.25,aspect=1.25)\n",
    "# plt.savefig('fevs_job_satisfaction_sex.png',dpi=300)"
   ]
  },
  {
   "cell_type": "code",
   "execution_count": 109,
   "metadata": {},
   "outputs": [
    {
     "data": {
      "text/plain": [
       "<seaborn.axisgrid.FacetGrid at 0x12bdb5828>"
      ]
     },
     "execution_count": 109,
     "metadata": {},
     "output_type": "execute_result"
    },
    {
     "data": {
      "image/png": "[encoded data removed]",
      "text/plain": [
       "<Figure size 1095.12x360 with 2 Axes>"
      ]
     },
     "metadata": {
      "needs_background": "light"
     },
     "output_type": "display_data"
    }
   ],
   "source": [
    "c1 = all_fevs_agg_df['subagency'] == \"Office Of The U.S. Attorneys\"\n",
    "c2 = all_fevs_agg_df['subagency'] == \"Federal Bureau Of Investigation\"\n",
    "# c3 = all_fevs_agg_df['subagency'] == \"Customs And Border Protection, United States\"\n",
    "# c4 = all_fevs_agg_df['subagency'] == \"Immigration And Customs Enforcement, United States\"\n",
    "\n",
    "_df = all_fevs_agg_df[c1 | c2]# | c3 | c4]\n",
    "\n",
    "sb.catplot(x='year',y='job satisfaction',hue='subagency',col='sex',\n",
    "           data=_df,\n",
    "           kind='point',dodge=.25,aspect=1.25)\n",
    "# plt.savefig('fevs_job_satisfaction_doj_sex.png',dpi=300)"
   ]
  },
  {
   "cell_type": "code",
   "execution_count": 110,
   "metadata": {},
   "outputs": [
    {
     "data": {
      "text/plain": [
       "<seaborn.axisgrid.FacetGrid at 0x12c0083c8>"
      ]
     },
     "execution_count": 110,
     "metadata": {},
     "output_type": "execute_result"
    },
    {
     "data": {
      "image/png": "[encoded data removed]",
      "text/plain": [
       "<Figure size 1095.12x360 with 2 Axes>"
      ]
     },
     "metadata": {
      "needs_background": "light"
     },
     "output_type": "display_data"
    }
   ],
   "source": [
    "sb.catplot(x='year',y='important work',hue='subagency',col='sex',\n",
    "           data=_df,\n",
    "           kind='point',dodge=.25,aspect=1.25)\n",
    "# plt.savefig('fevs_job_satisfaction_doj_sex.png',dpi=300)"
   ]
  },
  {
   "cell_type": "code",
   "execution_count": null,
   "metadata": {},
   "outputs": [],
   "source": []
  }
 ],
 "metadata": {
  "kernelspec": {
   "display_name": "Python 3",
   "language": "python",
   "name": "python3"
  },
  "language_info": {
   "codemirror_mode": {
    "name": "ipython",
    "version": 3
   },
   "file_extension": ".py",
   "mimetype": "text/x-python",
   "name": "python",
   "nbconvert_exporter": "python",
   "pygments_lexer": "ipython3",
   "version": "3.6.8"
  }
 },
 "nbformat": 4,
 "nbformat_minor": 2
}
