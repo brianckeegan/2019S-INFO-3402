{
 "cells": [
  {
   "cell_type": "markdown",
   "metadata": {},
   "source": [
    "# INFO 3402 – Class 06: Scraping the Oscars\n",
    "\n",
    "[Brian C. Keegan, Ph.D.](http://brianckeegan.com/)  \n",
    "[Assistant Professor, Department of Information Science](https://www.colorado.edu/cmci/people/information-science/brian-c-keegan)  \n",
    "University of Colorado Boulder  \n",
    "\n",
    "Copyright and distributed under an [MIT License](https://opensource.org/licenses/MIT)"
   ]
  },
  {
   "cell_type": "markdown",
   "metadata": {},
   "source": [
    "## Parsing HTML data into tabular data\n",
    "\n",
    "The overall goal we have as researchers in scraping data from the web is converting data from one structured format (HTML's tree-like structures) into another structured format (probably a tabular structure with rows and columns). \n",
    "This could involve simply reading tables out of a webpage all the way up to taking irregularly-structured HTML elements into a tabular format. \n",
    "\n",
    "Let's begin by importing the libraries we'll need in this notebook: `requests`, `BeautifulSoup`, and `pandas`."
   ]
  },
  {
   "cell_type": "code",
   "execution_count": 1,
   "metadata": {},
   "outputs": [],
   "source": [
    "# Most straight-forward way to import a librayr in Python\n",
    "import requests\n",
    "\n",
    "# BeautifulSoup is a module inside the \"bs4\" library, we only import the BeautifulSoup module\n",
    "from bs4 import BeautifulSoup\n",
    "\n",
    "# We import pandas but give the library a shortcut alias \"pd\" since we will call its functions so much\n",
    "import pandas as pd"
   ]
  },
  {
   "cell_type": "markdown",
   "metadata": {},
   "source": [
    "## Writing your own parser\n",
    "\n",
    "We will return to the historical Oscars data. Even though data as prominent as this is likely to already exist in tabular format somewhere, we will maintain the illusion that we are the first to both scrape it and parse it into a tabular format. Our goal here is to write a parser that will (ideally) work across multiple pages; in this case, each of the award years.\n",
    "\n",
    "One of the first things we should do before writing any code is come up with a model of what we want our data to look like at the end of this. This is an intuitive and \"tidy\" format, but you might come up with alternatives based on your analysis and modeling needs.\n",
    "\n",
    "| *Year* | *Category* | *Nominee* | *Movie* | *Won* |\n",
    "| --- | --- | --- | --- | --- |\n",
    "| 2019 | Actor in a leading role | Christian Bale | Vice | NA |\n",
    "| 2019 | Actor in a leading role | Bradley Cooper | A Star Is Born | NA |\n",
    "| 2019 | Actor in a leading role | Willem Dafoe | At Eternity's Gate | NA |\n",
    "| 2019 | Actor in a leading role | Rami Malek | Bohemian Rhapsody | NA |\n",
    "| 2019 | Actor in a leading role | Viggo Mortensen | Green Book | NA |\n",
    "\n",
    "We will begin with writing a parser for a (hopefully!) representative year, then scrape the data for all the years, then apply the scraper to each of those years, and finally combine all the years' data together into a large data set. \n",
    "\n",
    "Let's begin with writing a parser for a (hopefully!) representative year: in this case, 2019 is actually not a great case because it is missing information about who won and lost since (at the time of my writing this notebook) the winners had not been announced. We will use 2018 instead and make the profoundly naïve assumption it should work the same going back in time.\n",
    "\n",
    "Start off with using `requests` to get the data and then use `BeautifulSoup` to turn it into soup we can parse through."
   ]
  },
  {
   "cell_type": "code",
   "execution_count": 2,
   "metadata": {},
   "outputs": [],
   "source": [
    "oscars2018_raw = requests.get('https://www.oscars.org/oscars/ceremonies/2018').text\n",
    "\n",
    "oscars2018_soup = BeautifulSoup(oscars2018_raw,'html.parser')"
   ]
  },
  {
   "cell_type": "markdown",
   "metadata": {},
   "source": [
    "Using the Inspect tool exercise from Class 1, the `<div class=\"view-grouping\">` seems to be the most promising tag for us to extract. Use `.find_all('div',{'class':'view-grouping'})` to (hopefully!) get all of these award groups. Inspect the first and last ones to make sure they looks coherent."
   ]
  },
  {
   "cell_type": "code",
   "execution_count": 6,
   "metadata": {},
   "outputs": [
    {
     "data": {
      "text/plain": [
       "<div class=\"view-grouping\"><div class=\"view-grouping-header\"><h2>Actor in a Leading Role</h2></div><div class=\"view-grouping-content\"> <h3><span class=\"golden-text\">Winner</span></h3>\n",
       "<div class=\"views-row views-row-1 views-row-odd views-row-first views-row-last\">\n",
       "<div class=\"views-field views-field-field-actor-name\"> <h4 class=\"field-content\">Gary Oldman</h4> </div>\n",
       "<div class=\"views-field views-field-title\"> <span class=\"field-content\">Darkest Hour\n",
       "</span> </div>\n",
       "<div class=\"views-field views-field-edit-node\"> <span class=\"field-content\"></span> </div> </div>\n",
       "<h3>Nominees</h3>\n",
       "<div class=\"views-row views-row-1 views-row-odd views-row-first\">\n",
       "<div class=\"views-field views-field-field-actor-name\"> <h4 class=\"field-content\">Timothée Chalamet</h4> </div>\n",
       "<div class=\"views-field views-field-title\"> <span class=\"field-content\">Call Me by Your Name\n",
       "</span> </div>\n",
       "<div class=\"views-field views-field-edit-node\"> <span class=\"field-content\"></span> </div> </div>\n",
       "<div class=\"views-row views-row-2 views-row-even\">\n",
       "<div class=\"views-field views-field-field-actor-name\"> <h4 class=\"field-content\">Daniel Day-Lewis</h4> </div>\n",
       "<div class=\"views-field views-field-title\"> <span class=\"field-content\">Phantom Thread\n",
       "</span> </div>\n",
       "<div class=\"views-field views-field-edit-node\"> <span class=\"field-content\"></span> </div> </div>\n",
       "<div class=\"views-row views-row-3 views-row-odd\">\n",
       "<div class=\"views-field views-field-field-actor-name\"> <h4 class=\"field-content\">Daniel Kaluuya</h4> </div>\n",
       "<div class=\"views-field views-field-title\"> <span class=\"field-content\">Get Out\n",
       "</span> </div>\n",
       "<div class=\"views-field views-field-edit-node\"> <span class=\"field-content\"></span> </div> </div>\n",
       "<div class=\"views-row views-row-4 views-row-even views-row-last\">\n",
       "<div class=\"views-field views-field-field-actor-name\"> <h4 class=\"field-content\">Denzel Washington</h4> </div>\n",
       "<div class=\"views-field views-field-title\"> <span class=\"field-content\">Roman J. Israel, Esq.\n",
       "</span> </div>\n",
       "<div class=\"views-field views-field-edit-node\"> <span class=\"field-content\"></span> </div> </div>\n",
       "</div></div>"
      ]
     },
     "execution_count": 6,
     "metadata": {},
     "output_type": "execute_result"
    }
   ],
   "source": [
    "# Get all the groups that have a <div class=\"view-grouping\"> tag\n",
    "oscars2018_groups = oscars2018_soup.find_all('div',{'class':'view-grouping'})\n",
    "\n",
    "# Inspect the first one\n",
    "oscars2018_groups[0]"
   ]
  },
  {
   "cell_type": "markdown",
   "metadata": {},
   "source": [
    "The last group is something besides \"Writing (Original Screenplay)\" and it's not clear to me where this tag's content renders on the page."
   ]
  },
  {
   "cell_type": "code",
   "execution_count": 7,
   "metadata": {},
   "outputs": [
    {
     "data": {
      "text/plain": [
       "<div class=\"view-grouping\"><div class=\"view-grouping-header\">Wonder</div><span class=\"label\">1 Nomination</span><div class=\"view-grouping-content\"> <div>\n",
       "<div class=\"views-field views-field-title-field\"> <div class=\"field-content\">Makeup and Hairstyling - Arjen Tuiten</div> </div> </div>\n",
       "</div></div>"
      ]
     },
     "execution_count": 7,
     "metadata": {},
     "output_type": "execute_result"
    }
   ],
   "source": [
    "# Inspect the last one\n",
    "oscars2018_groups[-1]"
   ]
  },
  {
   "cell_type": "markdown",
   "metadata": {},
   "source": [
    "This puts us into something of a bind going forward: if the `.find_all` returns more groupings than we expected, then it's not sufficiently precise to identify *only* groupings of nominees.  However, there do not appear to be any child tags in the `oscars2018_groups[0]` grouping that uniquely differentiate them from the child tags present in the `oscars2018_groups[-1]` grouping. Another alternative is to simple parse the first 24 groupings, but this is a very brittle solution since other years' awards might have more or fewer groupings."
   ]
  },
  {
   "cell_type": "code",
   "execution_count": 8,
   "metadata": {},
   "outputs": [
    {
     "data": {
      "text/plain": [
       "105"
      ]
     },
     "execution_count": 8,
     "metadata": {},
     "output_type": "execute_result"
    }
   ],
   "source": [
    "len(oscars2018_groups)"
   ]
  },
  {
   "cell_type": "markdown",
   "metadata": {},
   "source": [
    "### Navigating the HTML tree to find more specific parent elements\n",
    "A third alternative is to leverage the tree structure of HTML and get the parent element in the hopes it is more unique than its children. In this case something like `<div id=\"quicktabs-tabpage-honorees-0\"...>` is a promising lead. Use `find_all` to search for this tag and confirm there is only one the one `<div>` element (with its children) rather than multiple `<div>` elements matching \"quicktabs-container-honorees\"."
   ]
  },
  {
   "cell_type": "code",
   "execution_count": 9,
   "metadata": {},
   "outputs": [
    {
     "data": {
      "text/plain": [
       "1"
      ]
     },
     "execution_count": 9,
     "metadata": {},
     "output_type": "execute_result"
    }
   ],
   "source": [
    "# Get the new tag group\n",
    "oscars2018_parent_group = oscars2018_soup.find_all('div',{'id':'quicktabs-tabpage-honorees-0'})\n",
    "\n",
    "# Hopefully there is only one group matching this pattern\n",
    "len(oscars2018_parent_group)\n"
   ]
  },
  {
   "cell_type": "markdown",
   "metadata": {},
   "source": [
    "So far so good, now we can use `find_all` on the soup for this `<div class=\"view-grouping\">` to search *within* this specific parent group and hopefully there should be the 24 awards groupings."
   ]
  },
  {
   "cell_type": "code",
   "execution_count": 10,
   "metadata": {},
   "outputs": [
    {
     "data": {
      "text/plain": [
       "24"
      ]
     },
     "execution_count": 10,
     "metadata": {},
     "output_type": "execute_result"
    }
   ],
   "source": [
    "# Note the addition of the [0] since the _parent_group is a list with 1 element in it\n",
    "# We just extract that single element (which is a soup) and then we can use find_all on it\n",
    "\n",
    "oscars2018_true_groups = oscars2018_parent_group[0].find_all('div',{'class':'view-grouping'})\n",
    "\n",
    "len(oscars2018_true_groups)"
   ]
  },
  {
   "cell_type": "code",
   "execution_count": 16,
   "metadata": {},
   "outputs": [
    {
     "data": {
      "text/plain": [
       "<div class=\"view-grouping\"><div class=\"view-grouping-header\"><h2>Actor in a Leading Role</h2></div><div class=\"view-grouping-content\"> <h3><span class=\"golden-text\">Winner</span></h3>\n",
       "<div class=\"views-row views-row-1 views-row-odd views-row-first views-row-last\">\n",
       "<div class=\"views-field views-field-field-actor-name\"> <h4 class=\"field-content\">Gary Oldman</h4> </div>\n",
       "<div class=\"views-field views-field-title\"> <span class=\"field-content\">Darkest Hour\n",
       "</span> </div>\n",
       "<div class=\"views-field views-field-edit-node\"> <span class=\"field-content\"></span> </div> </div>\n",
       "<h3>Nominees</h3>\n",
       "<div class=\"views-row views-row-1 views-row-odd views-row-first\">\n",
       "<div class=\"views-field views-field-field-actor-name\"> <h4 class=\"field-content\">Timothée Chalamet</h4> </div>\n",
       "<div class=\"views-field views-field-title\"> <span class=\"field-content\">Call Me by Your Name\n",
       "</span> </div>\n",
       "<div class=\"views-field views-field-edit-node\"> <span class=\"field-content\"></span> </div> </div>\n",
       "<div class=\"views-row views-row-2 views-row-even\">\n",
       "<div class=\"views-field views-field-field-actor-name\"> <h4 class=\"field-content\">Daniel Day-Lewis</h4> </div>\n",
       "<div class=\"views-field views-field-title\"> <span class=\"field-content\">Phantom Thread\n",
       "</span> </div>\n",
       "<div class=\"views-field views-field-edit-node\"> <span class=\"field-content\"></span> </div> </div>\n",
       "<div class=\"views-row views-row-3 views-row-odd\">\n",
       "<div class=\"views-field views-field-field-actor-name\"> <h4 class=\"field-content\">Daniel Kaluuya</h4> </div>\n",
       "<div class=\"views-field views-field-title\"> <span class=\"field-content\">Get Out\n",
       "</span> </div>\n",
       "<div class=\"views-field views-field-edit-node\"> <span class=\"field-content\"></span> </div> </div>\n",
       "<div class=\"views-row views-row-4 views-row-even views-row-last\">\n",
       "<div class=\"views-field views-field-field-actor-name\"> <h4 class=\"field-content\">Denzel Washington</h4> </div>\n",
       "<div class=\"views-field views-field-title\"> <span class=\"field-content\">Roman J. Israel, Esq.\n",
       "</span> </div>\n",
       "<div class=\"views-field views-field-edit-node\"> <span class=\"field-content\"></span> </div> </div>\n",
       "</div></div>"
      ]
     },
     "execution_count": 16,
     "metadata": {},
     "output_type": "execute_result"
    }
   ],
   "source": [
    "oscars2018_true_groups"
   ]
  },
  {
   "cell_type": "markdown",
   "metadata": {},
   "source": [
    "Hallelujah! The award names for each group live inside a `<div class=\"view-grouping-header\">`, so we can `find_all` for those, loop through each, and print out the name."
   ]
  },
  {
   "cell_type": "code",
   "execution_count": 17,
   "metadata": {},
   "outputs": [
    {
     "name": "stdout",
     "output_type": "stream",
     "text": [
      "Actor in a Leading Role\n",
      "Actor in a Supporting Role\n",
      "Actress in a Leading Role\n",
      "Actress in a Supporting Role\n",
      "Animated Feature Film\n",
      "Cinematography\n",
      "Costume Design\n",
      "Directing\n",
      "Documentary (Feature)\n",
      "Documentary (Short Subject)\n",
      "Film Editing\n",
      "Foreign Language Film\n",
      "Makeup and Hairstyling\n",
      "Music (Original Score)\n",
      "Music (Original Song)\n",
      "Best Picture\n",
      "Production Design\n",
      "Short Film (Animated)\n",
      "Short Film (Live Action)\n",
      "Sound Editing\n",
      "Sound Mixing\n",
      "Visual Effects\n",
      "Writing (Adapted Screenplay)\n",
      "Writing (Original Screenplay)\n"
     ]
    }
   ],
   "source": [
    "for group in oscars2018_parent_group[0].find_all('h2'):\n",
    "    print(group.text)"
   ]
  },
  {
   "cell_type": "code",
   "execution_count": 11,
   "metadata": {},
   "outputs": [
    {
     "name": "stdout",
     "output_type": "stream",
     "text": [
      "Actor in a Leading Role\n",
      "Actor in a Supporting Role\n",
      "Actress in a Leading Role\n",
      "Actress in a Supporting Role\n",
      "Animated Feature Film\n",
      "Cinematography\n",
      "Costume Design\n",
      "Directing\n",
      "Documentary (Feature)\n",
      "Documentary (Short Subject)\n",
      "Film Editing\n",
      "Foreign Language Film\n",
      "Makeup and Hairstyling\n",
      "Music (Original Score)\n",
      "Music (Original Song)\n",
      "Best Picture\n",
      "Production Design\n",
      "Short Film (Animated)\n",
      "Short Film (Live Action)\n",
      "Sound Editing\n",
      "Sound Mixing\n",
      "Visual Effects\n",
      "Writing (Adapted Screenplay)\n",
      "Writing (Original Screenplay)\n"
     ]
    }
   ],
   "source": [
    "for group in oscars2018_parent_group[0].find_all('div',{'class':'view-grouping-header'}):\n",
    "    print(group.text)"
   ]
  },
  {
   "cell_type": "markdown",
   "metadata": {},
   "source": [
    "It turns out that the Oscars site loads a bunch of extra data that it does not render that lives underneath a `<div id=\"quicktabs-tabpage-honorees-1\">` which is where the 81 extra \"awards\" come from. This appears to be an attempt to organize the page by film, rather than by category.\n",
    "\n",
    "### Navigating the HTML tree from a specific child to find specific generic parents\n",
    "Now bear with me through some additional and presently unnecessary pain. Above, we were able to isolate the 24 category groupings we wanted through finding an appropriate *parent* tag and then working *down*. But I also want to show how we could identify the same 24 category groups by finding an appropriate *child* tag and working back up. This could be helpful in other situations where the elements are hard to disambiguate.\n",
    "\n",
    "Let's start by finding the tag for the \"Actor in a Leading Role\" from the soup containing all the tags."
   ]
  },
  {
   "cell_type": "code",
   "execution_count": null,
   "metadata": {},
   "outputs": [],
   "source": [
    "oscars2018_true_groups[-1]"
   ]
  },
  {
   "cell_type": "markdown",
   "metadata": {},
   "source": [
    "Rather than finding *all* the `<div class=\"view-grouping\">` present in the page, we only want the 23 *siblings* of this specific tag. We can use the `find_next_siblings()` to get these 23 siblings. I do not like this method very much because you have to find the \"eldest\" sibling and then combine it with its siblings later on if you want all the children. In this case, you'd need to keep track of the `<div class=\"view-grouping\">` corresponding to Best Actor and then combine it with its 23 siblings, rather than an approach that simply returns all 24 in a single list."
   ]
  },
  {
   "cell_type": "code",
   "execution_count": null,
   "metadata": {},
   "outputs": [],
   "source": [
    "oscars2018_group0_next_siblings = oscars2018_groups[0].find_next_siblings()\n",
    "\n",
    "len(oscars2018_group0_next_siblings)"
   ]
  },
  {
   "cell_type": "markdown",
   "metadata": {},
   "source": [
    "We could also go up to get the parent and then find all 24 of the `<div class='view-grouping'>` among the children."
   ]
  },
  {
   "cell_type": "code",
   "execution_count": null,
   "metadata": {},
   "outputs": [],
   "source": [
    "# From the child we like, get its parent\n",
    "oscars2018_group0_parent = oscars2018_groups[0].parent\n",
    "\n",
    "# Now with the parent, find all the relevant children\n",
    "oscars2018_group0_parent_children = oscars2018_group0_parent.find_all('div',{'class':'view-grouping'})\n",
    "\n",
    "# Confirm\n",
    "len(oscars2018_group0_parent_children)"
   ]
  },
  {
   "cell_type": "markdown",
   "metadata": {},
   "source": [
    "### Checking the relevant fields\n",
    "\n",
    "That seemed like a major digression away from the core task of writing a parser, but it is critical that we write a parser that parses *only* the data we want and nothing else. Now that we have our 24 awards groups in `oscars2018_true_groups`, let's break one open and extract all the yummy data waiting inside.\n",
    "\n",
    "There are a few `<div>` sub-classes that are helpfully named that should make extracting this data a bit easier.\n",
    "\n",
    "* `<div class=\"view-grouping-header\">` or `<h2>` - name of the category\n",
    "* `<span class=\"golden-text\">` or first child - winner\n",
    "* `<div class=\"views-field views-field-field-actor-name\">` or `<h4>` - name of actor\n",
    "* `<div class=\"views-field views-field-title\">` or `<span>` - title of movie"
   ]
  },
  {
   "cell_type": "code",
   "execution_count": 18,
   "metadata": {},
   "outputs": [
    {
     "data": {
      "text/plain": [
       "<div class=\"view-grouping\"><div class=\"view-grouping-header\"><h2>Actor in a Leading Role</h2></div><div class=\"view-grouping-content\"> <h3><span class=\"golden-text\">Winner</span></h3>\n",
       "<div class=\"views-row views-row-1 views-row-odd views-row-first views-row-last\">\n",
       "<div class=\"views-field views-field-field-actor-name\"> <h4 class=\"field-content\">Gary Oldman</h4> </div>\n",
       "<div class=\"views-field views-field-title\"> <span class=\"field-content\">Darkest Hour\n",
       "</span> </div>\n",
       "<div class=\"views-field views-field-edit-node\"> <span class=\"field-content\"></span> </div> </div>\n",
       "<h3>Nominees</h3>\n",
       "<div class=\"views-row views-row-1 views-row-odd views-row-first\">\n",
       "<div class=\"views-field views-field-field-actor-name\"> <h4 class=\"field-content\">Timothée Chalamet</h4> </div>\n",
       "<div class=\"views-field views-field-title\"> <span class=\"field-content\">Call Me by Your Name\n",
       "</span> </div>\n",
       "<div class=\"views-field views-field-edit-node\"> <span class=\"field-content\"></span> </div> </div>\n",
       "<div class=\"views-row views-row-2 views-row-even\">\n",
       "<div class=\"views-field views-field-field-actor-name\"> <h4 class=\"field-content\">Daniel Day-Lewis</h4> </div>\n",
       "<div class=\"views-field views-field-title\"> <span class=\"field-content\">Phantom Thread\n",
       "</span> </div>\n",
       "<div class=\"views-field views-field-edit-node\"> <span class=\"field-content\"></span> </div> </div>\n",
       "<div class=\"views-row views-row-3 views-row-odd\">\n",
       "<div class=\"views-field views-field-field-actor-name\"> <h4 class=\"field-content\">Daniel Kaluuya</h4> </div>\n",
       "<div class=\"views-field views-field-title\"> <span class=\"field-content\">Get Out\n",
       "</span> </div>\n",
       "<div class=\"views-field views-field-edit-node\"> <span class=\"field-content\"></span> </div> </div>\n",
       "<div class=\"views-row views-row-4 views-row-even views-row-last\">\n",
       "<div class=\"views-field views-field-field-actor-name\"> <h4 class=\"field-content\">Denzel Washington</h4> </div>\n",
       "<div class=\"views-field views-field-title\"> <span class=\"field-content\">Roman J. Israel, Esq.\n",
       "</span> </div>\n",
       "<div class=\"views-field views-field-edit-node\"> <span class=\"field-content\"></span> </div> </div>\n",
       "</div></div>"
      ]
     },
     "execution_count": 18,
     "metadata": {},
     "output_type": "execute_result"
    }
   ],
   "source": [
    "oscars2018_true_groups[0]"
   ]
  },
  {
   "cell_type": "markdown",
   "metadata": {},
   "source": [
    "\"Zoom in\" to the `views-field-field-actor-name`."
   ]
  },
  {
   "cell_type": "code",
   "execution_count": 19,
   "metadata": {},
   "outputs": [
    {
     "data": {
      "text/plain": [
       "[<div class=\"views-field views-field-field-actor-name\"> <h4 class=\"field-content\">Gary Oldman</h4> </div>,\n",
       " <div class=\"views-field views-field-field-actor-name\"> <h4 class=\"field-content\">Timothée Chalamet</h4> </div>,\n",
       " <div class=\"views-field views-field-field-actor-name\"> <h4 class=\"field-content\">Daniel Day-Lewis</h4> </div>,\n",
       " <div class=\"views-field views-field-field-actor-name\"> <h4 class=\"field-content\">Daniel Kaluuya</h4> </div>,\n",
       " <div class=\"views-field views-field-field-actor-name\"> <h4 class=\"field-content\">Denzel Washington</h4> </div>]"
      ]
     },
     "execution_count": 19,
     "metadata": {},
     "output_type": "execute_result"
    }
   ],
   "source": [
    "oscars2018_true_groups[0].find_all('div',{'class':\"views-field views-field-field-actor-name\"})"
   ]
  },
  {
   "cell_type": "markdown",
   "metadata": {},
   "source": [
    "These `<h4>` tags may be more specific and helpful."
   ]
  },
  {
   "cell_type": "code",
   "execution_count": 24,
   "metadata": {},
   "outputs": [
    {
     "data": {
      "text/plain": [
       "[<h4 class=\"field-content\">Gary Oldman</h4>,\n",
       " <h4 class=\"field-content\">Timothée Chalamet</h4>,\n",
       " <h4 class=\"field-content\">Daniel Day-Lewis</h4>,\n",
       " <h4 class=\"field-content\">Daniel Kaluuya</h4>,\n",
       " <h4 class=\"field-content\">Denzel Washington</h4>]"
      ]
     },
     "execution_count": 24,
     "metadata": {},
     "output_type": "execute_result"
    }
   ],
   "source": [
    "oscars2018_true_groups[0].find_all('h4')"
   ]
  },
  {
   "cell_type": "markdown",
   "metadata": {},
   "source": [
    "Zoom into the `views-field-title`."
   ]
  },
  {
   "cell_type": "code",
   "execution_count": 25,
   "metadata": {},
   "outputs": [
    {
     "data": {
      "text/plain": [
       "[<div class=\"views-field views-field-title\"> <span class=\"field-content\">Darkest Hour\n",
       " </span> </div>,\n",
       " <div class=\"views-field views-field-title\"> <span class=\"field-content\">Call Me by Your Name\n",
       " </span> </div>,\n",
       " <div class=\"views-field views-field-title\"> <span class=\"field-content\">Phantom Thread\n",
       " </span> </div>,\n",
       " <div class=\"views-field views-field-title\"> <span class=\"field-content\">Get Out\n",
       " </span> </div>,\n",
       " <div class=\"views-field views-field-title\"> <span class=\"field-content\">Roman J. Israel, Esq.\n",
       " </span> </div>]"
      ]
     },
     "execution_count": 25,
     "metadata": {},
     "output_type": "execute_result"
    }
   ],
   "source": [
    "oscars2018_true_groups[0].find_all('div',{'class':\"views-field views-field-title\"})"
   ]
  },
  {
   "cell_type": "markdown",
   "metadata": {},
   "source": [
    "These `<span>` tags may be more specific and helpful, but there are also empty tags here clogging things up."
   ]
  },
  {
   "cell_type": "code",
   "execution_count": 26,
   "metadata": {},
   "outputs": [
    {
     "data": {
      "text/plain": [
       "[<span class=\"golden-text\">Winner</span>,\n",
       " <span class=\"field-content\">Darkest Hour\n",
       " </span>,\n",
       " <span class=\"field-content\"></span>,\n",
       " <span class=\"field-content\">Call Me by Your Name\n",
       " </span>,\n",
       " <span class=\"field-content\"></span>,\n",
       " <span class=\"field-content\">Phantom Thread\n",
       " </span>,\n",
       " <span class=\"field-content\"></span>,\n",
       " <span class=\"field-content\">Get Out\n",
       " </span>,\n",
       " <span class=\"field-content\"></span>,\n",
       " <span class=\"field-content\">Roman J. Israel, Esq.\n",
       " </span>,\n",
       " <span class=\"field-content\"></span>]"
      ]
     },
     "execution_count": 26,
     "metadata": {},
     "output_type": "execute_result"
    }
   ],
   "source": [
    "oscars2018_true_groups[0].find_all('span')"
   ]
  },
  {
   "cell_type": "markdown",
   "metadata": {},
   "source": [
    "As a battle-scarred web scraper, let me continue to emphasize the importance of quick-checking your assumptions before commiting to writing code. Are these fields still appropriate for other awards categories? Let's check the last category for original screenplay. Are the `<div>`s for \"field-actor-name\" still people and for \"field-title\" still movies? Nope. \n",
    "\n",
    "Looking back at the web page, it's now obvious that the movie title and person who gets the award are flipped between actors/actresses and the other awards categories. We're going to have to keep this in mind going forward!"
   ]
  },
  {
   "cell_type": "code",
   "execution_count": 27,
   "metadata": {},
   "outputs": [
    {
     "data": {
      "text/plain": [
       "[<div class=\"views-field views-field-field-actor-name\"> <h4 class=\"field-content\">Get Out</h4> </div>,\n",
       " <div class=\"views-field views-field-field-actor-name\"> <h4 class=\"field-content\">The Big Sick</h4> </div>,\n",
       " <div class=\"views-field views-field-field-actor-name\"> <h4 class=\"field-content\">Lady Bird</h4> </div>,\n",
       " <div class=\"views-field views-field-field-actor-name\"> <h4 class=\"field-content\">The Shape of Water</h4> </div>,\n",
       " <div class=\"views-field views-field-field-actor-name\"> <h4 class=\"field-content\">Three Billboards outside Ebbing, Missouri</h4> </div>]"
      ]
     },
     "execution_count": 27,
     "metadata": {},
     "output_type": "execute_result"
    }
   ],
   "source": [
    "oscars2018_true_groups[-1].find_all('div',{'class':\"views-field views-field-field-actor-name\"})\n"
   ]
  },
  {
   "cell_type": "code",
   "execution_count": 28,
   "metadata": {},
   "outputs": [
    {
     "data": {
      "text/plain": [
       "[<div class=\"views-field views-field-title\"> <span class=\"field-content\">Written by Jordan Peele\n",
       " </span> </div>,\n",
       " <div class=\"views-field views-field-title\"> <span class=\"field-content\">Written by Emily V. Gordon &amp; Kumail Nanjiani\n",
       " </span> </div>,\n",
       " <div class=\"views-field views-field-title\"> <span class=\"field-content\">Written by Greta Gerwig\n",
       " </span> </div>,\n",
       " <div class=\"views-field views-field-title\"> <span class=\"field-content\">Screenplay by Guillermo del Toro &amp; Vanessa Taylor; Story by Guillermo del Toro\n",
       " </span> </div>,\n",
       " <div class=\"views-field views-field-title\"> <span class=\"field-content\">Written by Martin McDonagh\n",
       " </span> </div>]"
      ]
     },
     "execution_count": 28,
     "metadata": {},
     "output_type": "execute_result"
    }
   ],
   "source": [
    "oscars2018_true_groups[-1].find_all('div',{'class':\"views-field views-field-title\"})"
   ]
  },
  {
   "cell_type": "markdown",
   "metadata": {},
   "source": [
    "### Writing the core parser functionality\n",
    "\n",
    "How will we map the contents of the HTML to the \n",
    "\n",
    "* **Year**: All the awards are from the same year, also in the URL\n",
    "* **Category**: `<h2>`\n",
    "* **Nominee**: `<h4>` for actors, `<span>` for non-actors\n",
    "* **Movie**: `<span>` for actors, `<h4>` for non-actors\n",
    "* **Won**: `<h3>` for sibling, 0 for everyone else; alternatively just the top nominee"
   ]
  },
  {
   "cell_type": "code",
   "execution_count": 29,
   "metadata": {},
   "outputs": [
    {
     "data": {
      "text/plain": [
       "<div class=\"view-grouping\"><div class=\"view-grouping-header\"><h2>Actor in a Leading Role</h2></div><div class=\"view-grouping-content\"> <h3><span class=\"golden-text\">Winner</span></h3>\n",
       "<div class=\"views-row views-row-1 views-row-odd views-row-first views-row-last\">\n",
       "<div class=\"views-field views-field-field-actor-name\"> <h4 class=\"field-content\">Gary Oldman</h4> </div>\n",
       "<div class=\"views-field views-field-title\"> <span class=\"field-content\">Darkest Hour\n",
       "</span> </div>\n",
       "<div class=\"views-field views-field-edit-node\"> <span class=\"field-content\"></span> </div> </div>\n",
       "<h3>Nominees</h3>\n",
       "<div class=\"views-row views-row-1 views-row-odd views-row-first\">\n",
       "<div class=\"views-field views-field-field-actor-name\"> <h4 class=\"field-content\">Timothée Chalamet</h4> </div>\n",
       "<div class=\"views-field views-field-title\"> <span class=\"field-content\">Call Me by Your Name\n",
       "</span> </div>\n",
       "<div class=\"views-field views-field-edit-node\"> <span class=\"field-content\"></span> </div> </div>\n",
       "<div class=\"views-row views-row-2 views-row-even\">\n",
       "<div class=\"views-field views-field-field-actor-name\"> <h4 class=\"field-content\">Daniel Day-Lewis</h4> </div>\n",
       "<div class=\"views-field views-field-title\"> <span class=\"field-content\">Phantom Thread\n",
       "</span> </div>\n",
       "<div class=\"views-field views-field-edit-node\"> <span class=\"field-content\"></span> </div> </div>\n",
       "<div class=\"views-row views-row-3 views-row-odd\">\n",
       "<div class=\"views-field views-field-field-actor-name\"> <h4 class=\"field-content\">Daniel Kaluuya</h4> </div>\n",
       "<div class=\"views-field views-field-title\"> <span class=\"field-content\">Get Out\n",
       "</span> </div>\n",
       "<div class=\"views-field views-field-edit-node\"> <span class=\"field-content\"></span> </div> </div>\n",
       "<div class=\"views-row views-row-4 views-row-even views-row-last\">\n",
       "<div class=\"views-field views-field-field-actor-name\"> <h4 class=\"field-content\">Denzel Washington</h4> </div>\n",
       "<div class=\"views-field views-field-title\"> <span class=\"field-content\">Roman J. Israel, Esq.\n",
       "</span> </div>\n",
       "<div class=\"views-field views-field-edit-node\"> <span class=\"field-content\"></span> </div> </div>\n",
       "</div></div>"
      ]
     },
     "execution_count": 29,
     "metadata": {},
     "output_type": "execute_result"
    }
   ],
   "source": [
    "oscars2018_true_groups[0]"
   ]
  },
  {
   "cell_type": "code",
   "execution_count": 30,
   "metadata": {},
   "outputs": [
    {
     "name": "stdout",
     "output_type": "stream",
     "text": [
      "The name of the category is: Actor in a Leading Role\n"
     ]
    }
   ],
   "source": [
    "category = oscars2018_true_groups[0].find_all('h2')[0].text\n",
    "print(\"The name of the category is:\",category)"
   ]
  },
  {
   "cell_type": "code",
   "execution_count": 31,
   "metadata": {},
   "outputs": [
    {
     "name": "stdout",
     "output_type": "stream",
     "text": [
      "The name of a nominee is: Gary Oldman\n",
      "The name of a nominee is: Timothée Chalamet\n",
      "The name of a nominee is: Daniel Day-Lewis\n",
      "The name of a nominee is: Daniel Kaluuya\n",
      "The name of a nominee is: Denzel Washington\n"
     ]
    }
   ],
   "source": [
    "names = []\n",
    "for _nominee in oscars2018_true_groups[0].find_all('h4'):\n",
    "    nominee_name = _nominee.text\n",
    "    names.append(nominee_name)\n",
    "    print(\"The name of a nominee is:\",nominee_name)"
   ]
  },
  {
   "cell_type": "code",
   "execution_count": 32,
   "metadata": {},
   "outputs": [
    {
     "data": {
      "text/plain": [
       "[<span class=\"golden-text\">Winner</span>,\n",
       " <span class=\"field-content\">Darkest Hour\n",
       " </span>,\n",
       " <span class=\"field-content\"></span>,\n",
       " <span class=\"field-content\">Call Me by Your Name\n",
       " </span>,\n",
       " <span class=\"field-content\"></span>,\n",
       " <span class=\"field-content\">Phantom Thread\n",
       " </span>,\n",
       " <span class=\"field-content\"></span>,\n",
       " <span class=\"field-content\">Get Out\n",
       " </span>,\n",
       " <span class=\"field-content\"></span>,\n",
       " <span class=\"field-content\">Roman J. Israel, Esq.\n",
       " </span>,\n",
       " <span class=\"field-content\"></span>]"
      ]
     },
     "execution_count": 32,
     "metadata": {},
     "output_type": "execute_result"
    }
   ],
   "source": [
    "oscars2018_true_groups[0].find_all('span')"
   ]
  },
  {
   "cell_type": "code",
   "execution_count": 33,
   "metadata": {},
   "outputs": [
    {
     "name": "stdout",
     "output_type": "stream",
     "text": [
      "The name of a movie is: Darkest Hour\n",
      "The name of a movie is: Call Me by Your Name\n",
      "The name of a movie is: Phantom Thread\n",
      "The name of a movie is: Get Out\n",
      "The name of a movie is: Roman J. Israel, Esq.\n"
     ]
    }
   ],
   "source": [
    "movies = []\n",
    "\n",
    "for _movie in oscars2018_true_groups[0].find_all('span',{'class':'field-content'}):\n",
    "    if len(_movie.text) > 0:\n",
    "        movie_name = _movie.text.strip()\n",
    "        movies.append(movie_name)\n",
    "        print(\"The name of a movie is:\",movie_name)"
   ]
  },
  {
   "cell_type": "code",
   "execution_count": 34,
   "metadata": {},
   "outputs": [
    {
     "data": {
      "text/plain": [
       "['Darkest Hour',\n",
       " 'Call Me by Your Name',\n",
       " 'Phantom Thread',\n",
       " 'Get Out',\n",
       " 'Roman J. Israel, Esq.']"
      ]
     },
     "execution_count": 34,
     "metadata": {},
     "output_type": "execute_result"
    }
   ],
   "source": [
    "movies"
   ]
  },
  {
   "cell_type": "code",
   "execution_count": 35,
   "metadata": {},
   "outputs": [
    {
     "data": {
      "text/plain": [
       "['Gary Oldman',\n",
       " 'Timothée Chalamet',\n",
       " 'Daniel Day-Lewis',\n",
       " 'Daniel Kaluuya',\n",
       " 'Denzel Washington']"
      ]
     },
     "execution_count": 35,
     "metadata": {},
     "output_type": "execute_result"
    }
   ],
   "source": [
    "names"
   ]
  },
  {
   "cell_type": "markdown",
   "metadata": {},
   "source": [
    "One strategy is to use Python's [`zip`](https://docs.python.org/3.7/library/functions.html#zip) library to combine elements from different lists together. But `zip` is a bit too slick and abstract for my tastes."
   ]
  },
  {
   "cell_type": "code",
   "execution_count": 36,
   "metadata": {},
   "outputs": [
    {
     "data": {
      "text/plain": [
       "[('Actor in a Leading Role', 'Gary Oldman', 'Darkest Hour'),\n",
       " ('Actor in a Leading Role', 'Timothée Chalamet', 'Call Me by Your Name'),\n",
       " ('Actor in a Leading Role', 'Daniel Day-Lewis', 'Phantom Thread'),\n",
       " ('Actor in a Leading Role', 'Daniel Kaluuya', 'Get Out'),\n",
       " ('Actor in a Leading Role', 'Denzel Washington', 'Roman J. Israel, Esq.')]"
      ]
     },
     "execution_count": 36,
     "metadata": {},
     "output_type": "execute_result"
    }
   ],
   "source": [
    "# The elements of each list being combined need to be the same size\n",
    "# So we make a list of the category name and multiply it by 5 to make it the same size as the others\n",
    "list(zip([category]*5,names,movies))"
   ]
  },
  {
   "cell_type": "markdown",
   "metadata": {},
   "source": [
    "Another strategy is to use the `<div class=\"views-row\">`s for each nominee and extract the relevant information from its subdivs. This is a bit more intuitive in the sense of reading from top to bottom and also makes it easier to capture the winner and losers based on position."
   ]
  },
  {
   "cell_type": "code",
   "execution_count": 37,
   "metadata": {},
   "outputs": [
    {
     "data": {
      "text/plain": [
       "[<div class=\"views-row views-row-1 views-row-odd views-row-first views-row-last\">\n",
       " <div class=\"views-field views-field-field-actor-name\"> <h4 class=\"field-content\">Gary Oldman</h4> </div>\n",
       " <div class=\"views-field views-field-title\"> <span class=\"field-content\">Darkest Hour\n",
       " </span> </div>\n",
       " <div class=\"views-field views-field-edit-node\"> <span class=\"field-content\"></span> </div> </div>,\n",
       " <div class=\"views-row views-row-1 views-row-odd views-row-first\">\n",
       " <div class=\"views-field views-field-field-actor-name\"> <h4 class=\"field-content\">Timothée Chalamet</h4> </div>\n",
       " <div class=\"views-field views-field-title\"> <span class=\"field-content\">Call Me by Your Name\n",
       " </span> </div>\n",
       " <div class=\"views-field views-field-edit-node\"> <span class=\"field-content\"></span> </div> </div>,\n",
       " <div class=\"views-row views-row-2 views-row-even\">\n",
       " <div class=\"views-field views-field-field-actor-name\"> <h4 class=\"field-content\">Daniel Day-Lewis</h4> </div>\n",
       " <div class=\"views-field views-field-title\"> <span class=\"field-content\">Phantom Thread\n",
       " </span> </div>\n",
       " <div class=\"views-field views-field-edit-node\"> <span class=\"field-content\"></span> </div> </div>,\n",
       " <div class=\"views-row views-row-3 views-row-odd\">\n",
       " <div class=\"views-field views-field-field-actor-name\"> <h4 class=\"field-content\">Daniel Kaluuya</h4> </div>\n",
       " <div class=\"views-field views-field-title\"> <span class=\"field-content\">Get Out\n",
       " </span> </div>\n",
       " <div class=\"views-field views-field-edit-node\"> <span class=\"field-content\"></span> </div> </div>,\n",
       " <div class=\"views-row views-row-4 views-row-even views-row-last\">\n",
       " <div class=\"views-field views-field-field-actor-name\"> <h4 class=\"field-content\">Denzel Washington</h4> </div>\n",
       " <div class=\"views-field views-field-title\"> <span class=\"field-content\">Roman J. Israel, Esq.\n",
       " </span> </div>\n",
       " <div class=\"views-field views-field-edit-node\"> <span class=\"field-content\"></span> </div> </div>]"
      ]
     },
     "execution_count": 37,
     "metadata": {},
     "output_type": "execute_result"
    }
   ],
   "source": [
    "oscars2018_true_groups[0].find_all('div',{'class':'views-row'})"
   ]
  },
  {
   "cell_type": "code",
   "execution_count": 38,
   "metadata": {},
   "outputs": [
    {
     "name": "stdout",
     "output_type": "stream",
     "text": [
      "Gary Oldman was nominated for \"Darkest Hour\" and Won.\n",
      "Timothée Chalamet was nominated for \"Call Me by Your Name\" and Lost.\n",
      "Daniel Day-Lewis was nominated for \"Phantom Thread\" and Lost.\n",
      "Daniel Kaluuya was nominated for \"Get Out\" and Lost.\n",
      "Denzel Washington was nominated for \"Roman J. Israel, Esq.\" and Lost.\n"
     ]
    }
   ],
   "source": [
    "actor_nominees = oscars2018_true_groups[0].find_all('div',{'class':'views-row'})\n",
    "\n",
    "for i,nominee in enumerate(actor_nominees):\n",
    "    \n",
    "    # If in the first position, the nominee won\n",
    "    if i == 0:\n",
    "        winner = 'Won'\n",
    "    # Otherwise, the nominee lost\n",
    "    else:\n",
    "        winner = 'Lost'\n",
    "    \n",
    "    # Get a list of all the sub-divs\n",
    "    subdivs = nominee.find_all('div')\n",
    "    \n",
    "    # The first subdiv (for an actor) is the name\n",
    "    name = subdivs[0].text.strip()\n",
    "    \n",
    "    # The second subdiv (for an actor) is the movie name\n",
    "    movie = subdivs[1].text.strip()\n",
    "    \n",
    "    print(\"{0} was nominated for \\\"{1}\\\" and {2}.\".format(name,movie,winner))"
   ]
  },
  {
   "cell_type": "markdown",
   "metadata": {},
   "source": [
    "Check that reversing \"movie\" and \"name\" works for another award category like original screenplay (`oscars2018_true_groups[-1]`). There's some weirdness with \"Written by\" and \"Story by\" filtering in here rather than simply names that may need to get fixed in the final calculation, but I would want to talk to a domain expert about the differences between these labels."
   ]
  },
  {
   "cell_type": "code",
   "execution_count": 39,
   "metadata": {},
   "outputs": [
    {
     "name": "stdout",
     "output_type": "stream",
     "text": [
      "Written by Jordan Peele was nominated for \"Get Out\" and Won.\n",
      "Written by Emily V. Gordon & Kumail Nanjiani was nominated for \"The Big Sick\" and Lost.\n",
      "Written by Greta Gerwig was nominated for \"Lady Bird\" and Lost.\n",
      "Screenplay by Guillermo del Toro & Vanessa Taylor; Story by Guillermo del Toro was nominated for \"The Shape of Water\" and Lost.\n",
      "Written by Martin McDonagh was nominated for \"Three Billboards outside Ebbing, Missouri\" and Lost.\n"
     ]
    }
   ],
   "source": [
    "original_screenplay_nominees = oscars2018_true_groups[-1].find_all('div',{'class':'views-row'})\n",
    "\n",
    "for i,nominee in enumerate(original_screenplay_nominees):\n",
    "    if i == 0:\n",
    "        winner = 'Won'\n",
    "    else:\n",
    "        winner = 'Lost'\n",
    "        \n",
    "    subdivs = nominee.find_all('div')\n",
    "    \n",
    "    # movie and name reversed\n",
    "    movie = subdivs[0].text.strip()\n",
    "    name = subdivs[1].text.strip()\n",
    "    \n",
    "    print(\"{0} was nominated for \\\"{1}\\\" and {2}.\".format(name,movie,winner))"
   ]
  },
  {
   "cell_type": "markdown",
   "metadata": {},
   "source": [
    "This was just for Best Actors, now lets add another layer for all the different awards categories. We can see the movie name and awardee switch is important now since most of the categories are reversed."
   ]
  },
  {
   "cell_type": "code",
   "execution_count": 40,
   "metadata": {},
   "outputs": [
    {
     "name": "stdout",
     "output_type": "stream",
     "text": [
      "Gary Oldman was nominated in Actor in a Leading Role for \"Darkest Hour\" and Won.\n",
      "Timothée Chalamet was nominated in Actor in a Leading Role for \"Call Me by Your Name\" and Lost.\n",
      "Daniel Day-Lewis was nominated in Actor in a Leading Role for \"Phantom Thread\" and Lost.\n",
      "Daniel Kaluuya was nominated in Actor in a Leading Role for \"Get Out\" and Lost.\n",
      "Denzel Washington was nominated in Actor in a Leading Role for \"Roman J. Israel, Esq.\" and Lost.\n",
      "Sam Rockwell was nominated in Actor in a Supporting Role for \"Three Billboards outside Ebbing, Missouri\" and Won.\n",
      "Willem Dafoe was nominated in Actor in a Supporting Role for \"The Florida Project\" and Lost.\n",
      "Woody Harrelson was nominated in Actor in a Supporting Role for \"Three Billboards outside Ebbing, Missouri\" and Lost.\n",
      "Richard Jenkins was nominated in Actor in a Supporting Role for \"The Shape of Water\" and Lost.\n",
      "Christopher Plummer was nominated in Actor in a Supporting Role for \"All the Money in the World\" and Lost.\n",
      "Frances McDormand was nominated in Actress in a Leading Role for \"Three Billboards outside Ebbing, Missouri\" and Won.\n",
      "Sally Hawkins was nominated in Actress in a Leading Role for \"The Shape of Water\" and Lost.\n",
      "Margot Robbie was nominated in Actress in a Leading Role for \"I, Tonya\" and Lost.\n",
      "Saoirse Ronan was nominated in Actress in a Leading Role for \"Lady Bird\" and Lost.\n",
      "Meryl Streep was nominated in Actress in a Leading Role for \"The Post\" and Lost.\n",
      "Allison Janney was nominated in Actress in a Supporting Role for \"I, Tonya\" and Won.\n",
      "Mary J. Blige was nominated in Actress in a Supporting Role for \"Mudbound\" and Lost.\n",
      "Lesley Manville was nominated in Actress in a Supporting Role for \"Phantom Thread\" and Lost.\n",
      "Laurie Metcalf was nominated in Actress in a Supporting Role for \"Lady Bird\" and Lost.\n",
      "Octavia Spencer was nominated in Actress in a Supporting Role for \"The Shape of Water\" and Lost.\n",
      "Coco was nominated in Animated Feature Film for \"Lee Unkrich and Darla K. Anderson\" and Won.\n",
      "The Boss Baby was nominated in Animated Feature Film for \"Tom McGrath and Ramsey Naito\" and Lost.\n",
      "The Breadwinner was nominated in Animated Feature Film for \"Nora Twomey and Anthony Leo\" and Lost.\n",
      "Ferdinand was nominated in Animated Feature Film for \"Carlos Saldanha and Lori Forte\" and Lost.\n",
      "Loving Vincent was nominated in Animated Feature Film for \"Dorota Kobiela, Hugh Welchman and Ivan Mactaggart\" and Lost.\n",
      "Blade Runner 2049 was nominated in Cinematography for \"Roger A. Deakins\" and Won.\n",
      "Darkest Hour was nominated in Cinematography for \"Bruno Delbonnel\" and Lost.\n",
      "Dunkirk was nominated in Cinematography for \"Hoyte van Hoytema\" and Lost.\n",
      "Mudbound was nominated in Cinematography for \"Rachel Morrison\" and Lost.\n",
      "The Shape of Water was nominated in Cinematography for \"Dan Laustsen\" and Lost.\n",
      "Phantom Thread was nominated in Costume Design for \"Mark Bridges\" and Won.\n",
      "Beauty and the Beast was nominated in Costume Design for \"Jacqueline Durran\" and Lost.\n",
      "Darkest Hour was nominated in Costume Design for \"Jacqueline Durran\" and Lost.\n",
      "The Shape of Water was nominated in Costume Design for \"Luis Sequeira\" and Lost.\n",
      "Victoria & Abdul was nominated in Costume Design for \"Consolata Boyle\" and Lost.\n",
      "The Shape of Water was nominated in Directing for \"Guillermo del Toro\" and Won.\n",
      "Dunkirk was nominated in Directing for \"Christopher Nolan\" and Lost.\n",
      "Get Out was nominated in Directing for \"Jordan Peele\" and Lost.\n",
      "Lady Bird was nominated in Directing for \"Greta Gerwig\" and Lost.\n",
      "Phantom Thread was nominated in Directing for \"Paul Thomas Anderson\" and Lost.\n",
      "Icarus was nominated in Documentary (Feature) for \"Bryan Fogel and Dan Cogan\" and Won.\n",
      "Abacus: Small Enough to Jail was nominated in Documentary (Feature) for \"Steve James, Mark Mitten and Julie Goldman\" and Lost.\n",
      "Faces Places was nominated in Documentary (Feature) for \"Agnès Varda, JR and Rosalie Varda\" and Lost.\n",
      "Last Men in Aleppo was nominated in Documentary (Feature) for \"Feras Fayyad, Kareem Abeed and Søren Steen Jespersen\" and Lost.\n",
      "Strong Island was nominated in Documentary (Feature) for \"Yance Ford and Joslyn Barnes\" and Lost.\n",
      "Heaven Is a Traffic Jam on the 405 was nominated in Documentary (Short Subject) for \"Frank Stiefel\" and Won.\n",
      "Edith+Eddie was nominated in Documentary (Short Subject) for \"Laura Checkoway and Thomas Lee Wright\" and Lost.\n",
      "Heroin(e) was nominated in Documentary (Short Subject) for \"Elaine McMillion Sheldon and Kerrin Sheldon\" and Lost.\n",
      "Knife Skills was nominated in Documentary (Short Subject) for \"Thomas Lennon\" and Lost.\n",
      "Traffic Stop was nominated in Documentary (Short Subject) for \"Kate Davis and David Heilbroner\" and Lost.\n",
      "Dunkirk was nominated in Film Editing for \"Lee Smith\" and Won.\n",
      "Baby Driver was nominated in Film Editing for \"Paul Machliss and Jonathan Amos\" and Lost.\n",
      "I, Tonya was nominated in Film Editing for \"Tatiana S. Riegel\" and Lost.\n",
      "The Shape of Water was nominated in Film Editing for \"Sidney Wolinsky\" and Lost.\n",
      "Three Billboards outside Ebbing, Missouri was nominated in Film Editing for \"Jon Gregory\" and Lost.\n",
      "A Fantastic Woman was nominated in Foreign Language Film for \"Chile\" and Won.\n",
      "The Insult was nominated in Foreign Language Film for \"Lebanon\" and Lost.\n",
      "Loveless was nominated in Foreign Language Film for \"Russia\" and Lost.\n",
      "On Body and Soul was nominated in Foreign Language Film for \"Hungary\" and Lost.\n",
      "The Square was nominated in Foreign Language Film for \"Sweden\" and Lost.\n",
      "Darkest Hour was nominated in Makeup and Hairstyling for \"Kazuhiro Tsuji, David Malinowski and Lucy Sibbick\" and Won.\n",
      "Victoria & Abdul was nominated in Makeup and Hairstyling for \"Daniel Phillips and Lou Sheppard\" and Lost.\n",
      "Wonder was nominated in Makeup and Hairstyling for \"Arjen Tuiten\" and Lost.\n",
      "The Shape of Water was nominated in Music (Original Score) for \"Alexandre Desplat\" and Won.\n",
      "Dunkirk was nominated in Music (Original Score) for \"Hans Zimmer\" and Lost.\n",
      "Phantom Thread was nominated in Music (Original Score) for \"Jonny Greenwood\" and Lost.\n",
      "Star Wars: The Last Jedi was nominated in Music (Original Score) for \"John Williams\" and Lost.\n",
      "Three Billboards outside Ebbing, Missouri was nominated in Music (Original Score) for \"Carter Burwell\" and Lost.\n",
      "Remember Me was nominated in Music (Original Song) for \"from Coco; Music and Lyric by Kristen Anderson-Lopez and Robert Lopez\" and Won.\n",
      "Mighty River was nominated in Music (Original Song) for \"from Mudbound; Music and Lyric by Mary J. Blige, Raphael Saadiq and Taura Stinson\" and Lost.\n",
      "Mystery Of Love was nominated in Music (Original Song) for \"from Call Me by Your Name; Music and Lyric by Sufjan Stevens\" and Lost.\n",
      "Stand Up For Something was nominated in Music (Original Song) for \"from Marshall; Music by Diane Warren; Lyric by Lonnie R. Lynn and Diane Warren\" and Lost.\n",
      "This Is Me was nominated in Music (Original Song) for \"from The Greatest Showman; Music and Lyric by Benj Pasek and Justin Paul\" and Lost.\n",
      "The Shape of Water was nominated in Best Picture for \"Guillermo del Toro and J. Miles Dale, Producers\" and Won.\n",
      "Call Me by Your Name was nominated in Best Picture for \"Peter Spears, Luca Guadagnino, Emilie Georges and Marco Morabito, Producers\" and Lost.\n",
      "Darkest Hour was nominated in Best Picture for \"Tim Bevan, Eric Fellner, Lisa Bruce, Anthony McCarten and Douglas Urbanski, Producers\" and Lost.\n",
      "Dunkirk was nominated in Best Picture for \"Emma Thomas and Christopher Nolan, Producers\" and Lost.\n",
      "Get Out was nominated in Best Picture for \"Sean McKittrick, Jason Blum, Edward H. Hamm Jr. and Jordan Peele, Producers\" and Lost.\n",
      "Lady Bird was nominated in Best Picture for \"Scott Rudin, Eli Bush and Evelyn O'Neill, Producers\" and Lost.\n",
      "Phantom Thread was nominated in Best Picture for \"JoAnne Sellar, Paul Thomas Anderson, Megan Ellison and Daniel Lupi, Producers\" and Lost.\n",
      "The Post was nominated in Best Picture for \"Amy Pascal, Steven Spielberg and Kristie Macosko Krieger, Producers\" and Lost.\n",
      "Three Billboards outside Ebbing, Missouri was nominated in Best Picture for \"Graham Broadbent, Pete Czernin and Martin McDonagh, Producers\" and Lost.\n",
      "The Shape of Water was nominated in Production Design for \"Production Design: Paul Denham Austerberry; Set Decoration: Shane Vieau and Jeffrey A. Melvin\" and Won.\n",
      "Beauty and the Beast was nominated in Production Design for \"Production Design: Sarah Greenwood; Set Decoration: Katie Spencer\" and Lost.\n",
      "Blade Runner 2049 was nominated in Production Design for \"Production Design: Dennis Gassner; Set Decoration: Alessandra Querzola\" and Lost.\n",
      "Darkest Hour was nominated in Production Design for \"Production Design: Sarah Greenwood; Set Decoration: Katie Spencer\" and Lost.\n",
      "Dunkirk was nominated in Production Design for \"Production Design: Nathan Crowley; Set Decoration: Gary Fettis\" and Lost.\n",
      "Dear Basketball was nominated in Short Film (Animated) for \"Glen Keane and Kobe Bryant\" and Won.\n",
      "Garden Party was nominated in Short Film (Animated) for \"Victor Caire and Gabriel Grapperon\" and Lost.\n",
      "Lou was nominated in Short Film (Animated) for \"Dave Mullins and Dana Murray\" and Lost.\n",
      "Negative Space was nominated in Short Film (Animated) for \"Max Porter and Ru Kuwahata\" and Lost.\n",
      "Revolting Rhymes was nominated in Short Film (Animated) for \"Jakob Schuh and Jan Lachauer\" and Lost.\n",
      "The Silent Child was nominated in Short Film (Live Action) for \"Chris Overton and Rachel Shenton\" and Won.\n",
      "DeKalb Elementary was nominated in Short Film (Live Action) for \"Reed Van Dyk\" and Lost.\n",
      "The Eleven O'Clock was nominated in Short Film (Live Action) for \"Derin Seale and Josh Lawson\" and Lost.\n",
      "My Nephew Emmett was nominated in Short Film (Live Action) for \"Kevin Wilson, Jr.\" and Lost.\n",
      "Watu Wote/All of Us was nominated in Short Film (Live Action) for \"Katja Benrath and Tobias Rosen\" and Lost.\n",
      "Dunkirk was nominated in Sound Editing for \"Richard King and Alex Gibson\" and Won.\n",
      "Baby Driver was nominated in Sound Editing for \"Julian Slater\" and Lost.\n",
      "Blade Runner 2049 was nominated in Sound Editing for \"Mark Mangini and Theo Green\" and Lost.\n",
      "The Shape of Water was nominated in Sound Editing for \"Nathan Robitaille and Nelson Ferreira\" and Lost.\n",
      "Star Wars: The Last Jedi was nominated in Sound Editing for \"Matthew Wood and Ren Klyce\" and Lost.\n",
      "Dunkirk was nominated in Sound Mixing for \"Gregg Landaker, Gary A. Rizzo and Mark Weingarten\" and Won.\n",
      "Baby Driver was nominated in Sound Mixing for \"Julian Slater, Tim Cavagin and Mary H. Ellis\" and Lost.\n",
      "Blade Runner 2049 was nominated in Sound Mixing for \"Ron Bartlett, Doug Hemphill and Mac Ruth\" and Lost.\n",
      "The Shape of Water was nominated in Sound Mixing for \"Christian Cooke, Brad Zoern and Glen Gauthier\" and Lost.\n",
      "Star Wars: The Last Jedi was nominated in Sound Mixing for \"David Parker, Michael Semanick, Ren Klyce and Stuart Wilson\" and Lost.\n",
      "Blade Runner 2049 was nominated in Visual Effects for \"John Nelson, Gerd Nefzer, Paul Lambert and Richard R. Hoover\" and Won.\n",
      "Guardians of the Galaxy Vol. 2 was nominated in Visual Effects for \"Christopher Townsend, Guy Williams, Jonathan Fawkner and Dan Sudick\" and Lost.\n",
      "Kong: Skull Island was nominated in Visual Effects for \"Stephen Rosenbaum, Jeff White, Scott Benza and Mike Meinardus\" and Lost.\n",
      "Star Wars: The Last Jedi was nominated in Visual Effects for \"Ben Morris, Mike Mulholland, Neal Scanlan and Chris Corbould\" and Lost.\n",
      "War for the Planet of the Apes was nominated in Visual Effects for \"Joe Letteri, Daniel Barrett, Dan Lemmon and Joel Whist\" and Lost.\n",
      "Call Me by Your Name was nominated in Writing (Adapted Screenplay) for \"Screenplay by James Ivory\" and Won.\n",
      "The Disaster Artist was nominated in Writing (Adapted Screenplay) for \"Screenplay by Scott Neustadter & Michael H. Weber\" and Lost.\n",
      "Logan was nominated in Writing (Adapted Screenplay) for \"Screenplay by Scott Frank & James Mangold and Michael Green; Story by James Mangold\" and Lost.\n",
      "Molly's Game was nominated in Writing (Adapted Screenplay) for \"Written for the screen by Aaron Sorkin\" and Lost.\n",
      "Mudbound was nominated in Writing (Adapted Screenplay) for \"Screenplay by Virgil Williams and Dee Rees\" and Lost.\n",
      "Get Out was nominated in Writing (Original Screenplay) for \"Written by Jordan Peele\" and Won.\n",
      "The Big Sick was nominated in Writing (Original Screenplay) for \"Written by Emily V. Gordon & Kumail Nanjiani\" and Lost.\n",
      "Lady Bird was nominated in Writing (Original Screenplay) for \"Written by Greta Gerwig\" and Lost.\n",
      "The Shape of Water was nominated in Writing (Original Screenplay) for \"Screenplay by Guillermo del Toro & Vanessa Taylor; Story by Guillermo del Toro\" and Lost.\n",
      "Three Billboards outside Ebbing, Missouri was nominated in Writing (Original Screenplay) for \"Written by Martin McDonagh\" and Lost.\n"
     ]
    }
   ],
   "source": [
    "for group in oscars2018_true_groups:\n",
    "    category = group.find_all('h2')[0].text\n",
    "    \n",
    "    for i,nominee in enumerate(group.find_all('div',{'class':'views-row'})):\n",
    "        if i == 0:\n",
    "            winner = 'Won'\n",
    "        else:\n",
    "            winner = 'Lost'\n",
    "\n",
    "        subdivs = nominee.find_all('div')\n",
    "        name = subdivs[0].text.strip()\n",
    "        movie = subdivs[1].text.strip()\n",
    "\n",
    "        print(\"{0} was nominated in {1} for \\\"{2}\\\" and {3}.\".format(name,category,movie,winner))"
   ]
  },
  {
   "cell_type": "markdown",
   "metadata": {},
   "source": [
    "Include some flow control, if the name \"actor\" or \"actree\" appears in the category title, then  do nominee name first and movie name second, otherwise do movie name first and nominee name second."
   ]
  },
  {
   "cell_type": "code",
   "execution_count": 41,
   "metadata": {},
   "outputs": [
    {
     "name": "stdout",
     "output_type": "stream",
     "text": [
      "Gary Oldman was nominated in Actor in a Leading Role for \"Darkest Hour\" and Won.\n",
      "Timothée Chalamet was nominated in Actor in a Leading Role for \"Call Me by Your Name\" and Lost.\n",
      "Daniel Day-Lewis was nominated in Actor in a Leading Role for \"Phantom Thread\" and Lost.\n",
      "Daniel Kaluuya was nominated in Actor in a Leading Role for \"Get Out\" and Lost.\n",
      "Denzel Washington was nominated in Actor in a Leading Role for \"Roman J. Israel, Esq.\" and Lost.\n",
      "Sam Rockwell was nominated in Actor in a Supporting Role for \"Three Billboards outside Ebbing, Missouri\" and Won.\n",
      "Willem Dafoe was nominated in Actor in a Supporting Role for \"The Florida Project\" and Lost.\n",
      "Woody Harrelson was nominated in Actor in a Supporting Role for \"Three Billboards outside Ebbing, Missouri\" and Lost.\n",
      "Richard Jenkins was nominated in Actor in a Supporting Role for \"The Shape of Water\" and Lost.\n",
      "Christopher Plummer was nominated in Actor in a Supporting Role for \"All the Money in the World\" and Lost.\n",
      "Frances McDormand was nominated in Actress in a Leading Role for \"Three Billboards outside Ebbing, Missouri\" and Won.\n",
      "Sally Hawkins was nominated in Actress in a Leading Role for \"The Shape of Water\" and Lost.\n",
      "Margot Robbie was nominated in Actress in a Leading Role for \"I, Tonya\" and Lost.\n",
      "Saoirse Ronan was nominated in Actress in a Leading Role for \"Lady Bird\" and Lost.\n",
      "Meryl Streep was nominated in Actress in a Leading Role for \"The Post\" and Lost.\n",
      "Allison Janney was nominated in Actress in a Supporting Role for \"I, Tonya\" and Won.\n",
      "Mary J. Blige was nominated in Actress in a Supporting Role for \"Mudbound\" and Lost.\n",
      "Lesley Manville was nominated in Actress in a Supporting Role for \"Phantom Thread\" and Lost.\n",
      "Laurie Metcalf was nominated in Actress in a Supporting Role for \"Lady Bird\" and Lost.\n",
      "Octavia Spencer was nominated in Actress in a Supporting Role for \"The Shape of Water\" and Lost.\n",
      "Lee Unkrich and Darla K. Anderson was nominated in Animated Feature Film for \"Coco\" and Won.\n",
      "Tom McGrath and Ramsey Naito was nominated in Animated Feature Film for \"The Boss Baby\" and Lost.\n",
      "Nora Twomey and Anthony Leo was nominated in Animated Feature Film for \"The Breadwinner\" and Lost.\n",
      "Carlos Saldanha and Lori Forte was nominated in Animated Feature Film for \"Ferdinand\" and Lost.\n",
      "Dorota Kobiela, Hugh Welchman and Ivan Mactaggart was nominated in Animated Feature Film for \"Loving Vincent\" and Lost.\n",
      "Roger A. Deakins was nominated in Cinematography for \"Blade Runner 2049\" and Won.\n",
      "Bruno Delbonnel was nominated in Cinematography for \"Darkest Hour\" and Lost.\n",
      "Hoyte van Hoytema was nominated in Cinematography for \"Dunkirk\" and Lost.\n",
      "Rachel Morrison was nominated in Cinematography for \"Mudbound\" and Lost.\n",
      "Dan Laustsen was nominated in Cinematography for \"The Shape of Water\" and Lost.\n",
      "Mark Bridges was nominated in Costume Design for \"Phantom Thread\" and Won.\n",
      "Jacqueline Durran was nominated in Costume Design for \"Beauty and the Beast\" and Lost.\n",
      "Jacqueline Durran was nominated in Costume Design for \"Darkest Hour\" and Lost.\n",
      "Luis Sequeira was nominated in Costume Design for \"The Shape of Water\" and Lost.\n",
      "Consolata Boyle was nominated in Costume Design for \"Victoria & Abdul\" and Lost.\n",
      "Guillermo del Toro was nominated in Directing for \"The Shape of Water\" and Won.\n",
      "Christopher Nolan was nominated in Directing for \"Dunkirk\" and Lost.\n",
      "Jordan Peele was nominated in Directing for \"Get Out\" and Lost.\n",
      "Greta Gerwig was nominated in Directing for \"Lady Bird\" and Lost.\n",
      "Paul Thomas Anderson was nominated in Directing for \"Phantom Thread\" and Lost.\n",
      "Bryan Fogel and Dan Cogan was nominated in Documentary (Feature) for \"Icarus\" and Won.\n",
      "Steve James, Mark Mitten and Julie Goldman was nominated in Documentary (Feature) for \"Abacus: Small Enough to Jail\" and Lost.\n",
      "Agnès Varda, JR and Rosalie Varda was nominated in Documentary (Feature) for \"Faces Places\" and Lost.\n",
      "Feras Fayyad, Kareem Abeed and Søren Steen Jespersen was nominated in Documentary (Feature) for \"Last Men in Aleppo\" and Lost.\n",
      "Yance Ford and Joslyn Barnes was nominated in Documentary (Feature) for \"Strong Island\" and Lost.\n",
      "Frank Stiefel was nominated in Documentary (Short Subject) for \"Heaven Is a Traffic Jam on the 405\" and Won.\n",
      "Laura Checkoway and Thomas Lee Wright was nominated in Documentary (Short Subject) for \"Edith+Eddie\" and Lost.\n",
      "Elaine McMillion Sheldon and Kerrin Sheldon was nominated in Documentary (Short Subject) for \"Heroin(e)\" and Lost.\n",
      "Thomas Lennon was nominated in Documentary (Short Subject) for \"Knife Skills\" and Lost.\n",
      "Kate Davis and David Heilbroner was nominated in Documentary (Short Subject) for \"Traffic Stop\" and Lost.\n",
      "Lee Smith was nominated in Film Editing for \"Dunkirk\" and Won.\n",
      "Paul Machliss and Jonathan Amos was nominated in Film Editing for \"Baby Driver\" and Lost.\n",
      "Tatiana S. Riegel was nominated in Film Editing for \"I, Tonya\" and Lost.\n",
      "Sidney Wolinsky was nominated in Film Editing for \"The Shape of Water\" and Lost.\n",
      "Jon Gregory was nominated in Film Editing for \"Three Billboards outside Ebbing, Missouri\" and Lost.\n",
      "Chile was nominated in Foreign Language Film for \"A Fantastic Woman\" and Won.\n",
      "Lebanon was nominated in Foreign Language Film for \"The Insult\" and Lost.\n",
      "Russia was nominated in Foreign Language Film for \"Loveless\" and Lost.\n",
      "Hungary was nominated in Foreign Language Film for \"On Body and Soul\" and Lost.\n",
      "Sweden was nominated in Foreign Language Film for \"The Square\" and Lost.\n",
      "Kazuhiro Tsuji, David Malinowski and Lucy Sibbick was nominated in Makeup and Hairstyling for \"Darkest Hour\" and Won.\n",
      "Daniel Phillips and Lou Sheppard was nominated in Makeup and Hairstyling for \"Victoria & Abdul\" and Lost.\n",
      "Arjen Tuiten was nominated in Makeup and Hairstyling for \"Wonder\" and Lost.\n",
      "Alexandre Desplat was nominated in Music (Original Score) for \"The Shape of Water\" and Won.\n",
      "Hans Zimmer was nominated in Music (Original Score) for \"Dunkirk\" and Lost.\n",
      "Jonny Greenwood was nominated in Music (Original Score) for \"Phantom Thread\" and Lost.\n",
      "John Williams was nominated in Music (Original Score) for \"Star Wars: The Last Jedi\" and Lost.\n",
      "Carter Burwell was nominated in Music (Original Score) for \"Three Billboards outside Ebbing, Missouri\" and Lost.\n",
      "from Coco; Music and Lyric by Kristen Anderson-Lopez and Robert Lopez was nominated in Music (Original Song) for \"Remember Me\" and Won.\n",
      "from Mudbound; Music and Lyric by Mary J. Blige, Raphael Saadiq and Taura Stinson was nominated in Music (Original Song) for \"Mighty River\" and Lost.\n",
      "from Call Me by Your Name; Music and Lyric by Sufjan Stevens was nominated in Music (Original Song) for \"Mystery Of Love\" and Lost.\n",
      "from Marshall; Music by Diane Warren; Lyric by Lonnie R. Lynn and Diane Warren was nominated in Music (Original Song) for \"Stand Up For Something\" and Lost.\n",
      "from The Greatest Showman; Music and Lyric by Benj Pasek and Justin Paul was nominated in Music (Original Song) for \"This Is Me\" and Lost.\n",
      "Guillermo del Toro and J. Miles Dale, Producers was nominated in Best Picture for \"The Shape of Water\" and Won.\n",
      "Peter Spears, Luca Guadagnino, Emilie Georges and Marco Morabito, Producers was nominated in Best Picture for \"Call Me by Your Name\" and Lost.\n",
      "Tim Bevan, Eric Fellner, Lisa Bruce, Anthony McCarten and Douglas Urbanski, Producers was nominated in Best Picture for \"Darkest Hour\" and Lost.\n",
      "Emma Thomas and Christopher Nolan, Producers was nominated in Best Picture for \"Dunkirk\" and Lost.\n",
      "Sean McKittrick, Jason Blum, Edward H. Hamm Jr. and Jordan Peele, Producers was nominated in Best Picture for \"Get Out\" and Lost.\n",
      "Scott Rudin, Eli Bush and Evelyn O'Neill, Producers was nominated in Best Picture for \"Lady Bird\" and Lost.\n",
      "JoAnne Sellar, Paul Thomas Anderson, Megan Ellison and Daniel Lupi, Producers was nominated in Best Picture for \"Phantom Thread\" and Lost.\n",
      "Amy Pascal, Steven Spielberg and Kristie Macosko Krieger, Producers was nominated in Best Picture for \"The Post\" and Lost.\n",
      "Graham Broadbent, Pete Czernin and Martin McDonagh, Producers was nominated in Best Picture for \"Three Billboards outside Ebbing, Missouri\" and Lost.\n",
      "Production Design: Paul Denham Austerberry; Set Decoration: Shane Vieau and Jeffrey A. Melvin was nominated in Production Design for \"The Shape of Water\" and Won.\n",
      "Production Design: Sarah Greenwood; Set Decoration: Katie Spencer was nominated in Production Design for \"Beauty and the Beast\" and Lost.\n",
      "Production Design: Dennis Gassner; Set Decoration: Alessandra Querzola was nominated in Production Design for \"Blade Runner 2049\" and Lost.\n",
      "Production Design: Sarah Greenwood; Set Decoration: Katie Spencer was nominated in Production Design for \"Darkest Hour\" and Lost.\n",
      "Production Design: Nathan Crowley; Set Decoration: Gary Fettis was nominated in Production Design for \"Dunkirk\" and Lost.\n",
      "Glen Keane and Kobe Bryant was nominated in Short Film (Animated) for \"Dear Basketball\" and Won.\n",
      "Victor Caire and Gabriel Grapperon was nominated in Short Film (Animated) for \"Garden Party\" and Lost.\n",
      "Dave Mullins and Dana Murray was nominated in Short Film (Animated) for \"Lou\" and Lost.\n",
      "Max Porter and Ru Kuwahata was nominated in Short Film (Animated) for \"Negative Space\" and Lost.\n",
      "Jakob Schuh and Jan Lachauer was nominated in Short Film (Animated) for \"Revolting Rhymes\" and Lost.\n",
      "Chris Overton and Rachel Shenton was nominated in Short Film (Live Action) for \"The Silent Child\" and Won.\n",
      "Reed Van Dyk was nominated in Short Film (Live Action) for \"DeKalb Elementary\" and Lost.\n",
      "Derin Seale and Josh Lawson was nominated in Short Film (Live Action) for \"The Eleven O'Clock\" and Lost.\n",
      "Kevin Wilson, Jr. was nominated in Short Film (Live Action) for \"My Nephew Emmett\" and Lost.\n",
      "Katja Benrath and Tobias Rosen was nominated in Short Film (Live Action) for \"Watu Wote/All of Us\" and Lost.\n",
      "Richard King and Alex Gibson was nominated in Sound Editing for \"Dunkirk\" and Won.\n",
      "Julian Slater was nominated in Sound Editing for \"Baby Driver\" and Lost.\n",
      "Mark Mangini and Theo Green was nominated in Sound Editing for \"Blade Runner 2049\" and Lost.\n",
      "Nathan Robitaille and Nelson Ferreira was nominated in Sound Editing for \"The Shape of Water\" and Lost.\n",
      "Matthew Wood and Ren Klyce was nominated in Sound Editing for \"Star Wars: The Last Jedi\" and Lost.\n",
      "Gregg Landaker, Gary A. Rizzo and Mark Weingarten was nominated in Sound Mixing for \"Dunkirk\" and Won.\n",
      "Julian Slater, Tim Cavagin and Mary H. Ellis was nominated in Sound Mixing for \"Baby Driver\" and Lost.\n",
      "Ron Bartlett, Doug Hemphill and Mac Ruth was nominated in Sound Mixing for \"Blade Runner 2049\" and Lost.\n",
      "Christian Cooke, Brad Zoern and Glen Gauthier was nominated in Sound Mixing for \"The Shape of Water\" and Lost.\n",
      "David Parker, Michael Semanick, Ren Klyce and Stuart Wilson was nominated in Sound Mixing for \"Star Wars: The Last Jedi\" and Lost.\n",
      "John Nelson, Gerd Nefzer, Paul Lambert and Richard R. Hoover was nominated in Visual Effects for \"Blade Runner 2049\" and Won.\n",
      "Christopher Townsend, Guy Williams, Jonathan Fawkner and Dan Sudick was nominated in Visual Effects for \"Guardians of the Galaxy Vol. 2\" and Lost.\n",
      "Stephen Rosenbaum, Jeff White, Scott Benza and Mike Meinardus was nominated in Visual Effects for \"Kong: Skull Island\" and Lost.\n",
      "Ben Morris, Mike Mulholland, Neal Scanlan and Chris Corbould was nominated in Visual Effects for \"Star Wars: The Last Jedi\" and Lost.\n",
      "Joe Letteri, Daniel Barrett, Dan Lemmon and Joel Whist was nominated in Visual Effects for \"War for the Planet of the Apes\" and Lost.\n",
      "Screenplay by James Ivory was nominated in Writing (Adapted Screenplay) for \"Call Me by Your Name\" and Won.\n",
      "Screenplay by Scott Neustadter & Michael H. Weber was nominated in Writing (Adapted Screenplay) for \"The Disaster Artist\" and Lost.\n",
      "Screenplay by Scott Frank & James Mangold and Michael Green; Story by James Mangold was nominated in Writing (Adapted Screenplay) for \"Logan\" and Lost.\n",
      "Written for the screen by Aaron Sorkin was nominated in Writing (Adapted Screenplay) for \"Molly's Game\" and Lost.\n",
      "Screenplay by Virgil Williams and Dee Rees was nominated in Writing (Adapted Screenplay) for \"Mudbound\" and Lost.\n",
      "Written by Jordan Peele was nominated in Writing (Original Screenplay) for \"Get Out\" and Won.\n",
      "Written by Emily V. Gordon & Kumail Nanjiani was nominated in Writing (Original Screenplay) for \"The Big Sick\" and Lost.\n",
      "Written by Greta Gerwig was nominated in Writing (Original Screenplay) for \"Lady Bird\" and Lost.\n",
      "Screenplay by Guillermo del Toro & Vanessa Taylor; Story by Guillermo del Toro was nominated in Writing (Original Screenplay) for \"The Shape of Water\" and Lost.\n",
      "Written by Martin McDonagh was nominated in Writing (Original Screenplay) for \"Three Billboards outside Ebbing, Missouri\" and Lost.\n"
     ]
    }
   ],
   "source": [
    "for group in oscars2018_true_groups:\n",
    "    category = group.find_all('h2')[0].text\n",
    "    \n",
    "    if 'Actor' in category or 'Actress' in category:\n",
    "    \n",
    "        for i,nominee in enumerate(group.find_all('div',{'class':'views-row'})):\n",
    "            if i == 0:\n",
    "                winner = 'Won'\n",
    "            else:\n",
    "                winner = 'Lost'\n",
    "\n",
    "            subdivs = nominee.find_all('div')\n",
    "            name = subdivs[0].text.strip()\n",
    "            movie = subdivs[1].text.strip()\n",
    "\n",
    "            print(\"{0} was nominated in {1} for \\\"{2}\\\" and {3}.\".format(name,category,movie,winner))\n",
    "            \n",
    "    else:\n",
    "        \n",
    "        for i,nominee in enumerate(group.find_all('div',{'class':'views-row'})):\n",
    "            if i == 0:\n",
    "                winner = 'Won'\n",
    "            else:\n",
    "                winner = 'Lost'\n",
    "\n",
    "            subdivs = nominee.find_all('div')\n",
    "            movie = subdivs[0].text.strip()\n",
    "            name = subdivs[1].text.strip()\n",
    "\n",
    "            print(\"{0} was nominated in {1} for \\\"{2}\\\" and {3}.\".format(name,category,movie,winner))\n",
    "            "
   ]
  },
  {
   "cell_type": "markdown",
   "metadata": {},
   "source": [
    "Rather than printing out the information, store it in `nominees_2018` so that we can turn it into a DataFrame."
   ]
  },
  {
   "cell_type": "code",
   "execution_count": 42,
   "metadata": {},
   "outputs": [],
   "source": [
    "nominees_2018 = []\n",
    "\n",
    "for group in oscars2018_true_groups:\n",
    "    category = group.find_all('h2')[0].text\n",
    "    \n",
    "    if 'Actor' in category or 'Actress' in category:\n",
    "    \n",
    "        for i,nominee in enumerate(group.find_all('div',{'class':'views-row'})):\n",
    "            if i == 0:\n",
    "                winner = 'Won'\n",
    "            else:\n",
    "                winner = 'Lost'\n",
    "\n",
    "            subdivs = nominee.find_all('div')\n",
    "            name = subdivs[0].text.strip()\n",
    "            movie = subdivs[1].text.strip()\n",
    "            \n",
    "            # Swap out the print\n",
    "            # Make a payload for each nominee\n",
    "            nominee_payload = {'Category':category,\n",
    "                               'Name':name,\n",
    "                               'Movie':movie,\n",
    "                               'Year':2018, # We're only looking at 2018 right now\n",
    "                               'Winner':winner}\n",
    "            \n",
    "            # Add the payload to the list of nominees at top\n",
    "            nominees_2018.append(nominee_payload)\n",
    "            \n",
    "    else:\n",
    "        \n",
    "        for i,nominee in enumerate(group.find_all('div',{'class':'views-row'})):\n",
    "            if i == 0:\n",
    "                winner = 'Won'\n",
    "            else:\n",
    "                winner = 'Lost'\n",
    "\n",
    "            subdivs = nominee.find_all('div')\n",
    "            movie = subdivs[0].text.strip()\n",
    "            name = subdivs[1].text.strip()\n",
    "\n",
    "            # Swap out the print\n",
    "            nominee_payload = {'Category':category,\n",
    "                               'Name':name,\n",
    "                               'Movie':movie,\n",
    "                               'Year':2018,\n",
    "                               'Winner':winner}\n",
    "            \n",
    "            nominees_2018.append(nominee_payload)\n",
    "            "
   ]
  },
  {
   "cell_type": "markdown",
   "metadata": {},
   "source": [
    "Moment of truth!"
   ]
  },
  {
   "cell_type": "code",
   "execution_count": 46,
   "metadata": {},
   "outputs": [
    {
     "data": {
      "text/html": [
       "<div>\n",
       "<style scoped>\n",
       "    .dataframe tbody tr th:only-of-type {\n",
       "        vertical-align: middle;\n",
       "    }\n",
       "\n",
       "    .dataframe tbody tr th {\n",
       "        vertical-align: top;\n",
       "    }\n",
       "\n",
       "    .dataframe thead th {\n",
       "        text-align: right;\n",
       "    }\n",
       "</style>\n",
       "<table border=\"1\" class=\"dataframe\">\n",
       "  <thead>\n",
       "    <tr style=\"text-align: right;\">\n",
       "      <th></th>\n",
       "      <th>Category</th>\n",
       "      <th>Movie</th>\n",
       "      <th>Name</th>\n",
       "      <th>Winner</th>\n",
       "      <th>Year</th>\n",
       "    </tr>\n",
       "  </thead>\n",
       "  <tbody>\n",
       "    <tr>\n",
       "      <th>0</th>\n",
       "      <td>Actor in a Leading Role</td>\n",
       "      <td>Darkest Hour</td>\n",
       "      <td>Gary Oldman</td>\n",
       "      <td>Won</td>\n",
       "      <td>2018</td>\n",
       "    </tr>\n",
       "    <tr>\n",
       "      <th>1</th>\n",
       "      <td>Actor in a Leading Role</td>\n",
       "      <td>Call Me by Your Name</td>\n",
       "      <td>Timothée Chalamet</td>\n",
       "      <td>Lost</td>\n",
       "      <td>2018</td>\n",
       "    </tr>\n",
       "    <tr>\n",
       "      <th>2</th>\n",
       "      <td>Actor in a Leading Role</td>\n",
       "      <td>Phantom Thread</td>\n",
       "      <td>Daniel Day-Lewis</td>\n",
       "      <td>Lost</td>\n",
       "      <td>2018</td>\n",
       "    </tr>\n",
       "    <tr>\n",
       "      <th>3</th>\n",
       "      <td>Actor in a Leading Role</td>\n",
       "      <td>Get Out</td>\n",
       "      <td>Daniel Kaluuya</td>\n",
       "      <td>Lost</td>\n",
       "      <td>2018</td>\n",
       "    </tr>\n",
       "    <tr>\n",
       "      <th>4</th>\n",
       "      <td>Actor in a Leading Role</td>\n",
       "      <td>Roman J. Israel, Esq.</td>\n",
       "      <td>Denzel Washington</td>\n",
       "      <td>Lost</td>\n",
       "      <td>2018</td>\n",
       "    </tr>\n",
       "  </tbody>\n",
       "</table>\n",
       "</div>"
      ],
      "text/plain": [
       "                  Category                  Movie               Name Winner  \\\n",
       "0  Actor in a Leading Role           Darkest Hour        Gary Oldman    Won   \n",
       "1  Actor in a Leading Role   Call Me by Your Name  Timothée Chalamet   Lost   \n",
       "2  Actor in a Leading Role         Phantom Thread   Daniel Day-Lewis   Lost   \n",
       "3  Actor in a Leading Role                Get Out     Daniel Kaluuya   Lost   \n",
       "4  Actor in a Leading Role  Roman J. Israel, Esq.  Denzel Washington   Lost   \n",
       "\n",
       "   Year  \n",
       "0  2018  \n",
       "1  2018  \n",
       "2  2018  \n",
       "3  2018  \n",
       "4  2018  "
      ]
     },
     "execution_count": 46,
     "metadata": {},
     "output_type": "execute_result"
    }
   ],
   "source": [
    "nominees_df = pd.DataFrame(nominees_2018)\n",
    "nominees_df.head()"
   ]
  },
  {
   "cell_type": "code",
   "execution_count": 49,
   "metadata": {},
   "outputs": [
    {
     "data": {
      "text/plain": [
       "The Shape of Water                           4\n",
       "Dunkirk                                      3\n",
       "Three Billboards outside Ebbing, Missouri    2\n",
       "Blade Runner 2049                            2\n",
       "Darkest Hour                                 2\n",
       "Icarus                                       1\n",
       "Phantom Thread                               1\n",
       "I, Tonya                                     1\n",
       "The Silent Child                             1\n",
       "Remember Me                                  1\n",
       "Call Me by Your Name                         1\n",
       "Coco                                         1\n",
       "A Fantastic Woman                            1\n",
       "Heaven Is a Traffic Jam on the 405           1\n",
       "Dear Basketball                              1\n",
       "Get Out                                      1\n",
       "Name: Movie, dtype: int64"
      ]
     },
     "execution_count": 49,
     "metadata": {},
     "output_type": "execute_result"
    }
   ],
   "source": [
    "nominees_df.loc[nominees_df['Winner'] == 'Won','Movie'].value_counts()"
   ]
  },
  {
   "cell_type": "markdown",
   "metadata": {},
   "source": [
    "Now let's turn this hulking beast of a parser into a function so we can apply it to other years' nominees in the next step."
   ]
  },
  {
   "cell_type": "code",
   "execution_count": 50,
   "metadata": {},
   "outputs": [],
   "source": [
    "def parse_nominees(true_groups,year):\n",
    "    nominees_list = []\n",
    "\n",
    "    for group in true_groups:\n",
    "        category = group.find_all('h2')[0].text\n",
    "\n",
    "        if 'Actor' in category or 'Actress' in category:\n",
    "\n",
    "            for i,nominee in enumerate(group.find_all('div',{'class':'views-row'})):\n",
    "                if i == 0:\n",
    "                    winner = 'Won'\n",
    "                else:\n",
    "                    winner = 'Lost'\n",
    "\n",
    "                subdivs = nominee.find_all('div')\n",
    "                name = subdivs[0].text.strip()\n",
    "                movie = subdivs[1].text.strip()\n",
    "                \n",
    "                nominee_payload = {'Category':category,\n",
    "                                   'Name':name,\n",
    "                                   'Movie':movie,\n",
    "                                   'Year':year, # We may look at other years\n",
    "                                   'Winner':winner}\n",
    "\n",
    "                nominees_list.append(nominee_payload)\n",
    "\n",
    "        else:\n",
    "\n",
    "            for i,nominee in enumerate(group.find_all('div',{'class':'views-row'})):\n",
    "                if i == 0:\n",
    "                    winner = 'Won'\n",
    "                else:\n",
    "                    winner = 'Lost'\n",
    "\n",
    "                subdivs = nominee.find_all('div')\n",
    "                movie = subdivs[0].text.strip()\n",
    "                name = subdivs[1].text.strip()\n",
    "\n",
    "                nominee_payload = {'Category':category,\n",
    "                                   'Name':name,\n",
    "                                   'Movie':movie,\n",
    "                                   'Year':year,\n",
    "                                   'Winner':winner}\n",
    "\n",
    "                nominees_list.append(nominee_payload)\n",
    "    \n",
    "    return nominees_list"
   ]
  },
  {
   "cell_type": "markdown",
   "metadata": {},
   "source": [
    "## Iterating vs. parsing to retrieve data\n",
    "\n",
    "Often the data you are interested in is spread across multiple web pages. In an ideal world, the naming conventions would let you retrieve the data from these pages systematically. In the case of the Oscars, the URLs appear to be consistently formatted: `https://www.oscars.org/oscars/ceremonies/2019` suggests that we could change the 2019 to any other date going back to the start of the Oscars and get that year as well: `https://www.oscars.org/oscars/ceremonies/2018` should get us the page for 2018, and so on. Let's demonstrate each of these strategies with the Oscars data: iterating from 2019 back to 1929 in the URL versus parsing the list of links from the header.\n",
    "\n",
    "### Iterating strategies for retrieving data\n",
    "\n",
    "The fundamental assumption with this strategy is that the data are stored at URLs in a consistent way that we can access sequentially. In the case of the Oscars, we *should* be able to simply pass each year to the URL in requests. \n",
    "\n",
    "Here we want to practice responsible data scraping by including a sleep between each request so that we do not overwhelm the Oscars server with requests. We can use the `sleep` function within `time`."
   ]
  },
  {
   "cell_type": "code",
   "execution_count": 51,
   "metadata": {},
   "outputs": [],
   "source": [
    "from time import sleep"
   ]
  },
  {
   "cell_type": "markdown",
   "metadata": {},
   "source": [
    "The `sleep(3)` below prevents any more code from progressing for 3 seconds."
   ]
  },
  {
   "cell_type": "code",
   "execution_count": 52,
   "metadata": {},
   "outputs": [
    {
     "name": "stdout",
     "output_type": "stream",
     "text": [
      "The start of something.\n",
      "The end of something.\n"
     ]
    }
   ],
   "source": [
    "print(\"The start of something.\")\n",
    "sleep(3)\n",
    "print(\"The end of something.\")"
   ]
  },
  {
   "cell_type": "markdown",
   "metadata": {},
   "source": [
    "The core part of the iterating strategy is simply using Python's [`range`](https://docs.python.org/3.7/library/functions.html#func-range) function to generate a sequence of values. Here, we can use `range` to print out a sequence of URLs that should correspond to awards pages from 2010 through 2019. We can also incorporate the `sleep` functionality and wait a second between each `print` statement—it should now take 10 seconds for this code to finish printing. This simulates how we can use `sleep` to slow down and spread out requests so that we do not overwhelm the servers whose data we are trying to scrape."
   ]
  },
  {
   "cell_type": "code",
   "execution_count": 53,
   "metadata": {},
   "outputs": [
    {
     "data": {
      "text/plain": [
       "[2010, 2011, 2012, 2013, 2014, 2015, 2016, 2017, 2018, 2019]"
      ]
     },
     "execution_count": 53,
     "metadata": {},
     "output_type": "execute_result"
    }
   ],
   "source": [
    "list(range(2010,2020))"
   ]
  },
  {
   "cell_type": "code",
   "execution_count": 55,
   "metadata": {},
   "outputs": [
    {
     "name": "stdout",
     "output_type": "stream",
     "text": [
      "https://www.oscars.org/oscars/ceremonies/2010\n",
      "https://www.oscars.org/oscars/ceremonies/2011\n",
      "https://www.oscars.org/oscars/ceremonies/2012\n",
      "https://www.oscars.org/oscars/ceremonies/2013\n",
      "https://www.oscars.org/oscars/ceremonies/2014\n",
      "https://www.oscars.org/oscars/ceremonies/2015\n",
      "https://www.oscars.org/oscars/ceremonies/2016\n",
      "https://www.oscars.org/oscars/ceremonies/2017\n",
      "https://www.oscars.org/oscars/ceremonies/2018\n",
      "https://www.oscars.org/oscars/ceremonies/2019\n"
     ]
    }
   ],
   "source": [
    "for year in range(2010,2020):\n",
    "    sleep(1)\n",
    "    print('https://www.oscars.org/oscars/ceremonies/{0}'.format(year))"
   ]
  },
  {
   "cell_type": "markdown",
   "metadata": {},
   "source": [
    "We defined a function `parse_nominees` above that takes the \"true groups\" of nominees. Let's try to tie these pieces together for all the nominees in the 2010s."
   ]
  },
  {
   "cell_type": "code",
   "execution_count": 56,
   "metadata": {},
   "outputs": [],
   "source": [
    "# Create an empty list to store the data we get\n",
    "all_years_nominees = dict()\n",
    "\n",
    "# For each year starting in 2010 until 2019\n",
    "for year in range(2010,2020):\n",
    "    \n",
    "    # Pause for a second between each request\n",
    "    sleep(1)\n",
    "    \n",
    "    # Get the raw HTML\n",
    "    year_raw_html = requests.get('https://www.oscars.org/oscars/ceremonies/{0}'.format(year)).text\n",
    "\n",
    "    # Soup-ify\n",
    "    year_souped_html = BeautifulSoup(year_raw_html)\n",
    "    \n",
    "    # Get the parent group\n",
    "    year_parent_group = year_souped_html.find_all('div',{'id':'quicktabs-tabpage-honorees-0'})\n",
    "    \n",
    "    # Get the true groups under the parent group\n",
    "    year_true_groups = year_parent_group[0].find_all('div',{'class':'view-grouping'})\n",
    "    \n",
    "    # Use our parsing function, passing the year from above\n",
    "    year_nominees = parse_nominees(year_true_groups,year)\n",
    "    \n",
    "    # Convert the year_nominees to a DataFrame and add them to all_years_nominees\n",
    "    all_years_nominees[year] = pd.DataFrame(year_nominees)"
   ]
  },
  {
   "cell_type": "markdown",
   "metadata": {},
   "source": [
    "Combine each of the DataFrames in `all_years_nominees` into a giant DataFrame of all the nominees from 2010-2019."
   ]
  },
  {
   "cell_type": "code",
   "execution_count": 57,
   "metadata": {},
   "outputs": [
    {
     "data": {
      "text/html": [
       "<div>\n",
       "<style scoped>\n",
       "    .dataframe tbody tr th:only-of-type {\n",
       "        vertical-align: middle;\n",
       "    }\n",
       "\n",
       "    .dataframe tbody tr th {\n",
       "        vertical-align: top;\n",
       "    }\n",
       "\n",
       "    .dataframe thead th {\n",
       "        text-align: right;\n",
       "    }\n",
       "</style>\n",
       "<table border=\"1\" class=\"dataframe\">\n",
       "  <thead>\n",
       "    <tr style=\"text-align: right;\">\n",
       "      <th></th>\n",
       "      <th>Category</th>\n",
       "      <th>Movie</th>\n",
       "      <th>Name</th>\n",
       "      <th>Winner</th>\n",
       "      <th>Year</th>\n",
       "    </tr>\n",
       "  </thead>\n",
       "  <tbody>\n",
       "    <tr>\n",
       "      <th>0</th>\n",
       "      <td>Actor in a Leading Role</td>\n",
       "      <td>Crazy Heart</td>\n",
       "      <td>Jeff Bridges</td>\n",
       "      <td>Won</td>\n",
       "      <td>2010</td>\n",
       "    </tr>\n",
       "    <tr>\n",
       "      <th>1</th>\n",
       "      <td>Actor in a Leading Role</td>\n",
       "      <td>Up in the Air</td>\n",
       "      <td>George Clooney</td>\n",
       "      <td>Lost</td>\n",
       "      <td>2010</td>\n",
       "    </tr>\n",
       "    <tr>\n",
       "      <th>2</th>\n",
       "      <td>Actor in a Leading Role</td>\n",
       "      <td>A Single Man</td>\n",
       "      <td>Colin Firth</td>\n",
       "      <td>Lost</td>\n",
       "      <td>2010</td>\n",
       "    </tr>\n",
       "    <tr>\n",
       "      <th>3</th>\n",
       "      <td>Actor in a Leading Role</td>\n",
       "      <td>Invictus</td>\n",
       "      <td>Morgan Freeman</td>\n",
       "      <td>Lost</td>\n",
       "      <td>2010</td>\n",
       "    </tr>\n",
       "    <tr>\n",
       "      <th>4</th>\n",
       "      <td>Actor in a Leading Role</td>\n",
       "      <td>The Hurt Locker</td>\n",
       "      <td>Jeremy Renner</td>\n",
       "      <td>Lost</td>\n",
       "      <td>2010</td>\n",
       "    </tr>\n",
       "    <tr>\n",
       "      <th>5</th>\n",
       "      <td>Actor in a Supporting Role</td>\n",
       "      <td>Inglourious Basterds</td>\n",
       "      <td>Christoph Waltz</td>\n",
       "      <td>Won</td>\n",
       "      <td>2010</td>\n",
       "    </tr>\n",
       "    <tr>\n",
       "      <th>6</th>\n",
       "      <td>Actor in a Supporting Role</td>\n",
       "      <td>Invictus</td>\n",
       "      <td>Matt Damon</td>\n",
       "      <td>Lost</td>\n",
       "      <td>2010</td>\n",
       "    </tr>\n",
       "    <tr>\n",
       "      <th>7</th>\n",
       "      <td>Actor in a Supporting Role</td>\n",
       "      <td>The Messenger</td>\n",
       "      <td>Woody Harrelson</td>\n",
       "      <td>Lost</td>\n",
       "      <td>2010</td>\n",
       "    </tr>\n",
       "    <tr>\n",
       "      <th>8</th>\n",
       "      <td>Actor in a Supporting Role</td>\n",
       "      <td>The Last Station</td>\n",
       "      <td>Christopher Plummer</td>\n",
       "      <td>Lost</td>\n",
       "      <td>2010</td>\n",
       "    </tr>\n",
       "    <tr>\n",
       "      <th>9</th>\n",
       "      <td>Actor in a Supporting Role</td>\n",
       "      <td>The Lovely Bones</td>\n",
       "      <td>Stanley Tucci</td>\n",
       "      <td>Lost</td>\n",
       "      <td>2010</td>\n",
       "    </tr>\n",
       "  </tbody>\n",
       "</table>\n",
       "</div>"
      ],
      "text/plain": [
       "                     Category                 Movie                 Name  \\\n",
       "0     Actor in a Leading Role           Crazy Heart         Jeff Bridges   \n",
       "1     Actor in a Leading Role         Up in the Air       George Clooney   \n",
       "2     Actor in a Leading Role          A Single Man          Colin Firth   \n",
       "3     Actor in a Leading Role              Invictus       Morgan Freeman   \n",
       "4     Actor in a Leading Role       The Hurt Locker        Jeremy Renner   \n",
       "5  Actor in a Supporting Role  Inglourious Basterds      Christoph Waltz   \n",
       "6  Actor in a Supporting Role              Invictus           Matt Damon   \n",
       "7  Actor in a Supporting Role         The Messenger      Woody Harrelson   \n",
       "8  Actor in a Supporting Role      The Last Station  Christopher Plummer   \n",
       "9  Actor in a Supporting Role      The Lovely Bones        Stanley Tucci   \n",
       "\n",
       "  Winner  Year  \n",
       "0    Won  2010  \n",
       "1   Lost  2010  \n",
       "2   Lost  2010  \n",
       "3   Lost  2010  \n",
       "4   Lost  2010  \n",
       "5    Won  2010  \n",
       "6   Lost  2010  \n",
       "7   Lost  2010  \n",
       "8   Lost  2010  \n",
       "9   Lost  2010  "
      ]
     },
     "execution_count": 57,
     "metadata": {},
     "output_type": "execute_result"
    }
   ],
   "source": [
    "all_years_nominees_df = pd.concat(all_years_nominees)\n",
    "all_years_nominees_df.reset_index(drop=True).head(10)"
   ]
  },
  {
   "cell_type": "code",
   "execution_count": 58,
   "metadata": {},
   "outputs": [
    {
     "data": {
      "text/plain": [
       "Alexandre Desplat                                                                                              8\n",
       "Sandy Powell                                                                                                   7\n",
       "Meryl Streep                                                                                                   6\n",
       "John Williams                                                                                                  6\n",
       "Denmark                                                                                                        5\n",
       "Colleen Atwood                                                                                                 5\n",
       "Roger Deakins                                                                                                  4\n",
       "Hans Zimmer                                                                                                    4\n",
       "Jacqueline Durran                                                                                              4\n",
       "Robert Richardson                                                                                              4\n",
       "Bradley Cooper                                                                                                 4\n",
       "Christian Bale                                                                                                 4\n",
       "Thomas Newman                                                                                                  4\n",
       "Production Design: Sarah Greenwood; Set Decoration: Katie Spencer                                              4\n",
       "Jennifer Lawrence                                                                                              4\n",
       "Amy Adams                                                                                                      4\n",
       "Emmanuel Lubezki                                                                                               4\n",
       "Bruno Delbonnel                                                                                                3\n",
       "Canada                                                                                                         3\n",
       "Denzel Washington                                                                                              3\n",
       "Alfonso Cuarón                                                                                                 3\n",
       "Mary Zophres                                                                                                   3\n",
       "Octavia Spencer                                                                                                3\n",
       "Mark Ruffalo                                                                                                   3\n",
       "Poland                                                                                                         3\n",
       "Jeff Bridges                                                                                                   3\n",
       "Wylie Stateman                                                                                                 3\n",
       "Germany                                                                                                        3\n",
       "David O. Russell                                                                                               3\n",
       "Emma Stone                                                                                                     3\n",
       "                                                                                                              ..\n",
       "Janek Sirrs, Ben Snow, Ged Wright and Daniel Sudick                                                            1\n",
       "Henry Selick                                                                                                   1\n",
       "Ren Klyce                                                                                                      1\n",
       "Ellen Goosenberg Kent and Dana Perry                                                                           1\n",
       "Roger Ross Williams and Julie Goldman                                                                          1\n",
       "Margot Robbie                                                                                                  1\n",
       "Lon Bender and Victor Ray Ennis                                                                                1\n",
       "Scott Farrar, Scott Benza, Matthew Butler and John Frazier                                                     1\n",
       "Tim Squyres                                                                                                    1\n",
       "Written by John Gatins                                                                                         1\n",
       "Production Design: Dante Ferretti; Set Decoration: Francesca Lo Schiavo                                        1\n",
       "Wally Pfister                                                                                                  1\n",
       "Max Porter and Ru Kuwahata                                                                                     1\n",
       "Screenplay by Billy Ray                                                                                        1\n",
       "Stephen Rosenbaum, Jeff White, Scott Benza and Mike Meinardus                                                  1\n",
       "Torill Kove                                                                                                    1\n",
       "“I’m Not Gonna Miss You” from Glen Campbell…I’ll Be Me; Music and Lyric by Glen Campbell and Julian Raymond    1\n",
       "Marina de Tavira                                                                                               1\n",
       "Geefwee Boedoe                                                                                                 1\n",
       "Fernando Trueba and Javier Mariscal                                                                            1\n",
       "Thomas Lennon                                                                                                  1\n",
       "Hiromasa Yonebayashi and Yoshiaki Nishimura                                                                    1\n",
       "Greg Cannom, Kate Biscoe and Patricia DeHaney                                                                  1\n",
       "Guillermo del Toro and J. Miles Dale, Producers                                                                1\n",
       "Gabriel Osorio and Pato Escala                                                                                 1\n",
       "Louie Psihoyos and Fisher Stevens                                                                              1\n",
       "Teddy Newton                                                                                                   1\n",
       "Woody Allen                                                                                                    1\n",
       "William Chang Suk Ping                                                                                         1\n",
       "Production Design: Laurence Bennett; Set Decoration: Robert Gould                                              1\n",
       "Name: Name, Length: 1034, dtype: int64"
      ]
     },
     "execution_count": 58,
     "metadata": {},
     "output_type": "execute_result"
    }
   ],
   "source": [
    "all_years_nominees_df['Name'].value_counts()"
   ]
  },
  {
   "cell_type": "markdown",
   "metadata": {},
   "source": [
    "### Parsing strategy for retrieving data\n",
    "\n",
    "Frustratingly, this iterating strategy may not always hold: maybe some years are skipped or the naming convention changes at some point. We will cover some basics of [error-handling in Python](https://realpython.com/python-exceptions/) that could let us work around errors as they pop up, but this may result in an incomplete collection if the naming conventions are systematic. What we would want to do is to identify all the links ahead of time by parsing them from list and then work through that list to get the complete data collection.\n",
    "\n",
    "What this means in the context of our Oscars example is assuming that we cannot trust that the sequential numbering of the years is a realiable guide to get all the data. Instead, we should get a list of the URLs for each of the awards pages from the \"ceremonies-decade-scroller\" (from Inspect) at the top. This scroller *should* be consistent across all the pages, but start with the nominees for 2019 just to be safe:"
   ]
  },
  {
   "cell_type": "code",
   "execution_count": 59,
   "metadata": {},
   "outputs": [],
   "source": [
    "oscars2019_raw = requests.get('https://www.oscars.org/oscars/ceremonies/2019').text\n",
    "oscars2019_soup = BeautifulSoup(oscars2019_raw)"
   ]
  },
  {
   "cell_type": "markdown",
   "metadata": {},
   "source": [
    "Using the Inspect tool, there is a `<div class=\"years\">` that contains the links to each of the years. Run a `.find_all` to get all these href locations."
   ]
  },
  {
   "cell_type": "code",
   "execution_count": 60,
   "metadata": {},
   "outputs": [
    {
     "data": {
      "text/plain": [
       "[<a class=\"year\" href=\"/oscars/ceremonies/1929\">1929</a>,\n",
       " <a class=\"year\" href=\"/oscars/ceremonies/1930\">1930</a>,\n",
       " <a class=\"year\" href=\"/oscars/ceremonies/1931\">1931</a>,\n",
       " <a class=\"year\" href=\"/oscars/ceremonies/1932\">1932</a>,\n",
       " <a class=\"year\" href=\"/oscars/ceremonies/1933\">1933</a>,\n",
       " <a class=\"year\" href=\"/oscars/ceremonies/1934\">1934</a>,\n",
       " <a class=\"year\" href=\"/oscars/ceremonies/1935\">1935</a>,\n",
       " <a class=\"year\" href=\"/oscars/ceremonies/1936\">1936</a>,\n",
       " <a class=\"year\" href=\"/oscars/ceremonies/1937\">1937</a>,\n",
       " <a class=\"year\" href=\"/oscars/ceremonies/1938\">1938</a>]"
      ]
     },
     "execution_count": 60,
     "metadata": {},
     "output_type": "execute_result"
    }
   ],
   "source": [
    "# Get the <div class=\"years\"> as a parent tag first, just in case there are <a class=\"years\"> elsewhere\n",
    "oscars2019_years_div = oscars2019_soup.find_all('div',{'class':'years'})[0]\n",
    "\n",
    "# Now get the <a class=\"years\"> underneath only the oscars2019_years_div\n",
    "oscars2019_years_a = oscars2019_years_div.find_all('a',{'class':'year'})\n",
    "\n",
    "# Inspect the first 10\n",
    "oscars2019_years_a[:10]"
   ]
  },
  {
   "cell_type": "markdown",
   "metadata": {},
   "source": [
    "Each of these `<a>` tags contains an \"href\", or the URL element where the page lives, and a text element for what's displayed."
   ]
  },
  {
   "cell_type": "code",
   "execution_count": 61,
   "metadata": {},
   "outputs": [
    {
     "data": {
      "text/plain": [
       "'/oscars/ceremonies/1929'"
      ]
     },
     "execution_count": 61,
     "metadata": {},
     "output_type": "execute_result"
    }
   ],
   "source": [
    "oscars2019_years_a[0]['href']"
   ]
  },
  {
   "cell_type": "code",
   "execution_count": 62,
   "metadata": {},
   "outputs": [
    {
     "data": {
      "text/plain": [
       "'1929'"
      ]
     },
     "execution_count": 62,
     "metadata": {},
     "output_type": "execute_result"
    }
   ],
   "source": [
    "oscars2019_years_a[0].text"
   ]
  },
  {
   "cell_type": "markdown",
   "metadata": {},
   "source": [
    "Now we can write a loop to print out the URL locations for all the other award years based on the \"official\" links in the \"ceremonies-decade-scroller\" navigation rather than assuming the years are sequential—I promise this will pay dividends in the future when inconsistent design wreaks havoc on your sequential data strategies!"
   ]
  },
  {
   "cell_type": "code",
   "execution_count": 63,
   "metadata": {},
   "outputs": [
    {
     "name": "stdout",
     "output_type": "stream",
     "text": [
      "https://www.oscars.org/oscars/ceremonies/2010\n",
      "https://www.oscars.org/oscars/ceremonies/2011\n",
      "https://www.oscars.org/oscars/ceremonies/2012\n",
      "https://www.oscars.org/oscars/ceremonies/2013\n",
      "https://www.oscars.org/oscars/ceremonies/2014\n",
      "https://www.oscars.org/oscars/ceremonies/2015\n",
      "https://www.oscars.org/oscars/ceremonies/2016\n",
      "https://www.oscars.org/oscars/ceremonies/2017\n",
      "https://www.oscars.org/oscars/ceremonies/2018\n",
      "https://www.oscars.org/oscars/ceremonies/2019\n"
     ]
    }
   ],
   "source": [
    "for a in oscars2019_years_a[-10:]:\n",
    "    href = a['href']\n",
    "    print('https://www.oscars.org' + href)"
   ]
  },
  {
   "cell_type": "markdown",
   "metadata": {},
   "source": [
    "We can now use the `parse_nominees` function for these pages as well."
   ]
  },
  {
   "cell_type": "code",
   "execution_count": 64,
   "metadata": {},
   "outputs": [],
   "source": [
    "# Create an empty list to store the data we get\n",
    "all_years_nominees = dict()\n",
    "\n",
    "# For the 10 most recent years\n",
    "for a in oscars2019_years_a[-10:]:\n",
    "    \n",
    "    # Pause for a second between each request\n",
    "    sleep(1)\n",
    "    \n",
    "    # Get the href\n",
    "    href = a['href']\n",
    "    \n",
    "    # Get the year\n",
    "    year = a.text\n",
    "    \n",
    "    # Get the raw HTML\n",
    "    url = 'https://www.oscars.org' + href\n",
    "    year_raw_html = requests.get(url).text\n",
    "\n",
    "    # Soup-ify\n",
    "    year_souped_html = BeautifulSoup(year_raw_html)\n",
    "    \n",
    "    # Get the parent group\n",
    "    year_parent_group = year_souped_html.find_all('div',{'id':'quicktabs-tabpage-honorees-0'})\n",
    "    \n",
    "    # Get the true groups under the parent group\n",
    "    year_true_groups = year_parent_group[0].find_all('div',{'class':'view-grouping'})\n",
    "    \n",
    "    # Use our parsing function, passing the year from above\n",
    "    year_nominees = parse_nominees(year_true_groups,year)\n",
    "    \n",
    "    # Convert the year_nominees to a DataFrame and add them to all_years_nominees\n",
    "    all_years_nominees[year] = pd.DataFrame(year_nominees)"
   ]
  },
  {
   "cell_type": "markdown",
   "metadata": {},
   "source": [
    "Combine each of the DataFrames in `all_years_nominees` into a giant DataFrame of all the nominees from 2010-2019."
   ]
  },
  {
   "cell_type": "code",
   "execution_count": 65,
   "metadata": {},
   "outputs": [],
   "source": [
    "all_years_nominees_df = pd.concat(all_years_nominees)\n",
    "all_years_nominees_df = all_years_nominees_df.reset_index(drop=True)\n",
    "all_years_nominees_df.to_csv('2010-2019 Oscar Nominees.csv',encoding='utf8',index=False)\n"
   ]
  },
  {
   "cell_type": "code",
   "execution_count": 67,
   "metadata": {},
   "outputs": [
    {
     "data": {
      "text/html": [
       "<div>\n",
       "<style scoped>\n",
       "    .dataframe tbody tr th:only-of-type {\n",
       "        vertical-align: middle;\n",
       "    }\n",
       "\n",
       "    .dataframe tbody tr th {\n",
       "        vertical-align: top;\n",
       "    }\n",
       "\n",
       "    .dataframe thead th {\n",
       "        text-align: right;\n",
       "    }\n",
       "</style>\n",
       "<table border=\"1\" class=\"dataframe\">\n",
       "  <thead>\n",
       "    <tr style=\"text-align: right;\">\n",
       "      <th></th>\n",
       "      <th>Category</th>\n",
       "      <th>Movie</th>\n",
       "      <th>Name</th>\n",
       "      <th>Winner</th>\n",
       "      <th>Year</th>\n",
       "    </tr>\n",
       "  </thead>\n",
       "  <tbody>\n",
       "    <tr>\n",
       "      <th>1208</th>\n",
       "      <td>Writing (Original Screenplay)</td>\n",
       "      <td>The Favourite</td>\n",
       "      <td>Written by Deborah Davis and Tony McNamara</td>\n",
       "      <td>Won</td>\n",
       "      <td>2019</td>\n",
       "    </tr>\n",
       "    <tr>\n",
       "      <th>1209</th>\n",
       "      <td>Writing (Original Screenplay)</td>\n",
       "      <td>First Reformed</td>\n",
       "      <td>Written by Paul Schrader</td>\n",
       "      <td>Lost</td>\n",
       "      <td>2019</td>\n",
       "    </tr>\n",
       "    <tr>\n",
       "      <th>1210</th>\n",
       "      <td>Writing (Original Screenplay)</td>\n",
       "      <td>Green Book</td>\n",
       "      <td>Written by Nick Vallelonga, Brian Currie, Pete...</td>\n",
       "      <td>Lost</td>\n",
       "      <td>2019</td>\n",
       "    </tr>\n",
       "    <tr>\n",
       "      <th>1211</th>\n",
       "      <td>Writing (Original Screenplay)</td>\n",
       "      <td>Roma</td>\n",
       "      <td>Written by Alfonso Cuarón</td>\n",
       "      <td>Lost</td>\n",
       "      <td>2019</td>\n",
       "    </tr>\n",
       "    <tr>\n",
       "      <th>1212</th>\n",
       "      <td>Writing (Original Screenplay)</td>\n",
       "      <td>Vice</td>\n",
       "      <td>Written by Adam McKay</td>\n",
       "      <td>Lost</td>\n",
       "      <td>2019</td>\n",
       "    </tr>\n",
       "  </tbody>\n",
       "</table>\n",
       "</div>"
      ],
      "text/plain": [
       "                           Category           Movie  \\\n",
       "1208  Writing (Original Screenplay)   The Favourite   \n",
       "1209  Writing (Original Screenplay)  First Reformed   \n",
       "1210  Writing (Original Screenplay)      Green Book   \n",
       "1211  Writing (Original Screenplay)            Roma   \n",
       "1212  Writing (Original Screenplay)            Vice   \n",
       "\n",
       "                                                   Name Winner  Year  \n",
       "1208         Written by Deborah Davis and Tony McNamara    Won  2019  \n",
       "1209                           Written by Paul Schrader   Lost  2019  \n",
       "1210  Written by Nick Vallelonga, Brian Currie, Pete...   Lost  2019  \n",
       "1211                          Written by Alfonso Cuarón   Lost  2019  \n",
       "1212                              Written by Adam McKay   Lost  2019  "
      ]
     },
     "execution_count": 67,
     "metadata": {},
     "output_type": "execute_result"
    }
   ],
   "source": [
    "all_years_nominees_df.tail()"
   ]
  },
  {
   "cell_type": "code",
   "execution_count": null,
   "metadata": {},
   "outputs": [],
   "source": []
  }
 ],
 "metadata": {
  "kernelspec": {
   "display_name": "Python 3",
   "language": "python",
   "name": "python3"
  },
  "language_info": {
   "codemirror_mode": {
    "name": "ipython",
    "version": 3
   },
   "file_extension": ".py",
   "mimetype": "text/x-python",
   "name": "python",
   "nbconvert_exporter": "python",
   "pygments_lexer": "ipython3",
   "version": "3.6.8"
  }
 },
 "nbformat": 4,
 "nbformat_minor": 2
}
